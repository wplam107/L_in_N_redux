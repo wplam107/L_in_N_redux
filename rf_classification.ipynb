{
 "cells": [
  {
   "cell_type": "markdown",
   "metadata": {},
   "source": [
    "# Classification w/ Ensemble Models"
   ]
  },
  {
   "cell_type": "code",
   "execution_count": 138,
   "metadata": {
    "ExecuteTime": {
     "end_time": "2020-06-05T14:52:06.499595Z",
     "start_time": "2020-06-05T14:52:06.454839Z"
    }
   },
   "outputs": [],
   "source": [
    "import numpy as np\n",
    "import pandas as pd\n",
    "import pickle\n",
    "import plotly.express as px\n",
    "import plotly.graph_objects as go\n",
    "import matplotlib.pyplot as plt\n",
    "import seaborn as sns\n",
    "\n",
    "from sklearn.ensemble import RandomForestClassifier\n",
    "from sklearn.model_selection import train_test_split\n",
    "from sklearn.model_selection import GridSearchCV\n",
    "from sklearn.metrics import f1_score, accuracy_score, precision_score, recall_score\n",
    "from sklearn.metrics import confusion_matrix, multilabel_confusion_matrix\n",
    "\n",
    "from sklearn.multiclass import OneVsRestClassifier\n",
    "from sklearn.svm import SVC\n",
    "\n",
    "from clean_eng_funcs import preprocess_for_bow\n",
    "from topic_model import topics_in_doc"
   ]
  },
  {
   "cell_type": "code",
   "execution_count": 5,
   "metadata": {
    "ExecuteTime": {
     "end_time": "2020-06-04T16:49:30.862453Z",
     "start_time": "2020-06-04T16:49:30.824870Z"
    }
   },
   "outputs": [],
   "source": [
    "# Get LDA Mallet model\n",
    "file = open('mallet.p', 'rb')\n",
    "mallet_model = pickle.load(file)\n",
    "file.close()\n",
    "\n",
    "# Get DataFrame of articles\n",
    "file = open('df4cluster.p', 'rb')\n",
    "df = pickle.load(file)\n",
    "file.close()"
   ]
  },
  {
   "cell_type": "markdown",
   "metadata": {},
   "source": [
    "## Multiclass RandomForest Classification\n",
    "- Multiclass classification predicts slightly better than simply predicting the dominant class"
   ]
  },
  {
   "cell_type": "code",
   "execution_count": 12,
   "metadata": {
    "ExecuteTime": {
     "end_time": "2020-06-04T16:52:23.384523Z",
     "start_time": "2020-06-04T16:52:23.370959Z"
    }
   },
   "outputs": [],
   "source": [
    "# Only use article metrics\n",
    "X = df.drop(columns=['headline', 'body', 'url', 'date', 'source'])\n",
    "y = df['source'].astype('category')\n",
    "\n",
    "X_train, X_test, y_train, y_test = train_test_split(X, y, test_size=0.2, random_state=123)"
   ]
  },
  {
   "cell_type": "code",
   "execution_count": 15,
   "metadata": {
    "ExecuteTime": {
     "end_time": "2020-06-04T16:56:05.333590Z",
     "start_time": "2020-06-04T16:56:05.078468Z"
    }
   },
   "outputs": [
    {
     "data": {
      "text/plain": [
       "RandomForestClassifier(bootstrap=True, ccp_alpha=0.0, class_weight=None,\n",
       "                       criterion='gini', max_depth=None, max_features='auto',\n",
       "                       max_leaf_nodes=None, max_samples=None,\n",
       "                       min_impurity_decrease=0.0, min_impurity_split=None,\n",
       "                       min_samples_leaf=1, min_samples_split=2,\n",
       "                       min_weight_fraction_leaf=0.0, n_estimators=100,\n",
       "                       n_jobs=None, oob_score=False, random_state=None,\n",
       "                       verbose=0, warm_start=False)"
      ]
     },
     "execution_count": 15,
     "metadata": {},
     "output_type": "execute_result"
    }
   ],
   "source": [
    "clf = RandomForestClassifier()\n",
    "clf.fit(X_train, y_train)"
   ]
  },
  {
   "cell_type": "code",
   "execution_count": 104,
   "metadata": {
    "ExecuteTime": {
     "end_time": "2020-06-04T22:24:03.577058Z",
     "start_time": "2020-06-04T22:24:03.571192Z"
    }
   },
   "outputs": [],
   "source": [
    "rf = RandomForestClassifier()\n",
    "params = {\n",
    "    'n_estimators': [50, 75, 100, 125, 150, 200],\n",
    "    'criterion': ['gini'],\n",
    "    'max_depth': [4, 5, 6],\n",
    "    'class_weight': ['balanced', 'balanced_subsample', None],\n",
    "}\n",
    "\n",
    "gs_rf = GridSearchCV(\n",
    "    estimator=rf,\n",
    "    param_grid=params,\n",
    "    scoring='accuracy',\n",
    "    n_jobs=-1,\n",
    "    verbose=1,\n",
    "    cv=5,\n",
    ")"
   ]
  },
  {
   "cell_type": "code",
   "execution_count": 105,
   "metadata": {
    "ExecuteTime": {
     "end_time": "2020-06-04T22:24:23.007235Z",
     "start_time": "2020-06-04T22:24:04.003477Z"
    }
   },
   "outputs": [
    {
     "name": "stdout",
     "output_type": "stream",
     "text": [
      "Fitting 5 folds for each of 54 candidates, totalling 270 fits\n"
     ]
    },
    {
     "name": "stderr",
     "output_type": "stream",
     "text": [
      "[Parallel(n_jobs=-1)]: Using backend LokyBackend with 8 concurrent workers.\n",
      "[Parallel(n_jobs=-1)]: Done  34 tasks      | elapsed:    4.7s\n",
      "[Parallel(n_jobs=-1)]: Done 184 tasks      | elapsed:   14.0s\n",
      "[Parallel(n_jobs=-1)]: Done 270 out of 270 | elapsed:   18.7s finished\n"
     ]
    },
    {
     "name": "stdout",
     "output_type": "stream",
     "text": [
      "------------------------------\n",
      "Best params:\n",
      "{'class_weight': None, 'criterion': 'gini', 'max_depth': 4, 'n_estimators': 150}\n"
     ]
    }
   ],
   "source": [
    "gs_rf.fit(X_train, y_train)\n",
    "rf_model = gs_rf.best_estimator_\n",
    "print(30*'-')\n",
    "print('Best params:')\n",
    "print(gs_rf.best_params_)"
   ]
  },
  {
   "cell_type": "code",
   "execution_count": 106,
   "metadata": {
    "ExecuteTime": {
     "end_time": "2020-06-04T22:24:23.016998Z",
     "start_time": "2020-06-04T22:24:23.010280Z"
    }
   },
   "outputs": [],
   "source": [
    "def get_scores(model, test_data, test_labels):\n",
    "    if len(test_data) != len(test_labels):\n",
    "        return 'Data shapes incorrect'\n",
    "\n",
    "    preds = model.predict(test_data)\n",
    "    _f1 = round(f1_score(test_labels, preds, average='macro'), 4)\n",
    "    _acc = round(accuracy_score(test_labels, preds), 4)\n",
    "    _pre = round(precision_score(test_labels, preds, average='macro'), 4)\n",
    "    _rec = round(recall_score(test_labels, preds, average='macro'), 4)\n",
    "    print('F1 Score:', _f1)\n",
    "    print('Accuracy:', _acc)\n",
    "    print('Precision:', _pre)\n",
    "    print('Recall:', _rec)\n",
    "    print('--------------')\n",
    "    print(confusion_matrix(test_labels, preds))"
   ]
  },
  {
   "cell_type": "code",
   "execution_count": 107,
   "metadata": {
    "ExecuteTime": {
     "end_time": "2020-06-04T22:24:23.074411Z",
     "start_time": "2020-06-04T22:24:23.019855Z"
    },
    "scrolled": true
   },
   "outputs": [
    {
     "name": "stdout",
     "output_type": "stream",
     "text": [
      "F1 Score: 0.402\n",
      "Accuracy: 0.6125\n",
      "Precision: 0.4321\n",
      "Recall: 0.4125\n",
      "--------------\n",
      "[[ 6  3  0 18]\n",
      " [ 0 16  0 11]\n",
      " [ 0  3  0 12]\n",
      " [ 5  8  2 76]]\n"
     ]
    }
   ],
   "source": [
    "get_scores(clf, X_test, y_test)\n",
    "preds = clf.predict(X_test)"
   ]
  },
  {
   "cell_type": "code",
   "execution_count": 108,
   "metadata": {
    "ExecuteTime": {
     "end_time": "2020-06-04T22:24:23.140311Z",
     "start_time": "2020-06-04T22:24:23.078032Z"
    },
    "scrolled": true
   },
   "outputs": [
    {
     "name": "stdout",
     "output_type": "stream",
     "text": [
      "F1 Score: 0.4316\n",
      "Accuracy: 0.6562\n",
      "Precision: 0.5364\n",
      "Recall: 0.4317\n",
      "--------------\n",
      "[[ 6  1  0 20]\n",
      " [ 0 16  0 11]\n",
      " [ 0  1  0 14]\n",
      " [ 1  7  0 83]]\n"
     ]
    },
    {
     "name": "stderr",
     "output_type": "stream",
     "text": [
      "/Users/waynelam/opt/anaconda3/envs/redux_projects/lib/python3.8/site-packages/sklearn/metrics/_classification.py:1272: UndefinedMetricWarning:\n",
      "\n",
      "Precision is ill-defined and being set to 0.0 in labels with no predicted samples. Use `zero_division` parameter to control this behavior.\n",
      "\n"
     ]
    }
   ],
   "source": [
    "get_scores(gs_rf, X_test, y_test)\n",
    "gs_preds = gs_rf.predict(X_test)"
   ]
  },
  {
   "cell_type": "code",
   "execution_count": 109,
   "metadata": {
    "ExecuteTime": {
     "end_time": "2020-06-04T22:24:23.157411Z",
     "start_time": "2020-06-04T22:24:23.144043Z"
    }
   },
   "outputs": [],
   "source": [
    "rf_df = pd.DataFrame()\n",
    "gs_df = pd.DataFrame()\n",
    "\n",
    "rf_df['true_label'] = y_test\n",
    "rf_df['pred_label'] = preds\n",
    "rf_df['correct'] = np.where(rf_df['true_label'] == rf_df['pred_label'], 1, 0)\n",
    "gs_df['true_label'] = y_test\n",
    "gs_df['pred_label'] = gs_preds\n",
    "gs_df['correct'] = np.where(gs_df['true_label'] == gs_df['pred_label'], 1, 0)"
   ]
  },
  {
   "cell_type": "code",
   "execution_count": 137,
   "metadata": {
    "ExecuteTime": {
     "end_time": "2020-06-05T14:41:15.758801Z",
     "start_time": "2020-06-05T14:41:15.639232Z"
    }
   },
   "outputs": [
    {
     "data": {
      "application/vnd.plotly.v1+json": {
       "config": {
        "plotlyServerURL": "https://plot.ly"
       },
       "data": [
        {
         "coloraxis": "coloraxis",
         "hovertemplate": "true_label=%{x}<br>pred_label=%{y}<br>count=%{z}<extra></extra>",
         "name": "",
         "type": "histogram2d",
         "x": [
          "Reuters",
          "CCTV",
          "Reuters",
          "Reuters",
          "Reuters",
          "Reuters",
          "Reuters",
          "ABC (Australia)",
          "Reuters",
          "ABC (Australia)",
          "Reuters",
          "Reuters",
          "Reuters",
          "CCTV",
          "Reuters",
          "Reuters",
          "CCTV",
          "CCTV",
          "Reuters",
          "CNN",
          "CCTV",
          "Reuters",
          "Reuters",
          "Reuters",
          "ABC (Australia)",
          "Reuters",
          "CCTV",
          "Reuters",
          "Reuters",
          "ABC (Australia)",
          "Reuters",
          "Reuters",
          "CCTV",
          "CCTV",
          "Reuters",
          "CCTV",
          "Reuters",
          "Reuters",
          "CNN",
          "CCTV",
          "ABC (Australia)",
          "Reuters",
          "ABC (Australia)",
          "Reuters",
          "Reuters",
          "Reuters",
          "Reuters",
          "Reuters",
          "ABC (Australia)",
          "ABC (Australia)",
          "CNN",
          "ABC (Australia)",
          "CCTV",
          "Reuters",
          "Reuters",
          "CNN",
          "ABC (Australia)",
          "Reuters",
          "Reuters",
          "Reuters",
          "Reuters",
          "Reuters",
          "ABC (Australia)",
          "Reuters",
          "Reuters",
          "Reuters",
          "Reuters",
          "CNN",
          "Reuters",
          "Reuters",
          "Reuters",
          "Reuters",
          "CNN",
          "Reuters",
          "Reuters",
          "Reuters",
          "CCTV",
          "ABC (Australia)",
          "CNN",
          "CCTV",
          "CCTV",
          "Reuters",
          "Reuters",
          "CCTV",
          "Reuters",
          "Reuters",
          "CCTV",
          "ABC (Australia)",
          "Reuters",
          "Reuters",
          "ABC (Australia)",
          "CNN",
          "Reuters",
          "Reuters",
          "CCTV",
          "ABC (Australia)",
          "Reuters",
          "Reuters",
          "Reuters",
          "Reuters",
          "CCTV",
          "Reuters",
          "CCTV",
          "CCTV",
          "Reuters",
          "Reuters",
          "CCTV",
          "Reuters",
          "Reuters",
          "ABC (Australia)",
          "Reuters",
          "Reuters",
          "CCTV",
          "Reuters",
          "ABC (Australia)",
          "Reuters",
          "Reuters",
          "ABC (Australia)",
          "CNN",
          "Reuters",
          "Reuters",
          "CCTV",
          "ABC (Australia)",
          "Reuters",
          "Reuters",
          "Reuters",
          "Reuters",
          "Reuters",
          "ABC (Australia)",
          "Reuters",
          "Reuters",
          "Reuters",
          "CNN",
          "CCTV",
          "ABC (Australia)",
          "ABC (Australia)",
          "CCTV",
          "ABC (Australia)",
          "Reuters",
          "CNN",
          "CCTV",
          "ABC (Australia)",
          "CNN",
          "ABC (Australia)",
          "Reuters",
          "ABC (Australia)",
          "CNN",
          "Reuters",
          "Reuters",
          "Reuters",
          "CNN",
          "CNN",
          "Reuters",
          "CCTV",
          "Reuters",
          "ABC (Australia)",
          "Reuters",
          "Reuters",
          "Reuters",
          "Reuters"
         ],
         "xaxis": "x",
         "xbingroup": "x",
         "y": [
          "Reuters",
          "Reuters",
          "Reuters",
          "Reuters",
          "Reuters",
          "Reuters",
          "Reuters",
          "Reuters",
          "Reuters",
          "ABC (Australia)",
          "Reuters",
          "Reuters",
          "CCTV",
          "CCTV",
          "Reuters",
          "Reuters",
          "Reuters",
          "Reuters",
          "CCTV",
          "Reuters",
          "Reuters",
          "Reuters",
          "Reuters",
          "Reuters",
          "Reuters",
          "Reuters",
          "Reuters",
          "Reuters",
          "CCTV",
          "Reuters",
          "Reuters",
          "CCTV",
          "Reuters",
          "CCTV",
          "Reuters",
          "CCTV",
          "Reuters",
          "Reuters",
          "Reuters",
          "CCTV",
          "Reuters",
          "Reuters",
          "Reuters",
          "Reuters",
          "Reuters",
          "Reuters",
          "Reuters",
          "Reuters",
          "Reuters",
          "Reuters",
          "Reuters",
          "ABC (Australia)",
          "CCTV",
          "Reuters",
          "CCTV",
          "Reuters",
          "Reuters",
          "Reuters",
          "Reuters",
          "Reuters",
          "Reuters",
          "Reuters",
          "CCTV",
          "Reuters",
          "Reuters",
          "Reuters",
          "Reuters",
          "Reuters",
          "Reuters",
          "Reuters",
          "Reuters",
          "Reuters",
          "Reuters",
          "ABC (Australia)",
          "Reuters",
          "Reuters",
          "Reuters",
          "Reuters",
          "Reuters",
          "CCTV",
          "CCTV",
          "Reuters",
          "Reuters",
          "Reuters",
          "Reuters",
          "Reuters",
          "CCTV",
          "ABC (Australia)",
          "Reuters",
          "Reuters",
          "Reuters",
          "Reuters",
          "Reuters",
          "Reuters",
          "CCTV",
          "ABC (Australia)",
          "Reuters",
          "Reuters",
          "Reuters",
          "Reuters",
          "CCTV",
          "Reuters",
          "CCTV",
          "CCTV",
          "Reuters",
          "Reuters",
          "CCTV",
          "Reuters",
          "Reuters",
          "Reuters",
          "Reuters",
          "Reuters",
          "Reuters",
          "Reuters",
          "Reuters",
          "Reuters",
          "Reuters",
          "Reuters",
          "CCTV",
          "Reuters",
          "Reuters",
          "CCTV",
          "Reuters",
          "Reuters",
          "Reuters",
          "Reuters",
          "Reuters",
          "Reuters",
          "Reuters",
          "Reuters",
          "Reuters",
          "Reuters",
          "Reuters",
          "Reuters",
          "Reuters",
          "Reuters",
          "CCTV",
          "ABC (Australia)",
          "Reuters",
          "Reuters",
          "CCTV",
          "ABC (Australia)",
          "Reuters",
          "Reuters",
          "Reuters",
          "Reuters",
          "Reuters",
          "Reuters",
          "Reuters",
          "Reuters",
          "Reuters",
          "Reuters",
          "CCTV",
          "Reuters",
          "Reuters",
          "Reuters",
          "CCTV",
          "Reuters",
          "Reuters",
          "Reuters"
         ],
         "yaxis": "y",
         "ybingroup": "y"
        }
       ],
       "layout": {
        "coloraxis": {
         "colorbar": {
          "title": {
           "text": "count"
          }
         },
         "colorscale": [
          [
           0,
           "#0d0887"
          ],
          [
           0.1111111111111111,
           "#46039f"
          ],
          [
           0.2222222222222222,
           "#7201a8"
          ],
          [
           0.3333333333333333,
           "#9c179e"
          ],
          [
           0.4444444444444444,
           "#bd3786"
          ],
          [
           0.5555555555555556,
           "#d8576b"
          ],
          [
           0.6666666666666666,
           "#ed7953"
          ],
          [
           0.7777777777777778,
           "#fb9f3a"
          ],
          [
           0.8888888888888888,
           "#fdca26"
          ],
          [
           1,
           "#f0f921"
          ]
         ]
        },
        "legend": {
         "tracegroupgap": 0
        },
        "margin": {
         "t": 60
        },
        "template": {
         "data": {
          "bar": [
           {
            "error_x": {
             "color": "#2a3f5f"
            },
            "error_y": {
             "color": "#2a3f5f"
            },
            "marker": {
             "line": {
              "color": "#E5ECF6",
              "width": 0.5
             }
            },
            "type": "bar"
           }
          ],
          "barpolar": [
           {
            "marker": {
             "line": {
              "color": "#E5ECF6",
              "width": 0.5
             }
            },
            "type": "barpolar"
           }
          ],
          "carpet": [
           {
            "aaxis": {
             "endlinecolor": "#2a3f5f",
             "gridcolor": "white",
             "linecolor": "white",
             "minorgridcolor": "white",
             "startlinecolor": "#2a3f5f"
            },
            "baxis": {
             "endlinecolor": "#2a3f5f",
             "gridcolor": "white",
             "linecolor": "white",
             "minorgridcolor": "white",
             "startlinecolor": "#2a3f5f"
            },
            "type": "carpet"
           }
          ],
          "choropleth": [
           {
            "colorbar": {
             "outlinewidth": 0,
             "ticks": ""
            },
            "type": "choropleth"
           }
          ],
          "contour": [
           {
            "colorbar": {
             "outlinewidth": 0,
             "ticks": ""
            },
            "colorscale": [
             [
              0,
              "#0d0887"
             ],
             [
              0.1111111111111111,
              "#46039f"
             ],
             [
              0.2222222222222222,
              "#7201a8"
             ],
             [
              0.3333333333333333,
              "#9c179e"
             ],
             [
              0.4444444444444444,
              "#bd3786"
             ],
             [
              0.5555555555555556,
              "#d8576b"
             ],
             [
              0.6666666666666666,
              "#ed7953"
             ],
             [
              0.7777777777777778,
              "#fb9f3a"
             ],
             [
              0.8888888888888888,
              "#fdca26"
             ],
             [
              1,
              "#f0f921"
             ]
            ],
            "type": "contour"
           }
          ],
          "contourcarpet": [
           {
            "colorbar": {
             "outlinewidth": 0,
             "ticks": ""
            },
            "type": "contourcarpet"
           }
          ],
          "heatmap": [
           {
            "colorbar": {
             "outlinewidth": 0,
             "ticks": ""
            },
            "colorscale": [
             [
              0,
              "#0d0887"
             ],
             [
              0.1111111111111111,
              "#46039f"
             ],
             [
              0.2222222222222222,
              "#7201a8"
             ],
             [
              0.3333333333333333,
              "#9c179e"
             ],
             [
              0.4444444444444444,
              "#bd3786"
             ],
             [
              0.5555555555555556,
              "#d8576b"
             ],
             [
              0.6666666666666666,
              "#ed7953"
             ],
             [
              0.7777777777777778,
              "#fb9f3a"
             ],
             [
              0.8888888888888888,
              "#fdca26"
             ],
             [
              1,
              "#f0f921"
             ]
            ],
            "type": "heatmap"
           }
          ],
          "heatmapgl": [
           {
            "colorbar": {
             "outlinewidth": 0,
             "ticks": ""
            },
            "colorscale": [
             [
              0,
              "#0d0887"
             ],
             [
              0.1111111111111111,
              "#46039f"
             ],
             [
              0.2222222222222222,
              "#7201a8"
             ],
             [
              0.3333333333333333,
              "#9c179e"
             ],
             [
              0.4444444444444444,
              "#bd3786"
             ],
             [
              0.5555555555555556,
              "#d8576b"
             ],
             [
              0.6666666666666666,
              "#ed7953"
             ],
             [
              0.7777777777777778,
              "#fb9f3a"
             ],
             [
              0.8888888888888888,
              "#fdca26"
             ],
             [
              1,
              "#f0f921"
             ]
            ],
            "type": "heatmapgl"
           }
          ],
          "histogram": [
           {
            "marker": {
             "colorbar": {
              "outlinewidth": 0,
              "ticks": ""
             }
            },
            "type": "histogram"
           }
          ],
          "histogram2d": [
           {
            "colorbar": {
             "outlinewidth": 0,
             "ticks": ""
            },
            "colorscale": [
             [
              0,
              "#0d0887"
             ],
             [
              0.1111111111111111,
              "#46039f"
             ],
             [
              0.2222222222222222,
              "#7201a8"
             ],
             [
              0.3333333333333333,
              "#9c179e"
             ],
             [
              0.4444444444444444,
              "#bd3786"
             ],
             [
              0.5555555555555556,
              "#d8576b"
             ],
             [
              0.6666666666666666,
              "#ed7953"
             ],
             [
              0.7777777777777778,
              "#fb9f3a"
             ],
             [
              0.8888888888888888,
              "#fdca26"
             ],
             [
              1,
              "#f0f921"
             ]
            ],
            "type": "histogram2d"
           }
          ],
          "histogram2dcontour": [
           {
            "colorbar": {
             "outlinewidth": 0,
             "ticks": ""
            },
            "colorscale": [
             [
              0,
              "#0d0887"
             ],
             [
              0.1111111111111111,
              "#46039f"
             ],
             [
              0.2222222222222222,
              "#7201a8"
             ],
             [
              0.3333333333333333,
              "#9c179e"
             ],
             [
              0.4444444444444444,
              "#bd3786"
             ],
             [
              0.5555555555555556,
              "#d8576b"
             ],
             [
              0.6666666666666666,
              "#ed7953"
             ],
             [
              0.7777777777777778,
              "#fb9f3a"
             ],
             [
              0.8888888888888888,
              "#fdca26"
             ],
             [
              1,
              "#f0f921"
             ]
            ],
            "type": "histogram2dcontour"
           }
          ],
          "mesh3d": [
           {
            "colorbar": {
             "outlinewidth": 0,
             "ticks": ""
            },
            "type": "mesh3d"
           }
          ],
          "parcoords": [
           {
            "line": {
             "colorbar": {
              "outlinewidth": 0,
              "ticks": ""
             }
            },
            "type": "parcoords"
           }
          ],
          "pie": [
           {
            "automargin": true,
            "type": "pie"
           }
          ],
          "scatter": [
           {
            "marker": {
             "colorbar": {
              "outlinewidth": 0,
              "ticks": ""
             }
            },
            "type": "scatter"
           }
          ],
          "scatter3d": [
           {
            "line": {
             "colorbar": {
              "outlinewidth": 0,
              "ticks": ""
             }
            },
            "marker": {
             "colorbar": {
              "outlinewidth": 0,
              "ticks": ""
             }
            },
            "type": "scatter3d"
           }
          ],
          "scattercarpet": [
           {
            "marker": {
             "colorbar": {
              "outlinewidth": 0,
              "ticks": ""
             }
            },
            "type": "scattercarpet"
           }
          ],
          "scattergeo": [
           {
            "marker": {
             "colorbar": {
              "outlinewidth": 0,
              "ticks": ""
             }
            },
            "type": "scattergeo"
           }
          ],
          "scattergl": [
           {
            "marker": {
             "colorbar": {
              "outlinewidth": 0,
              "ticks": ""
             }
            },
            "type": "scattergl"
           }
          ],
          "scattermapbox": [
           {
            "marker": {
             "colorbar": {
              "outlinewidth": 0,
              "ticks": ""
             }
            },
            "type": "scattermapbox"
           }
          ],
          "scatterpolar": [
           {
            "marker": {
             "colorbar": {
              "outlinewidth": 0,
              "ticks": ""
             }
            },
            "type": "scatterpolar"
           }
          ],
          "scatterpolargl": [
           {
            "marker": {
             "colorbar": {
              "outlinewidth": 0,
              "ticks": ""
             }
            },
            "type": "scatterpolargl"
           }
          ],
          "scatterternary": [
           {
            "marker": {
             "colorbar": {
              "outlinewidth": 0,
              "ticks": ""
             }
            },
            "type": "scatterternary"
           }
          ],
          "surface": [
           {
            "colorbar": {
             "outlinewidth": 0,
             "ticks": ""
            },
            "colorscale": [
             [
              0,
              "#0d0887"
             ],
             [
              0.1111111111111111,
              "#46039f"
             ],
             [
              0.2222222222222222,
              "#7201a8"
             ],
             [
              0.3333333333333333,
              "#9c179e"
             ],
             [
              0.4444444444444444,
              "#bd3786"
             ],
             [
              0.5555555555555556,
              "#d8576b"
             ],
             [
              0.6666666666666666,
              "#ed7953"
             ],
             [
              0.7777777777777778,
              "#fb9f3a"
             ],
             [
              0.8888888888888888,
              "#fdca26"
             ],
             [
              1,
              "#f0f921"
             ]
            ],
            "type": "surface"
           }
          ],
          "table": [
           {
            "cells": {
             "fill": {
              "color": "#EBF0F8"
             },
             "line": {
              "color": "white"
             }
            },
            "header": {
             "fill": {
              "color": "#C8D4E3"
             },
             "line": {
              "color": "white"
             }
            },
            "type": "table"
           }
          ]
         },
         "layout": {
          "annotationdefaults": {
           "arrowcolor": "#2a3f5f",
           "arrowhead": 0,
           "arrowwidth": 1
          },
          "coloraxis": {
           "colorbar": {
            "outlinewidth": 0,
            "ticks": ""
           }
          },
          "colorscale": {
           "diverging": [
            [
             0,
             "#8e0152"
            ],
            [
             0.1,
             "#c51b7d"
            ],
            [
             0.2,
             "#de77ae"
            ],
            [
             0.3,
             "#f1b6da"
            ],
            [
             0.4,
             "#fde0ef"
            ],
            [
             0.5,
             "#f7f7f7"
            ],
            [
             0.6,
             "#e6f5d0"
            ],
            [
             0.7,
             "#b8e186"
            ],
            [
             0.8,
             "#7fbc41"
            ],
            [
             0.9,
             "#4d9221"
            ],
            [
             1,
             "#276419"
            ]
           ],
           "sequential": [
            [
             0,
             "#0d0887"
            ],
            [
             0.1111111111111111,
             "#46039f"
            ],
            [
             0.2222222222222222,
             "#7201a8"
            ],
            [
             0.3333333333333333,
             "#9c179e"
            ],
            [
             0.4444444444444444,
             "#bd3786"
            ],
            [
             0.5555555555555556,
             "#d8576b"
            ],
            [
             0.6666666666666666,
             "#ed7953"
            ],
            [
             0.7777777777777778,
             "#fb9f3a"
            ],
            [
             0.8888888888888888,
             "#fdca26"
            ],
            [
             1,
             "#f0f921"
            ]
           ],
           "sequentialminus": [
            [
             0,
             "#0d0887"
            ],
            [
             0.1111111111111111,
             "#46039f"
            ],
            [
             0.2222222222222222,
             "#7201a8"
            ],
            [
             0.3333333333333333,
             "#9c179e"
            ],
            [
             0.4444444444444444,
             "#bd3786"
            ],
            [
             0.5555555555555556,
             "#d8576b"
            ],
            [
             0.6666666666666666,
             "#ed7953"
            ],
            [
             0.7777777777777778,
             "#fb9f3a"
            ],
            [
             0.8888888888888888,
             "#fdca26"
            ],
            [
             1,
             "#f0f921"
            ]
           ]
          },
          "colorway": [
           "#636efa",
           "#EF553B",
           "#00cc96",
           "#ab63fa",
           "#FFA15A",
           "#19d3f3",
           "#FF6692",
           "#B6E880",
           "#FF97FF",
           "#FECB52"
          ],
          "font": {
           "color": "#2a3f5f"
          },
          "geo": {
           "bgcolor": "white",
           "lakecolor": "white",
           "landcolor": "#E5ECF6",
           "showlakes": true,
           "showland": true,
           "subunitcolor": "white"
          },
          "hoverlabel": {
           "align": "left"
          },
          "hovermode": "closest",
          "mapbox": {
           "style": "light"
          },
          "paper_bgcolor": "white",
          "plot_bgcolor": "#E5ECF6",
          "polar": {
           "angularaxis": {
            "gridcolor": "white",
            "linecolor": "white",
            "ticks": ""
           },
           "bgcolor": "#E5ECF6",
           "radialaxis": {
            "gridcolor": "white",
            "linecolor": "white",
            "ticks": ""
           }
          },
          "scene": {
           "xaxis": {
            "backgroundcolor": "#E5ECF6",
            "gridcolor": "white",
            "gridwidth": 2,
            "linecolor": "white",
            "showbackground": true,
            "ticks": "",
            "zerolinecolor": "white"
           },
           "yaxis": {
            "backgroundcolor": "#E5ECF6",
            "gridcolor": "white",
            "gridwidth": 2,
            "linecolor": "white",
            "showbackground": true,
            "ticks": "",
            "zerolinecolor": "white"
           },
           "zaxis": {
            "backgroundcolor": "#E5ECF6",
            "gridcolor": "white",
            "gridwidth": 2,
            "linecolor": "white",
            "showbackground": true,
            "ticks": "",
            "zerolinecolor": "white"
           }
          },
          "shapedefaults": {
           "line": {
            "color": "#2a3f5f"
           }
          },
          "ternary": {
           "aaxis": {
            "gridcolor": "white",
            "linecolor": "white",
            "ticks": ""
           },
           "baxis": {
            "gridcolor": "white",
            "linecolor": "white",
            "ticks": ""
           },
           "bgcolor": "#E5ECF6",
           "caxis": {
            "gridcolor": "white",
            "linecolor": "white",
            "ticks": ""
           }
          },
          "title": {
           "x": 0.05
          },
          "xaxis": {
           "automargin": true,
           "gridcolor": "white",
           "linecolor": "white",
           "ticks": "",
           "title": {
            "standoff": 15
           },
           "zerolinecolor": "white",
           "zerolinewidth": 2
          },
          "yaxis": {
           "automargin": true,
           "gridcolor": "white",
           "linecolor": "white",
           "ticks": "",
           "title": {
            "standoff": 15
           },
           "zerolinecolor": "white",
           "zerolinewidth": 2
          }
         }
        },
        "title": {
         "text": "RF w/ GridSearchCV"
        },
        "xaxis": {
         "anchor": "y",
         "domain": [
          0,
          1
         ],
         "title": {
          "text": "true_label"
         }
        },
        "yaxis": {
         "anchor": "x",
         "domain": [
          0,
          1
         ],
         "title": {
          "text": "pred_label"
         }
        }
       }
      },
      "text/html": [
       "<div>\n",
       "        \n",
       "        \n",
       "            <div id=\"cd579aae-8e6c-4c60-97bb-5caf18c5900e\" class=\"plotly-graph-div\" style=\"height:525px; width:100%;\"></div>\n",
       "            <script type=\"text/javascript\">\n",
       "                require([\"plotly\"], function(Plotly) {\n",
       "                    window.PLOTLYENV=window.PLOTLYENV || {};\n",
       "                    \n",
       "                if (document.getElementById(\"cd579aae-8e6c-4c60-97bb-5caf18c5900e\")) {\n",
       "                    Plotly.newPlot(\n",
       "                        'cd579aae-8e6c-4c60-97bb-5caf18c5900e',\n",
       "                        [{\"coloraxis\": \"coloraxis\", \"hovertemplate\": \"true_label=%{x}<br>pred_label=%{y}<br>count=%{z}<extra></extra>\", \"name\": \"\", \"type\": \"histogram2d\", \"x\": [\"Reuters\", \"CCTV\", \"Reuters\", \"Reuters\", \"Reuters\", \"Reuters\", \"Reuters\", \"ABC (Australia)\", \"Reuters\", \"ABC (Australia)\", \"Reuters\", \"Reuters\", \"Reuters\", \"CCTV\", \"Reuters\", \"Reuters\", \"CCTV\", \"CCTV\", \"Reuters\", \"CNN\", \"CCTV\", \"Reuters\", \"Reuters\", \"Reuters\", \"ABC (Australia)\", \"Reuters\", \"CCTV\", \"Reuters\", \"Reuters\", \"ABC (Australia)\", \"Reuters\", \"Reuters\", \"CCTV\", \"CCTV\", \"Reuters\", \"CCTV\", \"Reuters\", \"Reuters\", \"CNN\", \"CCTV\", \"ABC (Australia)\", \"Reuters\", \"ABC (Australia)\", \"Reuters\", \"Reuters\", \"Reuters\", \"Reuters\", \"Reuters\", \"ABC (Australia)\", \"ABC (Australia)\", \"CNN\", \"ABC (Australia)\", \"CCTV\", \"Reuters\", \"Reuters\", \"CNN\", \"ABC (Australia)\", \"Reuters\", \"Reuters\", \"Reuters\", \"Reuters\", \"Reuters\", \"ABC (Australia)\", \"Reuters\", \"Reuters\", \"Reuters\", \"Reuters\", \"CNN\", \"Reuters\", \"Reuters\", \"Reuters\", \"Reuters\", \"CNN\", \"Reuters\", \"Reuters\", \"Reuters\", \"CCTV\", \"ABC (Australia)\", \"CNN\", \"CCTV\", \"CCTV\", \"Reuters\", \"Reuters\", \"CCTV\", \"Reuters\", \"Reuters\", \"CCTV\", \"ABC (Australia)\", \"Reuters\", \"Reuters\", \"ABC (Australia)\", \"CNN\", \"Reuters\", \"Reuters\", \"CCTV\", \"ABC (Australia)\", \"Reuters\", \"Reuters\", \"Reuters\", \"Reuters\", \"CCTV\", \"Reuters\", \"CCTV\", \"CCTV\", \"Reuters\", \"Reuters\", \"CCTV\", \"Reuters\", \"Reuters\", \"ABC (Australia)\", \"Reuters\", \"Reuters\", \"CCTV\", \"Reuters\", \"ABC (Australia)\", \"Reuters\", \"Reuters\", \"ABC (Australia)\", \"CNN\", \"Reuters\", \"Reuters\", \"CCTV\", \"ABC (Australia)\", \"Reuters\", \"Reuters\", \"Reuters\", \"Reuters\", \"Reuters\", \"ABC (Australia)\", \"Reuters\", \"Reuters\", \"Reuters\", \"CNN\", \"CCTV\", \"ABC (Australia)\", \"ABC (Australia)\", \"CCTV\", \"ABC (Australia)\", \"Reuters\", \"CNN\", \"CCTV\", \"ABC (Australia)\", \"CNN\", \"ABC (Australia)\", \"Reuters\", \"ABC (Australia)\", \"CNN\", \"Reuters\", \"Reuters\", \"Reuters\", \"CNN\", \"CNN\", \"Reuters\", \"CCTV\", \"Reuters\", \"ABC (Australia)\", \"Reuters\", \"Reuters\", \"Reuters\", \"Reuters\"], \"xaxis\": \"x\", \"xbingroup\": \"x\", \"y\": [\"Reuters\", \"Reuters\", \"Reuters\", \"Reuters\", \"Reuters\", \"Reuters\", \"Reuters\", \"Reuters\", \"Reuters\", \"ABC (Australia)\", \"Reuters\", \"Reuters\", \"CCTV\", \"CCTV\", \"Reuters\", \"Reuters\", \"Reuters\", \"Reuters\", \"CCTV\", \"Reuters\", \"Reuters\", \"Reuters\", \"Reuters\", \"Reuters\", \"Reuters\", \"Reuters\", \"Reuters\", \"Reuters\", \"CCTV\", \"Reuters\", \"Reuters\", \"CCTV\", \"Reuters\", \"CCTV\", \"Reuters\", \"CCTV\", \"Reuters\", \"Reuters\", \"Reuters\", \"CCTV\", \"Reuters\", \"Reuters\", \"Reuters\", \"Reuters\", \"Reuters\", \"Reuters\", \"Reuters\", \"Reuters\", \"Reuters\", \"Reuters\", \"Reuters\", \"ABC (Australia)\", \"CCTV\", \"Reuters\", \"CCTV\", \"Reuters\", \"Reuters\", \"Reuters\", \"Reuters\", \"Reuters\", \"Reuters\", \"Reuters\", \"CCTV\", \"Reuters\", \"Reuters\", \"Reuters\", \"Reuters\", \"Reuters\", \"Reuters\", \"Reuters\", \"Reuters\", \"Reuters\", \"Reuters\", \"ABC (Australia)\", \"Reuters\", \"Reuters\", \"Reuters\", \"Reuters\", \"Reuters\", \"CCTV\", \"CCTV\", \"Reuters\", \"Reuters\", \"Reuters\", \"Reuters\", \"Reuters\", \"CCTV\", \"ABC (Australia)\", \"Reuters\", \"Reuters\", \"Reuters\", \"Reuters\", \"Reuters\", \"Reuters\", \"CCTV\", \"ABC (Australia)\", \"Reuters\", \"Reuters\", \"Reuters\", \"Reuters\", \"CCTV\", \"Reuters\", \"CCTV\", \"CCTV\", \"Reuters\", \"Reuters\", \"CCTV\", \"Reuters\", \"Reuters\", \"Reuters\", \"Reuters\", \"Reuters\", \"Reuters\", \"Reuters\", \"Reuters\", \"Reuters\", \"Reuters\", \"Reuters\", \"CCTV\", \"Reuters\", \"Reuters\", \"CCTV\", \"Reuters\", \"Reuters\", \"Reuters\", \"Reuters\", \"Reuters\", \"Reuters\", \"Reuters\", \"Reuters\", \"Reuters\", \"Reuters\", \"Reuters\", \"Reuters\", \"Reuters\", \"Reuters\", \"CCTV\", \"ABC (Australia)\", \"Reuters\", \"Reuters\", \"CCTV\", \"ABC (Australia)\", \"Reuters\", \"Reuters\", \"Reuters\", \"Reuters\", \"Reuters\", \"Reuters\", \"Reuters\", \"Reuters\", \"Reuters\", \"Reuters\", \"CCTV\", \"Reuters\", \"Reuters\", \"Reuters\", \"CCTV\", \"Reuters\", \"Reuters\", \"Reuters\"], \"yaxis\": \"y\", \"ybingroup\": \"y\"}],\n",
       "                        {\"coloraxis\": {\"colorbar\": {\"title\": {\"text\": \"count\"}}, \"colorscale\": [[0.0, \"#0d0887\"], [0.1111111111111111, \"#46039f\"], [0.2222222222222222, \"#7201a8\"], [0.3333333333333333, \"#9c179e\"], [0.4444444444444444, \"#bd3786\"], [0.5555555555555556, \"#d8576b\"], [0.6666666666666666, \"#ed7953\"], [0.7777777777777778, \"#fb9f3a\"], [0.8888888888888888, \"#fdca26\"], [1.0, \"#f0f921\"]]}, \"legend\": {\"tracegroupgap\": 0}, \"margin\": {\"t\": 60}, \"template\": {\"data\": {\"bar\": [{\"error_x\": {\"color\": \"#2a3f5f\"}, \"error_y\": {\"color\": \"#2a3f5f\"}, \"marker\": {\"line\": {\"color\": \"#E5ECF6\", \"width\": 0.5}}, \"type\": \"bar\"}], \"barpolar\": [{\"marker\": {\"line\": {\"color\": \"#E5ECF6\", \"width\": 0.5}}, \"type\": \"barpolar\"}], \"carpet\": [{\"aaxis\": {\"endlinecolor\": \"#2a3f5f\", \"gridcolor\": \"white\", \"linecolor\": \"white\", \"minorgridcolor\": \"white\", \"startlinecolor\": \"#2a3f5f\"}, \"baxis\": {\"endlinecolor\": \"#2a3f5f\", \"gridcolor\": \"white\", \"linecolor\": \"white\", \"minorgridcolor\": \"white\", \"startlinecolor\": \"#2a3f5f\"}, \"type\": \"carpet\"}], \"choropleth\": [{\"colorbar\": {\"outlinewidth\": 0, \"ticks\": \"\"}, \"type\": \"choropleth\"}], \"contour\": [{\"colorbar\": {\"outlinewidth\": 0, \"ticks\": \"\"}, \"colorscale\": [[0.0, \"#0d0887\"], [0.1111111111111111, \"#46039f\"], [0.2222222222222222, \"#7201a8\"], [0.3333333333333333, \"#9c179e\"], [0.4444444444444444, \"#bd3786\"], [0.5555555555555556, \"#d8576b\"], [0.6666666666666666, \"#ed7953\"], [0.7777777777777778, \"#fb9f3a\"], [0.8888888888888888, \"#fdca26\"], [1.0, \"#f0f921\"]], \"type\": \"contour\"}], \"contourcarpet\": [{\"colorbar\": {\"outlinewidth\": 0, \"ticks\": \"\"}, \"type\": \"contourcarpet\"}], \"heatmap\": [{\"colorbar\": {\"outlinewidth\": 0, \"ticks\": \"\"}, \"colorscale\": [[0.0, \"#0d0887\"], [0.1111111111111111, \"#46039f\"], [0.2222222222222222, \"#7201a8\"], [0.3333333333333333, \"#9c179e\"], [0.4444444444444444, \"#bd3786\"], [0.5555555555555556, \"#d8576b\"], [0.6666666666666666, \"#ed7953\"], [0.7777777777777778, \"#fb9f3a\"], [0.8888888888888888, \"#fdca26\"], [1.0, \"#f0f921\"]], \"type\": \"heatmap\"}], \"heatmapgl\": [{\"colorbar\": {\"outlinewidth\": 0, \"ticks\": \"\"}, \"colorscale\": [[0.0, \"#0d0887\"], [0.1111111111111111, \"#46039f\"], [0.2222222222222222, \"#7201a8\"], [0.3333333333333333, \"#9c179e\"], [0.4444444444444444, \"#bd3786\"], [0.5555555555555556, \"#d8576b\"], [0.6666666666666666, \"#ed7953\"], [0.7777777777777778, \"#fb9f3a\"], [0.8888888888888888, \"#fdca26\"], [1.0, \"#f0f921\"]], \"type\": \"heatmapgl\"}], \"histogram\": [{\"marker\": {\"colorbar\": {\"outlinewidth\": 0, \"ticks\": \"\"}}, \"type\": \"histogram\"}], \"histogram2d\": [{\"colorbar\": {\"outlinewidth\": 0, \"ticks\": \"\"}, \"colorscale\": [[0.0, \"#0d0887\"], [0.1111111111111111, \"#46039f\"], [0.2222222222222222, \"#7201a8\"], [0.3333333333333333, \"#9c179e\"], [0.4444444444444444, \"#bd3786\"], [0.5555555555555556, \"#d8576b\"], [0.6666666666666666, \"#ed7953\"], [0.7777777777777778, \"#fb9f3a\"], [0.8888888888888888, \"#fdca26\"], [1.0, \"#f0f921\"]], \"type\": \"histogram2d\"}], \"histogram2dcontour\": [{\"colorbar\": {\"outlinewidth\": 0, \"ticks\": \"\"}, \"colorscale\": [[0.0, \"#0d0887\"], [0.1111111111111111, \"#46039f\"], [0.2222222222222222, \"#7201a8\"], [0.3333333333333333, \"#9c179e\"], [0.4444444444444444, \"#bd3786\"], [0.5555555555555556, \"#d8576b\"], [0.6666666666666666, \"#ed7953\"], [0.7777777777777778, \"#fb9f3a\"], [0.8888888888888888, \"#fdca26\"], [1.0, \"#f0f921\"]], \"type\": \"histogram2dcontour\"}], \"mesh3d\": [{\"colorbar\": {\"outlinewidth\": 0, \"ticks\": \"\"}, \"type\": \"mesh3d\"}], \"parcoords\": [{\"line\": {\"colorbar\": {\"outlinewidth\": 0, \"ticks\": \"\"}}, \"type\": \"parcoords\"}], \"pie\": [{\"automargin\": true, \"type\": \"pie\"}], \"scatter\": [{\"marker\": {\"colorbar\": {\"outlinewidth\": 0, \"ticks\": \"\"}}, \"type\": \"scatter\"}], \"scatter3d\": [{\"line\": {\"colorbar\": {\"outlinewidth\": 0, \"ticks\": \"\"}}, \"marker\": {\"colorbar\": {\"outlinewidth\": 0, \"ticks\": \"\"}}, \"type\": \"scatter3d\"}], \"scattercarpet\": [{\"marker\": {\"colorbar\": {\"outlinewidth\": 0, \"ticks\": \"\"}}, \"type\": \"scattercarpet\"}], \"scattergeo\": [{\"marker\": {\"colorbar\": {\"outlinewidth\": 0, \"ticks\": \"\"}}, \"type\": \"scattergeo\"}], \"scattergl\": [{\"marker\": {\"colorbar\": {\"outlinewidth\": 0, \"ticks\": \"\"}}, \"type\": \"scattergl\"}], \"scattermapbox\": [{\"marker\": {\"colorbar\": {\"outlinewidth\": 0, \"ticks\": \"\"}}, \"type\": \"scattermapbox\"}], \"scatterpolar\": [{\"marker\": {\"colorbar\": {\"outlinewidth\": 0, \"ticks\": \"\"}}, \"type\": \"scatterpolar\"}], \"scatterpolargl\": [{\"marker\": {\"colorbar\": {\"outlinewidth\": 0, \"ticks\": \"\"}}, \"type\": \"scatterpolargl\"}], \"scatterternary\": [{\"marker\": {\"colorbar\": {\"outlinewidth\": 0, \"ticks\": \"\"}}, \"type\": \"scatterternary\"}], \"surface\": [{\"colorbar\": {\"outlinewidth\": 0, \"ticks\": \"\"}, \"colorscale\": [[0.0, \"#0d0887\"], [0.1111111111111111, \"#46039f\"], [0.2222222222222222, \"#7201a8\"], [0.3333333333333333, \"#9c179e\"], [0.4444444444444444, \"#bd3786\"], [0.5555555555555556, \"#d8576b\"], [0.6666666666666666, \"#ed7953\"], [0.7777777777777778, \"#fb9f3a\"], [0.8888888888888888, \"#fdca26\"], [1.0, \"#f0f921\"]], \"type\": \"surface\"}], \"table\": [{\"cells\": {\"fill\": {\"color\": \"#EBF0F8\"}, \"line\": {\"color\": \"white\"}}, \"header\": {\"fill\": {\"color\": \"#C8D4E3\"}, \"line\": {\"color\": \"white\"}}, \"type\": \"table\"}]}, \"layout\": {\"annotationdefaults\": {\"arrowcolor\": \"#2a3f5f\", \"arrowhead\": 0, \"arrowwidth\": 1}, \"coloraxis\": {\"colorbar\": {\"outlinewidth\": 0, \"ticks\": \"\"}}, \"colorscale\": {\"diverging\": [[0, \"#8e0152\"], [0.1, \"#c51b7d\"], [0.2, \"#de77ae\"], [0.3, \"#f1b6da\"], [0.4, \"#fde0ef\"], [0.5, \"#f7f7f7\"], [0.6, \"#e6f5d0\"], [0.7, \"#b8e186\"], [0.8, \"#7fbc41\"], [0.9, \"#4d9221\"], [1, \"#276419\"]], \"sequential\": [[0.0, \"#0d0887\"], [0.1111111111111111, \"#46039f\"], [0.2222222222222222, \"#7201a8\"], [0.3333333333333333, \"#9c179e\"], [0.4444444444444444, \"#bd3786\"], [0.5555555555555556, \"#d8576b\"], [0.6666666666666666, \"#ed7953\"], [0.7777777777777778, \"#fb9f3a\"], [0.8888888888888888, \"#fdca26\"], [1.0, \"#f0f921\"]], \"sequentialminus\": [[0.0, \"#0d0887\"], [0.1111111111111111, \"#46039f\"], [0.2222222222222222, \"#7201a8\"], [0.3333333333333333, \"#9c179e\"], [0.4444444444444444, \"#bd3786\"], [0.5555555555555556, \"#d8576b\"], [0.6666666666666666, \"#ed7953\"], [0.7777777777777778, \"#fb9f3a\"], [0.8888888888888888, \"#fdca26\"], [1.0, \"#f0f921\"]]}, \"colorway\": [\"#636efa\", \"#EF553B\", \"#00cc96\", \"#ab63fa\", \"#FFA15A\", \"#19d3f3\", \"#FF6692\", \"#B6E880\", \"#FF97FF\", \"#FECB52\"], \"font\": {\"color\": \"#2a3f5f\"}, \"geo\": {\"bgcolor\": \"white\", \"lakecolor\": \"white\", \"landcolor\": \"#E5ECF6\", \"showlakes\": true, \"showland\": true, \"subunitcolor\": \"white\"}, \"hoverlabel\": {\"align\": \"left\"}, \"hovermode\": \"closest\", \"mapbox\": {\"style\": \"light\"}, \"paper_bgcolor\": \"white\", \"plot_bgcolor\": \"#E5ECF6\", \"polar\": {\"angularaxis\": {\"gridcolor\": \"white\", \"linecolor\": \"white\", \"ticks\": \"\"}, \"bgcolor\": \"#E5ECF6\", \"radialaxis\": {\"gridcolor\": \"white\", \"linecolor\": \"white\", \"ticks\": \"\"}}, \"scene\": {\"xaxis\": {\"backgroundcolor\": \"#E5ECF6\", \"gridcolor\": \"white\", \"gridwidth\": 2, \"linecolor\": \"white\", \"showbackground\": true, \"ticks\": \"\", \"zerolinecolor\": \"white\"}, \"yaxis\": {\"backgroundcolor\": \"#E5ECF6\", \"gridcolor\": \"white\", \"gridwidth\": 2, \"linecolor\": \"white\", \"showbackground\": true, \"ticks\": \"\", \"zerolinecolor\": \"white\"}, \"zaxis\": {\"backgroundcolor\": \"#E5ECF6\", \"gridcolor\": \"white\", \"gridwidth\": 2, \"linecolor\": \"white\", \"showbackground\": true, \"ticks\": \"\", \"zerolinecolor\": \"white\"}}, \"shapedefaults\": {\"line\": {\"color\": \"#2a3f5f\"}}, \"ternary\": {\"aaxis\": {\"gridcolor\": \"white\", \"linecolor\": \"white\", \"ticks\": \"\"}, \"baxis\": {\"gridcolor\": \"white\", \"linecolor\": \"white\", \"ticks\": \"\"}, \"bgcolor\": \"#E5ECF6\", \"caxis\": {\"gridcolor\": \"white\", \"linecolor\": \"white\", \"ticks\": \"\"}}, \"title\": {\"x\": 0.05}, \"xaxis\": {\"automargin\": true, \"gridcolor\": \"white\", \"linecolor\": \"white\", \"ticks\": \"\", \"title\": {\"standoff\": 15}, \"zerolinecolor\": \"white\", \"zerolinewidth\": 2}, \"yaxis\": {\"automargin\": true, \"gridcolor\": \"white\", \"linecolor\": \"white\", \"ticks\": \"\", \"title\": {\"standoff\": 15}, \"zerolinecolor\": \"white\", \"zerolinewidth\": 2}}}, \"title\": {\"text\": \"RF w/ GridSearchCV\"}, \"xaxis\": {\"anchor\": \"y\", \"domain\": [0.0, 1.0], \"title\": {\"text\": \"true_label\"}}, \"yaxis\": {\"anchor\": \"x\", \"domain\": [0.0, 1.0], \"title\": {\"text\": \"pred_label\"}}},\n",
       "                        {\"responsive\": true}\n",
       "                    ).then(function(){\n",
       "                            \n",
       "var gd = document.getElementById('cd579aae-8e6c-4c60-97bb-5caf18c5900e');\n",
       "var x = new MutationObserver(function (mutations, observer) {{\n",
       "        var display = window.getComputedStyle(gd).display;\n",
       "        if (!display || display === 'none') {{\n",
       "            console.log([gd, 'removed!']);\n",
       "            Plotly.purge(gd);\n",
       "            observer.disconnect();\n",
       "        }}\n",
       "}});\n",
       "\n",
       "// Listen for the removal of the full notebook cells\n",
       "var notebookContainer = gd.closest('#notebook-container');\n",
       "if (notebookContainer) {{\n",
       "    x.observe(notebookContainer, {childList: true});\n",
       "}}\n",
       "\n",
       "// Listen for the clearing of the current output cell\n",
       "var outputEl = gd.closest('.output');\n",
       "if (outputEl) {{\n",
       "    x.observe(outputEl, {childList: true});\n",
       "}}\n",
       "\n",
       "                        })\n",
       "                };\n",
       "                });\n",
       "            </script>\n",
       "        </div>"
      ]
     },
     "metadata": {},
     "output_type": "display_data"
    },
    {
     "data": {
      "application/vnd.plotly.v1+json": {
       "config": {
        "plotlyServerURL": "https://plot.ly"
       },
       "data": [
        {
         "coloraxis": "coloraxis",
         "hovertemplate": "true_label=%{x}<br>pred_label=%{y}<br>count=%{z}<extra></extra>",
         "name": "",
         "type": "histogram2d",
         "x": [
          "Reuters",
          "CCTV",
          "Reuters",
          "Reuters",
          "Reuters",
          "Reuters",
          "Reuters",
          "ABC (Australia)",
          "Reuters",
          "ABC (Australia)",
          "Reuters",
          "Reuters",
          "Reuters",
          "CCTV",
          "Reuters",
          "Reuters",
          "CCTV",
          "CCTV",
          "Reuters",
          "CNN",
          "CCTV",
          "Reuters",
          "Reuters",
          "Reuters",
          "ABC (Australia)",
          "Reuters",
          "CCTV",
          "Reuters",
          "Reuters",
          "ABC (Australia)",
          "Reuters",
          "Reuters",
          "CCTV",
          "CCTV",
          "Reuters",
          "CCTV",
          "Reuters",
          "Reuters",
          "CNN",
          "CCTV",
          "ABC (Australia)",
          "Reuters",
          "ABC (Australia)",
          "Reuters",
          "Reuters",
          "Reuters",
          "Reuters",
          "Reuters",
          "ABC (Australia)",
          "ABC (Australia)",
          "CNN",
          "ABC (Australia)",
          "CCTV",
          "Reuters",
          "Reuters",
          "CNN",
          "ABC (Australia)",
          "Reuters",
          "Reuters",
          "Reuters",
          "Reuters",
          "Reuters",
          "ABC (Australia)",
          "Reuters",
          "Reuters",
          "Reuters",
          "Reuters",
          "CNN",
          "Reuters",
          "Reuters",
          "Reuters",
          "Reuters",
          "CNN",
          "Reuters",
          "Reuters",
          "Reuters",
          "CCTV",
          "ABC (Australia)",
          "CNN",
          "CCTV",
          "CCTV",
          "Reuters",
          "Reuters",
          "CCTV",
          "Reuters",
          "Reuters",
          "CCTV",
          "ABC (Australia)",
          "Reuters",
          "Reuters",
          "ABC (Australia)",
          "CNN",
          "Reuters",
          "Reuters",
          "CCTV",
          "ABC (Australia)",
          "Reuters",
          "Reuters",
          "Reuters",
          "Reuters",
          "CCTV",
          "Reuters",
          "CCTV",
          "CCTV",
          "Reuters",
          "Reuters",
          "CCTV",
          "Reuters",
          "Reuters",
          "ABC (Australia)",
          "Reuters",
          "Reuters",
          "CCTV",
          "Reuters",
          "ABC (Australia)",
          "Reuters",
          "Reuters",
          "ABC (Australia)",
          "CNN",
          "Reuters",
          "Reuters",
          "CCTV",
          "ABC (Australia)",
          "Reuters",
          "Reuters",
          "Reuters",
          "Reuters",
          "Reuters",
          "ABC (Australia)",
          "Reuters",
          "Reuters",
          "Reuters",
          "CNN",
          "CCTV",
          "ABC (Australia)",
          "ABC (Australia)",
          "CCTV",
          "ABC (Australia)",
          "Reuters",
          "CNN",
          "CCTV",
          "ABC (Australia)",
          "CNN",
          "ABC (Australia)",
          "Reuters",
          "ABC (Australia)",
          "CNN",
          "Reuters",
          "Reuters",
          "Reuters",
          "CNN",
          "CNN",
          "Reuters",
          "CCTV",
          "Reuters",
          "ABC (Australia)",
          "Reuters",
          "Reuters",
          "Reuters",
          "Reuters"
         ],
         "xaxis": "x",
         "xbingroup": "x",
         "y": [
          "Reuters",
          "Reuters",
          "Reuters",
          "Reuters",
          "Reuters",
          "Reuters",
          "Reuters",
          "Reuters",
          "Reuters",
          "ABC (Australia)",
          "Reuters",
          "Reuters",
          "CCTV",
          "CCTV",
          "Reuters",
          "Reuters",
          "Reuters",
          "Reuters",
          "Reuters",
          "Reuters",
          "CCTV",
          "Reuters",
          "Reuters",
          "Reuters",
          "CCTV",
          "Reuters",
          "Reuters",
          "Reuters",
          "CCTV",
          "Reuters",
          "Reuters",
          "CCTV",
          "Reuters",
          "Reuters",
          "Reuters",
          "CCTV",
          "ABC (Australia)",
          "ABC (Australia)",
          "Reuters",
          "CCTV",
          "Reuters",
          "Reuters",
          "CCTV",
          "Reuters",
          "Reuters",
          "Reuters",
          "Reuters",
          "Reuters",
          "Reuters",
          "Reuters",
          "Reuters",
          "ABC (Australia)",
          "CCTV",
          "Reuters",
          "CNN",
          "Reuters",
          "Reuters",
          "CCTV",
          "Reuters",
          "Reuters",
          "Reuters",
          "Reuters",
          "CCTV",
          "Reuters",
          "Reuters",
          "Reuters",
          "Reuters",
          "Reuters",
          "Reuters",
          "Reuters",
          "Reuters",
          "Reuters",
          "Reuters",
          "ABC (Australia)",
          "Reuters",
          "Reuters",
          "Reuters",
          "Reuters",
          "Reuters",
          "CCTV",
          "CCTV",
          "Reuters",
          "Reuters",
          "Reuters",
          "Reuters",
          "ABC (Australia)",
          "CCTV",
          "ABC (Australia)",
          "Reuters",
          "Reuters",
          "Reuters",
          "Reuters",
          "Reuters",
          "Reuters",
          "CCTV",
          "ABC (Australia)",
          "Reuters",
          "Reuters",
          "Reuters",
          "Reuters",
          "CCTV",
          "Reuters",
          "CCTV",
          "CCTV",
          "Reuters",
          "Reuters",
          "CCTV",
          "CCTV",
          "Reuters",
          "Reuters",
          "Reuters",
          "Reuters",
          "Reuters",
          "Reuters",
          "Reuters",
          "Reuters",
          "Reuters",
          "Reuters",
          "CCTV",
          "Reuters",
          "Reuters",
          "CCTV",
          "Reuters",
          "Reuters",
          "Reuters",
          "Reuters",
          "CNN",
          "CCTV",
          "Reuters",
          "ABC (Australia)",
          "Reuters",
          "Reuters",
          "CCTV",
          "Reuters",
          "Reuters",
          "Reuters",
          "CCTV",
          "ABC (Australia)",
          "Reuters",
          "Reuters",
          "CCTV",
          "ABC (Australia)",
          "Reuters",
          "Reuters",
          "Reuters",
          "Reuters",
          "CCTV",
          "Reuters",
          "Reuters",
          "Reuters",
          "Reuters",
          "Reuters",
          "CCTV",
          "Reuters",
          "Reuters",
          "Reuters",
          "CCTV",
          "Reuters",
          "Reuters",
          "Reuters"
         ],
         "yaxis": "y",
         "ybingroup": "y"
        }
       ],
       "layout": {
        "coloraxis": {
         "colorbar": {
          "title": {
           "text": "count"
          }
         },
         "colorscale": [
          [
           0,
           "#0d0887"
          ],
          [
           0.1111111111111111,
           "#46039f"
          ],
          [
           0.2222222222222222,
           "#7201a8"
          ],
          [
           0.3333333333333333,
           "#9c179e"
          ],
          [
           0.4444444444444444,
           "#bd3786"
          ],
          [
           0.5555555555555556,
           "#d8576b"
          ],
          [
           0.6666666666666666,
           "#ed7953"
          ],
          [
           0.7777777777777778,
           "#fb9f3a"
          ],
          [
           0.8888888888888888,
           "#fdca26"
          ],
          [
           1,
           "#f0f921"
          ]
         ]
        },
        "legend": {
         "tracegroupgap": 0
        },
        "margin": {
         "t": 60
        },
        "template": {
         "data": {
          "bar": [
           {
            "error_x": {
             "color": "#2a3f5f"
            },
            "error_y": {
             "color": "#2a3f5f"
            },
            "marker": {
             "line": {
              "color": "#E5ECF6",
              "width": 0.5
             }
            },
            "type": "bar"
           }
          ],
          "barpolar": [
           {
            "marker": {
             "line": {
              "color": "#E5ECF6",
              "width": 0.5
             }
            },
            "type": "barpolar"
           }
          ],
          "carpet": [
           {
            "aaxis": {
             "endlinecolor": "#2a3f5f",
             "gridcolor": "white",
             "linecolor": "white",
             "minorgridcolor": "white",
             "startlinecolor": "#2a3f5f"
            },
            "baxis": {
             "endlinecolor": "#2a3f5f",
             "gridcolor": "white",
             "linecolor": "white",
             "minorgridcolor": "white",
             "startlinecolor": "#2a3f5f"
            },
            "type": "carpet"
           }
          ],
          "choropleth": [
           {
            "colorbar": {
             "outlinewidth": 0,
             "ticks": ""
            },
            "type": "choropleth"
           }
          ],
          "contour": [
           {
            "colorbar": {
             "outlinewidth": 0,
             "ticks": ""
            },
            "colorscale": [
             [
              0,
              "#0d0887"
             ],
             [
              0.1111111111111111,
              "#46039f"
             ],
             [
              0.2222222222222222,
              "#7201a8"
             ],
             [
              0.3333333333333333,
              "#9c179e"
             ],
             [
              0.4444444444444444,
              "#bd3786"
             ],
             [
              0.5555555555555556,
              "#d8576b"
             ],
             [
              0.6666666666666666,
              "#ed7953"
             ],
             [
              0.7777777777777778,
              "#fb9f3a"
             ],
             [
              0.8888888888888888,
              "#fdca26"
             ],
             [
              1,
              "#f0f921"
             ]
            ],
            "type": "contour"
           }
          ],
          "contourcarpet": [
           {
            "colorbar": {
             "outlinewidth": 0,
             "ticks": ""
            },
            "type": "contourcarpet"
           }
          ],
          "heatmap": [
           {
            "colorbar": {
             "outlinewidth": 0,
             "ticks": ""
            },
            "colorscale": [
             [
              0,
              "#0d0887"
             ],
             [
              0.1111111111111111,
              "#46039f"
             ],
             [
              0.2222222222222222,
              "#7201a8"
             ],
             [
              0.3333333333333333,
              "#9c179e"
             ],
             [
              0.4444444444444444,
              "#bd3786"
             ],
             [
              0.5555555555555556,
              "#d8576b"
             ],
             [
              0.6666666666666666,
              "#ed7953"
             ],
             [
              0.7777777777777778,
              "#fb9f3a"
             ],
             [
              0.8888888888888888,
              "#fdca26"
             ],
             [
              1,
              "#f0f921"
             ]
            ],
            "type": "heatmap"
           }
          ],
          "heatmapgl": [
           {
            "colorbar": {
             "outlinewidth": 0,
             "ticks": ""
            },
            "colorscale": [
             [
              0,
              "#0d0887"
             ],
             [
              0.1111111111111111,
              "#46039f"
             ],
             [
              0.2222222222222222,
              "#7201a8"
             ],
             [
              0.3333333333333333,
              "#9c179e"
             ],
             [
              0.4444444444444444,
              "#bd3786"
             ],
             [
              0.5555555555555556,
              "#d8576b"
             ],
             [
              0.6666666666666666,
              "#ed7953"
             ],
             [
              0.7777777777777778,
              "#fb9f3a"
             ],
             [
              0.8888888888888888,
              "#fdca26"
             ],
             [
              1,
              "#f0f921"
             ]
            ],
            "type": "heatmapgl"
           }
          ],
          "histogram": [
           {
            "marker": {
             "colorbar": {
              "outlinewidth": 0,
              "ticks": ""
             }
            },
            "type": "histogram"
           }
          ],
          "histogram2d": [
           {
            "colorbar": {
             "outlinewidth": 0,
             "ticks": ""
            },
            "colorscale": [
             [
              0,
              "#0d0887"
             ],
             [
              0.1111111111111111,
              "#46039f"
             ],
             [
              0.2222222222222222,
              "#7201a8"
             ],
             [
              0.3333333333333333,
              "#9c179e"
             ],
             [
              0.4444444444444444,
              "#bd3786"
             ],
             [
              0.5555555555555556,
              "#d8576b"
             ],
             [
              0.6666666666666666,
              "#ed7953"
             ],
             [
              0.7777777777777778,
              "#fb9f3a"
             ],
             [
              0.8888888888888888,
              "#fdca26"
             ],
             [
              1,
              "#f0f921"
             ]
            ],
            "type": "histogram2d"
           }
          ],
          "histogram2dcontour": [
           {
            "colorbar": {
             "outlinewidth": 0,
             "ticks": ""
            },
            "colorscale": [
             [
              0,
              "#0d0887"
             ],
             [
              0.1111111111111111,
              "#46039f"
             ],
             [
              0.2222222222222222,
              "#7201a8"
             ],
             [
              0.3333333333333333,
              "#9c179e"
             ],
             [
              0.4444444444444444,
              "#bd3786"
             ],
             [
              0.5555555555555556,
              "#d8576b"
             ],
             [
              0.6666666666666666,
              "#ed7953"
             ],
             [
              0.7777777777777778,
              "#fb9f3a"
             ],
             [
              0.8888888888888888,
              "#fdca26"
             ],
             [
              1,
              "#f0f921"
             ]
            ],
            "type": "histogram2dcontour"
           }
          ],
          "mesh3d": [
           {
            "colorbar": {
             "outlinewidth": 0,
             "ticks": ""
            },
            "type": "mesh3d"
           }
          ],
          "parcoords": [
           {
            "line": {
             "colorbar": {
              "outlinewidth": 0,
              "ticks": ""
             }
            },
            "type": "parcoords"
           }
          ],
          "pie": [
           {
            "automargin": true,
            "type": "pie"
           }
          ],
          "scatter": [
           {
            "marker": {
             "colorbar": {
              "outlinewidth": 0,
              "ticks": ""
             }
            },
            "type": "scatter"
           }
          ],
          "scatter3d": [
           {
            "line": {
             "colorbar": {
              "outlinewidth": 0,
              "ticks": ""
             }
            },
            "marker": {
             "colorbar": {
              "outlinewidth": 0,
              "ticks": ""
             }
            },
            "type": "scatter3d"
           }
          ],
          "scattercarpet": [
           {
            "marker": {
             "colorbar": {
              "outlinewidth": 0,
              "ticks": ""
             }
            },
            "type": "scattercarpet"
           }
          ],
          "scattergeo": [
           {
            "marker": {
             "colorbar": {
              "outlinewidth": 0,
              "ticks": ""
             }
            },
            "type": "scattergeo"
           }
          ],
          "scattergl": [
           {
            "marker": {
             "colorbar": {
              "outlinewidth": 0,
              "ticks": ""
             }
            },
            "type": "scattergl"
           }
          ],
          "scattermapbox": [
           {
            "marker": {
             "colorbar": {
              "outlinewidth": 0,
              "ticks": ""
             }
            },
            "type": "scattermapbox"
           }
          ],
          "scatterpolar": [
           {
            "marker": {
             "colorbar": {
              "outlinewidth": 0,
              "ticks": ""
             }
            },
            "type": "scatterpolar"
           }
          ],
          "scatterpolargl": [
           {
            "marker": {
             "colorbar": {
              "outlinewidth": 0,
              "ticks": ""
             }
            },
            "type": "scatterpolargl"
           }
          ],
          "scatterternary": [
           {
            "marker": {
             "colorbar": {
              "outlinewidth": 0,
              "ticks": ""
             }
            },
            "type": "scatterternary"
           }
          ],
          "surface": [
           {
            "colorbar": {
             "outlinewidth": 0,
             "ticks": ""
            },
            "colorscale": [
             [
              0,
              "#0d0887"
             ],
             [
              0.1111111111111111,
              "#46039f"
             ],
             [
              0.2222222222222222,
              "#7201a8"
             ],
             [
              0.3333333333333333,
              "#9c179e"
             ],
             [
              0.4444444444444444,
              "#bd3786"
             ],
             [
              0.5555555555555556,
              "#d8576b"
             ],
             [
              0.6666666666666666,
              "#ed7953"
             ],
             [
              0.7777777777777778,
              "#fb9f3a"
             ],
             [
              0.8888888888888888,
              "#fdca26"
             ],
             [
              1,
              "#f0f921"
             ]
            ],
            "type": "surface"
           }
          ],
          "table": [
           {
            "cells": {
             "fill": {
              "color": "#EBF0F8"
             },
             "line": {
              "color": "white"
             }
            },
            "header": {
             "fill": {
              "color": "#C8D4E3"
             },
             "line": {
              "color": "white"
             }
            },
            "type": "table"
           }
          ]
         },
         "layout": {
          "annotationdefaults": {
           "arrowcolor": "#2a3f5f",
           "arrowhead": 0,
           "arrowwidth": 1
          },
          "coloraxis": {
           "colorbar": {
            "outlinewidth": 0,
            "ticks": ""
           }
          },
          "colorscale": {
           "diverging": [
            [
             0,
             "#8e0152"
            ],
            [
             0.1,
             "#c51b7d"
            ],
            [
             0.2,
             "#de77ae"
            ],
            [
             0.3,
             "#f1b6da"
            ],
            [
             0.4,
             "#fde0ef"
            ],
            [
             0.5,
             "#f7f7f7"
            ],
            [
             0.6,
             "#e6f5d0"
            ],
            [
             0.7,
             "#b8e186"
            ],
            [
             0.8,
             "#7fbc41"
            ],
            [
             0.9,
             "#4d9221"
            ],
            [
             1,
             "#276419"
            ]
           ],
           "sequential": [
            [
             0,
             "#0d0887"
            ],
            [
             0.1111111111111111,
             "#46039f"
            ],
            [
             0.2222222222222222,
             "#7201a8"
            ],
            [
             0.3333333333333333,
             "#9c179e"
            ],
            [
             0.4444444444444444,
             "#bd3786"
            ],
            [
             0.5555555555555556,
             "#d8576b"
            ],
            [
             0.6666666666666666,
             "#ed7953"
            ],
            [
             0.7777777777777778,
             "#fb9f3a"
            ],
            [
             0.8888888888888888,
             "#fdca26"
            ],
            [
             1,
             "#f0f921"
            ]
           ],
           "sequentialminus": [
            [
             0,
             "#0d0887"
            ],
            [
             0.1111111111111111,
             "#46039f"
            ],
            [
             0.2222222222222222,
             "#7201a8"
            ],
            [
             0.3333333333333333,
             "#9c179e"
            ],
            [
             0.4444444444444444,
             "#bd3786"
            ],
            [
             0.5555555555555556,
             "#d8576b"
            ],
            [
             0.6666666666666666,
             "#ed7953"
            ],
            [
             0.7777777777777778,
             "#fb9f3a"
            ],
            [
             0.8888888888888888,
             "#fdca26"
            ],
            [
             1,
             "#f0f921"
            ]
           ]
          },
          "colorway": [
           "#636efa",
           "#EF553B",
           "#00cc96",
           "#ab63fa",
           "#FFA15A",
           "#19d3f3",
           "#FF6692",
           "#B6E880",
           "#FF97FF",
           "#FECB52"
          ],
          "font": {
           "color": "#2a3f5f"
          },
          "geo": {
           "bgcolor": "white",
           "lakecolor": "white",
           "landcolor": "#E5ECF6",
           "showlakes": true,
           "showland": true,
           "subunitcolor": "white"
          },
          "hoverlabel": {
           "align": "left"
          },
          "hovermode": "closest",
          "mapbox": {
           "style": "light"
          },
          "paper_bgcolor": "white",
          "plot_bgcolor": "#E5ECF6",
          "polar": {
           "angularaxis": {
            "gridcolor": "white",
            "linecolor": "white",
            "ticks": ""
           },
           "bgcolor": "#E5ECF6",
           "radialaxis": {
            "gridcolor": "white",
            "linecolor": "white",
            "ticks": ""
           }
          },
          "scene": {
           "xaxis": {
            "backgroundcolor": "#E5ECF6",
            "gridcolor": "white",
            "gridwidth": 2,
            "linecolor": "white",
            "showbackground": true,
            "ticks": "",
            "zerolinecolor": "white"
           },
           "yaxis": {
            "backgroundcolor": "#E5ECF6",
            "gridcolor": "white",
            "gridwidth": 2,
            "linecolor": "white",
            "showbackground": true,
            "ticks": "",
            "zerolinecolor": "white"
           },
           "zaxis": {
            "backgroundcolor": "#E5ECF6",
            "gridcolor": "white",
            "gridwidth": 2,
            "linecolor": "white",
            "showbackground": true,
            "ticks": "",
            "zerolinecolor": "white"
           }
          },
          "shapedefaults": {
           "line": {
            "color": "#2a3f5f"
           }
          },
          "ternary": {
           "aaxis": {
            "gridcolor": "white",
            "linecolor": "white",
            "ticks": ""
           },
           "baxis": {
            "gridcolor": "white",
            "linecolor": "white",
            "ticks": ""
           },
           "bgcolor": "#E5ECF6",
           "caxis": {
            "gridcolor": "white",
            "linecolor": "white",
            "ticks": ""
           }
          },
          "title": {
           "x": 0.05
          },
          "xaxis": {
           "automargin": true,
           "gridcolor": "white",
           "linecolor": "white",
           "ticks": "",
           "title": {
            "standoff": 15
           },
           "zerolinecolor": "white",
           "zerolinewidth": 2
          },
          "yaxis": {
           "automargin": true,
           "gridcolor": "white",
           "linecolor": "white",
           "ticks": "",
           "title": {
            "standoff": 15
           },
           "zerolinecolor": "white",
           "zerolinewidth": 2
          }
         }
        },
        "title": {
         "text": "Standard RF"
        },
        "xaxis": {
         "anchor": "y",
         "domain": [
          0,
          1
         ],
         "title": {
          "text": "true_label"
         }
        },
        "yaxis": {
         "anchor": "x",
         "domain": [
          0,
          1
         ],
         "title": {
          "text": "pred_label"
         }
        }
       }
      },
      "text/html": [
       "<div>\n",
       "        \n",
       "        \n",
       "            <div id=\"08f6a973-c079-4622-8068-22154702eef6\" class=\"plotly-graph-div\" style=\"height:525px; width:100%;\"></div>\n",
       "            <script type=\"text/javascript\">\n",
       "                require([\"plotly\"], function(Plotly) {\n",
       "                    window.PLOTLYENV=window.PLOTLYENV || {};\n",
       "                    \n",
       "                if (document.getElementById(\"08f6a973-c079-4622-8068-22154702eef6\")) {\n",
       "                    Plotly.newPlot(\n",
       "                        '08f6a973-c079-4622-8068-22154702eef6',\n",
       "                        [{\"coloraxis\": \"coloraxis\", \"hovertemplate\": \"true_label=%{x}<br>pred_label=%{y}<br>count=%{z}<extra></extra>\", \"name\": \"\", \"type\": \"histogram2d\", \"x\": [\"Reuters\", \"CCTV\", \"Reuters\", \"Reuters\", \"Reuters\", \"Reuters\", \"Reuters\", \"ABC (Australia)\", \"Reuters\", \"ABC (Australia)\", \"Reuters\", \"Reuters\", \"Reuters\", \"CCTV\", \"Reuters\", \"Reuters\", \"CCTV\", \"CCTV\", \"Reuters\", \"CNN\", \"CCTV\", \"Reuters\", \"Reuters\", \"Reuters\", \"ABC (Australia)\", \"Reuters\", \"CCTV\", \"Reuters\", \"Reuters\", \"ABC (Australia)\", \"Reuters\", \"Reuters\", \"CCTV\", \"CCTV\", \"Reuters\", \"CCTV\", \"Reuters\", \"Reuters\", \"CNN\", \"CCTV\", \"ABC (Australia)\", \"Reuters\", \"ABC (Australia)\", \"Reuters\", \"Reuters\", \"Reuters\", \"Reuters\", \"Reuters\", \"ABC (Australia)\", \"ABC (Australia)\", \"CNN\", \"ABC (Australia)\", \"CCTV\", \"Reuters\", \"Reuters\", \"CNN\", \"ABC (Australia)\", \"Reuters\", \"Reuters\", \"Reuters\", \"Reuters\", \"Reuters\", \"ABC (Australia)\", \"Reuters\", \"Reuters\", \"Reuters\", \"Reuters\", \"CNN\", \"Reuters\", \"Reuters\", \"Reuters\", \"Reuters\", \"CNN\", \"Reuters\", \"Reuters\", \"Reuters\", \"CCTV\", \"ABC (Australia)\", \"CNN\", \"CCTV\", \"CCTV\", \"Reuters\", \"Reuters\", \"CCTV\", \"Reuters\", \"Reuters\", \"CCTV\", \"ABC (Australia)\", \"Reuters\", \"Reuters\", \"ABC (Australia)\", \"CNN\", \"Reuters\", \"Reuters\", \"CCTV\", \"ABC (Australia)\", \"Reuters\", \"Reuters\", \"Reuters\", \"Reuters\", \"CCTV\", \"Reuters\", \"CCTV\", \"CCTV\", \"Reuters\", \"Reuters\", \"CCTV\", \"Reuters\", \"Reuters\", \"ABC (Australia)\", \"Reuters\", \"Reuters\", \"CCTV\", \"Reuters\", \"ABC (Australia)\", \"Reuters\", \"Reuters\", \"ABC (Australia)\", \"CNN\", \"Reuters\", \"Reuters\", \"CCTV\", \"ABC (Australia)\", \"Reuters\", \"Reuters\", \"Reuters\", \"Reuters\", \"Reuters\", \"ABC (Australia)\", \"Reuters\", \"Reuters\", \"Reuters\", \"CNN\", \"CCTV\", \"ABC (Australia)\", \"ABC (Australia)\", \"CCTV\", \"ABC (Australia)\", \"Reuters\", \"CNN\", \"CCTV\", \"ABC (Australia)\", \"CNN\", \"ABC (Australia)\", \"Reuters\", \"ABC (Australia)\", \"CNN\", \"Reuters\", \"Reuters\", \"Reuters\", \"CNN\", \"CNN\", \"Reuters\", \"CCTV\", \"Reuters\", \"ABC (Australia)\", \"Reuters\", \"Reuters\", \"Reuters\", \"Reuters\"], \"xaxis\": \"x\", \"xbingroup\": \"x\", \"y\": [\"Reuters\", \"Reuters\", \"Reuters\", \"Reuters\", \"Reuters\", \"Reuters\", \"Reuters\", \"Reuters\", \"Reuters\", \"ABC (Australia)\", \"Reuters\", \"Reuters\", \"CCTV\", \"CCTV\", \"Reuters\", \"Reuters\", \"Reuters\", \"Reuters\", \"Reuters\", \"Reuters\", \"CCTV\", \"Reuters\", \"Reuters\", \"Reuters\", \"CCTV\", \"Reuters\", \"Reuters\", \"Reuters\", \"CCTV\", \"Reuters\", \"Reuters\", \"CCTV\", \"Reuters\", \"Reuters\", \"Reuters\", \"CCTV\", \"ABC (Australia)\", \"ABC (Australia)\", \"Reuters\", \"CCTV\", \"Reuters\", \"Reuters\", \"CCTV\", \"Reuters\", \"Reuters\", \"Reuters\", \"Reuters\", \"Reuters\", \"Reuters\", \"Reuters\", \"Reuters\", \"ABC (Australia)\", \"CCTV\", \"Reuters\", \"CNN\", \"Reuters\", \"Reuters\", \"CCTV\", \"Reuters\", \"Reuters\", \"Reuters\", \"Reuters\", \"CCTV\", \"Reuters\", \"Reuters\", \"Reuters\", \"Reuters\", \"Reuters\", \"Reuters\", \"Reuters\", \"Reuters\", \"Reuters\", \"Reuters\", \"ABC (Australia)\", \"Reuters\", \"Reuters\", \"Reuters\", \"Reuters\", \"Reuters\", \"CCTV\", \"CCTV\", \"Reuters\", \"Reuters\", \"Reuters\", \"Reuters\", \"ABC (Australia)\", \"CCTV\", \"ABC (Australia)\", \"Reuters\", \"Reuters\", \"Reuters\", \"Reuters\", \"Reuters\", \"Reuters\", \"CCTV\", \"ABC (Australia)\", \"Reuters\", \"Reuters\", \"Reuters\", \"Reuters\", \"CCTV\", \"Reuters\", \"CCTV\", \"CCTV\", \"Reuters\", \"Reuters\", \"CCTV\", \"CCTV\", \"Reuters\", \"Reuters\", \"Reuters\", \"Reuters\", \"Reuters\", \"Reuters\", \"Reuters\", \"Reuters\", \"Reuters\", \"Reuters\", \"CCTV\", \"Reuters\", \"Reuters\", \"CCTV\", \"Reuters\", \"Reuters\", \"Reuters\", \"Reuters\", \"CNN\", \"CCTV\", \"Reuters\", \"ABC (Australia)\", \"Reuters\", \"Reuters\", \"CCTV\", \"Reuters\", \"Reuters\", \"Reuters\", \"CCTV\", \"ABC (Australia)\", \"Reuters\", \"Reuters\", \"CCTV\", \"ABC (Australia)\", \"Reuters\", \"Reuters\", \"Reuters\", \"Reuters\", \"CCTV\", \"Reuters\", \"Reuters\", \"Reuters\", \"Reuters\", \"Reuters\", \"CCTV\", \"Reuters\", \"Reuters\", \"Reuters\", \"CCTV\", \"Reuters\", \"Reuters\", \"Reuters\"], \"yaxis\": \"y\", \"ybingroup\": \"y\"}],\n",
       "                        {\"coloraxis\": {\"colorbar\": {\"title\": {\"text\": \"count\"}}, \"colorscale\": [[0.0, \"#0d0887\"], [0.1111111111111111, \"#46039f\"], [0.2222222222222222, \"#7201a8\"], [0.3333333333333333, \"#9c179e\"], [0.4444444444444444, \"#bd3786\"], [0.5555555555555556, \"#d8576b\"], [0.6666666666666666, \"#ed7953\"], [0.7777777777777778, \"#fb9f3a\"], [0.8888888888888888, \"#fdca26\"], [1.0, \"#f0f921\"]]}, \"legend\": {\"tracegroupgap\": 0}, \"margin\": {\"t\": 60}, \"template\": {\"data\": {\"bar\": [{\"error_x\": {\"color\": \"#2a3f5f\"}, \"error_y\": {\"color\": \"#2a3f5f\"}, \"marker\": {\"line\": {\"color\": \"#E5ECF6\", \"width\": 0.5}}, \"type\": \"bar\"}], \"barpolar\": [{\"marker\": {\"line\": {\"color\": \"#E5ECF6\", \"width\": 0.5}}, \"type\": \"barpolar\"}], \"carpet\": [{\"aaxis\": {\"endlinecolor\": \"#2a3f5f\", \"gridcolor\": \"white\", \"linecolor\": \"white\", \"minorgridcolor\": \"white\", \"startlinecolor\": \"#2a3f5f\"}, \"baxis\": {\"endlinecolor\": \"#2a3f5f\", \"gridcolor\": \"white\", \"linecolor\": \"white\", \"minorgridcolor\": \"white\", \"startlinecolor\": \"#2a3f5f\"}, \"type\": \"carpet\"}], \"choropleth\": [{\"colorbar\": {\"outlinewidth\": 0, \"ticks\": \"\"}, \"type\": \"choropleth\"}], \"contour\": [{\"colorbar\": {\"outlinewidth\": 0, \"ticks\": \"\"}, \"colorscale\": [[0.0, \"#0d0887\"], [0.1111111111111111, \"#46039f\"], [0.2222222222222222, \"#7201a8\"], [0.3333333333333333, \"#9c179e\"], [0.4444444444444444, \"#bd3786\"], [0.5555555555555556, \"#d8576b\"], [0.6666666666666666, \"#ed7953\"], [0.7777777777777778, \"#fb9f3a\"], [0.8888888888888888, \"#fdca26\"], [1.0, \"#f0f921\"]], \"type\": \"contour\"}], \"contourcarpet\": [{\"colorbar\": {\"outlinewidth\": 0, \"ticks\": \"\"}, \"type\": \"contourcarpet\"}], \"heatmap\": [{\"colorbar\": {\"outlinewidth\": 0, \"ticks\": \"\"}, \"colorscale\": [[0.0, \"#0d0887\"], [0.1111111111111111, \"#46039f\"], [0.2222222222222222, \"#7201a8\"], [0.3333333333333333, \"#9c179e\"], [0.4444444444444444, \"#bd3786\"], [0.5555555555555556, \"#d8576b\"], [0.6666666666666666, \"#ed7953\"], [0.7777777777777778, \"#fb9f3a\"], [0.8888888888888888, \"#fdca26\"], [1.0, \"#f0f921\"]], \"type\": \"heatmap\"}], \"heatmapgl\": [{\"colorbar\": {\"outlinewidth\": 0, \"ticks\": \"\"}, \"colorscale\": [[0.0, \"#0d0887\"], [0.1111111111111111, \"#46039f\"], [0.2222222222222222, \"#7201a8\"], [0.3333333333333333, \"#9c179e\"], [0.4444444444444444, \"#bd3786\"], [0.5555555555555556, \"#d8576b\"], [0.6666666666666666, \"#ed7953\"], [0.7777777777777778, \"#fb9f3a\"], [0.8888888888888888, \"#fdca26\"], [1.0, \"#f0f921\"]], \"type\": \"heatmapgl\"}], \"histogram\": [{\"marker\": {\"colorbar\": {\"outlinewidth\": 0, \"ticks\": \"\"}}, \"type\": \"histogram\"}], \"histogram2d\": [{\"colorbar\": {\"outlinewidth\": 0, \"ticks\": \"\"}, \"colorscale\": [[0.0, \"#0d0887\"], [0.1111111111111111, \"#46039f\"], [0.2222222222222222, \"#7201a8\"], [0.3333333333333333, \"#9c179e\"], [0.4444444444444444, \"#bd3786\"], [0.5555555555555556, \"#d8576b\"], [0.6666666666666666, \"#ed7953\"], [0.7777777777777778, \"#fb9f3a\"], [0.8888888888888888, \"#fdca26\"], [1.0, \"#f0f921\"]], \"type\": \"histogram2d\"}], \"histogram2dcontour\": [{\"colorbar\": {\"outlinewidth\": 0, \"ticks\": \"\"}, \"colorscale\": [[0.0, \"#0d0887\"], [0.1111111111111111, \"#46039f\"], [0.2222222222222222, \"#7201a8\"], [0.3333333333333333, \"#9c179e\"], [0.4444444444444444, \"#bd3786\"], [0.5555555555555556, \"#d8576b\"], [0.6666666666666666, \"#ed7953\"], [0.7777777777777778, \"#fb9f3a\"], [0.8888888888888888, \"#fdca26\"], [1.0, \"#f0f921\"]], \"type\": \"histogram2dcontour\"}], \"mesh3d\": [{\"colorbar\": {\"outlinewidth\": 0, \"ticks\": \"\"}, \"type\": \"mesh3d\"}], \"parcoords\": [{\"line\": {\"colorbar\": {\"outlinewidth\": 0, \"ticks\": \"\"}}, \"type\": \"parcoords\"}], \"pie\": [{\"automargin\": true, \"type\": \"pie\"}], \"scatter\": [{\"marker\": {\"colorbar\": {\"outlinewidth\": 0, \"ticks\": \"\"}}, \"type\": \"scatter\"}], \"scatter3d\": [{\"line\": {\"colorbar\": {\"outlinewidth\": 0, \"ticks\": \"\"}}, \"marker\": {\"colorbar\": {\"outlinewidth\": 0, \"ticks\": \"\"}}, \"type\": \"scatter3d\"}], \"scattercarpet\": [{\"marker\": {\"colorbar\": {\"outlinewidth\": 0, \"ticks\": \"\"}}, \"type\": \"scattercarpet\"}], \"scattergeo\": [{\"marker\": {\"colorbar\": {\"outlinewidth\": 0, \"ticks\": \"\"}}, \"type\": \"scattergeo\"}], \"scattergl\": [{\"marker\": {\"colorbar\": {\"outlinewidth\": 0, \"ticks\": \"\"}}, \"type\": \"scattergl\"}], \"scattermapbox\": [{\"marker\": {\"colorbar\": {\"outlinewidth\": 0, \"ticks\": \"\"}}, \"type\": \"scattermapbox\"}], \"scatterpolar\": [{\"marker\": {\"colorbar\": {\"outlinewidth\": 0, \"ticks\": \"\"}}, \"type\": \"scatterpolar\"}], \"scatterpolargl\": [{\"marker\": {\"colorbar\": {\"outlinewidth\": 0, \"ticks\": \"\"}}, \"type\": \"scatterpolargl\"}], \"scatterternary\": [{\"marker\": {\"colorbar\": {\"outlinewidth\": 0, \"ticks\": \"\"}}, \"type\": \"scatterternary\"}], \"surface\": [{\"colorbar\": {\"outlinewidth\": 0, \"ticks\": \"\"}, \"colorscale\": [[0.0, \"#0d0887\"], [0.1111111111111111, \"#46039f\"], [0.2222222222222222, \"#7201a8\"], [0.3333333333333333, \"#9c179e\"], [0.4444444444444444, \"#bd3786\"], [0.5555555555555556, \"#d8576b\"], [0.6666666666666666, \"#ed7953\"], [0.7777777777777778, \"#fb9f3a\"], [0.8888888888888888, \"#fdca26\"], [1.0, \"#f0f921\"]], \"type\": \"surface\"}], \"table\": [{\"cells\": {\"fill\": {\"color\": \"#EBF0F8\"}, \"line\": {\"color\": \"white\"}}, \"header\": {\"fill\": {\"color\": \"#C8D4E3\"}, \"line\": {\"color\": \"white\"}}, \"type\": \"table\"}]}, \"layout\": {\"annotationdefaults\": {\"arrowcolor\": \"#2a3f5f\", \"arrowhead\": 0, \"arrowwidth\": 1}, \"coloraxis\": {\"colorbar\": {\"outlinewidth\": 0, \"ticks\": \"\"}}, \"colorscale\": {\"diverging\": [[0, \"#8e0152\"], [0.1, \"#c51b7d\"], [0.2, \"#de77ae\"], [0.3, \"#f1b6da\"], [0.4, \"#fde0ef\"], [0.5, \"#f7f7f7\"], [0.6, \"#e6f5d0\"], [0.7, \"#b8e186\"], [0.8, \"#7fbc41\"], [0.9, \"#4d9221\"], [1, \"#276419\"]], \"sequential\": [[0.0, \"#0d0887\"], [0.1111111111111111, \"#46039f\"], [0.2222222222222222, \"#7201a8\"], [0.3333333333333333, \"#9c179e\"], [0.4444444444444444, \"#bd3786\"], [0.5555555555555556, \"#d8576b\"], [0.6666666666666666, \"#ed7953\"], [0.7777777777777778, \"#fb9f3a\"], [0.8888888888888888, \"#fdca26\"], [1.0, \"#f0f921\"]], \"sequentialminus\": [[0.0, \"#0d0887\"], [0.1111111111111111, \"#46039f\"], [0.2222222222222222, \"#7201a8\"], [0.3333333333333333, \"#9c179e\"], [0.4444444444444444, \"#bd3786\"], [0.5555555555555556, \"#d8576b\"], [0.6666666666666666, \"#ed7953\"], [0.7777777777777778, \"#fb9f3a\"], [0.8888888888888888, \"#fdca26\"], [1.0, \"#f0f921\"]]}, \"colorway\": [\"#636efa\", \"#EF553B\", \"#00cc96\", \"#ab63fa\", \"#FFA15A\", \"#19d3f3\", \"#FF6692\", \"#B6E880\", \"#FF97FF\", \"#FECB52\"], \"font\": {\"color\": \"#2a3f5f\"}, \"geo\": {\"bgcolor\": \"white\", \"lakecolor\": \"white\", \"landcolor\": \"#E5ECF6\", \"showlakes\": true, \"showland\": true, \"subunitcolor\": \"white\"}, \"hoverlabel\": {\"align\": \"left\"}, \"hovermode\": \"closest\", \"mapbox\": {\"style\": \"light\"}, \"paper_bgcolor\": \"white\", \"plot_bgcolor\": \"#E5ECF6\", \"polar\": {\"angularaxis\": {\"gridcolor\": \"white\", \"linecolor\": \"white\", \"ticks\": \"\"}, \"bgcolor\": \"#E5ECF6\", \"radialaxis\": {\"gridcolor\": \"white\", \"linecolor\": \"white\", \"ticks\": \"\"}}, \"scene\": {\"xaxis\": {\"backgroundcolor\": \"#E5ECF6\", \"gridcolor\": \"white\", \"gridwidth\": 2, \"linecolor\": \"white\", \"showbackground\": true, \"ticks\": \"\", \"zerolinecolor\": \"white\"}, \"yaxis\": {\"backgroundcolor\": \"#E5ECF6\", \"gridcolor\": \"white\", \"gridwidth\": 2, \"linecolor\": \"white\", \"showbackground\": true, \"ticks\": \"\", \"zerolinecolor\": \"white\"}, \"zaxis\": {\"backgroundcolor\": \"#E5ECF6\", \"gridcolor\": \"white\", \"gridwidth\": 2, \"linecolor\": \"white\", \"showbackground\": true, \"ticks\": \"\", \"zerolinecolor\": \"white\"}}, \"shapedefaults\": {\"line\": {\"color\": \"#2a3f5f\"}}, \"ternary\": {\"aaxis\": {\"gridcolor\": \"white\", \"linecolor\": \"white\", \"ticks\": \"\"}, \"baxis\": {\"gridcolor\": \"white\", \"linecolor\": \"white\", \"ticks\": \"\"}, \"bgcolor\": \"#E5ECF6\", \"caxis\": {\"gridcolor\": \"white\", \"linecolor\": \"white\", \"ticks\": \"\"}}, \"title\": {\"x\": 0.05}, \"xaxis\": {\"automargin\": true, \"gridcolor\": \"white\", \"linecolor\": \"white\", \"ticks\": \"\", \"title\": {\"standoff\": 15}, \"zerolinecolor\": \"white\", \"zerolinewidth\": 2}, \"yaxis\": {\"automargin\": true, \"gridcolor\": \"white\", \"linecolor\": \"white\", \"ticks\": \"\", \"title\": {\"standoff\": 15}, \"zerolinecolor\": \"white\", \"zerolinewidth\": 2}}}, \"title\": {\"text\": \"Standard RF\"}, \"xaxis\": {\"anchor\": \"y\", \"domain\": [0.0, 1.0], \"title\": {\"text\": \"true_label\"}}, \"yaxis\": {\"anchor\": \"x\", \"domain\": [0.0, 1.0], \"title\": {\"text\": \"pred_label\"}}},\n",
       "                        {\"responsive\": true}\n",
       "                    ).then(function(){\n",
       "                            \n",
       "var gd = document.getElementById('08f6a973-c079-4622-8068-22154702eef6');\n",
       "var x = new MutationObserver(function (mutations, observer) {{\n",
       "        var display = window.getComputedStyle(gd).display;\n",
       "        if (!display || display === 'none') {{\n",
       "            console.log([gd, 'removed!']);\n",
       "            Plotly.purge(gd);\n",
       "            observer.disconnect();\n",
       "        }}\n",
       "}});\n",
       "\n",
       "// Listen for the removal of the full notebook cells\n",
       "var notebookContainer = gd.closest('#notebook-container');\n",
       "if (notebookContainer) {{\n",
       "    x.observe(notebookContainer, {childList: true});\n",
       "}}\n",
       "\n",
       "// Listen for the clearing of the current output cell\n",
       "var outputEl = gd.closest('.output');\n",
       "if (outputEl) {{\n",
       "    x.observe(outputEl, {childList: true});\n",
       "}}\n",
       "\n",
       "                        })\n",
       "                };\n",
       "                });\n",
       "            </script>\n",
       "        </div>"
      ]
     },
     "metadata": {},
     "output_type": "display_data"
    }
   ],
   "source": [
    "fig = px.density_heatmap(gs_df, x='true_label', y='pred_label')\n",
    "fig.update_layout(title=dict(text='RF w/ GridSearchCV'))\n",
    "fig.show()\n",
    "\n",
    "fig = px.density_heatmap(rf_df, x='true_label', y='pred_label')\n",
    "fig.update_layout(title=dict(text='Standard RF'))\n",
    "fig.show()"
   ]
  },
  {
   "cell_type": "code",
   "execution_count": 145,
   "metadata": {
    "ExecuteTime": {
     "end_time": "2020-06-05T15:05:11.584847Z",
     "start_time": "2020-06-05T15:05:11.581271Z"
    }
   },
   "outputs": [],
   "source": [
    "y_cctv = np.where(df['source'] == 'CCTV', 1, 0)"
   ]
  },
  {
   "cell_type": "code",
   "execution_count": 146,
   "metadata": {
    "ExecuteTime": {
     "end_time": "2020-06-05T15:05:33.889394Z",
     "start_time": "2020-06-05T15:05:33.872723Z"
    }
   },
   "outputs": [],
   "source": [
    "X_train, X_test, y_train, y_test = train_test_split(X, y_cctv, test_size=0.2, random_state=123)"
   ]
  },
  {
   "cell_type": "code",
   "execution_count": 147,
   "metadata": {
    "ExecuteTime": {
     "end_time": "2020-06-05T15:06:01.609239Z",
     "start_time": "2020-06-05T15:06:01.391227Z"
    }
   },
   "outputs": [
    {
     "data": {
      "text/plain": [
       "RandomForestClassifier(bootstrap=True, ccp_alpha=0.0, class_weight=None,\n",
       "                       criterion='gini', max_depth=None, max_features='auto',\n",
       "                       max_leaf_nodes=None, max_samples=None,\n",
       "                       min_impurity_decrease=0.0, min_impurity_split=None,\n",
       "                       min_samples_leaf=1, min_samples_split=2,\n",
       "                       min_weight_fraction_leaf=0.0, n_estimators=100,\n",
       "                       n_jobs=None, oob_score=False, random_state=None,\n",
       "                       verbose=0, warm_start=False)"
      ]
     },
     "execution_count": 147,
     "metadata": {},
     "output_type": "execute_result"
    }
   ],
   "source": [
    "clf = RandomForestClassifier()\n",
    "clf.fit(X_train, y_train)"
   ]
  },
  {
   "cell_type": "code",
   "execution_count": 148,
   "metadata": {
    "ExecuteTime": {
     "end_time": "2020-06-05T15:06:16.040676Z",
     "start_time": "2020-06-05T15:06:15.999858Z"
    }
   },
   "outputs": [
    {
     "name": "stdout",
     "output_type": "stream",
     "text": [
      "F1 Score: 0.7631\n",
      "Accuracy: 0.8812\n",
      "Precision: 0.8036\n",
      "Recall: 0.7367\n",
      "--------------\n",
      "[[127   6]\n",
      " [ 13  14]]\n"
     ]
    }
   ],
   "source": [
    "get_scores(clf, X_test, y_test)\n",
    "preds = clf.predict(X_test)"
   ]
  },
  {
   "cell_type": "markdown",
   "metadata": {
    "ExecuteTime": {
     "end_time": "2020-06-04T22:26:51.073652Z",
     "start_time": "2020-06-04T22:26:50.850052Z"
    }
   },
   "source": [
    "### Notes:\n",
    "- RandomForest w/ GridSearchCV vs Standard RandomForest:\n",
    "    - Predicted 0 CNN articles\n",
    "    - Reduced Reuters articles misclassified as ABC\n",
    "    - Overall both fairly poor\n",
    "- Binary Classifier:\n",
    "    - CCTV vs. Not CCTV performed worse than multiclassification with respect to CCTV"
   ]
  },
  {
   "cell_type": "markdown",
   "metadata": {},
   "source": [
    "## One vs. Rest Classifier\n",
    "- Performance approximately the same as RF, RF w/GS"
   ]
  },
  {
   "cell_type": "code",
   "execution_count": 142,
   "metadata": {
    "ExecuteTime": {
     "end_time": "2020-06-05T14:59:49.095780Z",
     "start_time": "2020-06-05T14:59:49.008265Z"
    },
    "scrolled": true
   },
   "outputs": [
    {
     "name": "stdout",
     "output_type": "stream",
     "text": [
      "F1 Score: 0.4173\n",
      "Accuracy: 0.6375\n",
      "Precision: 0.5446\n",
      "Recall: 0.4235\n",
      "--------------\n",
      "[[ 6  1  0 20]\n",
      " [ 0 16  0 11]\n",
      " [ 0  2  0 13]\n",
      " [ 0 11  0 80]]\n"
     ]
    },
    {
     "name": "stderr",
     "output_type": "stream",
     "text": [
      "/Users/waynelam/opt/anaconda3/envs/redux_projects/lib/python3.8/site-packages/sklearn/metrics/_classification.py:1272: UndefinedMetricWarning:\n",
      "\n",
      "Precision is ill-defined and being set to 0.0 in labels with no predicted samples. Use `zero_division` parameter to control this behavior.\n",
      "\n"
     ]
    }
   ],
   "source": [
    "ovr = OneVsRestClassifier(SVC()).fit(X_train, y_train)\n",
    "get_scores(ovr, X_test, y_test)"
   ]
  },
  {
   "cell_type": "code",
   "execution_count": null,
   "metadata": {},
   "outputs": [],
   "source": []
  }
 ],
 "metadata": {
  "kernelspec": {
   "display_name": "redux_projects",
   "language": "python",
   "name": "redux_projects"
  },
  "language_info": {
   "codemirror_mode": {
    "name": "ipython",
    "version": 3
   },
   "file_extension": ".py",
   "mimetype": "text/x-python",
   "name": "python",
   "nbconvert_exporter": "python",
   "pygments_lexer": "ipython3",
   "version": "3.8.2"
  },
  "toc": {
   "base_numbering": 1,
   "nav_menu": {},
   "number_sections": true,
   "sideBar": true,
   "skip_h1_title": false,
   "title_cell": "Table of Contents",
   "title_sidebar": "Contents",
   "toc_cell": false,
   "toc_position": {},
   "toc_section_display": true,
   "toc_window_display": true
  }
 },
 "nbformat": 4,
 "nbformat_minor": 2
}
