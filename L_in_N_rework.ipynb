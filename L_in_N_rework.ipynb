{
 "cells": [
  {
   "cell_type": "markdown",
   "metadata": {},
   "source": [
    "# Topic Modeling and Sentiment Analysis Rework"
   ]
  },
  {
   "cell_type": "code",
   "execution_count": 1,
   "metadata": {
    "ExecuteTime": {
     "end_time": "2020-05-28T23:20:21.786637Z",
     "start_time": "2020-05-28T23:20:19.790226Z"
    }
   },
   "outputs": [],
   "source": [
    "import pandas as pd\n",
    "import pickle\n",
    "import gensim\n",
    "import matplotlib.pyplot as plt\n",
    "import pyLDAvis\n",
    "import pyLDAvis.gensim\n",
    "\n",
    "from pprint import pprint\n",
    "from gensim import corpora, models\n",
    "from gensim.models import CoherenceModel"
   ]
  },
  {
   "cell_type": "markdown",
   "metadata": {},
   "source": [
    "## Changes to the final project\n",
    "In the original \"the Language in News\" project dominant topic bias and  class imbalance possibly hindered potential insights.  In an attempt to improve topic coherence and clustering, various methods and changes will be employed, including:\n",
    "- Class imbalance will be dealt with by removing all South China Morning Post (SCMP) articles since it is the only local news source and produced various forms of bias in the data.\n",
    "- Certain features (i.e. sentiment scores of topics) will be scaled in order to help alleviate bias from dominant topics.\n",
    "- The entire articles will be used instead of the first 10 sentences.\n",
    "- Bigram model created across all articles instead of per article (incorrectly applied in the final project)."
   ]
  },
  {
   "cell_type": "markdown",
   "metadata": {},
   "source": [
    "## Additional cleaning of articles\n",
    "A script and functions were written to remove 'SCMP' articles, articles before the protests, unwanted articles.  A pickled DataFrame ```df_topic.p``` with additional preprocessing (tokenization, bigram creation, and lemmatization) is returned by running the ```prep_for_tm.py``` file."
   ]
  },
  {
   "cell_type": "code",
   "execution_count": 2,
   "metadata": {
    "ExecuteTime": {
     "end_time": "2020-05-28T23:20:26.721621Z",
     "start_time": "2020-05-28T23:20:26.654362Z"
    }
   },
   "outputs": [],
   "source": [
    "# %run 'prep_for_tm.py'\n",
    "\n",
    "f = open('df_topic.p', 'rb')\n",
    "df = pickle.load(f)\n",
    "f.close()"
   ]
  },
  {
   "cell_type": "code",
   "execution_count": 3,
   "metadata": {
    "ExecuteTime": {
     "end_time": "2020-05-28T23:20:29.137232Z",
     "start_time": "2020-05-28T23:20:29.094430Z"
    }
   },
   "outputs": [
    {
     "data": {
      "text/html": [
       "<div>\n",
       "<style scoped>\n",
       "    .dataframe tbody tr th:only-of-type {\n",
       "        vertical-align: middle;\n",
       "    }\n",
       "\n",
       "    .dataframe tbody tr th {\n",
       "        vertical-align: top;\n",
       "    }\n",
       "\n",
       "    .dataframe thead th {\n",
       "        text-align: right;\n",
       "    }\n",
       "</style>\n",
       "<table border=\"1\" class=\"dataframe\">\n",
       "  <thead>\n",
       "    <tr style=\"text-align: right;\">\n",
       "      <th></th>\n",
       "      <th>url</th>\n",
       "      <th>date</th>\n",
       "      <th>headline</th>\n",
       "      <th>body</th>\n",
       "      <th>source</th>\n",
       "      <th>sentences</th>\n",
       "      <th>sentence_tokens</th>\n",
       "      <th>word_tokens</th>\n",
       "      <th>headline_tokens</th>\n",
       "    </tr>\n",
       "  </thead>\n",
       "  <tbody>\n",
       "    <tr>\n",
       "      <th>0</th>\n",
       "      <td>https://www.reuters.com/article/idUSKBN21E11L</td>\n",
       "      <td>2020-03-27</td>\n",
       "      <td>Exclusive: Support for Hong Kong protesters' d...</td>\n",
       "      <td>Support for the demands of pro-democracy prote...</td>\n",
       "      <td>Reuters</td>\n",
       "      <td>[Support for the demands of pro-democracy prot...</td>\n",
       "      <td>[support demand protester hong_kong grow even ...</td>\n",
       "      <td>[support, demand, protester, hong_kong, grow, ...</td>\n",
       "      <td>[exclusive, support, protester, demand, rise, ...</td>\n",
       "    </tr>\n",
       "    <tr>\n",
       "      <th>1</th>\n",
       "      <td>https://www.reuters.com/article/idUSKBN21513Q</td>\n",
       "      <td>2020-03-18</td>\n",
       "      <td>Hong Kong rail operator ordered to release pol...</td>\n",
       "      <td>A Hong Kong court on Wednesday ordered rail op...</td>\n",
       "      <td>Reuters</td>\n",
       "      <td>[A Hong Kong court on Wednesday ordered rail o...</td>\n",
       "      <td>[order hand cctv_footage police operation prot...</td>\n",
       "      <td>[order, hand, cctv_footage, police, operation,...</td>\n",
       "      <td>[order, release, police, protest, footage]</td>\n",
       "    </tr>\n",
       "    <tr>\n",
       "      <th>2</th>\n",
       "      <td>https://www.reuters.com/article/idUSKBN2150JZ</td>\n",
       "      <td>2020-03-18</td>\n",
       "      <td>Exclusive: China's internal security force on ...</td>\n",
       "      <td>Officers from Chinas top internal security for...</td>\n",
       "      <td>Reuters</td>\n",
       "      <td>[Officers from Chinas top internal security fo...</td>\n",
       "      <td>[officer chinas_top internal force police join...</td>\n",
       "      <td>[officer, chinas_top, internal, force, police,...</td>\n",
       "      <td>[exclusive, frontline, protest]</td>\n",
       "    </tr>\n",
       "    <tr>\n",
       "      <th>3</th>\n",
       "      <td>https://www.reuters.com/article/idUSKBN20V0KN</td>\n",
       "      <td>2020-03-08</td>\n",
       "      <td>Hong Kong pro-democracy protesters hold vigil ...</td>\n",
       "      <td>Hundreds of black-clad Hong Kong protesters, h...</td>\n",
       "      <td>Reuters</td>\n",
       "      <td>[Hundreds of black-clad Hong Kong protesters, ...</td>\n",
       "      <td>[protester hold candle return parking lot stud...</td>\n",
       "      <td>[protester, hold, candle, return, parking, lot...</td>\n",
       "      <td>[protester, hold, death]</td>\n",
       "    </tr>\n",
       "    <tr>\n",
       "      <th>4</th>\n",
       "      <td>https://www.reuters.com/article/idUSL4N2AW1UI</td>\n",
       "      <td>2020-03-03</td>\n",
       "      <td>Robert Walters' pretax profit falls, warns of ...</td>\n",
       "      <td>British recruiting firm Robert Walters Plcs an...</td>\n",
       "      <td>Reuters</td>\n",
       "      <td>[British recruiting firm Robert Walters Plcs a...</td>\n",
       "      <td>[british recruit firm plcs annual pretax profi...</td>\n",
       "      <td>[british, recruit, firm, plcs, annual, pretax,...</td>\n",
       "      <td>[profit, fall, warn, likely, hit]</td>\n",
       "    </tr>\n",
       "  </tbody>\n",
       "</table>\n",
       "</div>"
      ],
      "text/plain": [
       "                                             url       date  \\\n",
       "0  https://www.reuters.com/article/idUSKBN21E11L 2020-03-27   \n",
       "1  https://www.reuters.com/article/idUSKBN21513Q 2020-03-18   \n",
       "2  https://www.reuters.com/article/idUSKBN2150JZ 2020-03-18   \n",
       "3  https://www.reuters.com/article/idUSKBN20V0KN 2020-03-08   \n",
       "4  https://www.reuters.com/article/idUSL4N2AW1UI 2020-03-03   \n",
       "\n",
       "                                            headline  \\\n",
       "0  Exclusive: Support for Hong Kong protesters' d...   \n",
       "1  Hong Kong rail operator ordered to release pol...   \n",
       "2  Exclusive: China's internal security force on ...   \n",
       "3  Hong Kong pro-democracy protesters hold vigil ...   \n",
       "4  Robert Walters' pretax profit falls, warns of ...   \n",
       "\n",
       "                                                body   source  \\\n",
       "0  Support for the demands of pro-democracy prote...  Reuters   \n",
       "1  A Hong Kong court on Wednesday ordered rail op...  Reuters   \n",
       "2  Officers from Chinas top internal security for...  Reuters   \n",
       "3  Hundreds of black-clad Hong Kong protesters, h...  Reuters   \n",
       "4  British recruiting firm Robert Walters Plcs an...  Reuters   \n",
       "\n",
       "                                           sentences  \\\n",
       "0  [Support for the demands of pro-democracy prot...   \n",
       "1  [A Hong Kong court on Wednesday ordered rail o...   \n",
       "2  [Officers from Chinas top internal security fo...   \n",
       "3  [Hundreds of black-clad Hong Kong protesters, ...   \n",
       "4  [British recruiting firm Robert Walters Plcs a...   \n",
       "\n",
       "                                     sentence_tokens  \\\n",
       "0  [support demand protester hong_kong grow even ...   \n",
       "1  [order hand cctv_footage police operation prot...   \n",
       "2  [officer chinas_top internal force police join...   \n",
       "3  [protester hold candle return parking lot stud...   \n",
       "4  [british recruit firm plcs annual pretax profi...   \n",
       "\n",
       "                                         word_tokens  \\\n",
       "0  [support, demand, protester, hong_kong, grow, ...   \n",
       "1  [order, hand, cctv_footage, police, operation,...   \n",
       "2  [officer, chinas_top, internal, force, police,...   \n",
       "3  [protester, hold, candle, return, parking, lot...   \n",
       "4  [british, recruit, firm, plcs, annual, pretax,...   \n",
       "\n",
       "                                     headline_tokens  \n",
       "0  [exclusive, support, protester, demand, rise, ...  \n",
       "1         [order, release, police, protest, footage]  \n",
       "2                    [exclusive, frontline, protest]  \n",
       "3                           [protester, hold, death]  \n",
       "4                  [profit, fall, warn, likely, hit]  "
      ]
     },
     "execution_count": 3,
     "metadata": {},
     "output_type": "execute_result"
    }
   ],
   "source": [
    "df.head()"
   ]
  },
  {
   "cell_type": "code",
   "execution_count": 4,
   "metadata": {
    "ExecuteTime": {
     "end_time": "2020-05-28T23:20:33.873914Z",
     "start_time": "2020-05-28T23:20:33.870065Z"
    }
   },
   "outputs": [],
   "source": [
    "data = df['word_tokens']\n",
    "data2 = df['headline_tokens']\n",
    "data3 = df['sentence_tokens']"
   ]
  },
  {
   "cell_type": "code",
   "execution_count": 83,
   "metadata": {
    "ExecuteTime": {
     "end_time": "2020-05-29T16:53:57.527765Z",
     "start_time": "2020-05-29T16:53:57.215541Z"
    }
   },
   "outputs": [],
   "source": [
    "id2word = corpora.Dictionary(data)\n",
    "id2word.filter_extremes(no_below=5, no_above=0.5, keep_n=10000)\n",
    "corpus = [ id2word.doc2bow(datum) for datum in data ]"
   ]
  },
  {
   "cell_type": "code",
   "execution_count": 84,
   "metadata": {
    "ExecuteTime": {
     "end_time": "2020-05-29T16:53:57.732015Z",
     "start_time": "2020-05-29T16:53:57.728173Z"
    }
   },
   "outputs": [
    {
     "name": "stdout",
     "output_type": "stream",
     "text": [
      "Dictionary(3774 unique tokens: ['ability', 'abuse', 'accept', 'accord', 'act']...)\n"
     ]
    }
   ],
   "source": [
    "print(id2word)"
   ]
  },
  {
   "cell_type": "code",
   "execution_count": 85,
   "metadata": {
    "ExecuteTime": {
     "end_time": "2020-05-29T16:53:58.985822Z",
     "start_time": "2020-05-29T16:53:58.982930Z"
    }
   },
   "outputs": [],
   "source": [
    "num_docs = len(data2)"
   ]
  },
  {
   "cell_type": "markdown",
   "metadata": {
    "ExecuteTime": {
     "end_time": "2020-05-28T17:50:02.715376Z",
     "start_time": "2020-05-28T17:50:02.654179Z"
    }
   },
   "source": [
    "## Topic modeling\n",
    "Modeled on the collection of articles with standard LDA and LDA Mallet.  The topic counts with the highest coherence values for LDA and LDA Mallet were 12 topics with a coherence value of 0.398 and 16 topics with a coherence value of 0.452, respectively.  However, there are local maxima with greater interpretability at 3 topics:  0.382 (LDA) and 0.435 (LDA Mallet)."
   ]
  },
  {
   "cell_type": "code",
   "execution_count": 95,
   "metadata": {
    "ExecuteTime": {
     "end_time": "2020-05-29T17:02:01.688803Z",
     "start_time": "2020-05-29T17:02:01.679464Z"
    }
   },
   "outputs": [],
   "source": [
    "mallet_path = '/Users/waynelam/Documents/DevStuff/mallet-2.0.8/bin/mallet'\n",
    "\n",
    "def compute_coherence_values(dictionary, corpus, texts, limit, num_docs=num_docs, start=2, step=3, mallet_path=None):\n",
    "    coherence_values = []\n",
    "    model_list = []\n",
    "    for num_topics in range(start, limit, step):\n",
    "        if mallet_path:\n",
    "            model = gensim.models.wrappers.LdaMallet(mallet_path,\n",
    "                                                     corpus=corpus,\n",
    "                                                     workers=6,\n",
    "                                                     id2word=dictionary,\n",
    "                                                     num_topics=num_topics)\n",
    "        else:\n",
    "            model = gensim.models.LdaMulticore(corpus=corpus,\n",
    "                                               id2word=dictionary,\n",
    "                                               workers=6,\n",
    "                                               num_topics=num_topics,\n",
    "                                               random_state=100,\n",
    "                                               chunksize=num_docs,\n",
    "                                               passes=10)\n",
    "            \n",
    "        model_list.append(model)\n",
    "        coherencemodel = CoherenceModel(model=model,\n",
    "                                        texts=texts,\n",
    "                                        dictionary=dictionary,\n",
    "                                        coherence='c_v')\n",
    "        coherence_values.append(coherencemodel.get_coherence())\n",
    "\n",
    "    return model_list, coherence_values"
   ]
  },
  {
   "cell_type": "code",
   "execution_count": 102,
   "metadata": {
    "ExecuteTime": {
     "end_time": "2020-05-29T17:13:34.308645Z",
     "start_time": "2020-05-29T17:13:34.305607Z"
    }
   },
   "outputs": [],
   "source": [
    "start, limit, step = 2, 21, 1"
   ]
  },
  {
   "cell_type": "code",
   "execution_count": 103,
   "metadata": {
    "ExecuteTime": {
     "end_time": "2020-05-29T17:25:39.586925Z",
     "start_time": "2020-05-29T17:13:34.761199Z"
    }
   },
   "outputs": [],
   "source": [
    "model_list, coherence_values = compute_coherence_values(id2word,\n",
    "                                                        corpus,\n",
    "                                                        data,\n",
    "                                                        start=start,\n",
    "                                                        limit=limit,\n",
    "                                                        step=step)"
   ]
  },
  {
   "cell_type": "code",
   "execution_count": 104,
   "metadata": {
    "ExecuteTime": {
     "end_time": "2020-05-29T17:25:39.806637Z",
     "start_time": "2020-05-29T17:25:39.589901Z"
    }
   },
   "outputs": [
    {
     "data": {
      "image/png": "[encoded data removed]",
      "text/plain": [
       "<Figure size 432x288 with 1 Axes>"
      ]
     },
     "metadata": {
      "needs_background": "light"
     },
     "output_type": "display_data"
    }
   ],
   "source": [
    "x = range(start, limit, step)\n",
    "plt.plot(x, coherence_values)\n",
    "plt.xlabel(\"Num Topics\")\n",
    "plt.ylabel(\"Coherence score\")\n",
    "plt.legend((\"coherence_values\"), loc='best')\n",
    "plt.show()"
   ]
  },
  {
   "cell_type": "code",
   "execution_count": 122,
   "metadata": {
    "ExecuteTime": {
     "end_time": "2020-05-29T18:14:33.949469Z",
     "start_time": "2020-05-29T18:13:59.709515Z"
    }
   },
   "outputs": [],
   "source": [
    "lda_model = gensim.models.LdaMulticore(corpus=corpus,\n",
    "                                       id2word=id2word,\n",
    "                                       workers=6,\n",
    "                                       num_topics=3,\n",
    "                                       minimum_probability=0.75,\n",
    "                                       random_state=100,\n",
    "                                       chunksize=num_docs,\n",
    "                                       passes=10)"
   ]
  },
  {
   "cell_type": "code",
   "execution_count": 123,
   "metadata": {
    "ExecuteTime": {
     "end_time": "2020-05-29T18:14:33.959307Z",
     "start_time": "2020-05-29T18:14:33.952832Z"
    }
   },
   "outputs": [
    {
     "name": "stdout",
     "output_type": "stream",
     "text": [
      "[(0,\n",
      "  '0.008*\"year\" + 0.008*\"market\" + 0.005*\"company\" + 0.005*\"fall\" + '\n",
      "  '0.005*\"trade\" + 0.004*\"share\" + 0.004*\"rise\" + 0.004*\"support\" + '\n",
      "  '0.004*\"investor\" + 0.004*\"business\"'),\n",
      " (1,\n",
      "  '0.025*\"police\" + 0.006*\"city\" + 0.006*\"violence\" + 0.006*\"use\" + '\n",
      "  '0.005*\"call\" + 0.005*\"student\" + 0.005*\"many\" + 0.005*\"see\" + '\n",
      "  '0.004*\"include\" + 0.004*\"demonstration\"'),\n",
      " (2,\n",
      "  '0.010*\"would\" + 0.005*\"call\" + 0.005*\"make\" + 0.005*\"include\" + '\n",
      "  '0.005*\"could\" + 0.005*\"take\" + 0.005*\"support\" + 0.004*\"political\" + '\n",
      "  '0.004*\"law\" + 0.004*\"police\"')]\n"
     ]
    }
   ],
   "source": [
    "pprint(lda_model.print_topics())"
   ]
  },
  {
   "cell_type": "code",
   "execution_count": 124,
   "metadata": {
    "ExecuteTime": {
     "end_time": "2020-05-29T18:14:39.211619Z",
     "start_time": "2020-05-29T18:14:33.962795Z"
    }
   },
   "outputs": [
    {
     "name": "stdout",
     "output_type": "stream",
     "text": [
      "\n",
      "Perplexity:  -7.46115643193931\n",
      "\n",
      "Coherence Score:  0.38181015988793937\n"
     ]
    }
   ],
   "source": [
    "print('\\nPerplexity: ', lda_model.log_perplexity(corpus))\n",
    "\n",
    "coherence_model_lda = CoherenceModel(model=lda_model, texts=data, dictionary=id2word, coherence='c_v')\n",
    "coherence_lda = coherence_model_lda.get_coherence()\n",
    "print('\\nCoherence Score: ', coherence_lda)"
   ]
  },
  {
   "cell_type": "code",
   "execution_count": 105,
   "metadata": {
    "ExecuteTime": {
     "end_time": "2020-05-29T17:40:06.632767Z",
     "start_time": "2020-05-29T17:25:39.809803Z"
    }
   },
   "outputs": [],
   "source": [
    "model_list, coherence_values = compute_coherence_values(id2word,\n",
    "                                                        corpus,\n",
    "                                                        data,\n",
    "                                                        start=start,\n",
    "                                                        limit=limit,\n",
    "                                                        step=step,\n",
    "                                                        mallet_path=mallet_path)"
   ]
  },
  {
   "cell_type": "code",
   "execution_count": 106,
   "metadata": {
    "ExecuteTime": {
     "end_time": "2020-05-29T17:40:06.841096Z",
     "start_time": "2020-05-29T17:40:06.635814Z"
    }
   },
   "outputs": [
    {
     "data": {
      "image/png": "[encoded data removed]",
      "text/plain": [
       "<Figure size 432x288 with 1 Axes>"
      ]
     },
     "metadata": {
      "needs_background": "light"
     },
     "output_type": "display_data"
    }
   ],
   "source": [
    "x = range(start, limit, step)\n",
    "plt.plot(x, coherence_values)\n",
    "plt.xlabel(\"Num Topics\")\n",
    "plt.ylabel(\"Coherence score\")\n",
    "plt.legend((\"coherence_values\"), loc='best')\n",
    "plt.show()"
   ]
  },
  {
   "cell_type": "code",
   "execution_count": 125,
   "metadata": {
    "ExecuteTime": {
     "end_time": "2020-05-29T18:15:17.609175Z",
     "start_time": "2020-05-29T18:14:39.214400Z"
    }
   },
   "outputs": [
    {
     "data": {
      "text/plain": [
       "[(0,\n",
       "  '0.015*\"year\" + 0.011*\"company\" + 0.010*\"business\" + 0.010*\"market\" + 0.008*\"month\" + 0.008*\"week\" + 0.007*\"time\" + 0.007*\"expect\" + 0.007*\"share\" + 0.007*\"fall\"'),\n",
       " (1,\n",
       "  '0.037*\"police\" + 0.014*\"city\" + 0.012*\"violence\" + 0.008*\"student\" + 0.008*\"demonstration\" + 0.008*\"call\" + 0.007*\"group\" + 0.007*\"arrest\" + 0.007*\"street\" + 0.007*\"activist\"'),\n",
       " (2,\n",
       "  '0.011*\"make\" + 0.011*\"support\" + 0.010*\"law\" + 0.007*\"political\" + 0.007*\"call\" + 0.007*\"include\" + 0.007*\"work\" + 0.007*\"official\" + 0.006*\"situation\" + 0.006*\"add\"')]"
      ]
     },
     "execution_count": 125,
     "metadata": {},
     "output_type": "execute_result"
    }
   ],
   "source": [
    "ldamallet = gensim.models.wrappers.LdaMallet(mallet_path,\n",
    "                                             corpus=corpus,\n",
    "                                             random_seed=100,\n",
    "                                             num_topics=3,\n",
    "                                             topic_threshold=0.75,\n",
    "                                             workers=6,\n",
    "                                             id2word=id2word)\n",
    "ldamallet.print_topics()"
   ]
  },
  {
   "cell_type": "code",
   "execution_count": 126,
   "metadata": {
    "ExecuteTime": {
     "end_time": "2020-05-29T18:15:20.698364Z",
     "start_time": "2020-05-29T18:15:17.611535Z"
    }
   },
   "outputs": [
    {
     "name": "stdout",
     "output_type": "stream",
     "text": [
      "\n",
      "Coherence Score:  0.4348141139316595\n"
     ]
    }
   ],
   "source": [
    "coherence_model_ldamallet = CoherenceModel(model=ldamallet,\n",
    "                                           texts=data,\n",
    "                                           dictionary=id2word,\n",
    "                                           coherence='c_v')\n",
    "coherence_ldamallet = coherence_model_ldamallet.get_coherence()\n",
    "print('\\nCoherence Score: ', coherence_ldamallet)"
   ]
  },
  {
   "cell_type": "code",
   "execution_count": null,
   "metadata": {
    "ExecuteTime": {
     "end_time": "2020-05-28T23:06:36.827631Z",
     "start_time": "2020-05-28T23:06:36.822614Z"
    }
   },
   "outputs": [],
   "source": [
    "mallet_model = gensim.models.wrappers.ldamallet.malletmodel2ldamodel(ldamallet)"
   ]
  },
  {
   "cell_type": "code",
   "execution_count": null,
   "metadata": {},
   "outputs": [],
   "source": []
  }
 ],
 "metadata": {
  "kernelspec": {
   "display_name": "redux_projects",
   "language": "python",
   "name": "redux_projects"
  },
  "language_info": {
   "codemirror_mode": {
    "name": "ipython",
    "version": 3
   },
   "file_extension": ".py",
   "mimetype": "text/x-python",
   "name": "python",
   "nbconvert_exporter": "python",
   "pygments_lexer": "ipython3",
   "version": "3.8.2"
  },
  "toc": {
   "base_numbering": 1,
   "nav_menu": {},
   "number_sections": true,
   "sideBar": true,
   "skip_h1_title": false,
   "title_cell": "Table of Contents",
   "title_sidebar": "Contents",
   "toc_cell": false,
   "toc_position": {},
   "toc_section_display": true,
   "toc_window_display": true
  }
 },
 "nbformat": 4,
 "nbformat_minor": 2
}
