{
 "cells": [
  {
   "cell_type": "markdown",
   "metadata": {},
   "source": [
    "# Topic Modeling and Sentiment Analysis Rework"
   ]
  },
  {
   "cell_type": "code",
   "execution_count": 189,
   "metadata": {
    "ExecuteTime": {
     "end_time": "2020-06-02T18:14:32.680524Z",
     "start_time": "2020-06-02T18:14:32.675602Z"
    }
   },
   "outputs": [],
   "source": [
    "import numpy as np\n",
    "import pandas as pd\n",
    "import pickle\n",
    "import gensim\n",
    "import matplotlib.pyplot as plt\n",
    "import plotly.express as px\n",
    "import plotly.graph_objects as go\n",
    "\n",
    "from plotly.subplots import make_subplots\n",
    "from textblob import TextBlob\n",
    "from pprint import pprint\n",
    "from gensim import corpora, models\n",
    "from gensim.models import CoherenceModel\n",
    "\n",
    "from topic_model import compute_coherence_values, plot_c_v, topics_in_doc"
   ]
  },
  {
   "cell_type": "markdown",
   "metadata": {},
   "source": [
    "## Changes to the final project\n",
    "In the original \"the Language in News\" project dominant topic bias and  class imbalance possibly hindered potential insights.  In an attempt to improve topic coherence and clustering, various methods and changes will be employed, including:\n",
    "- Class imbalance will be dealt with by removing all South China Morning Post (SCMP) articles since it is the only local news source and produced various forms of bias in the data.\n",
    "- Certain features (i.e. sentiment scores of topics) will be scaled in order to help alleviate bias from dominant topics.\n",
    "- The entire articles will be used instead of the first 10 sentences.\n",
    "- Bigram model created across all articles instead of per article (incorrectly applied in the final project)."
   ]
  },
  {
   "cell_type": "markdown",
   "metadata": {},
   "source": [
    "## Additional cleaning of articles\n",
    "A script and functions were written to remove 'SCMP' articles, articles before the protests, unwanted articles.  A pickled DataFrame ```df_topic.p``` with additional preprocessing (tokenization, bigram creation, and lemmatization) is returned by running the ```prep_for_tm.py``` file."
   ]
  },
  {
   "cell_type": "code",
   "execution_count": null,
   "metadata": {
    "ExecuteTime": {
     "end_time": "2020-05-29T22:02:42.640013Z",
     "start_time": "2020-05-29T22:02:42.575988Z"
    }
   },
   "outputs": [],
   "source": [
    "# %run 'prep_for_tm.py'\n",
    "\n",
    "f = open('df_topic.p', 'rb')\n",
    "df = pickle.load(f)\n",
    "f.close()"
   ]
  },
  {
   "cell_type": "code",
   "execution_count": null,
   "metadata": {
    "ExecuteTime": {
     "end_time": "2020-05-29T22:02:42.925111Z",
     "start_time": "2020-05-29T22:02:42.920057Z"
    }
   },
   "outputs": [],
   "source": [
    "# Text for topic modeling\n",
    "data = df['word_tokens']"
   ]
  },
  {
   "cell_type": "code",
   "execution_count": null,
   "metadata": {
    "ExecuteTime": {
     "end_time": "2020-05-29T22:02:43.655986Z",
     "start_time": "2020-05-29T22:02:43.329143Z"
    }
   },
   "outputs": [],
   "source": [
    "id2word = corpora.Dictionary(data)\n",
    "id2word.filter_extremes(no_below=5, no_above=0.5, keep_n=10000)\n",
    "corpus = [ id2word.doc2bow(datum) for datum in data ]"
   ]
  },
  {
   "cell_type": "code",
   "execution_count": null,
   "metadata": {
    "ExecuteTime": {
     "end_time": "2020-05-29T19:42:57.208811Z",
     "start_time": "2020-05-29T19:42:57.206348Z"
    }
   },
   "outputs": [],
   "source": [
    "num_docs = len(data)"
   ]
  },
  {
   "cell_type": "markdown",
   "metadata": {
    "ExecuteTime": {
     "end_time": "2020-05-28T17:50:02.715376Z",
     "start_time": "2020-05-28T17:50:02.654179Z"
    }
   },
   "source": [
    "## Topic modeling\n",
    "Modeled on the collection of articles with standard LDA and LDA Mallet.  There local maxima for LDA and LDA Mallet coherence values at 3 topics (0.388 and  0.455, respectively) that had far greater interpretability than the possible global maxima at 12 and 19 topics.  The topics for LDA and LDA Mallet were manually labeled as economic, protests, political and protests, political, economic.  Ultimately the LDA Mallet model was chosen for its higher coherence values and less vocabulary overlap between topics.\n",
    "\n",
    "Additionally, the original project tried to assign a topic to individual sentences, however, after looking at topic probabilities, the model had difficulty determining which topic was most probable (most topic probabilities by sentence were between 30-40%).  Whereas the model was more capable of finding a most probable topic (often >50% for certain articles) when evaluating an entire article.\n",
    "\n",
    "Headlines did not appear to have much subjectivity or polarity."
   ]
  },
  {
   "cell_type": "code",
   "execution_count": null,
   "metadata": {
    "ExecuteTime": {
     "end_time": "2020-05-29T19:43:01.476081Z",
     "start_time": "2020-05-29T19:43:01.473534Z"
    }
   },
   "outputs": [],
   "source": [
    "mallet_path = '/Users/waynelam/Documents/DevStuff/mallet-2.0.8/bin/mallet'"
   ]
  },
  {
   "cell_type": "code",
   "execution_count": null,
   "metadata": {
    "ExecuteTime": {
     "end_time": "2020-05-29T20:12:34.423027Z",
     "start_time": "2020-05-29T20:01:00.825118Z"
    }
   },
   "outputs": [],
   "source": [
    "start, limit, step = 3, 20, 1\n",
    "model_list, coherence_values = compute_coherence_values(id2word,\n",
    "                                                        corpus,\n",
    "                                                        data,\n",
    "                                                        start=start,\n",
    "                                                        limit=limit,\n",
    "                                                        step=step,\n",
    "                                                        num_docs=num_docs)"
   ]
  },
  {
   "cell_type": "code",
   "execution_count": null,
   "metadata": {
    "ExecuteTime": {
     "end_time": "2020-05-29T20:12:34.609246Z",
     "start_time": "2020-05-29T20:12:34.426205Z"
    }
   },
   "outputs": [],
   "source": [
    "x = range(start, limit, step)\n",
    "plot_c_v(x, coherence_values)"
   ]
  },
  {
   "cell_type": "code",
   "execution_count": null,
   "metadata": {
    "ExecuteTime": {
     "end_time": "2020-05-29T19:52:25.287175Z",
     "start_time": "2020-05-29T19:51:49.595646Z"
    }
   },
   "outputs": [],
   "source": [
    "lda_model = gensim.models.LdaMulticore(corpus=corpus,\n",
    "                                       id2word=id2word,\n",
    "                                       workers=6,\n",
    "                                       num_topics=3,\n",
    "                                       minimum_probability=0.75,\n",
    "                                       random_state=100,\n",
    "                                       chunksize=num_docs,\n",
    "                                       passes=10)"
   ]
  },
  {
   "cell_type": "code",
   "execution_count": null,
   "metadata": {
    "ExecuteTime": {
     "end_time": "2020-05-29T19:52:25.296421Z",
     "start_time": "2020-05-29T19:52:25.290674Z"
    }
   },
   "outputs": [],
   "source": [
    "pprint(lda_model.print_topics())"
   ]
  },
  {
   "cell_type": "code",
   "execution_count": null,
   "metadata": {
    "ExecuteTime": {
     "end_time": "2020-05-29T19:52:31.247877Z",
     "start_time": "2020-05-29T19:52:25.298654Z"
    }
   },
   "outputs": [],
   "source": [
    "print('\\nPerplexity: ', lda_model.log_perplexity(corpus))\n",
    "\n",
    "coherence_model_lda = CoherenceModel(model=lda_model, texts=data, dictionary=id2word, coherence='c_v')\n",
    "coherence_lda = coherence_model_lda.get_coherence()\n",
    "print('\\nCoherence Score: ', coherence_lda)"
   ]
  },
  {
   "cell_type": "code",
   "execution_count": null,
   "metadata": {
    "ExecuteTime": {
     "end_time": "2020-05-29T20:25:09.469560Z",
     "start_time": "2020-05-29T20:12:34.612215Z"
    }
   },
   "outputs": [],
   "source": [
    "start, limit, step = 3, 20, 1\n",
    "model_list, coherence_values = compute_coherence_values(id2word,\n",
    "                                                        corpus,\n",
    "                                                        data,\n",
    "                                                        start=start,\n",
    "                                                        limit=limit,\n",
    "                                                        step=step,\n",
    "                                                        num_docs=num_docs,\n",
    "                                                        mallet_path=mallet_path)"
   ]
  },
  {
   "cell_type": "code",
   "execution_count": null,
   "metadata": {
    "ExecuteTime": {
     "end_time": "2020-05-29T20:25:09.644213Z",
     "start_time": "2020-05-29T20:25:09.472170Z"
    }
   },
   "outputs": [],
   "source": [
    "x = range(start, limit, step)\n",
    "plot_c_v(x, coherence_values)"
   ]
  },
  {
   "cell_type": "code",
   "execution_count": null,
   "metadata": {
    "ExecuteTime": {
     "end_time": "2020-05-29T20:43:52.688107Z",
     "start_time": "2020-05-29T20:43:14.651169Z"
    }
   },
   "outputs": [],
   "source": [
    "ldamallet = gensim.models.wrappers.LdaMallet(mallet_path,\n",
    "                                             corpus=corpus,\n",
    "                                             random_seed=100,\n",
    "                                             num_topics=3,\n",
    "                                             topic_threshold=0.75,\n",
    "                                             workers=6,\n",
    "                                             id2word=id2word)\n",
    "ldamallet.print_topics()"
   ]
  },
  {
   "cell_type": "code",
   "execution_count": null,
   "metadata": {
    "ExecuteTime": {
     "end_time": "2020-05-29T20:43:56.587873Z",
     "start_time": "2020-05-29T20:43:52.691004Z"
    }
   },
   "outputs": [],
   "source": [
    "coherence_model_ldamallet = CoherenceModel(model=ldamallet,\n",
    "                                           texts=data,\n",
    "                                           dictionary=id2word,\n",
    "                                           coherence='c_v')\n",
    "coherence_ldamallet = coherence_model_ldamallet.get_coherence()\n",
    "print('\\nCoherence Score: ', coherence_ldamallet)"
   ]
  },
  {
   "cell_type": "code",
   "execution_count": null,
   "metadata": {
    "ExecuteTime": {
     "end_time": "2020-05-29T20:43:56.596660Z",
     "start_time": "2020-05-29T20:43:56.591078Z"
    }
   },
   "outputs": [],
   "source": [
    "mallet_model = gensim.models.wrappers.ldamallet.malletmodel2ldamodel(ldamallet)"
   ]
  },
  {
   "cell_type": "code",
   "execution_count": null,
   "metadata": {
    "ExecuteTime": {
     "end_time": "2020-05-29T20:43:56.622755Z",
     "start_time": "2020-05-29T20:43:56.616250Z"
    }
   },
   "outputs": [],
   "source": [
    "# file = open('mallet.p', 'wb')      \n",
    "# pickle.dump(mallet_model, file)\n",
    "# file.close()"
   ]
  },
  {
   "cell_type": "code",
   "execution_count": null,
   "metadata": {
    "ExecuteTime": {
     "end_time": "2020-05-29T21:57:22.015375Z",
     "start_time": "2020-05-29T21:57:22.005216Z"
    }
   },
   "outputs": [],
   "source": [
    "file = open('mallet.p', 'rb')\n",
    "mallet_model = pickle.load(file)\n",
    "file.close()"
   ]
  },
  {
   "cell_type": "code",
   "execution_count": null,
   "metadata": {
    "ExecuteTime": {
     "end_time": "2020-05-29T22:02:50.015970Z",
     "start_time": "2020-05-29T22:02:49.621299Z"
    },
    "scrolled": true
   },
   "outputs": [],
   "source": [
    "df['topics'] = df['word_tokens'].map(lambda x: topics_in_doc(x, id2word, mallet_model))"
   ]
  },
  {
   "cell_type": "code",
   "execution_count": null,
   "metadata": {
    "ExecuteTime": {
     "end_time": "2020-05-29T22:02:50.054203Z",
     "start_time": "2020-05-29T22:02:50.042244Z"
    }
   },
   "outputs": [],
   "source": [
    "# Map topic probabilities to individual features\n",
    "df['protest'] = df['topics'].map(lambda x: x[0][1])\n",
    "df['political'] = df['topics'].map(lambda x: x[1][1])\n",
    "df['economic'] = df['topics'].map(lambda x: x[2][1])"
   ]
  },
  {
   "cell_type": "code",
   "execution_count": null,
   "metadata": {
    "ExecuteTime": {
     "end_time": "2020-05-29T22:02:57.897879Z",
     "start_time": "2020-05-29T22:02:52.031524Z"
    }
   },
   "outputs": [],
   "source": [
    "# Map polarity and subjectivity to individual features\n",
    "df['polarity'] = df['body'].map(lambda x: TextBlob(x).sentiment[0])\n",
    "df['subjectivity'] = df['body'].map(lambda x: TextBlob(x).sentiment[1])"
   ]
  },
  {
   "cell_type": "code",
   "execution_count": null,
   "metadata": {
    "ExecuteTime": {
     "end_time": "2020-05-29T22:02:57.909274Z",
     "start_time": "2020-05-29T22:02:57.900261Z"
    }
   },
   "outputs": [],
   "source": [
    "df = df[['headline', 'body', 'url', 'date', 'source', 'protest', 'political', 'economic', 'polarity', 'subjectivity']]"
   ]
  },
  {
   "cell_type": "code",
   "execution_count": null,
   "metadata": {
    "ExecuteTime": {
     "end_time": "2020-05-29T22:25:43.496446Z",
     "start_time": "2020-05-29T22:25:43.449598Z"
    }
   },
   "outputs": [],
   "source": [
    "# file = open('df4cluster.p', 'wb')\n",
    "# pickle.dump(df, file)\n",
    "# file.close()"
   ]
  },
  {
   "cell_type": "markdown",
   "metadata": {},
   "source": [
    "## Topic and Sentiment EDA"
   ]
  },
  {
   "cell_type": "code",
   "execution_count": 175,
   "metadata": {
    "ExecuteTime": {
     "end_time": "2020-06-02T17:35:28.857734Z",
     "start_time": "2020-06-02T17:35:28.773542Z"
    }
   },
   "outputs": [],
   "source": [
    "file = open('df4cluster.p', 'rb')\n",
    "df = pickle.load(file)\n",
    "file.close()"
   ]
  },
  {
   "cell_type": "code",
   "execution_count": 176,
   "metadata": {
    "ExecuteTime": {
     "end_time": "2020-06-02T17:35:29.380688Z",
     "start_time": "2020-06-02T17:35:29.365510Z"
    }
   },
   "outputs": [],
   "source": [
    "df['polarity'] = abs(df['polarity'])"
   ]
  },
  {
   "cell_type": "code",
   "execution_count": 177,
   "metadata": {
    "ExecuteTime": {
     "end_time": "2020-06-02T17:35:30.097564Z",
     "start_time": "2020-06-02T17:35:30.085416Z"
    }
   },
   "outputs": [],
   "source": [
    "df['source'] = np.where(df['source'] == 'ABC (Australia)', 'ABC', df['source'])"
   ]
  },
  {
   "cell_type": "markdown",
   "metadata": {},
   "source": [
    "### Significant Events:\n",
    "- Major spikes in coverage, sentiment, and topic compositions appear to coincide with major events:\n",
    "    - Early July coincide with storming of Legislative Council\n",
    "    - Mid August coincide with more aggressive police tactics (beanbag rounds, increased tear gas, etc.)\n",
    "    - Mid October coincide with banning of facemasks and other regulations\n",
    "    - Mid November coincide with university seiges and increasing violence"
   ]
  },
  {
   "cell_type": "code",
   "execution_count": 190,
   "metadata": {
    "ExecuteTime": {
     "end_time": "2020-06-02T18:21:41.092510Z",
     "start_time": "2020-06-02T18:21:40.997865Z"
    }
   },
   "outputs": [
    {
     "data": {
      "application/vnd.plotly.v1+json": {
       "config": {
        "plotlyServerURL": "https://plot.ly"
       },
       "data": [
        {
         "alignmentgroup": "True",
         "bingroup": "x",
         "hovertemplate": "source=Reuters<br>date=%{x}<br>count=%{y}<extra></extra>",
         "legendgroup": "Reuters",
         "marker": {
          "color": "#636efa"
         },
         "name": "Reuters",
         "nbinsx": 293,
         "offsetgroup": "Reuters",
         "orientation": "v",
         "showlegend": true,
         "type": "histogram",
         "x": [
          "2020-03-27T00:00:00",
          "2020-03-18T00:00:00",
          "2020-03-18T00:00:00",
          "2020-03-08T00:00:00",
          "2020-03-03T00:00:00",
          "2020-02-29T00:00:00",
          "2020-02-28T00:00:00",
          "2020-02-21T00:00:00",
          "2020-02-18T00:00:00",
          "2020-02-17T00:00:00",
          "2020-02-16T00:00:00",
          "2020-02-15T00:00:00",
          "2020-01-29T00:00:00",
          "2020-01-24T00:00:00",
          "2020-01-23T00:00:00",
          "2020-01-21T00:00:00",
          "2020-01-21T00:00:00",
          "2020-01-20T00:00:00",
          "2020-01-20T00:00:00",
          "2020-01-16T00:00:00",
          "2020-01-12T00:00:00",
          "2020-01-10T00:00:00",
          "2020-01-10T00:00:00",
          "2020-01-10T00:00:00",
          "2020-01-05T00:00:00",
          "2020-01-08T00:00:00",
          "2020-01-07T00:00:00",
          "2020-01-07T00:00:00",
          "2020-01-05T00:00:00",
          "2020-01-04T00:00:00",
          "2020-01-02T00:00:00",
          "2020-01-02T00:00:00",
          "2020-01-02T00:00:00",
          "2019-12-31T00:00:00",
          "2019-12-31T00:00:00",
          "2019-12-23T00:00:00",
          "2019-12-22T00:00:00",
          "2019-12-22T00:00:00",
          "2019-12-21T00:00:00",
          "2019-12-20T00:00:00",
          "2019-12-20T00:00:00",
          "2019-12-19T00:00:00",
          "2019-12-19T00:00:00",
          "2019-12-13T00:00:00",
          "2019-12-13T00:00:00",
          "2019-12-12T00:00:00",
          "2019-12-12T00:00:00",
          "2019-12-12T00:00:00",
          "2019-12-12T00:00:00",
          "2019-12-10T00:00:00",
          "2019-12-10T00:00:00",
          "2019-12-09T00:00:00",
          "2019-12-06T00:00:00",
          "2019-12-05T00:00:00",
          "2019-12-04T00:00:00",
          "2019-12-04T00:00:00",
          "2019-12-04T00:00:00",
          "2019-12-02T00:00:00",
          "2019-12-03T00:00:00",
          "2019-12-02T00:00:00",
          "2019-12-02T00:00:00",
          "2019-12-02T00:00:00",
          "2019-11-29T00:00:00",
          "2019-11-29T00:00:00",
          "2019-11-29T00:00:00",
          "2019-11-29T00:00:00",
          "2019-11-29T00:00:00",
          "2019-11-29T00:00:00",
          "2019-11-29T00:00:00",
          "2019-11-29T00:00:00",
          "2019-11-29T00:00:00",
          "2019-11-28T00:00:00",
          "2019-11-28T00:00:00",
          "2019-11-28T00:00:00",
          "2019-11-28T00:00:00",
          "2019-11-28T00:00:00",
          "2019-11-28T00:00:00",
          "2019-11-28T00:00:00",
          "2019-11-27T00:00:00",
          "2019-11-28T00:00:00",
          "2019-11-28T00:00:00",
          "2019-11-28T00:00:00",
          "2019-11-28T00:00:00",
          "2019-11-28T00:00:00",
          "2019-11-28T00:00:00",
          "2019-11-26T00:00:00",
          "2019-11-25T00:00:00",
          "2019-11-26T00:00:00",
          "2019-11-22T00:00:00",
          "2019-11-23T00:00:00",
          "2019-11-22T00:00:00",
          "2019-11-23T00:00:00",
          "2019-11-22T00:00:00",
          "2019-11-22T00:00:00",
          "2019-11-22T00:00:00",
          "2019-11-22T00:00:00",
          "2019-11-21T00:00:00",
          "2019-11-20T00:00:00",
          "2019-11-20T00:00:00",
          "2019-11-20T00:00:00",
          "2019-11-19T00:00:00",
          "2019-11-19T00:00:00",
          "2019-11-19T00:00:00",
          "2019-11-17T00:00:00",
          "2019-11-18T00:00:00",
          "2019-11-18T00:00:00",
          "2019-11-16T00:00:00",
          "2019-11-16T00:00:00",
          "2019-11-16T00:00:00",
          "2019-11-15T00:00:00",
          "2019-11-15T00:00:00",
          "2019-11-14T00:00:00",
          "2019-11-14T00:00:00",
          "2019-11-14T00:00:00",
          "2019-11-13T00:00:00",
          "2019-11-13T00:00:00",
          "2019-11-13T00:00:00",
          "2019-11-13T00:00:00",
          "2019-11-13T00:00:00",
          "2019-11-13T00:00:00",
          "2019-11-11T00:00:00",
          "2019-11-11T00:00:00",
          "2019-11-11T00:00:00",
          "2019-11-11T00:00:00",
          "2019-11-11T00:00:00",
          "2019-11-11T00:00:00",
          "2019-11-11T00:00:00",
          "2019-11-10T00:00:00",
          "2019-11-09T00:00:00",
          "2019-11-09T00:00:00",
          "2019-11-08T00:00:00",
          "2019-11-07T00:00:00",
          "2019-11-06T00:00:00",
          "2019-11-05T00:00:00",
          "2019-11-05T00:00:00",
          "2019-11-04T00:00:00",
          "2019-11-02T00:00:00",
          "2019-11-01T00:00:00",
          "2019-11-01T00:00:00",
          "2019-11-01T00:00:00",
          "2019-10-31T00:00:00",
          "2019-10-30T00:00:00",
          "2019-10-29T00:00:00",
          "2019-10-28T00:00:00",
          "2019-10-28T00:00:00",
          "2019-10-28T00:00:00",
          "2019-10-27T00:00:00",
          "2019-10-27T00:00:00",
          "2019-10-25T00:00:00",
          "2019-10-24T00:00:00",
          "2019-10-25T00:00:00",
          "2019-10-24T00:00:00",
          "2019-10-25T00:00:00",
          "2019-10-25T00:00:00",
          "2019-10-25T00:00:00",
          "2019-10-25T00:00:00",
          "2019-10-24T00:00:00",
          "2019-10-24T00:00:00",
          "2019-10-24T00:00:00",
          "2019-10-22T00:00:00",
          "2019-10-23T00:00:00",
          "2019-10-22T00:00:00",
          "2019-10-23T00:00:00",
          "2019-10-18T00:00:00",
          "2019-10-18T00:00:00",
          "2019-10-21T00:00:00",
          "2019-10-20T00:00:00",
          "2019-10-19T00:00:00",
          "2019-10-18T00:00:00",
          "2019-10-18T00:00:00",
          "2019-10-18T00:00:00",
          "2019-10-18T00:00:00",
          "2019-10-18T00:00:00",
          "2019-10-18T00:00:00",
          "2019-10-18T00:00:00",
          "2019-10-18T00:00:00",
          "2019-10-16T00:00:00",
          "2019-10-16T00:00:00",
          "2019-10-16T00:00:00",
          "2019-10-15T00:00:00",
          "2019-10-15T00:00:00",
          "2019-10-14T00:00:00",
          "2019-10-14T00:00:00",
          "2019-10-14T00:00:00",
          "2019-10-13T00:00:00",
          "2019-10-13T00:00:00",
          "2019-10-13T00:00:00",
          "2019-10-12T00:00:00",
          "2019-10-12T00:00:00",
          "2019-10-12T00:00:00",
          "2019-10-11T00:00:00",
          "2019-10-11T00:00:00",
          "2019-10-11T00:00:00",
          "2019-10-11T00:00:00",
          "2019-10-11T00:00:00",
          "2019-10-11T00:00:00",
          "2019-10-09T00:00:00",
          "2019-10-10T00:00:00",
          "2019-10-10T00:00:00",
          "2019-10-10T00:00:00",
          "2019-10-10T00:00:00",
          "2019-10-09T00:00:00",
          "2019-10-10T00:00:00",
          "2019-10-10T00:00:00",
          "2019-10-10T00:00:00",
          "2019-10-09T00:00:00",
          "2019-10-08T00:00:00",
          "2019-10-08T00:00:00",
          "2019-10-07T00:00:00",
          "2019-10-06T00:00:00",
          "2019-10-09T00:00:00",
          "2019-10-08T00:00:00",
          "2019-10-08T00:00:00",
          "2019-10-08T00:00:00",
          "2019-10-08T00:00:00",
          "2019-10-08T00:00:00",
          "2019-10-07T00:00:00",
          "2019-10-07T00:00:00",
          "2019-10-07T00:00:00",
          "2019-10-07T00:00:00",
          "2019-10-06T00:00:00",
          "2019-10-05T00:00:00",
          "2019-10-05T00:00:00",
          "2019-10-04T00:00:00",
          "2019-10-04T00:00:00",
          "2019-10-03T00:00:00",
          "2019-10-03T00:00:00",
          "2019-10-03T00:00:00",
          "2019-10-02T00:00:00",
          "2019-10-02T00:00:00",
          "2019-10-02T00:00:00",
          "2019-10-01T00:00:00",
          "2019-10-02T00:00:00",
          "2019-10-01T00:00:00",
          "2019-10-01T00:00:00",
          "2019-09-30T00:00:00",
          "2019-09-29T00:00:00",
          "2019-09-29T00:00:00",
          "2019-09-29T00:00:00",
          "2019-09-28T00:00:00",
          "2019-09-28T00:00:00",
          "2019-09-28T00:00:00",
          "2019-09-27T00:00:00",
          "2019-09-26T00:00:00",
          "2019-09-26T00:00:00",
          "2019-09-25T00:00:00",
          "2019-09-25T00:00:00",
          "2019-09-24T00:00:00",
          "2019-09-25T00:00:00",
          "2019-09-24T00:00:00",
          "2019-09-22T00:00:00",
          "2019-09-21T00:00:00",
          "2019-09-21T00:00:00",
          "2019-09-18T00:00:00",
          "2019-09-18T00:00:00",
          "2019-09-15T00:00:00",
          "2019-09-15T00:00:00",
          "2019-09-13T00:00:00",
          "2019-09-13T00:00:00",
          "2019-09-12T00:00:00",
          "2019-09-12T00:00:00",
          "2019-09-12T00:00:00",
          "2019-09-11T00:00:00",
          "2019-09-11T00:00:00",
          "2019-09-11T00:00:00",
          "2019-09-11T00:00:00",
          "2019-09-10T00:00:00",
          "2019-09-10T00:00:00",
          "2019-09-09T00:00:00",
          "2019-09-09T00:00:00",
          "2019-09-09T00:00:00",
          "2019-09-09T00:00:00",
          "2019-09-09T00:00:00",
          "2019-09-08T00:00:00",
          "2019-09-08T00:00:00",
          "2019-09-07T00:00:00",
          "2019-09-07T00:00:00",
          "2019-09-07T00:00:00",
          "2019-09-07T00:00:00",
          "2019-09-05T00:00:00",
          "2019-09-05T00:00:00",
          "2019-09-05T00:00:00",
          "2019-09-04T00:00:00",
          "2019-09-04T00:00:00",
          "2019-09-03T00:00:00",
          "2019-09-03T00:00:00",
          "2019-09-02T00:00:00",
          "2019-09-03T00:00:00",
          "2019-09-02T00:00:00",
          "2019-09-03T00:00:00",
          "2019-09-02T00:00:00",
          "2019-09-02T00:00:00",
          "2019-09-01T00:00:00",
          "2019-09-01T00:00:00",
          "2019-08-30T00:00:00",
          "2019-08-30T00:00:00",
          "2019-08-29T00:00:00",
          "2019-08-28T00:00:00",
          "2019-08-28T00:00:00",
          "2019-08-28T00:00:00",
          "2019-08-28T00:00:00",
          "2019-08-27T00:00:00",
          "2019-08-27T00:00:00",
          "2019-08-27T00:00:00",
          "2019-08-24T00:00:00",
          "2019-08-26T00:00:00",
          "2019-08-25T00:00:00",
          "2019-08-23T00:00:00",
          "2019-08-23T00:00:00",
          "2019-08-22T00:00:00",
          "2019-08-23T00:00:00",
          "2019-08-23T00:00:00",
          "2019-08-22T00:00:00",
          "2019-08-21T00:00:00",
          "2019-08-21T00:00:00",
          "2019-08-21T00:00:00",
          "2019-08-20T00:00:00",
          "2019-08-20T00:00:00",
          "2019-08-19T00:00:00",
          "2019-08-19T00:00:00",
          "2019-08-19T00:00:00",
          "2019-08-18T00:00:00",
          "2019-08-19T00:00:00",
          "2019-08-18T00:00:00",
          "2019-08-17T00:00:00",
          "2019-08-17T00:00:00",
          "2019-08-16T00:00:00",
          "2019-08-16T00:00:00",
          "2019-08-16T00:00:00",
          "2019-08-16T00:00:00",
          "2019-08-16T00:00:00",
          "2019-08-16T00:00:00",
          "2019-08-16T00:00:00",
          "2019-08-16T00:00:00",
          "2019-08-15T00:00:00",
          "2019-08-15T00:00:00",
          "2019-08-15T00:00:00",
          "2019-08-15T00:00:00",
          "2019-08-14T00:00:00",
          "2019-08-14T00:00:00",
          "2019-08-14T00:00:00",
          "2019-08-14T00:00:00",
          "2019-08-14T00:00:00",
          "2019-08-13T00:00:00",
          "2019-08-14T00:00:00",
          "2019-08-13T00:00:00",
          "2019-08-13T00:00:00",
          "2019-08-13T00:00:00",
          "2019-08-13T00:00:00",
          "2019-08-13T00:00:00",
          "2019-08-12T00:00:00",
          "2019-08-13T00:00:00",
          "2019-08-13T00:00:00",
          "2019-08-13T00:00:00",
          "2019-08-13T00:00:00",
          "2019-08-13T00:00:00",
          "2019-08-13T00:00:00",
          "2019-08-13T00:00:00",
          "2019-08-12T00:00:00",
          "2019-08-12T00:00:00",
          "2019-08-12T00:00:00",
          "2019-08-12T00:00:00",
          "2019-08-12T00:00:00",
          "2019-08-11T00:00:00",
          "2019-08-10T00:00:00",
          "2019-08-09T00:00:00",
          "2019-08-09T00:00:00",
          "2019-08-09T00:00:00",
          "2019-08-07T00:00:00",
          "2019-08-08T00:00:00",
          "2019-08-07T00:00:00",
          "2019-08-07T00:00:00",
          "2019-08-07T00:00:00",
          "2019-08-06T00:00:00",
          "2019-08-06T00:00:00",
          "2019-08-06T00:00:00",
          "2019-08-05T00:00:00",
          "2019-08-02T00:00:00",
          "2019-08-02T00:00:00",
          "2019-08-01T00:00:00",
          "2019-07-30T00:00:00",
          "2019-07-30T00:00:00",
          "2019-07-30T00:00:00",
          "2019-07-30T00:00:00",
          "2019-07-29T00:00:00",
          "2019-07-28T00:00:00",
          "2019-07-27T00:00:00",
          "2019-07-23T00:00:00",
          "2019-07-22T00:00:00",
          "2019-07-22T00:00:00",
          "2019-07-18T00:00:00",
          "2019-07-18T00:00:00",
          "2019-07-18T00:00:00",
          "2019-07-18T00:00:00",
          "2019-07-14T00:00:00",
          "2019-07-14T00:00:00",
          "2019-07-13T00:00:00",
          "2019-07-11T00:00:00",
          "2019-07-11T00:00:00",
          "2019-07-10T00:00:00",
          "2019-07-07T00:00:00",
          "2019-07-07T00:00:00",
          "2019-07-07T00:00:00",
          "2019-07-04T00:00:00",
          "2019-07-03T00:00:00",
          "2019-07-03T00:00:00",
          "2019-07-02T00:00:00",
          "2019-07-03T00:00:00",
          "2019-07-02T00:00:00",
          "2019-07-02T00:00:00",
          "2019-07-01T00:00:00",
          "2019-07-01T00:00:00",
          "2019-07-01T00:00:00",
          "2019-06-26T00:00:00",
          "2019-06-25T00:00:00",
          "2019-06-25T00:00:00",
          "2019-06-22T00:00:00",
          "2019-06-21T00:00:00",
          "2019-06-18T00:00:00",
          "2019-06-19T00:00:00",
          "2019-06-18T00:00:00",
          "2019-06-17T00:00:00",
          "2019-06-17T00:00:00",
          "2019-06-12T00:00:00",
          "2019-06-14T00:00:00",
          "2019-06-12T00:00:00",
          "2019-06-13T00:00:00",
          "2019-06-12T00:00:00",
          "2019-06-12T00:00:00",
          "2019-06-12T00:00:00",
          "2019-06-12T00:00:00",
          "2019-06-11T00:00:00",
          "2019-06-09T00:00:00",
          "2019-06-08T00:00:00"
         ],
         "xaxis": "x",
         "yaxis": "y"
        },
        {
         "alignmentgroup": "True",
         "bingroup": "x",
         "hovertemplate": "source=CCTV<br>date=%{x}<br>count=%{y}<extra></extra>",
         "legendgroup": "CCTV",
         "marker": {
          "color": "#EF553B"
         },
         "name": "CCTV",
         "nbinsx": 293,
         "offsetgroup": "CCTV",
         "orientation": "v",
         "showlegend": true,
         "type": "histogram",
         "x": [
          "2019-08-26T00:00:00",
          "2019-08-13T00:00:00",
          "2019-11-18T00:00:00",
          "2019-10-04T00:00:00",
          "2019-10-21T00:00:00",
          "2019-10-17T00:00:00",
          "2019-09-27T00:00:00",
          "2019-08-13T00:00:00",
          "2020-01-01T00:00:00",
          "2019-11-26T00:00:00",
          "2019-11-14T00:00:00",
          "2019-11-13T00:00:00",
          "2019-10-23T00:00:00",
          "2019-10-16T00:00:00",
          "2019-09-02T00:00:00",
          "2019-08-09T00:00:00",
          "2019-12-24T00:00:00",
          "2019-12-05T00:00:00",
          "2019-12-03T00:00:00",
          "2019-12-02T00:00:00",
          "2019-12-02T00:00:00",
          "2019-11-19T00:00:00",
          "2019-10-27T00:00:00",
          "2019-09-03T00:00:00",
          "2019-08-23T00:00:00",
          "2019-08-16T00:00:00",
          "2019-08-06T00:00:00",
          "2019-08-05T00:00:00",
          "2019-07-24T00:00:00",
          "2019-12-04T00:00:00",
          "2019-11-26T00:00:00",
          "2019-11-22T00:00:00",
          "2019-11-20T00:00:00",
          "2019-11-20T00:00:00",
          "2019-11-16T00:00:00",
          "2019-11-11T00:00:00",
          "2019-10-07T00:00:00",
          "2020-01-02T00:00:00",
          "2019-11-08T00:00:00",
          "2019-09-15T00:00:00",
          "2019-09-05T00:00:00",
          "2019-09-04T00:00:00",
          "2019-09-02T00:00:00",
          "2019-08-28T00:00:00",
          "2019-08-27T00:00:00",
          "2019-08-24T00:00:00",
          "2019-08-22T00:00:00",
          "2019-08-21T00:00:00",
          "2019-08-17T00:00:00",
          "2019-08-15T00:00:00",
          "2019-08-13T00:00:00",
          "2019-08-13T00:00:00",
          "2019-08-10T00:00:00",
          "2019-08-10T00:00:00",
          "2019-08-03T00:00:00",
          "2019-07-21T00:00:00",
          "2019-07-08T00:00:00",
          "2019-07-04T00:00:00",
          "2019-07-03T00:00:00",
          "2020-02-20T00:00:00",
          "2019-11-27T00:00:00",
          "2019-11-20T00:00:00",
          "2019-09-28T00:00:00",
          "2019-09-20T00:00:00",
          "2019-09-02T00:00:00",
          "2019-08-30T00:00:00",
          "2019-08-28T00:00:00",
          "2019-08-14T00:00:00",
          "2019-08-11T00:00:00",
          "2019-08-04T00:00:00",
          "2019-07-31T00:00:00",
          "2020-03-01T00:00:00",
          "2019-10-17T00:00:00",
          "2019-09-21T00:00:00",
          "2019-09-12T00:00:00",
          "2019-08-30T00:00:00",
          "2019-08-27T00:00:00",
          "2019-08-18T00:00:00",
          "2019-08-15T00:00:00",
          "2019-08-09T00:00:00",
          "2019-08-06T00:00:00",
          "2019-08-05T00:00:00",
          "2019-08-04T00:00:00",
          "2019-07-30T00:00:00",
          "2019-07-05T00:00:00",
          "2019-09-26T00:00:00",
          "2019-08-20T00:00:00",
          "2019-08-16T00:00:00",
          "2019-08-15T00:00:00",
          "2019-08-08T00:00:00",
          "2019-08-04T00:00:00",
          "2019-08-01T00:00:00",
          "2019-11-13T00:00:00",
          "2019-11-21T00:00:00",
          "2019-11-12T00:00:00",
          "2020-01-10T00:00:00",
          "2019-11-29T00:00:00",
          "2019-11-21T00:00:00",
          "2019-11-26T00:00:00",
          "2019-08-09T00:00:00",
          "2019-11-21T00:00:00",
          "2019-11-14T00:00:00",
          "2019-10-26T00:00:00",
          "2020-01-06T00:00:00",
          "2019-11-15T00:00:00",
          "2019-12-17T00:00:00",
          "2019-08-14T00:00:00",
          "2019-11-05T00:00:00",
          "2019-11-20T00:00:00",
          "2019-12-17T00:00:00",
          "2019-11-28T00:00:00",
          "2019-09-01T00:00:00",
          "2019-10-24T00:00:00",
          "2019-08-05T00:00:00",
          "2019-11-19T00:00:00",
          "2019-07-03T00:00:00",
          "2019-12-06T00:00:00",
          "2019-07-03T00:00:00",
          "2019-08-15T00:00:00",
          "2019-08-19T00:00:00",
          "2019-07-19T00:00:00",
          "2019-09-11T00:00:00",
          "2019-10-22T00:00:00",
          "2019-09-01T00:00:00",
          "2019-12-20T00:00:00",
          "2019-08-03T00:00:00",
          "2019-07-29T00:00:00",
          "2019-08-06T00:00:00",
          "2019-12-01T00:00:00",
          "2019-12-22T00:00:00",
          "2019-08-19T00:00:00",
          "2020-01-01T00:00:00",
          "2019-10-08T00:00:00",
          "2019-11-26T00:00:00",
          "2019-08-16T00:00:00",
          "2019-07-31T00:00:00",
          "2019-08-19T00:00:00",
          "2019-09-10T00:00:00",
          "2019-08-07T00:00:00",
          "2020-01-02T00:00:00",
          "2019-08-25T00:00:00",
          "2019-07-22T00:00:00",
          "2019-09-05T00:00:00",
          "2019-12-06T00:00:00",
          "2020-01-03T00:00:00",
          "2019-10-26T00:00:00",
          "2019-06-16T00:00:00",
          "2019-08-10T00:00:00",
          "2019-12-31T00:00:00",
          "2019-12-13T00:00:00",
          "2019-07-02T00:00:00",
          "2019-08-15T00:00:00",
          "2019-12-06T00:00:00",
          "2019-08-16T00:00:00",
          "2019-07-29T00:00:00",
          "2019-07-11T00:00:00",
          "2019-08-04T00:00:00",
          "2019-08-09T00:00:00",
          "2019-08-21T00:00:00",
          "2019-10-06T00:00:00",
          "2019-09-17T00:00:00",
          "2019-10-28T00:00:00",
          "2019-07-01T00:00:00",
          "2019-12-08T00:00:00",
          "2019-12-16T00:00:00",
          "2019-10-10T00:00:00",
          "2019-07-23T00:00:00",
          "2019-08-11T00:00:00",
          "2019-12-27T00:00:00",
          "2019-12-19T00:00:00",
          "2019-10-07T00:00:00",
          "2019-07-27T00:00:00",
          "2019-12-26T00:00:00",
          "2019-10-10T00:00:00",
          "2019-09-03T00:00:00",
          "2019-08-14T00:00:00",
          "2019-08-25T00:00:00",
          "2019-09-29T00:00:00",
          "2020-01-14T00:00:00",
          "2019-08-26T00:00:00",
          "2019-09-04T00:00:00",
          "2019-08-07T00:00:00"
         ],
         "xaxis": "x",
         "yaxis": "y"
        },
        {
         "alignmentgroup": "True",
         "bingroup": "x",
         "hovertemplate": "source=ABC<br>date=%{x}<br>count=%{y}<extra></extra>",
         "legendgroup": "ABC",
         "marker": {
          "color": "#00cc96"
         },
         "name": "ABC",
         "nbinsx": 293,
         "offsetgroup": "ABC",
         "orientation": "v",
         "showlegend": true,
         "type": "histogram",
         "x": [
          "2020-03-06T00:00:00",
          "2020-02-29T00:00:00",
          "2020-02-27T00:00:00",
          "2019-12-12T00:00:00",
          "2019-12-09T00:00:00",
          "2019-12-07T00:00:00",
          "2019-12-02T00:00:00",
          "2019-11-13T00:00:00",
          "2019-11-13T00:00:00",
          "2019-11-12T00:00:00",
          "2019-11-11T00:00:00",
          "2019-11-09T00:00:00",
          "2019-11-05T00:00:00",
          "2019-11-02T00:00:00",
          "2019-10-29T00:00:00",
          "2019-10-29T00:00:00",
          "2019-10-24T00:00:00",
          "2019-10-23T00:00:00",
          "2019-10-21T00:00:00",
          "2019-10-16T00:00:00",
          "2019-10-15T00:00:00",
          "2019-10-14T00:00:00",
          "2019-10-11T00:00:00",
          "2019-10-08T00:00:00",
          "2019-10-05T00:00:00",
          "2019-10-05T00:00:00",
          "2019-10-04T00:00:00",
          "2019-10-02T00:00:00",
          "2019-10-01T00:00:00",
          "2019-09-30T00:00:00",
          "2019-09-17T00:00:00",
          "2019-09-16T00:00:00",
          "2019-09-16T00:00:00",
          "2019-09-09T00:00:00",
          "2019-09-06T00:00:00",
          "2019-09-05T00:00:00",
          "2019-09-05T00:00:00",
          "2019-09-05T00:00:00",
          "2019-09-03T00:00:00",
          "2019-09-03T00:00:00",
          "2019-09-03T00:00:00",
          "2019-09-02T00:00:00",
          "2019-09-01T00:00:00",
          "2019-09-01T00:00:00",
          "2019-08-29T00:00:00",
          "2019-08-26T00:00:00",
          "2019-08-25T00:00:00",
          "2019-08-26T00:00:00",
          "2019-08-24T00:00:00",
          "2019-08-26T00:00:00",
          "2019-08-23T00:00:00",
          "2019-08-20T00:00:00",
          "2019-08-20T00:00:00",
          "2019-08-17T00:00:00",
          "2019-08-16T00:00:00",
          "2019-08-16T00:00:00",
          "2019-08-16T00:00:00",
          "2019-08-16T00:00:00",
          "2019-08-16T00:00:00",
          "2019-09-02T00:00:00",
          "2019-08-14T00:00:00",
          "2019-08-13T00:00:00",
          "2019-08-13T00:00:00",
          "2019-08-14T00:00:00",
          "2019-08-13T00:00:00",
          "2019-08-12T00:00:00",
          "2019-08-12T00:00:00",
          "2019-08-11T00:00:00",
          "2019-08-10T00:00:00",
          "2019-08-12T00:00:00",
          "2019-08-10T00:00:00",
          "2019-08-08T00:00:00",
          "2019-08-07T00:00:00",
          "2019-08-05T00:00:00",
          "2019-08-05T00:00:00",
          "2019-08-03T00:00:00",
          "2019-08-01T00:00:00",
          "2019-07-27T00:00:00",
          "2019-07-25T00:00:00",
          "2019-07-25T00:00:00",
          "2019-07-15T00:00:00",
          "2019-07-09T00:00:00",
          "2019-07-06T00:00:00",
          "2019-07-04T00:00:00",
          "2019-07-04T00:00:00",
          "2019-07-02T00:00:00",
          "2019-07-02T00:00:00",
          "2019-07-01T00:00:00",
          "2019-07-01T00:00:00",
          "2019-06-23T00:00:00",
          "2019-06-19T00:00:00",
          "2019-06-17T00:00:00",
          "2019-06-17T00:00:00",
          "2019-06-17T00:00:00",
          "2019-06-17T00:00:00",
          "2019-06-17T00:00:00",
          "2019-06-13T00:00:00",
          "2019-06-13T00:00:00",
          "2019-06-13T00:00:00",
          "2019-06-12T00:00:00",
          "2019-06-10T00:00:00",
          "2019-06-10T00:00:00"
         ],
         "xaxis": "x",
         "yaxis": "y"
        },
        {
         "alignmentgroup": "True",
         "bingroup": "x",
         "hovertemplate": "source=CNN<br>date=%{x}<br>count=%{y}<extra></extra>",
         "legendgroup": "CNN",
         "marker": {
          "color": "#ab63fa"
         },
         "name": "CNN",
         "nbinsx": 293,
         "offsetgroup": "CNN",
         "orientation": "v",
         "showlegend": true,
         "type": "histogram",
         "x": [
          "2020-03-11T00:00:00",
          "2020-03-06T00:00:00",
          "2020-01-12T00:00:00",
          "2020-01-10T00:00:00",
          "2020-01-02T00:00:00",
          "2019-12-27T00:00:00",
          "2019-12-20T00:00:00",
          "2019-12-20T00:00:00",
          "2019-12-17T00:00:00",
          "2019-12-11T00:00:00",
          "2019-12-02T00:00:00",
          "2019-11-30T00:00:00",
          "2019-11-29T00:00:00",
          "2019-11-21T00:00:00",
          "2019-11-20T00:00:00",
          "2019-11-14T00:00:00",
          "2019-11-08T00:00:00",
          "2019-11-02T00:00:00",
          "2019-11-01T00:00:00",
          "2019-10-29T00:00:00",
          "2019-10-25T00:00:00",
          "2019-10-23T00:00:00",
          "2019-10-21T00:00:00",
          "2019-10-16T00:00:00",
          "2019-10-16T00:00:00",
          "2019-10-15T00:00:00",
          "2019-10-12T00:00:00",
          "2019-10-12T00:00:00",
          "2019-10-12T00:00:00",
          "2019-10-11T00:00:00",
          "2019-10-11T00:00:00",
          "2019-10-10T00:00:00",
          "2019-10-10T00:00:00",
          "2019-10-10T00:00:00",
          "2019-10-10T00:00:00",
          "2019-10-09T00:00:00",
          "2019-10-09T00:00:00",
          "2019-10-02T00:00:00",
          "2019-09-30T00:00:00",
          "2019-09-20T00:00:00",
          "2019-09-18T00:00:00",
          "2019-09-18T00:00:00",
          "2019-09-12T00:00:00",
          "2019-09-10T00:00:00",
          "2019-09-09T00:00:00",
          "2019-09-08T00:00:00",
          "2019-09-05T00:00:00",
          "2019-09-05T00:00:00",
          "2019-08-28T00:00:00",
          "2019-08-26T00:00:00",
          "2019-08-20T00:00:00",
          "2019-08-19T00:00:00",
          "2019-08-19T00:00:00",
          "2019-08-16T00:00:00",
          "2019-08-16T00:00:00",
          "2019-08-16T00:00:00",
          "2019-08-15T00:00:00",
          "2019-08-13T00:00:00",
          "2019-08-13T00:00:00",
          "2019-08-12T00:00:00",
          "2019-08-11T00:00:00",
          "2019-08-08T00:00:00",
          "2019-08-04T00:00:00",
          "2019-08-01T00:00:00",
          "2019-07-31T00:00:00",
          "2019-07-31T00:00:00",
          "2019-07-29T00:00:00",
          "2019-07-22T00:00:00",
          "2019-07-22T00:00:00",
          "2019-07-15T00:00:00",
          "2019-07-08T00:00:00",
          "2019-07-04T00:00:00",
          "2019-07-02T00:00:00",
          "2019-06-30T00:00:00",
          "2019-06-27T00:00:00",
          "2019-06-24T00:00:00",
          "2019-06-20T00:00:00",
          "2019-06-17T00:00:00",
          "2019-06-17T00:00:00",
          "2019-06-13T00:00:00",
          "2019-06-13T00:00:00"
         ],
         "xaxis": "x",
         "yaxis": "y"
        }
       ],
       "layout": {
        "barmode": "relative",
        "legend": {
         "title": {
          "text": "source"
         },
         "tracegroupgap": 0
        },
        "margin": {
         "t": 60
        },
        "template": {
         "data": {
          "bar": [
           {
            "error_x": {
             "color": "#2a3f5f"
            },
            "error_y": {
             "color": "#2a3f5f"
            },
            "marker": {
             "line": {
              "color": "#E5ECF6",
              "width": 0.5
             }
            },
            "type": "bar"
           }
          ],
          "barpolar": [
           {
            "marker": {
             "line": {
              "color": "#E5ECF6",
              "width": 0.5
             }
            },
            "type": "barpolar"
           }
          ],
          "carpet": [
           {
            "aaxis": {
             "endlinecolor": "#2a3f5f",
             "gridcolor": "white",
             "linecolor": "white",
             "minorgridcolor": "white",
             "startlinecolor": "#2a3f5f"
            },
            "baxis": {
             "endlinecolor": "#2a3f5f",
             "gridcolor": "white",
             "linecolor": "white",
             "minorgridcolor": "white",
             "startlinecolor": "#2a3f5f"
            },
            "type": "carpet"
           }
          ],
          "choropleth": [
           {
            "colorbar": {
             "outlinewidth": 0,
             "ticks": ""
            },
            "type": "choropleth"
           }
          ],
          "contour": [
           {
            "colorbar": {
             "outlinewidth": 0,
             "ticks": ""
            },
            "colorscale": [
             [
              0,
              "#0d0887"
             ],
             [
              0.1111111111111111,
              "#46039f"
             ],
             [
              0.2222222222222222,
              "#7201a8"
             ],
             [
              0.3333333333333333,
              "#9c179e"
             ],
             [
              0.4444444444444444,
              "#bd3786"
             ],
             [
              0.5555555555555556,
              "#d8576b"
             ],
             [
              0.6666666666666666,
              "#ed7953"
             ],
             [
              0.7777777777777778,
              "#fb9f3a"
             ],
             [
              0.8888888888888888,
              "#fdca26"
             ],
             [
              1,
              "#f0f921"
             ]
            ],
            "type": "contour"
           }
          ],
          "contourcarpet": [
           {
            "colorbar": {
             "outlinewidth": 0,
             "ticks": ""
            },
            "type": "contourcarpet"
           }
          ],
          "heatmap": [
           {
            "colorbar": {
             "outlinewidth": 0,
             "ticks": ""
            },
            "colorscale": [
             [
              0,
              "#0d0887"
             ],
             [
              0.1111111111111111,
              "#46039f"
             ],
             [
              0.2222222222222222,
              "#7201a8"
             ],
             [
              0.3333333333333333,
              "#9c179e"
             ],
             [
              0.4444444444444444,
              "#bd3786"
             ],
             [
              0.5555555555555556,
              "#d8576b"
             ],
             [
              0.6666666666666666,
              "#ed7953"
             ],
             [
              0.7777777777777778,
              "#fb9f3a"
             ],
             [
              0.8888888888888888,
              "#fdca26"
             ],
             [
              1,
              "#f0f921"
             ]
            ],
            "type": "heatmap"
           }
          ],
          "heatmapgl": [
           {
            "colorbar": {
             "outlinewidth": 0,
             "ticks": ""
            },
            "colorscale": [
             [
              0,
              "#0d0887"
             ],
             [
              0.1111111111111111,
              "#46039f"
             ],
             [
              0.2222222222222222,
              "#7201a8"
             ],
             [
              0.3333333333333333,
              "#9c179e"
             ],
             [
              0.4444444444444444,
              "#bd3786"
             ],
             [
              0.5555555555555556,
              "#d8576b"
             ],
             [
              0.6666666666666666,
              "#ed7953"
             ],
             [
              0.7777777777777778,
              "#fb9f3a"
             ],
             [
              0.8888888888888888,
              "#fdca26"
             ],
             [
              1,
              "#f0f921"
             ]
            ],
            "type": "heatmapgl"
           }
          ],
          "histogram": [
           {
            "marker": {
             "colorbar": {
              "outlinewidth": 0,
              "ticks": ""
             }
            },
            "type": "histogram"
           }
          ],
          "histogram2d": [
           {
            "colorbar": {
             "outlinewidth": 0,
             "ticks": ""
            },
            "colorscale": [
             [
              0,
              "#0d0887"
             ],
             [
              0.1111111111111111,
              "#46039f"
             ],
             [
              0.2222222222222222,
              "#7201a8"
             ],
             [
              0.3333333333333333,
              "#9c179e"
             ],
             [
              0.4444444444444444,
              "#bd3786"
             ],
             [
              0.5555555555555556,
              "#d8576b"
             ],
             [
              0.6666666666666666,
              "#ed7953"
             ],
             [
              0.7777777777777778,
              "#fb9f3a"
             ],
             [
              0.8888888888888888,
              "#fdca26"
             ],
             [
              1,
              "#f0f921"
             ]
            ],
            "type": "histogram2d"
           }
          ],
          "histogram2dcontour": [
           {
            "colorbar": {
             "outlinewidth": 0,
             "ticks": ""
            },
            "colorscale": [
             [
              0,
              "#0d0887"
             ],
             [
              0.1111111111111111,
              "#46039f"
             ],
             [
              0.2222222222222222,
              "#7201a8"
             ],
             [
              0.3333333333333333,
              "#9c179e"
             ],
             [
              0.4444444444444444,
              "#bd3786"
             ],
             [
              0.5555555555555556,
              "#d8576b"
             ],
             [
              0.6666666666666666,
              "#ed7953"
             ],
             [
              0.7777777777777778,
              "#fb9f3a"
             ],
             [
              0.8888888888888888,
              "#fdca26"
             ],
             [
              1,
              "#f0f921"
             ]
            ],
            "type": "histogram2dcontour"
           }
          ],
          "mesh3d": [
           {
            "colorbar": {
             "outlinewidth": 0,
             "ticks": ""
            },
            "type": "mesh3d"
           }
          ],
          "parcoords": [
           {
            "line": {
             "colorbar": {
              "outlinewidth": 0,
              "ticks": ""
             }
            },
            "type": "parcoords"
           }
          ],
          "pie": [
           {
            "automargin": true,
            "type": "pie"
           }
          ],
          "scatter": [
           {
            "marker": {
             "colorbar": {
              "outlinewidth": 0,
              "ticks": ""
             }
            },
            "type": "scatter"
           }
          ],
          "scatter3d": [
           {
            "line": {
             "colorbar": {
              "outlinewidth": 0,
              "ticks": ""
             }
            },
            "marker": {
             "colorbar": {
              "outlinewidth": 0,
              "ticks": ""
             }
            },
            "type": "scatter3d"
           }
          ],
          "scattercarpet": [
           {
            "marker": {
             "colorbar": {
              "outlinewidth": 0,
              "ticks": ""
             }
            },
            "type": "scattercarpet"
           }
          ],
          "scattergeo": [
           {
            "marker": {
             "colorbar": {
              "outlinewidth": 0,
              "ticks": ""
             }
            },
            "type": "scattergeo"
           }
          ],
          "scattergl": [
           {
            "marker": {
             "colorbar": {
              "outlinewidth": 0,
              "ticks": ""
             }
            },
            "type": "scattergl"
           }
          ],
          "scattermapbox": [
           {
            "marker": {
             "colorbar": {
              "outlinewidth": 0,
              "ticks": ""
             }
            },
            "type": "scattermapbox"
           }
          ],
          "scatterpolar": [
           {
            "marker": {
             "colorbar": {
              "outlinewidth": 0,
              "ticks": ""
             }
            },
            "type": "scatterpolar"
           }
          ],
          "scatterpolargl": [
           {
            "marker": {
             "colorbar": {
              "outlinewidth": 0,
              "ticks": ""
             }
            },
            "type": "scatterpolargl"
           }
          ],
          "scatterternary": [
           {
            "marker": {
             "colorbar": {
              "outlinewidth": 0,
              "ticks": ""
             }
            },
            "type": "scatterternary"
           }
          ],
          "surface": [
           {
            "colorbar": {
             "outlinewidth": 0,
             "ticks": ""
            },
            "colorscale": [
             [
              0,
              "#0d0887"
             ],
             [
              0.1111111111111111,
              "#46039f"
             ],
             [
              0.2222222222222222,
              "#7201a8"
             ],
             [
              0.3333333333333333,
              "#9c179e"
             ],
             [
              0.4444444444444444,
              "#bd3786"
             ],
             [
              0.5555555555555556,
              "#d8576b"
             ],
             [
              0.6666666666666666,
              "#ed7953"
             ],
             [
              0.7777777777777778,
              "#fb9f3a"
             ],
             [
              0.8888888888888888,
              "#fdca26"
             ],
             [
              1,
              "#f0f921"
             ]
            ],
            "type": "surface"
           }
          ],
          "table": [
           {
            "cells": {
             "fill": {
              "color": "#EBF0F8"
             },
             "line": {
              "color": "white"
             }
            },
            "header": {
             "fill": {
              "color": "#C8D4E3"
             },
             "line": {
              "color": "white"
             }
            },
            "type": "table"
           }
          ]
         },
         "layout": {
          "annotationdefaults": {
           "arrowcolor": "#2a3f5f",
           "arrowhead": 0,
           "arrowwidth": 1
          },
          "coloraxis": {
           "colorbar": {
            "outlinewidth": 0,
            "ticks": ""
           }
          },
          "colorscale": {
           "diverging": [
            [
             0,
             "#8e0152"
            ],
            [
             0.1,
             "#c51b7d"
            ],
            [
             0.2,
             "#de77ae"
            ],
            [
             0.3,
             "#f1b6da"
            ],
            [
             0.4,
             "#fde0ef"
            ],
            [
             0.5,
             "#f7f7f7"
            ],
            [
             0.6,
             "#e6f5d0"
            ],
            [
             0.7,
             "#b8e186"
            ],
            [
             0.8,
             "#7fbc41"
            ],
            [
             0.9,
             "#4d9221"
            ],
            [
             1,
             "#276419"
            ]
           ],
           "sequential": [
            [
             0,
             "#0d0887"
            ],
            [
             0.1111111111111111,
             "#46039f"
            ],
            [
             0.2222222222222222,
             "#7201a8"
            ],
            [
             0.3333333333333333,
             "#9c179e"
            ],
            [
             0.4444444444444444,
             "#bd3786"
            ],
            [
             0.5555555555555556,
             "#d8576b"
            ],
            [
             0.6666666666666666,
             "#ed7953"
            ],
            [
             0.7777777777777778,
             "#fb9f3a"
            ],
            [
             0.8888888888888888,
             "#fdca26"
            ],
            [
             1,
             "#f0f921"
            ]
           ],
           "sequentialminus": [
            [
             0,
             "#0d0887"
            ],
            [
             0.1111111111111111,
             "#46039f"
            ],
            [
             0.2222222222222222,
             "#7201a8"
            ],
            [
             0.3333333333333333,
             "#9c179e"
            ],
            [
             0.4444444444444444,
             "#bd3786"
            ],
            [
             0.5555555555555556,
             "#d8576b"
            ],
            [
             0.6666666666666666,
             "#ed7953"
            ],
            [
             0.7777777777777778,
             "#fb9f3a"
            ],
            [
             0.8888888888888888,
             "#fdca26"
            ],
            [
             1,
             "#f0f921"
            ]
           ]
          },
          "colorway": [
           "#636efa",
           "#EF553B",
           "#00cc96",
           "#ab63fa",
           "#FFA15A",
           "#19d3f3",
           "#FF6692",
           "#B6E880",
           "#FF97FF",
           "#FECB52"
          ],
          "font": {
           "color": "#2a3f5f"
          },
          "geo": {
           "bgcolor": "white",
           "lakecolor": "white",
           "landcolor": "#E5ECF6",
           "showlakes": true,
           "showland": true,
           "subunitcolor": "white"
          },
          "hoverlabel": {
           "align": "left"
          },
          "hovermode": "closest",
          "mapbox": {
           "style": "light"
          },
          "paper_bgcolor": "white",
          "plot_bgcolor": "#E5ECF6",
          "polar": {
           "angularaxis": {
            "gridcolor": "white",
            "linecolor": "white",
            "ticks": ""
           },
           "bgcolor": "#E5ECF6",
           "radialaxis": {
            "gridcolor": "white",
            "linecolor": "white",
            "ticks": ""
           }
          },
          "scene": {
           "xaxis": {
            "backgroundcolor": "#E5ECF6",
            "gridcolor": "white",
            "gridwidth": 2,
            "linecolor": "white",
            "showbackground": true,
            "ticks": "",
            "zerolinecolor": "white"
           },
           "yaxis": {
            "backgroundcolor": "#E5ECF6",
            "gridcolor": "white",
            "gridwidth": 2,
            "linecolor": "white",
            "showbackground": true,
            "ticks": "",
            "zerolinecolor": "white"
           },
           "zaxis": {
            "backgroundcolor": "#E5ECF6",
            "gridcolor": "white",
            "gridwidth": 2,
            "linecolor": "white",
            "showbackground": true,
            "ticks": "",
            "zerolinecolor": "white"
           }
          },
          "shapedefaults": {
           "line": {
            "color": "#2a3f5f"
           }
          },
          "ternary": {
           "aaxis": {
            "gridcolor": "white",
            "linecolor": "white",
            "ticks": ""
           },
           "baxis": {
            "gridcolor": "white",
            "linecolor": "white",
            "ticks": ""
           },
           "bgcolor": "#E5ECF6",
           "caxis": {
            "gridcolor": "white",
            "linecolor": "white",
            "ticks": ""
           }
          },
          "title": {
           "x": 0.05
          },
          "xaxis": {
           "automargin": true,
           "gridcolor": "white",
           "linecolor": "white",
           "ticks": "",
           "title": {
            "standoff": 15
           },
           "zerolinecolor": "white",
           "zerolinewidth": 2
          },
          "yaxis": {
           "automargin": true,
           "gridcolor": "white",
           "linecolor": "white",
           "ticks": "",
           "title": {
            "standoff": 15
           },
           "zerolinecolor": "white",
           "zerolinewidth": 2
          }
         }
        },
        "title": {
         "text": "Number of Articles by Day (293 days)"
        },
        "xaxis": {
         "anchor": "y",
         "domain": [
          0,
          1
         ],
         "title": {
          "text": "date"
         }
        },
        "yaxis": {
         "anchor": "x",
         "domain": [
          0,
          1
         ],
         "title": {
          "text": "count"
         }
        }
       }
      },
      "text/html": [
       "<div>\n",
       "        \n",
       "        \n",
       "            <div id=\"1a885d49-1781-499e-969a-8345681728c2\" class=\"plotly-graph-div\" style=\"height:525px; width:100%;\"></div>\n",
       "            <script type=\"text/javascript\">\n",
       "                require([\"plotly\"], function(Plotly) {\n",
       "                    window.PLOTLYENV=window.PLOTLYENV || {};\n",
       "                    \n",
       "                if (document.getElementById(\"1a885d49-1781-499e-969a-8345681728c2\")) {\n",
       "                    Plotly.newPlot(\n",
       "                        '1a885d49-1781-499e-969a-8345681728c2',\n",
       "                        [{\"alignmentgroup\": \"True\", \"bingroup\": \"x\", \"hovertemplate\": \"source=Reuters<br>date=%{x}<br>count=%{y}<extra></extra>\", \"legendgroup\": \"Reuters\", \"marker\": {\"color\": \"#636efa\"}, \"name\": \"Reuters\", \"nbinsx\": 293, \"offsetgroup\": \"Reuters\", \"orientation\": \"v\", \"showlegend\": true, \"type\": \"histogram\", \"x\": [\"2020-03-27T00:00:00\", \"2020-03-18T00:00:00\", \"2020-03-18T00:00:00\", \"2020-03-08T00:00:00\", \"2020-03-03T00:00:00\", \"2020-02-29T00:00:00\", \"2020-02-28T00:00:00\", \"2020-02-21T00:00:00\", \"2020-02-18T00:00:00\", \"2020-02-17T00:00:00\", \"2020-02-16T00:00:00\", \"2020-02-15T00:00:00\", \"2020-01-29T00:00:00\", \"2020-01-24T00:00:00\", \"2020-01-23T00:00:00\", \"2020-01-21T00:00:00\", \"2020-01-21T00:00:00\", \"2020-01-20T00:00:00\", \"2020-01-20T00:00:00\", \"2020-01-16T00:00:00\", \"2020-01-12T00:00:00\", \"2020-01-10T00:00:00\", \"2020-01-10T00:00:00\", \"2020-01-10T00:00:00\", \"2020-01-05T00:00:00\", \"2020-01-08T00:00:00\", \"2020-01-07T00:00:00\", \"2020-01-07T00:00:00\", \"2020-01-05T00:00:00\", \"2020-01-04T00:00:00\", \"2020-01-02T00:00:00\", \"2020-01-02T00:00:00\", \"2020-01-02T00:00:00\", \"2019-12-31T00:00:00\", \"2019-12-31T00:00:00\", \"2019-12-23T00:00:00\", \"2019-12-22T00:00:00\", \"2019-12-22T00:00:00\", \"2019-12-21T00:00:00\", \"2019-12-20T00:00:00\", \"2019-12-20T00:00:00\", \"2019-12-19T00:00:00\", \"2019-12-19T00:00:00\", \"2019-12-13T00:00:00\", \"2019-12-13T00:00:00\", \"2019-12-12T00:00:00\", \"2019-12-12T00:00:00\", \"2019-12-12T00:00:00\", \"2019-12-12T00:00:00\", \"2019-12-10T00:00:00\", \"2019-12-10T00:00:00\", \"2019-12-09T00:00:00\", \"2019-12-06T00:00:00\", \"2019-12-05T00:00:00\", \"2019-12-04T00:00:00\", \"2019-12-04T00:00:00\", \"2019-12-04T00:00:00\", \"2019-12-02T00:00:00\", \"2019-12-03T00:00:00\", \"2019-12-02T00:00:00\", \"2019-12-02T00:00:00\", \"2019-12-02T00:00:00\", \"2019-11-29T00:00:00\", \"2019-11-29T00:00:00\", \"2019-11-29T00:00:00\", \"2019-11-29T00:00:00\", \"2019-11-29T00:00:00\", \"2019-11-29T00:00:00\", \"2019-11-29T00:00:00\", \"2019-11-29T00:00:00\", \"2019-11-29T00:00:00\", \"2019-11-28T00:00:00\", \"2019-11-28T00:00:00\", \"2019-11-28T00:00:00\", \"2019-11-28T00:00:00\", \"2019-11-28T00:00:00\", \"2019-11-28T00:00:00\", \"2019-11-28T00:00:00\", \"2019-11-27T00:00:00\", \"2019-11-28T00:00:00\", \"2019-11-28T00:00:00\", \"2019-11-28T00:00:00\", \"2019-11-28T00:00:00\", \"2019-11-28T00:00:00\", \"2019-11-28T00:00:00\", \"2019-11-26T00:00:00\", \"2019-11-25T00:00:00\", \"2019-11-26T00:00:00\", \"2019-11-22T00:00:00\", \"2019-11-23T00:00:00\", \"2019-11-22T00:00:00\", \"2019-11-23T00:00:00\", \"2019-11-22T00:00:00\", \"2019-11-22T00:00:00\", \"2019-11-22T00:00:00\", \"2019-11-22T00:00:00\", \"2019-11-21T00:00:00\", \"2019-11-20T00:00:00\", \"2019-11-20T00:00:00\", \"2019-11-20T00:00:00\", \"2019-11-19T00:00:00\", \"2019-11-19T00:00:00\", \"2019-11-19T00:00:00\", \"2019-11-17T00:00:00\", \"2019-11-18T00:00:00\", \"2019-11-18T00:00:00\", \"2019-11-16T00:00:00\", \"2019-11-16T00:00:00\", \"2019-11-16T00:00:00\", \"2019-11-15T00:00:00\", \"2019-11-15T00:00:00\", \"2019-11-14T00:00:00\", \"2019-11-14T00:00:00\", \"2019-11-14T00:00:00\", \"2019-11-13T00:00:00\", \"2019-11-13T00:00:00\", \"2019-11-13T00:00:00\", \"2019-11-13T00:00:00\", \"2019-11-13T00:00:00\", \"2019-11-13T00:00:00\", \"2019-11-11T00:00:00\", \"2019-11-11T00:00:00\", \"2019-11-11T00:00:00\", \"2019-11-11T00:00:00\", \"2019-11-11T00:00:00\", \"2019-11-11T00:00:00\", \"2019-11-11T00:00:00\", \"2019-11-10T00:00:00\", \"2019-11-09T00:00:00\", \"2019-11-09T00:00:00\", \"2019-11-08T00:00:00\", \"2019-11-07T00:00:00\", \"2019-11-06T00:00:00\", \"2019-11-05T00:00:00\", \"2019-11-05T00:00:00\", \"2019-11-04T00:00:00\", \"2019-11-02T00:00:00\", \"2019-11-01T00:00:00\", \"2019-11-01T00:00:00\", \"2019-11-01T00:00:00\", \"2019-10-31T00:00:00\", \"2019-10-30T00:00:00\", \"2019-10-29T00:00:00\", \"2019-10-28T00:00:00\", \"2019-10-28T00:00:00\", \"2019-10-28T00:00:00\", \"2019-10-27T00:00:00\", \"2019-10-27T00:00:00\", \"2019-10-25T00:00:00\", \"2019-10-24T00:00:00\", \"2019-10-25T00:00:00\", \"2019-10-24T00:00:00\", \"2019-10-25T00:00:00\", \"2019-10-25T00:00:00\", \"2019-10-25T00:00:00\", \"2019-10-25T00:00:00\", \"2019-10-24T00:00:00\", \"2019-10-24T00:00:00\", \"2019-10-24T00:00:00\", \"2019-10-22T00:00:00\", \"2019-10-23T00:00:00\", \"2019-10-22T00:00:00\", \"2019-10-23T00:00:00\", \"2019-10-18T00:00:00\", \"2019-10-18T00:00:00\", \"2019-10-21T00:00:00\", \"2019-10-20T00:00:00\", \"2019-10-19T00:00:00\", \"2019-10-18T00:00:00\", \"2019-10-18T00:00:00\", \"2019-10-18T00:00:00\", \"2019-10-18T00:00:00\", \"2019-10-18T00:00:00\", \"2019-10-18T00:00:00\", \"2019-10-18T00:00:00\", \"2019-10-18T00:00:00\", \"2019-10-16T00:00:00\", \"2019-10-16T00:00:00\", \"2019-10-16T00:00:00\", \"2019-10-15T00:00:00\", \"2019-10-15T00:00:00\", \"2019-10-14T00:00:00\", \"2019-10-14T00:00:00\", \"2019-10-14T00:00:00\", \"2019-10-13T00:00:00\", \"2019-10-13T00:00:00\", \"2019-10-13T00:00:00\", \"2019-10-12T00:00:00\", \"2019-10-12T00:00:00\", \"2019-10-12T00:00:00\", \"2019-10-11T00:00:00\", \"2019-10-11T00:00:00\", \"2019-10-11T00:00:00\", \"2019-10-11T00:00:00\", \"2019-10-11T00:00:00\", \"2019-10-11T00:00:00\", \"2019-10-09T00:00:00\", \"2019-10-10T00:00:00\", \"2019-10-10T00:00:00\", \"2019-10-10T00:00:00\", \"2019-10-10T00:00:00\", \"2019-10-09T00:00:00\", \"2019-10-10T00:00:00\", \"2019-10-10T00:00:00\", \"2019-10-10T00:00:00\", \"2019-10-09T00:00:00\", \"2019-10-08T00:00:00\", \"2019-10-08T00:00:00\", \"2019-10-07T00:00:00\", \"2019-10-06T00:00:00\", \"2019-10-09T00:00:00\", \"2019-10-08T00:00:00\", \"2019-10-08T00:00:00\", \"2019-10-08T00:00:00\", \"2019-10-08T00:00:00\", \"2019-10-08T00:00:00\", \"2019-10-07T00:00:00\", \"2019-10-07T00:00:00\", \"2019-10-07T00:00:00\", \"2019-10-07T00:00:00\", \"2019-10-06T00:00:00\", \"2019-10-05T00:00:00\", \"2019-10-05T00:00:00\", \"2019-10-04T00:00:00\", \"2019-10-04T00:00:00\", \"2019-10-03T00:00:00\", \"2019-10-03T00:00:00\", \"2019-10-03T00:00:00\", \"2019-10-02T00:00:00\", \"2019-10-02T00:00:00\", \"2019-10-02T00:00:00\", \"2019-10-01T00:00:00\", \"2019-10-02T00:00:00\", \"2019-10-01T00:00:00\", \"2019-10-01T00:00:00\", \"2019-09-30T00:00:00\", \"2019-09-29T00:00:00\", \"2019-09-29T00:00:00\", \"2019-09-29T00:00:00\", \"2019-09-28T00:00:00\", \"2019-09-28T00:00:00\", \"2019-09-28T00:00:00\", \"2019-09-27T00:00:00\", \"2019-09-26T00:00:00\", \"2019-09-26T00:00:00\", \"2019-09-25T00:00:00\", \"2019-09-25T00:00:00\", \"2019-09-24T00:00:00\", \"2019-09-25T00:00:00\", \"2019-09-24T00:00:00\", \"2019-09-22T00:00:00\", \"2019-09-21T00:00:00\", \"2019-09-21T00:00:00\", \"2019-09-18T00:00:00\", \"2019-09-18T00:00:00\", \"2019-09-15T00:00:00\", \"2019-09-15T00:00:00\", \"2019-09-13T00:00:00\", \"2019-09-13T00:00:00\", \"2019-09-12T00:00:00\", \"2019-09-12T00:00:00\", \"2019-09-12T00:00:00\", \"2019-09-11T00:00:00\", \"2019-09-11T00:00:00\", \"2019-09-11T00:00:00\", \"2019-09-11T00:00:00\", \"2019-09-10T00:00:00\", \"2019-09-10T00:00:00\", \"2019-09-09T00:00:00\", \"2019-09-09T00:00:00\", \"2019-09-09T00:00:00\", \"2019-09-09T00:00:00\", \"2019-09-09T00:00:00\", \"2019-09-08T00:00:00\", \"2019-09-08T00:00:00\", \"2019-09-07T00:00:00\", \"2019-09-07T00:00:00\", \"2019-09-07T00:00:00\", \"2019-09-07T00:00:00\", \"2019-09-05T00:00:00\", \"2019-09-05T00:00:00\", \"2019-09-05T00:00:00\", \"2019-09-04T00:00:00\", \"2019-09-04T00:00:00\", \"2019-09-03T00:00:00\", \"2019-09-03T00:00:00\", \"2019-09-02T00:00:00\", \"2019-09-03T00:00:00\", \"2019-09-02T00:00:00\", \"2019-09-03T00:00:00\", \"2019-09-02T00:00:00\", \"2019-09-02T00:00:00\", \"2019-09-01T00:00:00\", \"2019-09-01T00:00:00\", \"2019-08-30T00:00:00\", \"2019-08-30T00:00:00\", \"2019-08-29T00:00:00\", \"2019-08-28T00:00:00\", \"2019-08-28T00:00:00\", \"2019-08-28T00:00:00\", \"2019-08-28T00:00:00\", \"2019-08-27T00:00:00\", \"2019-08-27T00:00:00\", \"2019-08-27T00:00:00\", \"2019-08-24T00:00:00\", \"2019-08-26T00:00:00\", \"2019-08-25T00:00:00\", \"2019-08-23T00:00:00\", \"2019-08-23T00:00:00\", \"2019-08-22T00:00:00\", \"2019-08-23T00:00:00\", \"2019-08-23T00:00:00\", \"2019-08-22T00:00:00\", \"2019-08-21T00:00:00\", \"2019-08-21T00:00:00\", \"2019-08-21T00:00:00\", \"2019-08-20T00:00:00\", \"2019-08-20T00:00:00\", \"2019-08-19T00:00:00\", \"2019-08-19T00:00:00\", \"2019-08-19T00:00:00\", \"2019-08-18T00:00:00\", \"2019-08-19T00:00:00\", \"2019-08-18T00:00:00\", \"2019-08-17T00:00:00\", \"2019-08-17T00:00:00\", \"2019-08-16T00:00:00\", \"2019-08-16T00:00:00\", \"2019-08-16T00:00:00\", \"2019-08-16T00:00:00\", \"2019-08-16T00:00:00\", \"2019-08-16T00:00:00\", \"2019-08-16T00:00:00\", \"2019-08-16T00:00:00\", \"2019-08-15T00:00:00\", \"2019-08-15T00:00:00\", \"2019-08-15T00:00:00\", \"2019-08-15T00:00:00\", \"2019-08-14T00:00:00\", \"2019-08-14T00:00:00\", \"2019-08-14T00:00:00\", \"2019-08-14T00:00:00\", \"2019-08-14T00:00:00\", \"2019-08-13T00:00:00\", \"2019-08-14T00:00:00\", \"2019-08-13T00:00:00\", \"2019-08-13T00:00:00\", \"2019-08-13T00:00:00\", \"2019-08-13T00:00:00\", \"2019-08-13T00:00:00\", \"2019-08-12T00:00:00\", \"2019-08-13T00:00:00\", \"2019-08-13T00:00:00\", \"2019-08-13T00:00:00\", \"2019-08-13T00:00:00\", \"2019-08-13T00:00:00\", \"2019-08-13T00:00:00\", \"2019-08-13T00:00:00\", \"2019-08-12T00:00:00\", \"2019-08-12T00:00:00\", \"2019-08-12T00:00:00\", \"2019-08-12T00:00:00\", \"2019-08-12T00:00:00\", \"2019-08-11T00:00:00\", \"2019-08-10T00:00:00\", \"2019-08-09T00:00:00\", \"2019-08-09T00:00:00\", \"2019-08-09T00:00:00\", \"2019-08-07T00:00:00\", \"2019-08-08T00:00:00\", \"2019-08-07T00:00:00\", \"2019-08-07T00:00:00\", \"2019-08-07T00:00:00\", \"2019-08-06T00:00:00\", \"2019-08-06T00:00:00\", \"2019-08-06T00:00:00\", \"2019-08-05T00:00:00\", \"2019-08-02T00:00:00\", \"2019-08-02T00:00:00\", \"2019-08-01T00:00:00\", \"2019-07-30T00:00:00\", \"2019-07-30T00:00:00\", \"2019-07-30T00:00:00\", \"2019-07-30T00:00:00\", \"2019-07-29T00:00:00\", \"2019-07-28T00:00:00\", \"2019-07-27T00:00:00\", \"2019-07-23T00:00:00\", \"2019-07-22T00:00:00\", \"2019-07-22T00:00:00\", \"2019-07-18T00:00:00\", \"2019-07-18T00:00:00\", \"2019-07-18T00:00:00\", \"2019-07-18T00:00:00\", \"2019-07-14T00:00:00\", \"2019-07-14T00:00:00\", \"2019-07-13T00:00:00\", \"2019-07-11T00:00:00\", \"2019-07-11T00:00:00\", \"2019-07-10T00:00:00\", \"2019-07-07T00:00:00\", \"2019-07-07T00:00:00\", \"2019-07-07T00:00:00\", \"2019-07-04T00:00:00\", \"2019-07-03T00:00:00\", \"2019-07-03T00:00:00\", \"2019-07-02T00:00:00\", \"2019-07-03T00:00:00\", \"2019-07-02T00:00:00\", \"2019-07-02T00:00:00\", \"2019-07-01T00:00:00\", \"2019-07-01T00:00:00\", \"2019-07-01T00:00:00\", \"2019-06-26T00:00:00\", \"2019-06-25T00:00:00\", \"2019-06-25T00:00:00\", \"2019-06-22T00:00:00\", \"2019-06-21T00:00:00\", \"2019-06-18T00:00:00\", \"2019-06-19T00:00:00\", \"2019-06-18T00:00:00\", \"2019-06-17T00:00:00\", \"2019-06-17T00:00:00\", \"2019-06-12T00:00:00\", \"2019-06-14T00:00:00\", \"2019-06-12T00:00:00\", \"2019-06-13T00:00:00\", \"2019-06-12T00:00:00\", \"2019-06-12T00:00:00\", \"2019-06-12T00:00:00\", \"2019-06-12T00:00:00\", \"2019-06-11T00:00:00\", \"2019-06-09T00:00:00\", \"2019-06-08T00:00:00\"], \"xaxis\": \"x\", \"yaxis\": \"y\"}, {\"alignmentgroup\": \"True\", \"bingroup\": \"x\", \"hovertemplate\": \"source=CCTV<br>date=%{x}<br>count=%{y}<extra></extra>\", \"legendgroup\": \"CCTV\", \"marker\": {\"color\": \"#EF553B\"}, \"name\": \"CCTV\", \"nbinsx\": 293, \"offsetgroup\": \"CCTV\", \"orientation\": \"v\", \"showlegend\": true, \"type\": \"histogram\", \"x\": [\"2019-08-26T00:00:00\", \"2019-08-13T00:00:00\", \"2019-11-18T00:00:00\", \"2019-10-04T00:00:00\", \"2019-10-21T00:00:00\", \"2019-10-17T00:00:00\", \"2019-09-27T00:00:00\", \"2019-08-13T00:00:00\", \"2020-01-01T00:00:00\", \"2019-11-26T00:00:00\", \"2019-11-14T00:00:00\", \"2019-11-13T00:00:00\", \"2019-10-23T00:00:00\", \"2019-10-16T00:00:00\", \"2019-09-02T00:00:00\", \"2019-08-09T00:00:00\", \"2019-12-24T00:00:00\", \"2019-12-05T00:00:00\", \"2019-12-03T00:00:00\", \"2019-12-02T00:00:00\", \"2019-12-02T00:00:00\", \"2019-11-19T00:00:00\", \"2019-10-27T00:00:00\", \"2019-09-03T00:00:00\", \"2019-08-23T00:00:00\", \"2019-08-16T00:00:00\", \"2019-08-06T00:00:00\", \"2019-08-05T00:00:00\", \"2019-07-24T00:00:00\", \"2019-12-04T00:00:00\", \"2019-11-26T00:00:00\", \"2019-11-22T00:00:00\", \"2019-11-20T00:00:00\", \"2019-11-20T00:00:00\", \"2019-11-16T00:00:00\", \"2019-11-11T00:00:00\", \"2019-10-07T00:00:00\", \"2020-01-02T00:00:00\", \"2019-11-08T00:00:00\", \"2019-09-15T00:00:00\", \"2019-09-05T00:00:00\", \"2019-09-04T00:00:00\", \"2019-09-02T00:00:00\", \"2019-08-28T00:00:00\", \"2019-08-27T00:00:00\", \"2019-08-24T00:00:00\", \"2019-08-22T00:00:00\", \"2019-08-21T00:00:00\", \"2019-08-17T00:00:00\", \"2019-08-15T00:00:00\", \"2019-08-13T00:00:00\", \"2019-08-13T00:00:00\", \"2019-08-10T00:00:00\", \"2019-08-10T00:00:00\", \"2019-08-03T00:00:00\", \"2019-07-21T00:00:00\", \"2019-07-08T00:00:00\", \"2019-07-04T00:00:00\", \"2019-07-03T00:00:00\", \"2020-02-20T00:00:00\", \"2019-11-27T00:00:00\", \"2019-11-20T00:00:00\", \"2019-09-28T00:00:00\", \"2019-09-20T00:00:00\", \"2019-09-02T00:00:00\", \"2019-08-30T00:00:00\", \"2019-08-28T00:00:00\", \"2019-08-14T00:00:00\", \"2019-08-11T00:00:00\", \"2019-08-04T00:00:00\", \"2019-07-31T00:00:00\", \"2020-03-01T00:00:00\", \"2019-10-17T00:00:00\", \"2019-09-21T00:00:00\", \"2019-09-12T00:00:00\", \"2019-08-30T00:00:00\", \"2019-08-27T00:00:00\", \"2019-08-18T00:00:00\", \"2019-08-15T00:00:00\", \"2019-08-09T00:00:00\", \"2019-08-06T00:00:00\", \"2019-08-05T00:00:00\", \"2019-08-04T00:00:00\", \"2019-07-30T00:00:00\", \"2019-07-05T00:00:00\", \"2019-09-26T00:00:00\", \"2019-08-20T00:00:00\", \"2019-08-16T00:00:00\", \"2019-08-15T00:00:00\", \"2019-08-08T00:00:00\", \"2019-08-04T00:00:00\", \"2019-08-01T00:00:00\", \"2019-11-13T00:00:00\", \"2019-11-21T00:00:00\", \"2019-11-12T00:00:00\", \"2020-01-10T00:00:00\", \"2019-11-29T00:00:00\", \"2019-11-21T00:00:00\", \"2019-11-26T00:00:00\", \"2019-08-09T00:00:00\", \"2019-11-21T00:00:00\", \"2019-11-14T00:00:00\", \"2019-10-26T00:00:00\", \"2020-01-06T00:00:00\", \"2019-11-15T00:00:00\", \"2019-12-17T00:00:00\", \"2019-08-14T00:00:00\", \"2019-11-05T00:00:00\", \"2019-11-20T00:00:00\", \"2019-12-17T00:00:00\", \"2019-11-28T00:00:00\", \"2019-09-01T00:00:00\", \"2019-10-24T00:00:00\", \"2019-08-05T00:00:00\", \"2019-11-19T00:00:00\", \"2019-07-03T00:00:00\", \"2019-12-06T00:00:00\", \"2019-07-03T00:00:00\", \"2019-08-15T00:00:00\", \"2019-08-19T00:00:00\", \"2019-07-19T00:00:00\", \"2019-09-11T00:00:00\", \"2019-10-22T00:00:00\", \"2019-09-01T00:00:00\", \"2019-12-20T00:00:00\", \"2019-08-03T00:00:00\", \"2019-07-29T00:00:00\", \"2019-08-06T00:00:00\", \"2019-12-01T00:00:00\", \"2019-12-22T00:00:00\", \"2019-08-19T00:00:00\", \"2020-01-01T00:00:00\", \"2019-10-08T00:00:00\", \"2019-11-26T00:00:00\", \"2019-08-16T00:00:00\", \"2019-07-31T00:00:00\", \"2019-08-19T00:00:00\", \"2019-09-10T00:00:00\", \"2019-08-07T00:00:00\", \"2020-01-02T00:00:00\", \"2019-08-25T00:00:00\", \"2019-07-22T00:00:00\", \"2019-09-05T00:00:00\", \"2019-12-06T00:00:00\", \"2020-01-03T00:00:00\", \"2019-10-26T00:00:00\", \"2019-06-16T00:00:00\", \"2019-08-10T00:00:00\", \"2019-12-31T00:00:00\", \"2019-12-13T00:00:00\", \"2019-07-02T00:00:00\", \"2019-08-15T00:00:00\", \"2019-12-06T00:00:00\", \"2019-08-16T00:00:00\", \"2019-07-29T00:00:00\", \"2019-07-11T00:00:00\", \"2019-08-04T00:00:00\", \"2019-08-09T00:00:00\", \"2019-08-21T00:00:00\", \"2019-10-06T00:00:00\", \"2019-09-17T00:00:00\", \"2019-10-28T00:00:00\", \"2019-07-01T00:00:00\", \"2019-12-08T00:00:00\", \"2019-12-16T00:00:00\", \"2019-10-10T00:00:00\", \"2019-07-23T00:00:00\", \"2019-08-11T00:00:00\", \"2019-12-27T00:00:00\", \"2019-12-19T00:00:00\", \"2019-10-07T00:00:00\", \"2019-07-27T00:00:00\", \"2019-12-26T00:00:00\", \"2019-10-10T00:00:00\", \"2019-09-03T00:00:00\", \"2019-08-14T00:00:00\", \"2019-08-25T00:00:00\", \"2019-09-29T00:00:00\", \"2020-01-14T00:00:00\", \"2019-08-26T00:00:00\", \"2019-09-04T00:00:00\", \"2019-08-07T00:00:00\"], \"xaxis\": \"x\", \"yaxis\": \"y\"}, {\"alignmentgroup\": \"True\", \"bingroup\": \"x\", \"hovertemplate\": \"source=ABC<br>date=%{x}<br>count=%{y}<extra></extra>\", \"legendgroup\": \"ABC\", \"marker\": {\"color\": \"#00cc96\"}, \"name\": \"ABC\", \"nbinsx\": 293, \"offsetgroup\": \"ABC\", \"orientation\": \"v\", \"showlegend\": true, \"type\": \"histogram\", \"x\": [\"2020-03-06T00:00:00\", \"2020-02-29T00:00:00\", \"2020-02-27T00:00:00\", \"2019-12-12T00:00:00\", \"2019-12-09T00:00:00\", \"2019-12-07T00:00:00\", \"2019-12-02T00:00:00\", \"2019-11-13T00:00:00\", \"2019-11-13T00:00:00\", \"2019-11-12T00:00:00\", \"2019-11-11T00:00:00\", \"2019-11-09T00:00:00\", \"2019-11-05T00:00:00\", \"2019-11-02T00:00:00\", \"2019-10-29T00:00:00\", \"2019-10-29T00:00:00\", \"2019-10-24T00:00:00\", \"2019-10-23T00:00:00\", \"2019-10-21T00:00:00\", \"2019-10-16T00:00:00\", \"2019-10-15T00:00:00\", \"2019-10-14T00:00:00\", \"2019-10-11T00:00:00\", \"2019-10-08T00:00:00\", \"2019-10-05T00:00:00\", \"2019-10-05T00:00:00\", \"2019-10-04T00:00:00\", \"2019-10-02T00:00:00\", \"2019-10-01T00:00:00\", \"2019-09-30T00:00:00\", \"2019-09-17T00:00:00\", \"2019-09-16T00:00:00\", \"2019-09-16T00:00:00\", \"2019-09-09T00:00:00\", \"2019-09-06T00:00:00\", \"2019-09-05T00:00:00\", \"2019-09-05T00:00:00\", \"2019-09-05T00:00:00\", \"2019-09-03T00:00:00\", \"2019-09-03T00:00:00\", \"2019-09-03T00:00:00\", \"2019-09-02T00:00:00\", \"2019-09-01T00:00:00\", \"2019-09-01T00:00:00\", \"2019-08-29T00:00:00\", \"2019-08-26T00:00:00\", \"2019-08-25T00:00:00\", \"2019-08-26T00:00:00\", \"2019-08-24T00:00:00\", \"2019-08-26T00:00:00\", \"2019-08-23T00:00:00\", \"2019-08-20T00:00:00\", \"2019-08-20T00:00:00\", \"2019-08-17T00:00:00\", \"2019-08-16T00:00:00\", \"2019-08-16T00:00:00\", \"2019-08-16T00:00:00\", \"2019-08-16T00:00:00\", \"2019-08-16T00:00:00\", \"2019-09-02T00:00:00\", \"2019-08-14T00:00:00\", \"2019-08-13T00:00:00\", \"2019-08-13T00:00:00\", \"2019-08-14T00:00:00\", \"2019-08-13T00:00:00\", \"2019-08-12T00:00:00\", \"2019-08-12T00:00:00\", \"2019-08-11T00:00:00\", \"2019-08-10T00:00:00\", \"2019-08-12T00:00:00\", \"2019-08-10T00:00:00\", \"2019-08-08T00:00:00\", \"2019-08-07T00:00:00\", \"2019-08-05T00:00:00\", \"2019-08-05T00:00:00\", \"2019-08-03T00:00:00\", \"2019-08-01T00:00:00\", \"2019-07-27T00:00:00\", \"2019-07-25T00:00:00\", \"2019-07-25T00:00:00\", \"2019-07-15T00:00:00\", \"2019-07-09T00:00:00\", \"2019-07-06T00:00:00\", \"2019-07-04T00:00:00\", \"2019-07-04T00:00:00\", \"2019-07-02T00:00:00\", \"2019-07-02T00:00:00\", \"2019-07-01T00:00:00\", \"2019-07-01T00:00:00\", \"2019-06-23T00:00:00\", \"2019-06-19T00:00:00\", \"2019-06-17T00:00:00\", \"2019-06-17T00:00:00\", \"2019-06-17T00:00:00\", \"2019-06-17T00:00:00\", \"2019-06-17T00:00:00\", \"2019-06-13T00:00:00\", \"2019-06-13T00:00:00\", \"2019-06-13T00:00:00\", \"2019-06-12T00:00:00\", \"2019-06-10T00:00:00\", \"2019-06-10T00:00:00\"], \"xaxis\": \"x\", \"yaxis\": \"y\"}, {\"alignmentgroup\": \"True\", \"bingroup\": \"x\", \"hovertemplate\": \"source=CNN<br>date=%{x}<br>count=%{y}<extra></extra>\", \"legendgroup\": \"CNN\", \"marker\": {\"color\": \"#ab63fa\"}, \"name\": \"CNN\", \"nbinsx\": 293, \"offsetgroup\": \"CNN\", \"orientation\": \"v\", \"showlegend\": true, \"type\": \"histogram\", \"x\": [\"2020-03-11T00:00:00\", \"2020-03-06T00:00:00\", \"2020-01-12T00:00:00\", \"2020-01-10T00:00:00\", \"2020-01-02T00:00:00\", \"2019-12-27T00:00:00\", \"2019-12-20T00:00:00\", \"2019-12-20T00:00:00\", \"2019-12-17T00:00:00\", \"2019-12-11T00:00:00\", \"2019-12-02T00:00:00\", \"2019-11-30T00:00:00\", \"2019-11-29T00:00:00\", \"2019-11-21T00:00:00\", \"2019-11-20T00:00:00\", \"2019-11-14T00:00:00\", \"2019-11-08T00:00:00\", \"2019-11-02T00:00:00\", \"2019-11-01T00:00:00\", \"2019-10-29T00:00:00\", \"2019-10-25T00:00:00\", \"2019-10-23T00:00:00\", \"2019-10-21T00:00:00\", \"2019-10-16T00:00:00\", \"2019-10-16T00:00:00\", \"2019-10-15T00:00:00\", \"2019-10-12T00:00:00\", \"2019-10-12T00:00:00\", \"2019-10-12T00:00:00\", \"2019-10-11T00:00:00\", \"2019-10-11T00:00:00\", \"2019-10-10T00:00:00\", \"2019-10-10T00:00:00\", \"2019-10-10T00:00:00\", \"2019-10-10T00:00:00\", \"2019-10-09T00:00:00\", \"2019-10-09T00:00:00\", \"2019-10-02T00:00:00\", \"2019-09-30T00:00:00\", \"2019-09-20T00:00:00\", \"2019-09-18T00:00:00\", \"2019-09-18T00:00:00\", \"2019-09-12T00:00:00\", \"2019-09-10T00:00:00\", \"2019-09-09T00:00:00\", \"2019-09-08T00:00:00\", \"2019-09-05T00:00:00\", \"2019-09-05T00:00:00\", \"2019-08-28T00:00:00\", \"2019-08-26T00:00:00\", \"2019-08-20T00:00:00\", \"2019-08-19T00:00:00\", \"2019-08-19T00:00:00\", \"2019-08-16T00:00:00\", \"2019-08-16T00:00:00\", \"2019-08-16T00:00:00\", \"2019-08-15T00:00:00\", \"2019-08-13T00:00:00\", \"2019-08-13T00:00:00\", \"2019-08-12T00:00:00\", \"2019-08-11T00:00:00\", \"2019-08-08T00:00:00\", \"2019-08-04T00:00:00\", \"2019-08-01T00:00:00\", \"2019-07-31T00:00:00\", \"2019-07-31T00:00:00\", \"2019-07-29T00:00:00\", \"2019-07-22T00:00:00\", \"2019-07-22T00:00:00\", \"2019-07-15T00:00:00\", \"2019-07-08T00:00:00\", \"2019-07-04T00:00:00\", \"2019-07-02T00:00:00\", \"2019-06-30T00:00:00\", \"2019-06-27T00:00:00\", \"2019-06-24T00:00:00\", \"2019-06-20T00:00:00\", \"2019-06-17T00:00:00\", \"2019-06-17T00:00:00\", \"2019-06-13T00:00:00\", \"2019-06-13T00:00:00\"], \"xaxis\": \"x\", \"yaxis\": \"y\"}],\n",
       "                        {\"barmode\": \"relative\", \"legend\": {\"title\": {\"text\": \"source\"}, \"tracegroupgap\": 0}, \"margin\": {\"t\": 60}, \"template\": {\"data\": {\"bar\": [{\"error_x\": {\"color\": \"#2a3f5f\"}, \"error_y\": {\"color\": \"#2a3f5f\"}, \"marker\": {\"line\": {\"color\": \"#E5ECF6\", \"width\": 0.5}}, \"type\": \"bar\"}], \"barpolar\": [{\"marker\": {\"line\": {\"color\": \"#E5ECF6\", \"width\": 0.5}}, \"type\": \"barpolar\"}], \"carpet\": [{\"aaxis\": {\"endlinecolor\": \"#2a3f5f\", \"gridcolor\": \"white\", \"linecolor\": \"white\", \"minorgridcolor\": \"white\", \"startlinecolor\": \"#2a3f5f\"}, \"baxis\": {\"endlinecolor\": \"#2a3f5f\", \"gridcolor\": \"white\", \"linecolor\": \"white\", \"minorgridcolor\": \"white\", \"startlinecolor\": \"#2a3f5f\"}, \"type\": \"carpet\"}], \"choropleth\": [{\"colorbar\": {\"outlinewidth\": 0, \"ticks\": \"\"}, \"type\": \"choropleth\"}], \"contour\": [{\"colorbar\": {\"outlinewidth\": 0, \"ticks\": \"\"}, \"colorscale\": [[0.0, \"#0d0887\"], [0.1111111111111111, \"#46039f\"], [0.2222222222222222, \"#7201a8\"], [0.3333333333333333, \"#9c179e\"], [0.4444444444444444, \"#bd3786\"], [0.5555555555555556, \"#d8576b\"], [0.6666666666666666, \"#ed7953\"], [0.7777777777777778, \"#fb9f3a\"], [0.8888888888888888, \"#fdca26\"], [1.0, \"#f0f921\"]], \"type\": \"contour\"}], \"contourcarpet\": [{\"colorbar\": {\"outlinewidth\": 0, \"ticks\": \"\"}, \"type\": \"contourcarpet\"}], \"heatmap\": [{\"colorbar\": {\"outlinewidth\": 0, \"ticks\": \"\"}, \"colorscale\": [[0.0, \"#0d0887\"], [0.1111111111111111, \"#46039f\"], [0.2222222222222222, \"#7201a8\"], [0.3333333333333333, \"#9c179e\"], [0.4444444444444444, \"#bd3786\"], [0.5555555555555556, \"#d8576b\"], [0.6666666666666666, \"#ed7953\"], [0.7777777777777778, \"#fb9f3a\"], [0.8888888888888888, \"#fdca26\"], [1.0, \"#f0f921\"]], \"type\": \"heatmap\"}], \"heatmapgl\": [{\"colorbar\": {\"outlinewidth\": 0, \"ticks\": \"\"}, \"colorscale\": [[0.0, \"#0d0887\"], [0.1111111111111111, \"#46039f\"], [0.2222222222222222, \"#7201a8\"], [0.3333333333333333, \"#9c179e\"], [0.4444444444444444, \"#bd3786\"], [0.5555555555555556, \"#d8576b\"], [0.6666666666666666, \"#ed7953\"], [0.7777777777777778, \"#fb9f3a\"], [0.8888888888888888, \"#fdca26\"], [1.0, \"#f0f921\"]], \"type\": \"heatmapgl\"}], \"histogram\": [{\"marker\": {\"colorbar\": {\"outlinewidth\": 0, \"ticks\": \"\"}}, \"type\": \"histogram\"}], \"histogram2d\": [{\"colorbar\": {\"outlinewidth\": 0, \"ticks\": \"\"}, \"colorscale\": [[0.0, \"#0d0887\"], [0.1111111111111111, \"#46039f\"], [0.2222222222222222, \"#7201a8\"], [0.3333333333333333, \"#9c179e\"], [0.4444444444444444, \"#bd3786\"], [0.5555555555555556, \"#d8576b\"], [0.6666666666666666, \"#ed7953\"], [0.7777777777777778, \"#fb9f3a\"], [0.8888888888888888, \"#fdca26\"], [1.0, \"#f0f921\"]], \"type\": \"histogram2d\"}], \"histogram2dcontour\": [{\"colorbar\": {\"outlinewidth\": 0, \"ticks\": \"\"}, \"colorscale\": [[0.0, \"#0d0887\"], [0.1111111111111111, \"#46039f\"], [0.2222222222222222, \"#7201a8\"], [0.3333333333333333, \"#9c179e\"], [0.4444444444444444, \"#bd3786\"], [0.5555555555555556, \"#d8576b\"], [0.6666666666666666, \"#ed7953\"], [0.7777777777777778, \"#fb9f3a\"], [0.8888888888888888, \"#fdca26\"], [1.0, \"#f0f921\"]], \"type\": \"histogram2dcontour\"}], \"mesh3d\": [{\"colorbar\": {\"outlinewidth\": 0, \"ticks\": \"\"}, \"type\": \"mesh3d\"}], \"parcoords\": [{\"line\": {\"colorbar\": {\"outlinewidth\": 0, \"ticks\": \"\"}}, \"type\": \"parcoords\"}], \"pie\": [{\"automargin\": true, \"type\": \"pie\"}], \"scatter\": [{\"marker\": {\"colorbar\": {\"outlinewidth\": 0, \"ticks\": \"\"}}, \"type\": \"scatter\"}], \"scatter3d\": [{\"line\": {\"colorbar\": {\"outlinewidth\": 0, \"ticks\": \"\"}}, \"marker\": {\"colorbar\": {\"outlinewidth\": 0, \"ticks\": \"\"}}, \"type\": \"scatter3d\"}], \"scattercarpet\": [{\"marker\": {\"colorbar\": {\"outlinewidth\": 0, \"ticks\": \"\"}}, \"type\": \"scattercarpet\"}], \"scattergeo\": [{\"marker\": {\"colorbar\": {\"outlinewidth\": 0, \"ticks\": \"\"}}, \"type\": \"scattergeo\"}], \"scattergl\": [{\"marker\": {\"colorbar\": {\"outlinewidth\": 0, \"ticks\": \"\"}}, \"type\": \"scattergl\"}], \"scattermapbox\": [{\"marker\": {\"colorbar\": {\"outlinewidth\": 0, \"ticks\": \"\"}}, \"type\": \"scattermapbox\"}], \"scatterpolar\": [{\"marker\": {\"colorbar\": {\"outlinewidth\": 0, \"ticks\": \"\"}}, \"type\": \"scatterpolar\"}], \"scatterpolargl\": [{\"marker\": {\"colorbar\": {\"outlinewidth\": 0, \"ticks\": \"\"}}, \"type\": \"scatterpolargl\"}], \"scatterternary\": [{\"marker\": {\"colorbar\": {\"outlinewidth\": 0, \"ticks\": \"\"}}, \"type\": \"scatterternary\"}], \"surface\": [{\"colorbar\": {\"outlinewidth\": 0, \"ticks\": \"\"}, \"colorscale\": [[0.0, \"#0d0887\"], [0.1111111111111111, \"#46039f\"], [0.2222222222222222, \"#7201a8\"], [0.3333333333333333, \"#9c179e\"], [0.4444444444444444, \"#bd3786\"], [0.5555555555555556, \"#d8576b\"], [0.6666666666666666, \"#ed7953\"], [0.7777777777777778, \"#fb9f3a\"], [0.8888888888888888, \"#fdca26\"], [1.0, \"#f0f921\"]], \"type\": \"surface\"}], \"table\": [{\"cells\": {\"fill\": {\"color\": \"#EBF0F8\"}, \"line\": {\"color\": \"white\"}}, \"header\": {\"fill\": {\"color\": \"#C8D4E3\"}, \"line\": {\"color\": \"white\"}}, \"type\": \"table\"}]}, \"layout\": {\"annotationdefaults\": {\"arrowcolor\": \"#2a3f5f\", \"arrowhead\": 0, \"arrowwidth\": 1}, \"coloraxis\": {\"colorbar\": {\"outlinewidth\": 0, \"ticks\": \"\"}}, \"colorscale\": {\"diverging\": [[0, \"#8e0152\"], [0.1, \"#c51b7d\"], [0.2, \"#de77ae\"], [0.3, \"#f1b6da\"], [0.4, \"#fde0ef\"], [0.5, \"#f7f7f7\"], [0.6, \"#e6f5d0\"], [0.7, \"#b8e186\"], [0.8, \"#7fbc41\"], [0.9, \"#4d9221\"], [1, \"#276419\"]], \"sequential\": [[0.0, \"#0d0887\"], [0.1111111111111111, \"#46039f\"], [0.2222222222222222, \"#7201a8\"], [0.3333333333333333, \"#9c179e\"], [0.4444444444444444, \"#bd3786\"], [0.5555555555555556, \"#d8576b\"], [0.6666666666666666, \"#ed7953\"], [0.7777777777777778, \"#fb9f3a\"], [0.8888888888888888, \"#fdca26\"], [1.0, \"#f0f921\"]], \"sequentialminus\": [[0.0, \"#0d0887\"], [0.1111111111111111, \"#46039f\"], [0.2222222222222222, \"#7201a8\"], [0.3333333333333333, \"#9c179e\"], [0.4444444444444444, \"#bd3786\"], [0.5555555555555556, \"#d8576b\"], [0.6666666666666666, \"#ed7953\"], [0.7777777777777778, \"#fb9f3a\"], [0.8888888888888888, \"#fdca26\"], [1.0, \"#f0f921\"]]}, \"colorway\": [\"#636efa\", \"#EF553B\", \"#00cc96\", \"#ab63fa\", \"#FFA15A\", \"#19d3f3\", \"#FF6692\", \"#B6E880\", \"#FF97FF\", \"#FECB52\"], \"font\": {\"color\": \"#2a3f5f\"}, \"geo\": {\"bgcolor\": \"white\", \"lakecolor\": \"white\", \"landcolor\": \"#E5ECF6\", \"showlakes\": true, \"showland\": true, \"subunitcolor\": \"white\"}, \"hoverlabel\": {\"align\": \"left\"}, \"hovermode\": \"closest\", \"mapbox\": {\"style\": \"light\"}, \"paper_bgcolor\": \"white\", \"plot_bgcolor\": \"#E5ECF6\", \"polar\": {\"angularaxis\": {\"gridcolor\": \"white\", \"linecolor\": \"white\", \"ticks\": \"\"}, \"bgcolor\": \"#E5ECF6\", \"radialaxis\": {\"gridcolor\": \"white\", \"linecolor\": \"white\", \"ticks\": \"\"}}, \"scene\": {\"xaxis\": {\"backgroundcolor\": \"#E5ECF6\", \"gridcolor\": \"white\", \"gridwidth\": 2, \"linecolor\": \"white\", \"showbackground\": true, \"ticks\": \"\", \"zerolinecolor\": \"white\"}, \"yaxis\": {\"backgroundcolor\": \"#E5ECF6\", \"gridcolor\": \"white\", \"gridwidth\": 2, \"linecolor\": \"white\", \"showbackground\": true, \"ticks\": \"\", \"zerolinecolor\": \"white\"}, \"zaxis\": {\"backgroundcolor\": \"#E5ECF6\", \"gridcolor\": \"white\", \"gridwidth\": 2, \"linecolor\": \"white\", \"showbackground\": true, \"ticks\": \"\", \"zerolinecolor\": \"white\"}}, \"shapedefaults\": {\"line\": {\"color\": \"#2a3f5f\"}}, \"ternary\": {\"aaxis\": {\"gridcolor\": \"white\", \"linecolor\": \"white\", \"ticks\": \"\"}, \"baxis\": {\"gridcolor\": \"white\", \"linecolor\": \"white\", \"ticks\": \"\"}, \"bgcolor\": \"#E5ECF6\", \"caxis\": {\"gridcolor\": \"white\", \"linecolor\": \"white\", \"ticks\": \"\"}}, \"title\": {\"x\": 0.05}, \"xaxis\": {\"automargin\": true, \"gridcolor\": \"white\", \"linecolor\": \"white\", \"ticks\": \"\", \"title\": {\"standoff\": 15}, \"zerolinecolor\": \"white\", \"zerolinewidth\": 2}, \"yaxis\": {\"automargin\": true, \"gridcolor\": \"white\", \"linecolor\": \"white\", \"ticks\": \"\", \"title\": {\"standoff\": 15}, \"zerolinecolor\": \"white\", \"zerolinewidth\": 2}}}, \"title\": {\"text\": \"Number of Articles by Day (293 days)\"}, \"xaxis\": {\"anchor\": \"y\", \"domain\": [0.0, 1.0], \"title\": {\"text\": \"date\"}}, \"yaxis\": {\"anchor\": \"x\", \"domain\": [0.0, 1.0], \"title\": {\"text\": \"count\"}}},\n",
       "                        {\"responsive\": true}\n",
       "                    ).then(function(){\n",
       "                            \n",
       "var gd = document.getElementById('1a885d49-1781-499e-969a-8345681728c2');\n",
       "var x = new MutationObserver(function (mutations, observer) {{\n",
       "        var display = window.getComputedStyle(gd).display;\n",
       "        if (!display || display === 'none') {{\n",
       "            console.log([gd, 'removed!']);\n",
       "            Plotly.purge(gd);\n",
       "            observer.disconnect();\n",
       "        }}\n",
       "}});\n",
       "\n",
       "// Listen for the removal of the full notebook cells\n",
       "var notebookContainer = gd.closest('#notebook-container');\n",
       "if (notebookContainer) {{\n",
       "    x.observe(notebookContainer, {childList: true});\n",
       "}}\n",
       "\n",
       "// Listen for the clearing of the current output cell\n",
       "var outputEl = gd.closest('.output');\n",
       "if (outputEl) {{\n",
       "    x.observe(outputEl, {childList: true});\n",
       "}}\n",
       "\n",
       "                        })\n",
       "                };\n",
       "                });\n",
       "            </script>\n",
       "        </div>"
      ]
     },
     "metadata": {},
     "output_type": "display_data"
    }
   ],
   "source": [
    "fig = px.histogram(\n",
    "    df,\n",
    "    x='date',\n",
    "    color='source',\n",
    "    nbins=293,\n",
    ")\n",
    "\n",
    "fig.update_layout(\n",
    "    title={\n",
    "        'text': 'Number of Articles by Day (293 days)',\n",
    "    }\n",
    ")\n",
    "\n",
    "fig.show()"
   ]
  },
  {
   "cell_type": "code",
   "execution_count": 200,
   "metadata": {
    "ExecuteTime": {
     "end_time": "2020-06-02T18:43:56.637228Z",
     "start_time": "2020-06-02T18:43:56.633008Z"
    }
   },
   "outputs": [],
   "source": [
    "sources = ['Reuters', 'CNN', 'CCTV', 'ABC']\n",
    "colors = ['#636EFA', '#EF553B', '#00CC96', '#AB63FA']\n",
    "topics = ['economic', 'political', 'protest']\n",
    "sentiments = ['polarity', 'subjectivity']"
   ]
  },
  {
   "cell_type": "code",
   "execution_count": 192,
   "metadata": {
    "ExecuteTime": {
     "end_time": "2020-06-02T18:26:45.057227Z",
     "start_time": "2020-06-02T18:26:44.908392Z"
    },
    "scrolled": true
   },
   "outputs": [
    {
     "data": {
      "application/vnd.plotly.v1+json": {
       "config": {
        "plotlyServerURL": "https://plot.ly"
       },
       "data": [
        {
         "mode": "lines+markers",
         "name": "economic",
         "type": "scatter",
         "x": [
          "2019-06-08T00:00:00",
          "2019-06-09T00:00:00",
          "2019-06-11T00:00:00",
          "2019-06-12T00:00:00",
          "2019-06-13T00:00:00",
          "2019-06-14T00:00:00",
          "2019-06-17T00:00:00",
          "2019-06-18T00:00:00",
          "2019-06-19T00:00:00",
          "2019-06-21T00:00:00",
          "2019-06-22T00:00:00",
          "2019-06-25T00:00:00",
          "2019-06-26T00:00:00",
          "2019-07-01T00:00:00",
          "2019-07-02T00:00:00",
          "2019-07-03T00:00:00",
          "2019-07-04T00:00:00",
          "2019-07-07T00:00:00",
          "2019-07-10T00:00:00",
          "2019-07-11T00:00:00",
          "2019-07-13T00:00:00",
          "2019-07-14T00:00:00",
          "2019-07-18T00:00:00",
          "2019-07-22T00:00:00",
          "2019-07-23T00:00:00",
          "2019-07-27T00:00:00",
          "2019-07-28T00:00:00",
          "2019-07-29T00:00:00",
          "2019-07-30T00:00:00",
          "2019-08-01T00:00:00",
          "2019-08-02T00:00:00",
          "2019-08-05T00:00:00",
          "2019-08-06T00:00:00",
          "2019-08-07T00:00:00",
          "2019-08-08T00:00:00",
          "2019-08-09T00:00:00",
          "2019-08-10T00:00:00",
          "2019-08-11T00:00:00",
          "2019-08-12T00:00:00",
          "2019-08-13T00:00:00",
          "2019-08-14T00:00:00",
          "2019-08-15T00:00:00",
          "2019-08-16T00:00:00",
          "2019-08-17T00:00:00",
          "2019-08-18T00:00:00",
          "2019-08-19T00:00:00",
          "2019-08-20T00:00:00",
          "2019-08-21T00:00:00",
          "2019-08-22T00:00:00",
          "2019-08-23T00:00:00",
          "2019-08-24T00:00:00",
          "2019-08-25T00:00:00",
          "2019-08-26T00:00:00",
          "2019-08-27T00:00:00",
          "2019-08-28T00:00:00",
          "2019-08-29T00:00:00",
          "2019-08-30T00:00:00",
          "2019-09-01T00:00:00",
          "2019-09-02T00:00:00",
          "2019-09-03T00:00:00",
          "2019-09-04T00:00:00",
          "2019-09-05T00:00:00",
          "2019-09-07T00:00:00",
          "2019-09-08T00:00:00",
          "2019-09-09T00:00:00",
          "2019-09-10T00:00:00",
          "2019-09-11T00:00:00",
          "2019-09-12T00:00:00",
          "2019-09-13T00:00:00",
          "2019-09-15T00:00:00",
          "2019-09-18T00:00:00",
          "2019-09-21T00:00:00",
          "2019-09-22T00:00:00",
          "2019-09-24T00:00:00",
          "2019-09-25T00:00:00",
          "2019-09-26T00:00:00",
          "2019-09-27T00:00:00",
          "2019-09-28T00:00:00",
          "2019-09-29T00:00:00",
          "2019-09-30T00:00:00",
          "2019-10-01T00:00:00",
          "2019-10-02T00:00:00",
          "2019-10-03T00:00:00",
          "2019-10-04T00:00:00",
          "2019-10-05T00:00:00",
          "2019-10-06T00:00:00",
          "2019-10-07T00:00:00",
          "2019-10-08T00:00:00",
          "2019-10-09T00:00:00",
          "2019-10-10T00:00:00",
          "2019-10-11T00:00:00",
          "2019-10-12T00:00:00",
          "2019-10-13T00:00:00",
          "2019-10-14T00:00:00",
          "2019-10-15T00:00:00",
          "2019-10-16T00:00:00",
          "2019-10-18T00:00:00",
          "2019-10-19T00:00:00",
          "2019-10-20T00:00:00",
          "2019-10-21T00:00:00",
          "2019-10-22T00:00:00",
          "2019-10-23T00:00:00",
          "2019-10-24T00:00:00",
          "2019-10-25T00:00:00",
          "2019-10-27T00:00:00",
          "2019-10-28T00:00:00",
          "2019-10-29T00:00:00",
          "2019-10-30T00:00:00",
          "2019-10-31T00:00:00",
          "2019-11-01T00:00:00",
          "2019-11-02T00:00:00",
          "2019-11-04T00:00:00",
          "2019-11-05T00:00:00",
          "2019-11-06T00:00:00",
          "2019-11-07T00:00:00",
          "2019-11-08T00:00:00",
          "2019-11-09T00:00:00",
          "2019-11-10T00:00:00",
          "2019-11-11T00:00:00",
          "2019-11-13T00:00:00",
          "2019-11-14T00:00:00",
          "2019-11-15T00:00:00",
          "2019-11-16T00:00:00",
          "2019-11-17T00:00:00",
          "2019-11-18T00:00:00",
          "2019-11-19T00:00:00",
          "2019-11-20T00:00:00",
          "2019-11-21T00:00:00",
          "2019-11-22T00:00:00",
          "2019-11-23T00:00:00",
          "2019-11-25T00:00:00",
          "2019-11-26T00:00:00",
          "2019-11-27T00:00:00",
          "2019-11-28T00:00:00",
          "2019-11-29T00:00:00",
          "2019-12-02T00:00:00",
          "2019-12-03T00:00:00",
          "2019-12-04T00:00:00",
          "2019-12-05T00:00:00",
          "2019-12-06T00:00:00",
          "2019-12-09T00:00:00",
          "2019-12-10T00:00:00",
          "2019-12-12T00:00:00",
          "2019-12-13T00:00:00",
          "2019-12-19T00:00:00",
          "2019-12-20T00:00:00",
          "2019-12-21T00:00:00",
          "2019-12-22T00:00:00",
          "2019-12-23T00:00:00",
          "2019-12-31T00:00:00",
          "2020-01-02T00:00:00",
          "2020-01-04T00:00:00",
          "2020-01-05T00:00:00",
          "2020-01-07T00:00:00",
          "2020-01-08T00:00:00",
          "2020-01-10T00:00:00",
          "2020-01-12T00:00:00",
          "2020-01-16T00:00:00",
          "2020-01-20T00:00:00",
          "2020-01-21T00:00:00",
          "2020-01-23T00:00:00",
          "2020-01-24T00:00:00",
          "2020-01-29T00:00:00",
          "2020-02-15T00:00:00",
          "2020-02-16T00:00:00",
          "2020-02-17T00:00:00",
          "2020-02-18T00:00:00",
          "2020-02-21T00:00:00",
          "2020-02-28T00:00:00",
          "2020-02-29T00:00:00",
          "2020-03-03T00:00:00",
          "2020-03-08T00:00:00",
          "2020-03-18T00:00:00",
          "2020-03-27T00:00:00"
         ],
         "y": [
          null,
          null,
          null,
          null,
          null,
          null,
          0.2785739765157081,
          0.26575652669392735,
          0.2872381853102461,
          0.28192114778526206,
          0.2593093908209069,
          0.25739565904884143,
          0.2525251083290609,
          0.24376319567718635,
          0.2402880476072963,
          0.23050014479289574,
          0.22910561307754612,
          0.23223247756202792,
          0.29323413510644364,
          0.28664827852741465,
          0.2843019417174576,
          0.29322156045598774,
          0.30248464058000024,
          0.31633527089406116,
          0.3515040897230203,
          0.28716053346644893,
          0.29813540743249883,
          0.2979115069192252,
          0.3181277616564153,
          0.3712986376095809,
          0.37279105713182836,
          0.3485413196081735,
          0.34578148146463394,
          0.3700297550573021,
          0.4276792131157849,
          0.42260533339781203,
          0.37466176164609266,
          0.3676634364517031,
          0.40209565518813456,
          0.46429110563336395,
          0.4699260406850179,
          0.42565764661578687,
          0.43145253806305794,
          0.3976045545863941,
          0.41632337421350496,
          0.39723267991081446,
          0.3475821083053446,
          0.31509887069316056,
          0.2971540598195818,
          0.2766305632056953,
          0.27193774789361813,
          0.25780805437323784,
          0.2930215941376141,
          0.310949175279298,
          0.3611497032944529,
          0.3797055736942488,
          0.3906215903165651,
          0.3964069547606333,
          0.41839870849512734,
          0.3631949518093552,
          0.37971618374847843,
          0.36343302106203296,
          0.357368039229662,
          0.33916680809714833,
          0.3767281198864391,
          0.34707667970950873,
          0.35108100993952146,
          0.32658351393578183,
          0.3291835516570906,
          0.32481060552216545,
          0.33271952174985886,
          0.28498535476267584,
          0.2702855173788519,
          0.2904323143949947,
          0.271137857538368,
          0.234732029706271,
          0.2251872508195605,
          0.21817298770384452,
          0.2517795376077625,
          0.2711315130113309,
          0.2372578877421705,
          0.28469314817640234,
          0.3044518195532742,
          0.3129618378613994,
          0.3154707553628267,
          0.293628846720762,
          0.2905429600379418,
          0.31102698231604037,
          0.2707737058488121,
          0.2542246281595933,
          0.25514443119955177,
          0.24933513041486136,
          0.24617307107568379,
          0.24647020173079245,
          0.25915815348092114,
          0.28378602594518293,
          0.31107182559901464,
          0.3004077934894164,
          0.29385944569106953,
          0.3009009935381012,
          0.30898118527072016,
          0.30226351361894516,
          0.3009222306546913,
          0.32498007518197364,
          0.3673346942675921,
          0.4230271456960745,
          0.4846623266684355,
          0.4877501083993185,
          0.46207743724162625,
          0.43709320033794336,
          0.3762586929893162,
          0.3317224927519743,
          0.2919352572527054,
          0.29707694558836223,
          0.2852431423886254,
          0.35499824203455504,
          0.34742917294475845,
          0.35554850007555333,
          0.4248360718431256,
          0.4841921935452427,
          0.44383433717140136,
          0.43488909795299807,
          0.373091122078122,
          0.36983889846607304,
          0.3702146272983793,
          0.31049467020859367,
          0.25903695278190664,
          0.2878115338052198,
          0.3180411609468576,
          0.324741634547929,
          0.3860370717501467,
          0.4223842841128898,
          0.42994440012137053,
          0.4592078062480263,
          0.45353004376625566,
          0.4749309584677806,
          0.5260520014290215,
          0.48695709838433643,
          0.4738609227193308,
          0.53658839805132,
          0.4874739780793545,
          0.4333506395518417,
          0.4091124019745336,
          0.3414008224737671,
          0.3379865886940772,
          0.32645761199148493,
          0.24679506165754814,
          0.2617833769465413,
          0.25943751086763805,
          0.2535105333865619,
          0.29098272419692484,
          0.2843076874455465,
          0.28160039763530026,
          0.30268566612955367,
          0.28309653965163334,
          0.2972938137620916,
          0.285370464590167,
          0.25739040951972436,
          0.2642597010904804,
          0.28669489802371395,
          0.26930604643036016,
          0.3405489236319932,
          0.3218054338197813,
          0.3532126681683142,
          0.3627297206772121,
          0.4167678792469531,
          0.4290433816012945,
          0.4266853886766007,
          0.4346144389382798,
          0.43977336200089184,
          0.4306642612836415,
          0.41001951619792454,
          0.34557635300070244,
          0.32558975911887494
         ]
        },
        {
         "mode": "lines+markers",
         "name": "political",
         "type": "scatter",
         "x": [
          "2019-06-08T00:00:00",
          "2019-06-09T00:00:00",
          "2019-06-11T00:00:00",
          "2019-06-12T00:00:00",
          "2019-06-13T00:00:00",
          "2019-06-14T00:00:00",
          "2019-06-17T00:00:00",
          "2019-06-18T00:00:00",
          "2019-06-19T00:00:00",
          "2019-06-21T00:00:00",
          "2019-06-22T00:00:00",
          "2019-06-25T00:00:00",
          "2019-06-26T00:00:00",
          "2019-07-01T00:00:00",
          "2019-07-02T00:00:00",
          "2019-07-03T00:00:00",
          "2019-07-04T00:00:00",
          "2019-07-07T00:00:00",
          "2019-07-10T00:00:00",
          "2019-07-11T00:00:00",
          "2019-07-13T00:00:00",
          "2019-07-14T00:00:00",
          "2019-07-18T00:00:00",
          "2019-07-22T00:00:00",
          "2019-07-23T00:00:00",
          "2019-07-27T00:00:00",
          "2019-07-28T00:00:00",
          "2019-07-29T00:00:00",
          "2019-07-30T00:00:00",
          "2019-08-01T00:00:00",
          "2019-08-02T00:00:00",
          "2019-08-05T00:00:00",
          "2019-08-06T00:00:00",
          "2019-08-07T00:00:00",
          "2019-08-08T00:00:00",
          "2019-08-09T00:00:00",
          "2019-08-10T00:00:00",
          "2019-08-11T00:00:00",
          "2019-08-12T00:00:00",
          "2019-08-13T00:00:00",
          "2019-08-14T00:00:00",
          "2019-08-15T00:00:00",
          "2019-08-16T00:00:00",
          "2019-08-17T00:00:00",
          "2019-08-18T00:00:00",
          "2019-08-19T00:00:00",
          "2019-08-20T00:00:00",
          "2019-08-21T00:00:00",
          "2019-08-22T00:00:00",
          "2019-08-23T00:00:00",
          "2019-08-24T00:00:00",
          "2019-08-25T00:00:00",
          "2019-08-26T00:00:00",
          "2019-08-27T00:00:00",
          "2019-08-28T00:00:00",
          "2019-08-29T00:00:00",
          "2019-08-30T00:00:00",
          "2019-09-01T00:00:00",
          "2019-09-02T00:00:00",
          "2019-09-03T00:00:00",
          "2019-09-04T00:00:00",
          "2019-09-05T00:00:00",
          "2019-09-07T00:00:00",
          "2019-09-08T00:00:00",
          "2019-09-09T00:00:00",
          "2019-09-10T00:00:00",
          "2019-09-11T00:00:00",
          "2019-09-12T00:00:00",
          "2019-09-13T00:00:00",
          "2019-09-15T00:00:00",
          "2019-09-18T00:00:00",
          "2019-09-21T00:00:00",
          "2019-09-22T00:00:00",
          "2019-09-24T00:00:00",
          "2019-09-25T00:00:00",
          "2019-09-26T00:00:00",
          "2019-09-27T00:00:00",
          "2019-09-28T00:00:00",
          "2019-09-29T00:00:00",
          "2019-09-30T00:00:00",
          "2019-10-01T00:00:00",
          "2019-10-02T00:00:00",
          "2019-10-03T00:00:00",
          "2019-10-04T00:00:00",
          "2019-10-05T00:00:00",
          "2019-10-06T00:00:00",
          "2019-10-07T00:00:00",
          "2019-10-08T00:00:00",
          "2019-10-09T00:00:00",
          "2019-10-10T00:00:00",
          "2019-10-11T00:00:00",
          "2019-10-12T00:00:00",
          "2019-10-13T00:00:00",
          "2019-10-14T00:00:00",
          "2019-10-15T00:00:00",
          "2019-10-16T00:00:00",
          "2019-10-18T00:00:00",
          "2019-10-19T00:00:00",
          "2019-10-20T00:00:00",
          "2019-10-21T00:00:00",
          "2019-10-22T00:00:00",
          "2019-10-23T00:00:00",
          "2019-10-24T00:00:00",
          "2019-10-25T00:00:00",
          "2019-10-27T00:00:00",
          "2019-10-28T00:00:00",
          "2019-10-29T00:00:00",
          "2019-10-30T00:00:00",
          "2019-10-31T00:00:00",
          "2019-11-01T00:00:00",
          "2019-11-02T00:00:00",
          "2019-11-04T00:00:00",
          "2019-11-05T00:00:00",
          "2019-11-06T00:00:00",
          "2019-11-07T00:00:00",
          "2019-11-08T00:00:00",
          "2019-11-09T00:00:00",
          "2019-11-10T00:00:00",
          "2019-11-11T00:00:00",
          "2019-11-13T00:00:00",
          "2019-11-14T00:00:00",
          "2019-11-15T00:00:00",
          "2019-11-16T00:00:00",
          "2019-11-17T00:00:00",
          "2019-11-18T00:00:00",
          "2019-11-19T00:00:00",
          "2019-11-20T00:00:00",
          "2019-11-21T00:00:00",
          "2019-11-22T00:00:00",
          "2019-11-23T00:00:00",
          "2019-11-25T00:00:00",
          "2019-11-26T00:00:00",
          "2019-11-27T00:00:00",
          "2019-11-28T00:00:00",
          "2019-11-29T00:00:00",
          "2019-12-02T00:00:00",
          "2019-12-03T00:00:00",
          "2019-12-04T00:00:00",
          "2019-12-05T00:00:00",
          "2019-12-06T00:00:00",
          "2019-12-09T00:00:00",
          "2019-12-10T00:00:00",
          "2019-12-12T00:00:00",
          "2019-12-13T00:00:00",
          "2019-12-19T00:00:00",
          "2019-12-20T00:00:00",
          "2019-12-21T00:00:00",
          "2019-12-22T00:00:00",
          "2019-12-23T00:00:00",
          "2019-12-31T00:00:00",
          "2020-01-02T00:00:00",
          "2020-01-04T00:00:00",
          "2020-01-05T00:00:00",
          "2020-01-07T00:00:00",
          "2020-01-08T00:00:00",
          "2020-01-10T00:00:00",
          "2020-01-12T00:00:00",
          "2020-01-16T00:00:00",
          "2020-01-20T00:00:00",
          "2020-01-21T00:00:00",
          "2020-01-23T00:00:00",
          "2020-01-24T00:00:00",
          "2020-01-29T00:00:00",
          "2020-02-15T00:00:00",
          "2020-02-16T00:00:00",
          "2020-02-17T00:00:00",
          "2020-02-18T00:00:00",
          "2020-02-21T00:00:00",
          "2020-02-28T00:00:00",
          "2020-02-29T00:00:00",
          "2020-03-03T00:00:00",
          "2020-03-08T00:00:00",
          "2020-03-18T00:00:00",
          "2020-03-27T00:00:00"
         ],
         "y": [
          null,
          null,
          null,
          null,
          null,
          null,
          0.399121333160363,
          0.3813235449456925,
          0.3832856579235528,
          0.3757268814507982,
          0.374613303131928,
          0.3624364402781726,
          0.3485908403345489,
          0.3435395165733216,
          0.34842651535712654,
          0.3265637505905338,
          0.36490562126994036,
          0.36786565136511934,
          0.33500063492231785,
          0.323481916812885,
          0.29965908910841793,
          0.2920640348089263,
          0.28391724049011413,
          0.2623204631410123,
          0.26477803110662107,
          0.30538884836809477,
          0.33341279218556,
          0.35225708174665765,
          0.3417845668675277,
          0.33204072650802674,
          0.3272037179641294,
          0.3180444698624118,
          0.3079996911929013,
          0.2804106148996389,
          0.2543437391931262,
          0.2763423720011577,
          0.3006060876352887,
          0.2810691852237627,
          0.28019781904017516,
          0.25394466775624197,
          0.24938056144945345,
          0.29131943962695594,
          0.27649406870930343,
          0.2697576223557438,
          0.2725566324212438,
          0.28845542797451146,
          0.3210510773069911,
          0.3225398722413565,
          0.3394826936479901,
          0.3581529386986405,
          0.3532391438237899,
          0.384982066597009,
          0.35199672928517967,
          0.32494732956923444,
          0.31306020643893046,
          0.28281654953290003,
          0.27421114051443574,
          0.26780156580941616,
          0.24802966084469807,
          0.2853297699722918,
          0.2932661854076174,
          0.311979706640876,
          0.3060467973738112,
          0.3001715613058549,
          0.3135755294815024,
          0.3304863061692277,
          0.31763947125789505,
          0.3014017511709742,
          0.2802569977190918,
          0.2684159669286744,
          0.2980086562646279,
          0.2802919975502832,
          0.23864315281908427,
          0.21898455193447325,
          0.2364699334698456,
          0.25342874842715774,
          0.25302445829196524,
          0.21233716574235187,
          0.22970130798677732,
          0.23806654484677153,
          0.2411386552972652,
          0.21921336120788976,
          0.2119627541140455,
          0.2225078468026262,
          0.23031002390267452,
          0.2477099139384117,
          0.29357045307347296,
          0.32413431050921265,
          0.3625746212709316,
          0.38921626101031437,
          0.40980891346088616,
          0.4149998702738986,
          0.391751953605554,
          0.38290370997840534,
          0.3595195467991571,
          0.3467762886970571,
          0.3263492465916464,
          0.2907606731600461,
          0.2737281326785929,
          0.3103931886082715,
          0.2873098448358674,
          0.3097779027814747,
          0.3046609232110451,
          0.2881056754274866,
          0.2786295774385327,
          0.27747010680913003,
          0.22804316485462275,
          0.21768742872590188,
          0.19077501776488573,
          0.19559081481851623,
          0.19701481820543815,
          0.2122078168140104,
          0.24949511533685428,
          0.25023818585892194,
          0.2749218862185638,
          0.2663163948967456,
          0.24471533485695982,
          0.24871396827248055,
          0.2404029215494315,
          0.20173764026534288,
          0.21078044331056972,
          0.19248015251846962,
          0.20524748057521522,
          0.21239222149445283,
          0.2273456797622096,
          0.25485721424039953,
          0.26871155296392585,
          0.2683185676920529,
          0.26893424653596454,
          0.2768578406972807,
          0.2789220254675151,
          0.27651604825738524,
          0.30366422243054575,
          0.3071121676465863,
          0.306902862832382,
          0.31234897430366587,
          0.29111249750166024,
          0.31261164709928707,
          0.33408285813714855,
          0.27215389439853305,
          0.27009516433019226,
          0.29458358621715325,
          0.2976213881132236,
          0.30706671710494987,
          0.3152252967244073,
          0.2970465001638026,
          0.308166207098256,
          0.3057785944281637,
          0.2792010110336593,
          0.2855635117381422,
          0.2949570022154576,
          0.30082809750835093,
          0.29880005578590246,
          0.3273982938312327,
          0.3146070609579759,
          0.3381474093767686,
          0.3407495235806021,
          0.36313250133508773,
          0.33065643903402014,
          0.3187424687185386,
          0.2919883477275865,
          0.2989593565573992,
          0.26499126182351956,
          0.24460018581710866,
          0.21201463012374583,
          0.19806075928633968,
          0.19772327519353586,
          0.19642981858405742,
          0.1897770164104003,
          0.2302923754709219,
          0.23798173452669652,
          0.2395187371338901,
          0.2648621591629121,
          0.27616201911944627
         ]
        },
        {
         "mode": "lines+markers",
         "name": "protest",
         "type": "scatter",
         "x": [
          "2019-06-08T00:00:00",
          "2019-06-09T00:00:00",
          "2019-06-11T00:00:00",
          "2019-06-12T00:00:00",
          "2019-06-13T00:00:00",
          "2019-06-14T00:00:00",
          "2019-06-17T00:00:00",
          "2019-06-18T00:00:00",
          "2019-06-19T00:00:00",
          "2019-06-21T00:00:00",
          "2019-06-22T00:00:00",
          "2019-06-25T00:00:00",
          "2019-06-26T00:00:00",
          "2019-07-01T00:00:00",
          "2019-07-02T00:00:00",
          "2019-07-03T00:00:00",
          "2019-07-04T00:00:00",
          "2019-07-07T00:00:00",
          "2019-07-10T00:00:00",
          "2019-07-11T00:00:00",
          "2019-07-13T00:00:00",
          "2019-07-14T00:00:00",
          "2019-07-18T00:00:00",
          "2019-07-22T00:00:00",
          "2019-07-23T00:00:00",
          "2019-07-27T00:00:00",
          "2019-07-28T00:00:00",
          "2019-07-29T00:00:00",
          "2019-07-30T00:00:00",
          "2019-08-01T00:00:00",
          "2019-08-02T00:00:00",
          "2019-08-05T00:00:00",
          "2019-08-06T00:00:00",
          "2019-08-07T00:00:00",
          "2019-08-08T00:00:00",
          "2019-08-09T00:00:00",
          "2019-08-10T00:00:00",
          "2019-08-11T00:00:00",
          "2019-08-12T00:00:00",
          "2019-08-13T00:00:00",
          "2019-08-14T00:00:00",
          "2019-08-15T00:00:00",
          "2019-08-16T00:00:00",
          "2019-08-17T00:00:00",
          "2019-08-18T00:00:00",
          "2019-08-19T00:00:00",
          "2019-08-20T00:00:00",
          "2019-08-21T00:00:00",
          "2019-08-22T00:00:00",
          "2019-08-23T00:00:00",
          "2019-08-24T00:00:00",
          "2019-08-25T00:00:00",
          "2019-08-26T00:00:00",
          "2019-08-27T00:00:00",
          "2019-08-28T00:00:00",
          "2019-08-29T00:00:00",
          "2019-08-30T00:00:00",
          "2019-09-01T00:00:00",
          "2019-09-02T00:00:00",
          "2019-09-03T00:00:00",
          "2019-09-04T00:00:00",
          "2019-09-05T00:00:00",
          "2019-09-07T00:00:00",
          "2019-09-08T00:00:00",
          "2019-09-09T00:00:00",
          "2019-09-10T00:00:00",
          "2019-09-11T00:00:00",
          "2019-09-12T00:00:00",
          "2019-09-13T00:00:00",
          "2019-09-15T00:00:00",
          "2019-09-18T00:00:00",
          "2019-09-21T00:00:00",
          "2019-09-22T00:00:00",
          "2019-09-24T00:00:00",
          "2019-09-25T00:00:00",
          "2019-09-26T00:00:00",
          "2019-09-27T00:00:00",
          "2019-09-28T00:00:00",
          "2019-09-29T00:00:00",
          "2019-09-30T00:00:00",
          "2019-10-01T00:00:00",
          "2019-10-02T00:00:00",
          "2019-10-03T00:00:00",
          "2019-10-04T00:00:00",
          "2019-10-05T00:00:00",
          "2019-10-06T00:00:00",
          "2019-10-07T00:00:00",
          "2019-10-08T00:00:00",
          "2019-10-09T00:00:00",
          "2019-10-10T00:00:00",
          "2019-10-11T00:00:00",
          "2019-10-12T00:00:00",
          "2019-10-13T00:00:00",
          "2019-10-14T00:00:00",
          "2019-10-15T00:00:00",
          "2019-10-16T00:00:00",
          "2019-10-18T00:00:00",
          "2019-10-19T00:00:00",
          "2019-10-20T00:00:00",
          "2019-10-21T00:00:00",
          "2019-10-22T00:00:00",
          "2019-10-23T00:00:00",
          "2019-10-24T00:00:00",
          "2019-10-25T00:00:00",
          "2019-10-27T00:00:00",
          "2019-10-28T00:00:00",
          "2019-10-29T00:00:00",
          "2019-10-30T00:00:00",
          "2019-10-31T00:00:00",
          "2019-11-01T00:00:00",
          "2019-11-02T00:00:00",
          "2019-11-04T00:00:00",
          "2019-11-05T00:00:00",
          "2019-11-06T00:00:00",
          "2019-11-07T00:00:00",
          "2019-11-08T00:00:00",
          "2019-11-09T00:00:00",
          "2019-11-10T00:00:00",
          "2019-11-11T00:00:00",
          "2019-11-13T00:00:00",
          "2019-11-14T00:00:00",
          "2019-11-15T00:00:00",
          "2019-11-16T00:00:00",
          "2019-11-17T00:00:00",
          "2019-11-18T00:00:00",
          "2019-11-19T00:00:00",
          "2019-11-20T00:00:00",
          "2019-11-21T00:00:00",
          "2019-11-22T00:00:00",
          "2019-11-23T00:00:00",
          "2019-11-25T00:00:00",
          "2019-11-26T00:00:00",
          "2019-11-27T00:00:00",
          "2019-11-28T00:00:00",
          "2019-11-29T00:00:00",
          "2019-12-02T00:00:00",
          "2019-12-03T00:00:00",
          "2019-12-04T00:00:00",
          "2019-12-05T00:00:00",
          "2019-12-06T00:00:00",
          "2019-12-09T00:00:00",
          "2019-12-10T00:00:00",
          "2019-12-12T00:00:00",
          "2019-12-13T00:00:00",
          "2019-12-19T00:00:00",
          "2019-12-20T00:00:00",
          "2019-12-21T00:00:00",
          "2019-12-22T00:00:00",
          "2019-12-23T00:00:00",
          "2019-12-31T00:00:00",
          "2020-01-02T00:00:00",
          "2020-01-04T00:00:00",
          "2020-01-05T00:00:00",
          "2020-01-07T00:00:00",
          "2020-01-08T00:00:00",
          "2020-01-10T00:00:00",
          "2020-01-12T00:00:00",
          "2020-01-16T00:00:00",
          "2020-01-20T00:00:00",
          "2020-01-21T00:00:00",
          "2020-01-23T00:00:00",
          "2020-01-24T00:00:00",
          "2020-01-29T00:00:00",
          "2020-02-15T00:00:00",
          "2020-02-16T00:00:00",
          "2020-02-17T00:00:00",
          "2020-02-18T00:00:00",
          "2020-02-21T00:00:00",
          "2020-02-28T00:00:00",
          "2020-02-29T00:00:00",
          "2020-03-03T00:00:00",
          "2020-03-08T00:00:00",
          "2020-03-18T00:00:00",
          "2020-03-27T00:00:00"
         ],
         "y": [
          null,
          null,
          null,
          null,
          null,
          null,
          0.322304690323929,
          0.3529199283603802,
          0.3294761567662012,
          0.34235197076393975,
          0.3660773060471651,
          0.380167900672986,
          0.3988840513363902,
          0.41269728774949216,
          0.41128543703557724,
          0.44293610461657057,
          0.4059887656525135,
          0.3999018710728528,
          0.37176522997123856,
          0.38986980465970034,
          0.41603896917412453,
          0.41471440473508603,
          0.41359811892988574,
          0.4213442659649265,
          0.38371787917035866,
          0.4074506181654562,
          0.3684518003819411,
          0.34983141133411727,
          0.34008767147605706,
          0.2966606358823925,
          0.3000052249040423,
          0.3334142105294147,
          0.34621882734246495,
          0.3495596300430591,
          0.31797704769108914,
          0.30105229460103045,
          0.32473215071861883,
          0.3512673783245344,
          0.31770652577169045,
          0.2817642266103942,
          0.28069339786552877,
          0.2830229137572573,
          0.2920533932276387,
          0.33263782305786205,
          0.3111199933652512,
          0.3143118921146741,
          0.33136681438766435,
          0.36236125706548294,
          0.363363246532428,
          0.3652164980956642,
          0.37482310828259197,
          0.35720987902975315,
          0.35498167657720625,
          0.36410349515146756,
          0.3257900902666167,
          0.3374778767728512,
          0.3351672691689992,
          0.3357914794299505,
          0.33357163066017465,
          0.35147527821835306,
          0.3270176308439042,
          0.3245872722970911,
          0.33658516339652683,
          0.3606616305969968,
          0.30969635063205836,
          0.3224370141212635,
          0.33127951880258344,
          0.372014734893244,
          0.39055945062381764,
          0.40677342754916024,
          0.3692718219855133,
          0.4347226476870411,
          0.49107132980206386,
          0.4905831336705321,
          0.4923922089917864,
          0.5118392218665712,
          0.5217882908884742,
          0.5694898465538035,
          0.5185191544054601,
          0.49080194214189754,
          0.5216034569605644,
          0.496093490615708,
          0.48358542633268037,
          0.4645303153359745,
          0.4542192207344989,
          0.4586612393408264,
          0.41588658688858543,
          0.36483870717474715,
          0.36665167288025646,
          0.3565591108300925,
          0.33504665533956207,
          0.33566499931124005,
          0.36207497531876226,
          0.37062608829080224,
          0.38132229971992176,
          0.3694376853577599,
          0.36257892780933887,
          0.4088315333505374,
          0.4324124216303375,
          0.38870581785362723,
          0.40370896989341226,
          0.38795858359957996,
          0.3944168461342635,
          0.3869142493905396,
          0.354035728293875,
          0.2995027474947953,
          0.2872945084769416,
          0.29456246287477944,
          0.3471475449934878,
          0.36731598484354017,
          0.42672648880524544,
          0.456069690434015,
          0.45856962741044,
          0.4526848685527156,
          0.4398349713928105,
          0.37868536306869915,
          0.4078554921982816,
          0.39573753165196596,
          0.3347610066074428,
          0.31407016618941425,
          0.34538521951802864,
          0.3726307495285321,
          0.42166139734666247,
          0.4177688800394739,
          0.40243969293941084,
          0.4346481155510065,
          0.47225149425416724,
          0.443869898502727,
          0.4130245925171776,
          0.39840052475479004,
          0.335040902782338,
          0.3010996676297247,
          0.26639137744808344,
          0.23368002610538702,
          0.23956709340136198,
          0.2127200672285532,
          0.18283550106931795,
          0.20043125451637622,
          0.19205621914352042,
          0.19125770755014665,
          0.242430857590453,
          0.27206577423100475,
          0.29326620991224256,
          0.35153246042128267,
          0.3467881145815151,
          0.37649588784471216,
          0.4450387312441955,
          0.4324380286252946,
          0.46136147809870226,
          0.4609259548752954,
          0.41406027358761704,
          0.414864215046102,
          0.4195995465787968,
          0.36991604003921313,
          0.40229639939039025,
          0.3645587768611393,
          0.3738800118292303,
          0.3794770891451874,
          0.40508385987549894,
          0.3945626332577468,
          0.43870560584205276,
          0.36049171981060707,
          0.41320330435669866,
          0.40218714601457667,
          0.42525564919904163,
          0.38517136146670683,
          0.3732333432051692,
          0.37688479273934156,
          0.3756085446513196,
          0.32993426252818586,
          0.3313540041896616,
          0.3504617466681849,
          0.389561487836385,
          0.39824822176167834
         ]
        }
       ],
       "layout": {
        "template": {
         "data": {
          "bar": [
           {
            "error_x": {
             "color": "#2a3f5f"
            },
            "error_y": {
             "color": "#2a3f5f"
            },
            "marker": {
             "line": {
              "color": "#E5ECF6",
              "width": 0.5
             }
            },
            "type": "bar"
           }
          ],
          "barpolar": [
           {
            "marker": {
             "line": {
              "color": "#E5ECF6",
              "width": 0.5
             }
            },
            "type": "barpolar"
           }
          ],
          "carpet": [
           {
            "aaxis": {
             "endlinecolor": "#2a3f5f",
             "gridcolor": "white",
             "linecolor": "white",
             "minorgridcolor": "white",
             "startlinecolor": "#2a3f5f"
            },
            "baxis": {
             "endlinecolor": "#2a3f5f",
             "gridcolor": "white",
             "linecolor": "white",
             "minorgridcolor": "white",
             "startlinecolor": "#2a3f5f"
            },
            "type": "carpet"
           }
          ],
          "choropleth": [
           {
            "colorbar": {
             "outlinewidth": 0,
             "ticks": ""
            },
            "type": "choropleth"
           }
          ],
          "contour": [
           {
            "colorbar": {
             "outlinewidth": 0,
             "ticks": ""
            },
            "colorscale": [
             [
              0,
              "#0d0887"
             ],
             [
              0.1111111111111111,
              "#46039f"
             ],
             [
              0.2222222222222222,
              "#7201a8"
             ],
             [
              0.3333333333333333,
              "#9c179e"
             ],
             [
              0.4444444444444444,
              "#bd3786"
             ],
             [
              0.5555555555555556,
              "#d8576b"
             ],
             [
              0.6666666666666666,
              "#ed7953"
             ],
             [
              0.7777777777777778,
              "#fb9f3a"
             ],
             [
              0.8888888888888888,
              "#fdca26"
             ],
             [
              1,
              "#f0f921"
             ]
            ],
            "type": "contour"
           }
          ],
          "contourcarpet": [
           {
            "colorbar": {
             "outlinewidth": 0,
             "ticks": ""
            },
            "type": "contourcarpet"
           }
          ],
          "heatmap": [
           {
            "colorbar": {
             "outlinewidth": 0,
             "ticks": ""
            },
            "colorscale": [
             [
              0,
              "#0d0887"
             ],
             [
              0.1111111111111111,
              "#46039f"
             ],
             [
              0.2222222222222222,
              "#7201a8"
             ],
             [
              0.3333333333333333,
              "#9c179e"
             ],
             [
              0.4444444444444444,
              "#bd3786"
             ],
             [
              0.5555555555555556,
              "#d8576b"
             ],
             [
              0.6666666666666666,
              "#ed7953"
             ],
             [
              0.7777777777777778,
              "#fb9f3a"
             ],
             [
              0.8888888888888888,
              "#fdca26"
             ],
             [
              1,
              "#f0f921"
             ]
            ],
            "type": "heatmap"
           }
          ],
          "heatmapgl": [
           {
            "colorbar": {
             "outlinewidth": 0,
             "ticks": ""
            },
            "colorscale": [
             [
              0,
              "#0d0887"
             ],
             [
              0.1111111111111111,
              "#46039f"
             ],
             [
              0.2222222222222222,
              "#7201a8"
             ],
             [
              0.3333333333333333,
              "#9c179e"
             ],
             [
              0.4444444444444444,
              "#bd3786"
             ],
             [
              0.5555555555555556,
              "#d8576b"
             ],
             [
              0.6666666666666666,
              "#ed7953"
             ],
             [
              0.7777777777777778,
              "#fb9f3a"
             ],
             [
              0.8888888888888888,
              "#fdca26"
             ],
             [
              1,
              "#f0f921"
             ]
            ],
            "type": "heatmapgl"
           }
          ],
          "histogram": [
           {
            "marker": {
             "colorbar": {
              "outlinewidth": 0,
              "ticks": ""
             }
            },
            "type": "histogram"
           }
          ],
          "histogram2d": [
           {
            "colorbar": {
             "outlinewidth": 0,
             "ticks": ""
            },
            "colorscale": [
             [
              0,
              "#0d0887"
             ],
             [
              0.1111111111111111,
              "#46039f"
             ],
             [
              0.2222222222222222,
              "#7201a8"
             ],
             [
              0.3333333333333333,
              "#9c179e"
             ],
             [
              0.4444444444444444,
              "#bd3786"
             ],
             [
              0.5555555555555556,
              "#d8576b"
             ],
             [
              0.6666666666666666,
              "#ed7953"
             ],
             [
              0.7777777777777778,
              "#fb9f3a"
             ],
             [
              0.8888888888888888,
              "#fdca26"
             ],
             [
              1,
              "#f0f921"
             ]
            ],
            "type": "histogram2d"
           }
          ],
          "histogram2dcontour": [
           {
            "colorbar": {
             "outlinewidth": 0,
             "ticks": ""
            },
            "colorscale": [
             [
              0,
              "#0d0887"
             ],
             [
              0.1111111111111111,
              "#46039f"
             ],
             [
              0.2222222222222222,
              "#7201a8"
             ],
             [
              0.3333333333333333,
              "#9c179e"
             ],
             [
              0.4444444444444444,
              "#bd3786"
             ],
             [
              0.5555555555555556,
              "#d8576b"
             ],
             [
              0.6666666666666666,
              "#ed7953"
             ],
             [
              0.7777777777777778,
              "#fb9f3a"
             ],
             [
              0.8888888888888888,
              "#fdca26"
             ],
             [
              1,
              "#f0f921"
             ]
            ],
            "type": "histogram2dcontour"
           }
          ],
          "mesh3d": [
           {
            "colorbar": {
             "outlinewidth": 0,
             "ticks": ""
            },
            "type": "mesh3d"
           }
          ],
          "parcoords": [
           {
            "line": {
             "colorbar": {
              "outlinewidth": 0,
              "ticks": ""
             }
            },
            "type": "parcoords"
           }
          ],
          "pie": [
           {
            "automargin": true,
            "type": "pie"
           }
          ],
          "scatter": [
           {
            "marker": {
             "colorbar": {
              "outlinewidth": 0,
              "ticks": ""
             }
            },
            "type": "scatter"
           }
          ],
          "scatter3d": [
           {
            "line": {
             "colorbar": {
              "outlinewidth": 0,
              "ticks": ""
             }
            },
            "marker": {
             "colorbar": {
              "outlinewidth": 0,
              "ticks": ""
             }
            },
            "type": "scatter3d"
           }
          ],
          "scattercarpet": [
           {
            "marker": {
             "colorbar": {
              "outlinewidth": 0,
              "ticks": ""
             }
            },
            "type": "scattercarpet"
           }
          ],
          "scattergeo": [
           {
            "marker": {
             "colorbar": {
              "outlinewidth": 0,
              "ticks": ""
             }
            },
            "type": "scattergeo"
           }
          ],
          "scattergl": [
           {
            "marker": {
             "colorbar": {
              "outlinewidth": 0,
              "ticks": ""
             }
            },
            "type": "scattergl"
           }
          ],
          "scattermapbox": [
           {
            "marker": {
             "colorbar": {
              "outlinewidth": 0,
              "ticks": ""
             }
            },
            "type": "scattermapbox"
           }
          ],
          "scatterpolar": [
           {
            "marker": {
             "colorbar": {
              "outlinewidth": 0,
              "ticks": ""
             }
            },
            "type": "scatterpolar"
           }
          ],
          "scatterpolargl": [
           {
            "marker": {
             "colorbar": {
              "outlinewidth": 0,
              "ticks": ""
             }
            },
            "type": "scatterpolargl"
           }
          ],
          "scatterternary": [
           {
            "marker": {
             "colorbar": {
              "outlinewidth": 0,
              "ticks": ""
             }
            },
            "type": "scatterternary"
           }
          ],
          "surface": [
           {
            "colorbar": {
             "outlinewidth": 0,
             "ticks": ""
            },
            "colorscale": [
             [
              0,
              "#0d0887"
             ],
             [
              0.1111111111111111,
              "#46039f"
             ],
             [
              0.2222222222222222,
              "#7201a8"
             ],
             [
              0.3333333333333333,
              "#9c179e"
             ],
             [
              0.4444444444444444,
              "#bd3786"
             ],
             [
              0.5555555555555556,
              "#d8576b"
             ],
             [
              0.6666666666666666,
              "#ed7953"
             ],
             [
              0.7777777777777778,
              "#fb9f3a"
             ],
             [
              0.8888888888888888,
              "#fdca26"
             ],
             [
              1,
              "#f0f921"
             ]
            ],
            "type": "surface"
           }
          ],
          "table": [
           {
            "cells": {
             "fill": {
              "color": "#EBF0F8"
             },
             "line": {
              "color": "white"
             }
            },
            "header": {
             "fill": {
              "color": "#C8D4E3"
             },
             "line": {
              "color": "white"
             }
            },
            "type": "table"
           }
          ]
         },
         "layout": {
          "annotationdefaults": {
           "arrowcolor": "#2a3f5f",
           "arrowhead": 0,
           "arrowwidth": 1
          },
          "coloraxis": {
           "colorbar": {
            "outlinewidth": 0,
            "ticks": ""
           }
          },
          "colorscale": {
           "diverging": [
            [
             0,
             "#8e0152"
            ],
            [
             0.1,
             "#c51b7d"
            ],
            [
             0.2,
             "#de77ae"
            ],
            [
             0.3,
             "#f1b6da"
            ],
            [
             0.4,
             "#fde0ef"
            ],
            [
             0.5,
             "#f7f7f7"
            ],
            [
             0.6,
             "#e6f5d0"
            ],
            [
             0.7,
             "#b8e186"
            ],
            [
             0.8,
             "#7fbc41"
            ],
            [
             0.9,
             "#4d9221"
            ],
            [
             1,
             "#276419"
            ]
           ],
           "sequential": [
            [
             0,
             "#0d0887"
            ],
            [
             0.1111111111111111,
             "#46039f"
            ],
            [
             0.2222222222222222,
             "#7201a8"
            ],
            [
             0.3333333333333333,
             "#9c179e"
            ],
            [
             0.4444444444444444,
             "#bd3786"
            ],
            [
             0.5555555555555556,
             "#d8576b"
            ],
            [
             0.6666666666666666,
             "#ed7953"
            ],
            [
             0.7777777777777778,
             "#fb9f3a"
            ],
            [
             0.8888888888888888,
             "#fdca26"
            ],
            [
             1,
             "#f0f921"
            ]
           ],
           "sequentialminus": [
            [
             0,
             "#0d0887"
            ],
            [
             0.1111111111111111,
             "#46039f"
            ],
            [
             0.2222222222222222,
             "#7201a8"
            ],
            [
             0.3333333333333333,
             "#9c179e"
            ],
            [
             0.4444444444444444,
             "#bd3786"
            ],
            [
             0.5555555555555556,
             "#d8576b"
            ],
            [
             0.6666666666666666,
             "#ed7953"
            ],
            [
             0.7777777777777778,
             "#fb9f3a"
            ],
            [
             0.8888888888888888,
             "#fdca26"
            ],
            [
             1,
             "#f0f921"
            ]
           ]
          },
          "colorway": [
           "#636efa",
           "#EF553B",
           "#00cc96",
           "#ab63fa",
           "#FFA15A",
           "#19d3f3",
           "#FF6692",
           "#B6E880",
           "#FF97FF",
           "#FECB52"
          ],
          "font": {
           "color": "#2a3f5f"
          },
          "geo": {
           "bgcolor": "white",
           "lakecolor": "white",
           "landcolor": "#E5ECF6",
           "showlakes": true,
           "showland": true,
           "subunitcolor": "white"
          },
          "hoverlabel": {
           "align": "left"
          },
          "hovermode": "closest",
          "mapbox": {
           "style": "light"
          },
          "paper_bgcolor": "white",
          "plot_bgcolor": "#E5ECF6",
          "polar": {
           "angularaxis": {
            "gridcolor": "white",
            "linecolor": "white",
            "ticks": ""
           },
           "bgcolor": "#E5ECF6",
           "radialaxis": {
            "gridcolor": "white",
            "linecolor": "white",
            "ticks": ""
           }
          },
          "scene": {
           "xaxis": {
            "backgroundcolor": "#E5ECF6",
            "gridcolor": "white",
            "gridwidth": 2,
            "linecolor": "white",
            "showbackground": true,
            "ticks": "",
            "zerolinecolor": "white"
           },
           "yaxis": {
            "backgroundcolor": "#E5ECF6",
            "gridcolor": "white",
            "gridwidth": 2,
            "linecolor": "white",
            "showbackground": true,
            "ticks": "",
            "zerolinecolor": "white"
           },
           "zaxis": {
            "backgroundcolor": "#E5ECF6",
            "gridcolor": "white",
            "gridwidth": 2,
            "linecolor": "white",
            "showbackground": true,
            "ticks": "",
            "zerolinecolor": "white"
           }
          },
          "shapedefaults": {
           "line": {
            "color": "#2a3f5f"
           }
          },
          "ternary": {
           "aaxis": {
            "gridcolor": "white",
            "linecolor": "white",
            "ticks": ""
           },
           "baxis": {
            "gridcolor": "white",
            "linecolor": "white",
            "ticks": ""
           },
           "bgcolor": "#E5ECF6",
           "caxis": {
            "gridcolor": "white",
            "linecolor": "white",
            "ticks": ""
           }
          },
          "title": {
           "x": 0.05
          },
          "xaxis": {
           "automargin": true,
           "gridcolor": "white",
           "linecolor": "white",
           "ticks": "",
           "title": {
            "standoff": 15
           },
           "zerolinecolor": "white",
           "zerolinewidth": 2
          },
          "yaxis": {
           "automargin": true,
           "gridcolor": "white",
           "linecolor": "white",
           "ticks": "",
           "title": {
            "standoff": 15
           },
           "zerolinecolor": "white",
           "zerolinewidth": 2
          }
         }
        },
        "title": {
         "text": "Topic Composition of Average Reuters Article by Day (7-day Rolling Window)"
        }
       }
      },
      "text/html": [
       "<div>\n",
       "        \n",
       "        \n",
       "            <div id=\"efa0a98b-1515-4c92-818c-acfbc6b825a7\" class=\"plotly-graph-div\" style=\"height:525px; width:100%;\"></div>\n",
       "            <script type=\"text/javascript\">\n",
       "                require([\"plotly\"], function(Plotly) {\n",
       "                    window.PLOTLYENV=window.PLOTLYENV || {};\n",
       "                    \n",
       "                if (document.getElementById(\"efa0a98b-1515-4c92-818c-acfbc6b825a7\")) {\n",
       "                    Plotly.newPlot(\n",
       "                        'efa0a98b-1515-4c92-818c-acfbc6b825a7',\n",
       "                        [{\"mode\": \"lines+markers\", \"name\": \"economic\", \"type\": \"scatter\", \"x\": [\"2019-06-08T00:00:00\", \"2019-06-09T00:00:00\", \"2019-06-11T00:00:00\", \"2019-06-12T00:00:00\", \"2019-06-13T00:00:00\", \"2019-06-14T00:00:00\", \"2019-06-17T00:00:00\", \"2019-06-18T00:00:00\", \"2019-06-19T00:00:00\", \"2019-06-21T00:00:00\", \"2019-06-22T00:00:00\", \"2019-06-25T00:00:00\", \"2019-06-26T00:00:00\", \"2019-07-01T00:00:00\", \"2019-07-02T00:00:00\", \"2019-07-03T00:00:00\", \"2019-07-04T00:00:00\", \"2019-07-07T00:00:00\", \"2019-07-10T00:00:00\", \"2019-07-11T00:00:00\", \"2019-07-13T00:00:00\", \"2019-07-14T00:00:00\", \"2019-07-18T00:00:00\", \"2019-07-22T00:00:00\", \"2019-07-23T00:00:00\", \"2019-07-27T00:00:00\", \"2019-07-28T00:00:00\", \"2019-07-29T00:00:00\", \"2019-07-30T00:00:00\", \"2019-08-01T00:00:00\", \"2019-08-02T00:00:00\", \"2019-08-05T00:00:00\", \"2019-08-06T00:00:00\", \"2019-08-07T00:00:00\", \"2019-08-08T00:00:00\", \"2019-08-09T00:00:00\", \"2019-08-10T00:00:00\", \"2019-08-11T00:00:00\", \"2019-08-12T00:00:00\", \"2019-08-13T00:00:00\", \"2019-08-14T00:00:00\", \"2019-08-15T00:00:00\", \"2019-08-16T00:00:00\", \"2019-08-17T00:00:00\", \"2019-08-18T00:00:00\", \"2019-08-19T00:00:00\", \"2019-08-20T00:00:00\", \"2019-08-21T00:00:00\", \"2019-08-22T00:00:00\", \"2019-08-23T00:00:00\", \"2019-08-24T00:00:00\", \"2019-08-25T00:00:00\", \"2019-08-26T00:00:00\", \"2019-08-27T00:00:00\", \"2019-08-28T00:00:00\", \"2019-08-29T00:00:00\", \"2019-08-30T00:00:00\", \"2019-09-01T00:00:00\", \"2019-09-02T00:00:00\", \"2019-09-03T00:00:00\", \"2019-09-04T00:00:00\", \"2019-09-05T00:00:00\", \"2019-09-07T00:00:00\", \"2019-09-08T00:00:00\", \"2019-09-09T00:00:00\", \"2019-09-10T00:00:00\", \"2019-09-11T00:00:00\", \"2019-09-12T00:00:00\", \"2019-09-13T00:00:00\", \"2019-09-15T00:00:00\", \"2019-09-18T00:00:00\", \"2019-09-21T00:00:00\", \"2019-09-22T00:00:00\", \"2019-09-24T00:00:00\", \"2019-09-25T00:00:00\", \"2019-09-26T00:00:00\", \"2019-09-27T00:00:00\", \"2019-09-28T00:00:00\", \"2019-09-29T00:00:00\", \"2019-09-30T00:00:00\", \"2019-10-01T00:00:00\", \"2019-10-02T00:00:00\", \"2019-10-03T00:00:00\", \"2019-10-04T00:00:00\", \"2019-10-05T00:00:00\", \"2019-10-06T00:00:00\", \"2019-10-07T00:00:00\", \"2019-10-08T00:00:00\", \"2019-10-09T00:00:00\", \"2019-10-10T00:00:00\", \"2019-10-11T00:00:00\", \"2019-10-12T00:00:00\", \"2019-10-13T00:00:00\", \"2019-10-14T00:00:00\", \"2019-10-15T00:00:00\", \"2019-10-16T00:00:00\", \"2019-10-18T00:00:00\", \"2019-10-19T00:00:00\", \"2019-10-20T00:00:00\", \"2019-10-21T00:00:00\", \"2019-10-22T00:00:00\", \"2019-10-23T00:00:00\", \"2019-10-24T00:00:00\", \"2019-10-25T00:00:00\", \"2019-10-27T00:00:00\", \"2019-10-28T00:00:00\", \"2019-10-29T00:00:00\", \"2019-10-30T00:00:00\", \"2019-10-31T00:00:00\", \"2019-11-01T00:00:00\", \"2019-11-02T00:00:00\", \"2019-11-04T00:00:00\", \"2019-11-05T00:00:00\", \"2019-11-06T00:00:00\", \"2019-11-07T00:00:00\", \"2019-11-08T00:00:00\", \"2019-11-09T00:00:00\", \"2019-11-10T00:00:00\", \"2019-11-11T00:00:00\", \"2019-11-13T00:00:00\", \"2019-11-14T00:00:00\", \"2019-11-15T00:00:00\", \"2019-11-16T00:00:00\", \"2019-11-17T00:00:00\", \"2019-11-18T00:00:00\", \"2019-11-19T00:00:00\", \"2019-11-20T00:00:00\", \"2019-11-21T00:00:00\", \"2019-11-22T00:00:00\", \"2019-11-23T00:00:00\", \"2019-11-25T00:00:00\", \"2019-11-26T00:00:00\", \"2019-11-27T00:00:00\", \"2019-11-28T00:00:00\", \"2019-11-29T00:00:00\", \"2019-12-02T00:00:00\", \"2019-12-03T00:00:00\", \"2019-12-04T00:00:00\", \"2019-12-05T00:00:00\", \"2019-12-06T00:00:00\", \"2019-12-09T00:00:00\", \"2019-12-10T00:00:00\", \"2019-12-12T00:00:00\", \"2019-12-13T00:00:00\", \"2019-12-19T00:00:00\", \"2019-12-20T00:00:00\", \"2019-12-21T00:00:00\", \"2019-12-22T00:00:00\", \"2019-12-23T00:00:00\", \"2019-12-31T00:00:00\", \"2020-01-02T00:00:00\", \"2020-01-04T00:00:00\", \"2020-01-05T00:00:00\", \"2020-01-07T00:00:00\", \"2020-01-08T00:00:00\", \"2020-01-10T00:00:00\", \"2020-01-12T00:00:00\", \"2020-01-16T00:00:00\", \"2020-01-20T00:00:00\", \"2020-01-21T00:00:00\", \"2020-01-23T00:00:00\", \"2020-01-24T00:00:00\", \"2020-01-29T00:00:00\", \"2020-02-15T00:00:00\", \"2020-02-16T00:00:00\", \"2020-02-17T00:00:00\", \"2020-02-18T00:00:00\", \"2020-02-21T00:00:00\", \"2020-02-28T00:00:00\", \"2020-02-29T00:00:00\", \"2020-03-03T00:00:00\", \"2020-03-08T00:00:00\", \"2020-03-18T00:00:00\", \"2020-03-27T00:00:00\"], \"y\": [null, null, null, null, null, null, 0.2785739765157081, 0.26575652669392735, 0.2872381853102461, 0.28192114778526206, 0.2593093908209069, 0.25739565904884143, 0.2525251083290609, 0.24376319567718635, 0.2402880476072963, 0.23050014479289574, 0.22910561307754612, 0.23223247756202792, 0.29323413510644364, 0.28664827852741465, 0.2843019417174576, 0.29322156045598774, 0.30248464058000024, 0.31633527089406116, 0.3515040897230203, 0.28716053346644893, 0.29813540743249883, 0.2979115069192252, 0.3181277616564153, 0.3712986376095809, 0.37279105713182836, 0.3485413196081735, 0.34578148146463394, 0.3700297550573021, 0.4276792131157849, 0.42260533339781203, 0.37466176164609266, 0.3676634364517031, 0.40209565518813456, 0.46429110563336395, 0.4699260406850179, 0.42565764661578687, 0.43145253806305794, 0.3976045545863941, 0.41632337421350496, 0.39723267991081446, 0.3475821083053446, 0.31509887069316056, 0.2971540598195818, 0.2766305632056953, 0.27193774789361813, 0.25780805437323784, 0.2930215941376141, 0.310949175279298, 0.3611497032944529, 0.3797055736942488, 0.3906215903165651, 0.3964069547606333, 0.41839870849512734, 0.3631949518093552, 0.37971618374847843, 0.36343302106203296, 0.357368039229662, 0.33916680809714833, 0.3767281198864391, 0.34707667970950873, 0.35108100993952146, 0.32658351393578183, 0.3291835516570906, 0.32481060552216545, 0.33271952174985886, 0.28498535476267584, 0.2702855173788519, 0.2904323143949947, 0.271137857538368, 0.234732029706271, 0.2251872508195605, 0.21817298770384452, 0.2517795376077625, 0.2711315130113309, 0.2372578877421705, 0.28469314817640234, 0.3044518195532742, 0.3129618378613994, 0.3154707553628267, 0.293628846720762, 0.2905429600379418, 0.31102698231604037, 0.2707737058488121, 0.2542246281595933, 0.25514443119955177, 0.24933513041486136, 0.24617307107568379, 0.24647020173079245, 0.25915815348092114, 0.28378602594518293, 0.31107182559901464, 0.3004077934894164, 0.29385944569106953, 0.3009009935381012, 0.30898118527072016, 0.30226351361894516, 0.3009222306546913, 0.32498007518197364, 0.3673346942675921, 0.4230271456960745, 0.4846623266684355, 0.4877501083993185, 0.46207743724162625, 0.43709320033794336, 0.3762586929893162, 0.3317224927519743, 0.2919352572527054, 0.29707694558836223, 0.2852431423886254, 0.35499824203455504, 0.34742917294475845, 0.35554850007555333, 0.4248360718431256, 0.4841921935452427, 0.44383433717140136, 0.43488909795299807, 0.373091122078122, 0.36983889846607304, 0.3702146272983793, 0.31049467020859367, 0.25903695278190664, 0.2878115338052198, 0.3180411609468576, 0.324741634547929, 0.3860370717501467, 0.4223842841128898, 0.42994440012137053, 0.4592078062480263, 0.45353004376625566, 0.4749309584677806, 0.5260520014290215, 0.48695709838433643, 0.4738609227193308, 0.53658839805132, 0.4874739780793545, 0.4333506395518417, 0.4091124019745336, 0.3414008224737671, 0.3379865886940772, 0.32645761199148493, 0.24679506165754814, 0.2617833769465413, 0.25943751086763805, 0.2535105333865619, 0.29098272419692484, 0.2843076874455465, 0.28160039763530026, 0.30268566612955367, 0.28309653965163334, 0.2972938137620916, 0.285370464590167, 0.25739040951972436, 0.2642597010904804, 0.28669489802371395, 0.26930604643036016, 0.3405489236319932, 0.3218054338197813, 0.3532126681683142, 0.3627297206772121, 0.4167678792469531, 0.4290433816012945, 0.4266853886766007, 0.4346144389382798, 0.43977336200089184, 0.4306642612836415, 0.41001951619792454, 0.34557635300070244, 0.32558975911887494]}, {\"mode\": \"lines+markers\", \"name\": \"political\", \"type\": \"scatter\", \"x\": [\"2019-06-08T00:00:00\", \"2019-06-09T00:00:00\", \"2019-06-11T00:00:00\", \"2019-06-12T00:00:00\", \"2019-06-13T00:00:00\", \"2019-06-14T00:00:00\", \"2019-06-17T00:00:00\", \"2019-06-18T00:00:00\", \"2019-06-19T00:00:00\", \"2019-06-21T00:00:00\", \"2019-06-22T00:00:00\", \"2019-06-25T00:00:00\", \"2019-06-26T00:00:00\", \"2019-07-01T00:00:00\", \"2019-07-02T00:00:00\", \"2019-07-03T00:00:00\", \"2019-07-04T00:00:00\", \"2019-07-07T00:00:00\", \"2019-07-10T00:00:00\", \"2019-07-11T00:00:00\", \"2019-07-13T00:00:00\", \"2019-07-14T00:00:00\", \"2019-07-18T00:00:00\", \"2019-07-22T00:00:00\", \"2019-07-23T00:00:00\", \"2019-07-27T00:00:00\", \"2019-07-28T00:00:00\", \"2019-07-29T00:00:00\", \"2019-07-30T00:00:00\", \"2019-08-01T00:00:00\", \"2019-08-02T00:00:00\", \"2019-08-05T00:00:00\", \"2019-08-06T00:00:00\", \"2019-08-07T00:00:00\", \"2019-08-08T00:00:00\", \"2019-08-09T00:00:00\", \"2019-08-10T00:00:00\", \"2019-08-11T00:00:00\", \"2019-08-12T00:00:00\", \"2019-08-13T00:00:00\", \"2019-08-14T00:00:00\", \"2019-08-15T00:00:00\", \"2019-08-16T00:00:00\", \"2019-08-17T00:00:00\", \"2019-08-18T00:00:00\", \"2019-08-19T00:00:00\", \"2019-08-20T00:00:00\", \"2019-08-21T00:00:00\", \"2019-08-22T00:00:00\", \"2019-08-23T00:00:00\", \"2019-08-24T00:00:00\", \"2019-08-25T00:00:00\", \"2019-08-26T00:00:00\", \"2019-08-27T00:00:00\", \"2019-08-28T00:00:00\", \"2019-08-29T00:00:00\", \"2019-08-30T00:00:00\", \"2019-09-01T00:00:00\", \"2019-09-02T00:00:00\", \"2019-09-03T00:00:00\", \"2019-09-04T00:00:00\", \"2019-09-05T00:00:00\", \"2019-09-07T00:00:00\", \"2019-09-08T00:00:00\", \"2019-09-09T00:00:00\", \"2019-09-10T00:00:00\", \"2019-09-11T00:00:00\", \"2019-09-12T00:00:00\", \"2019-09-13T00:00:00\", \"2019-09-15T00:00:00\", \"2019-09-18T00:00:00\", \"2019-09-21T00:00:00\", \"2019-09-22T00:00:00\", \"2019-09-24T00:00:00\", \"2019-09-25T00:00:00\", \"2019-09-26T00:00:00\", \"2019-09-27T00:00:00\", \"2019-09-28T00:00:00\", \"2019-09-29T00:00:00\", \"2019-09-30T00:00:00\", \"2019-10-01T00:00:00\", \"2019-10-02T00:00:00\", \"2019-10-03T00:00:00\", \"2019-10-04T00:00:00\", \"2019-10-05T00:00:00\", \"2019-10-06T00:00:00\", \"2019-10-07T00:00:00\", \"2019-10-08T00:00:00\", \"2019-10-09T00:00:00\", \"2019-10-10T00:00:00\", \"2019-10-11T00:00:00\", \"2019-10-12T00:00:00\", \"2019-10-13T00:00:00\", \"2019-10-14T00:00:00\", \"2019-10-15T00:00:00\", \"2019-10-16T00:00:00\", \"2019-10-18T00:00:00\", \"2019-10-19T00:00:00\", \"2019-10-20T00:00:00\", \"2019-10-21T00:00:00\", \"2019-10-22T00:00:00\", \"2019-10-23T00:00:00\", \"2019-10-24T00:00:00\", \"2019-10-25T00:00:00\", \"2019-10-27T00:00:00\", \"2019-10-28T00:00:00\", \"2019-10-29T00:00:00\", \"2019-10-30T00:00:00\", \"2019-10-31T00:00:00\", \"2019-11-01T00:00:00\", \"2019-11-02T00:00:00\", \"2019-11-04T00:00:00\", \"2019-11-05T00:00:00\", \"2019-11-06T00:00:00\", \"2019-11-07T00:00:00\", \"2019-11-08T00:00:00\", \"2019-11-09T00:00:00\", \"2019-11-10T00:00:00\", \"2019-11-11T00:00:00\", \"2019-11-13T00:00:00\", \"2019-11-14T00:00:00\", \"2019-11-15T00:00:00\", \"2019-11-16T00:00:00\", \"2019-11-17T00:00:00\", \"2019-11-18T00:00:00\", \"2019-11-19T00:00:00\", \"2019-11-20T00:00:00\", \"2019-11-21T00:00:00\", \"2019-11-22T00:00:00\", \"2019-11-23T00:00:00\", \"2019-11-25T00:00:00\", \"2019-11-26T00:00:00\", \"2019-11-27T00:00:00\", \"2019-11-28T00:00:00\", \"2019-11-29T00:00:00\", \"2019-12-02T00:00:00\", \"2019-12-03T00:00:00\", \"2019-12-04T00:00:00\", \"2019-12-05T00:00:00\", \"2019-12-06T00:00:00\", \"2019-12-09T00:00:00\", \"2019-12-10T00:00:00\", \"2019-12-12T00:00:00\", \"2019-12-13T00:00:00\", \"2019-12-19T00:00:00\", \"2019-12-20T00:00:00\", \"2019-12-21T00:00:00\", \"2019-12-22T00:00:00\", \"2019-12-23T00:00:00\", \"2019-12-31T00:00:00\", \"2020-01-02T00:00:00\", \"2020-01-04T00:00:00\", \"2020-01-05T00:00:00\", \"2020-01-07T00:00:00\", \"2020-01-08T00:00:00\", \"2020-01-10T00:00:00\", \"2020-01-12T00:00:00\", \"2020-01-16T00:00:00\", \"2020-01-20T00:00:00\", \"2020-01-21T00:00:00\", \"2020-01-23T00:00:00\", \"2020-01-24T00:00:00\", \"2020-01-29T00:00:00\", \"2020-02-15T00:00:00\", \"2020-02-16T00:00:00\", \"2020-02-17T00:00:00\", \"2020-02-18T00:00:00\", \"2020-02-21T00:00:00\", \"2020-02-28T00:00:00\", \"2020-02-29T00:00:00\", \"2020-03-03T00:00:00\", \"2020-03-08T00:00:00\", \"2020-03-18T00:00:00\", \"2020-03-27T00:00:00\"], \"y\": [null, null, null, null, null, null, 0.399121333160363, 0.3813235449456925, 0.3832856579235528, 0.3757268814507982, 0.374613303131928, 0.3624364402781726, 0.3485908403345489, 0.3435395165733216, 0.34842651535712654, 0.3265637505905338, 0.36490562126994036, 0.36786565136511934, 0.33500063492231785, 0.323481916812885, 0.29965908910841793, 0.2920640348089263, 0.28391724049011413, 0.2623204631410123, 0.26477803110662107, 0.30538884836809477, 0.33341279218556, 0.35225708174665765, 0.3417845668675277, 0.33204072650802674, 0.3272037179641294, 0.3180444698624118, 0.3079996911929013, 0.2804106148996389, 0.2543437391931262, 0.2763423720011577, 0.3006060876352887, 0.2810691852237627, 0.28019781904017516, 0.25394466775624197, 0.24938056144945345, 0.29131943962695594, 0.27649406870930343, 0.2697576223557438, 0.2725566324212438, 0.28845542797451146, 0.3210510773069911, 0.3225398722413565, 0.3394826936479901, 0.3581529386986405, 0.3532391438237899, 0.384982066597009, 0.35199672928517967, 0.32494732956923444, 0.31306020643893046, 0.28281654953290003, 0.27421114051443574, 0.26780156580941616, 0.24802966084469807, 0.2853297699722918, 0.2932661854076174, 0.311979706640876, 0.3060467973738112, 0.3001715613058549, 0.3135755294815024, 0.3304863061692277, 0.31763947125789505, 0.3014017511709742, 0.2802569977190918, 0.2684159669286744, 0.2980086562646279, 0.2802919975502832, 0.23864315281908427, 0.21898455193447325, 0.2364699334698456, 0.25342874842715774, 0.25302445829196524, 0.21233716574235187, 0.22970130798677732, 0.23806654484677153, 0.2411386552972652, 0.21921336120788976, 0.2119627541140455, 0.2225078468026262, 0.23031002390267452, 0.2477099139384117, 0.29357045307347296, 0.32413431050921265, 0.3625746212709316, 0.38921626101031437, 0.40980891346088616, 0.4149998702738986, 0.391751953605554, 0.38290370997840534, 0.3595195467991571, 0.3467762886970571, 0.3263492465916464, 0.2907606731600461, 0.2737281326785929, 0.3103931886082715, 0.2873098448358674, 0.3097779027814747, 0.3046609232110451, 0.2881056754274866, 0.2786295774385327, 0.27747010680913003, 0.22804316485462275, 0.21768742872590188, 0.19077501776488573, 0.19559081481851623, 0.19701481820543815, 0.2122078168140104, 0.24949511533685428, 0.25023818585892194, 0.2749218862185638, 0.2663163948967456, 0.24471533485695982, 0.24871396827248055, 0.2404029215494315, 0.20173764026534288, 0.21078044331056972, 0.19248015251846962, 0.20524748057521522, 0.21239222149445283, 0.2273456797622096, 0.25485721424039953, 0.26871155296392585, 0.2683185676920529, 0.26893424653596454, 0.2768578406972807, 0.2789220254675151, 0.27651604825738524, 0.30366422243054575, 0.3071121676465863, 0.306902862832382, 0.31234897430366587, 0.29111249750166024, 0.31261164709928707, 0.33408285813714855, 0.27215389439853305, 0.27009516433019226, 0.29458358621715325, 0.2976213881132236, 0.30706671710494987, 0.3152252967244073, 0.2970465001638026, 0.308166207098256, 0.3057785944281637, 0.2792010110336593, 0.2855635117381422, 0.2949570022154576, 0.30082809750835093, 0.29880005578590246, 0.3273982938312327, 0.3146070609579759, 0.3381474093767686, 0.3407495235806021, 0.36313250133508773, 0.33065643903402014, 0.3187424687185386, 0.2919883477275865, 0.2989593565573992, 0.26499126182351956, 0.24460018581710866, 0.21201463012374583, 0.19806075928633968, 0.19772327519353586, 0.19642981858405742, 0.1897770164104003, 0.2302923754709219, 0.23798173452669652, 0.2395187371338901, 0.2648621591629121, 0.27616201911944627]}, {\"mode\": \"lines+markers\", \"name\": \"protest\", \"type\": \"scatter\", \"x\": [\"2019-06-08T00:00:00\", \"2019-06-09T00:00:00\", \"2019-06-11T00:00:00\", \"2019-06-12T00:00:00\", \"2019-06-13T00:00:00\", \"2019-06-14T00:00:00\", \"2019-06-17T00:00:00\", \"2019-06-18T00:00:00\", \"2019-06-19T00:00:00\", \"2019-06-21T00:00:00\", \"2019-06-22T00:00:00\", \"2019-06-25T00:00:00\", \"2019-06-26T00:00:00\", \"2019-07-01T00:00:00\", \"2019-07-02T00:00:00\", \"2019-07-03T00:00:00\", \"2019-07-04T00:00:00\", \"2019-07-07T00:00:00\", \"2019-07-10T00:00:00\", \"2019-07-11T00:00:00\", \"2019-07-13T00:00:00\", \"2019-07-14T00:00:00\", \"2019-07-18T00:00:00\", \"2019-07-22T00:00:00\", \"2019-07-23T00:00:00\", \"2019-07-27T00:00:00\", \"2019-07-28T00:00:00\", \"2019-07-29T00:00:00\", \"2019-07-30T00:00:00\", \"2019-08-01T00:00:00\", \"2019-08-02T00:00:00\", \"2019-08-05T00:00:00\", \"2019-08-06T00:00:00\", \"2019-08-07T00:00:00\", \"2019-08-08T00:00:00\", \"2019-08-09T00:00:00\", \"2019-08-10T00:00:00\", \"2019-08-11T00:00:00\", \"2019-08-12T00:00:00\", \"2019-08-13T00:00:00\", \"2019-08-14T00:00:00\", \"2019-08-15T00:00:00\", \"2019-08-16T00:00:00\", \"2019-08-17T00:00:00\", \"2019-08-18T00:00:00\", \"2019-08-19T00:00:00\", \"2019-08-20T00:00:00\", \"2019-08-21T00:00:00\", \"2019-08-22T00:00:00\", \"2019-08-23T00:00:00\", \"2019-08-24T00:00:00\", \"2019-08-25T00:00:00\", \"2019-08-26T00:00:00\", \"2019-08-27T00:00:00\", \"2019-08-28T00:00:00\", \"2019-08-29T00:00:00\", \"2019-08-30T00:00:00\", \"2019-09-01T00:00:00\", \"2019-09-02T00:00:00\", \"2019-09-03T00:00:00\", \"2019-09-04T00:00:00\", \"2019-09-05T00:00:00\", \"2019-09-07T00:00:00\", \"2019-09-08T00:00:00\", \"2019-09-09T00:00:00\", \"2019-09-10T00:00:00\", \"2019-09-11T00:00:00\", \"2019-09-12T00:00:00\", \"2019-09-13T00:00:00\", \"2019-09-15T00:00:00\", \"2019-09-18T00:00:00\", \"2019-09-21T00:00:00\", \"2019-09-22T00:00:00\", \"2019-09-24T00:00:00\", \"2019-09-25T00:00:00\", \"2019-09-26T00:00:00\", \"2019-09-27T00:00:00\", \"2019-09-28T00:00:00\", \"2019-09-29T00:00:00\", \"2019-09-30T00:00:00\", \"2019-10-01T00:00:00\", \"2019-10-02T00:00:00\", \"2019-10-03T00:00:00\", \"2019-10-04T00:00:00\", \"2019-10-05T00:00:00\", \"2019-10-06T00:00:00\", \"2019-10-07T00:00:00\", \"2019-10-08T00:00:00\", \"2019-10-09T00:00:00\", \"2019-10-10T00:00:00\", \"2019-10-11T00:00:00\", \"2019-10-12T00:00:00\", \"2019-10-13T00:00:00\", \"2019-10-14T00:00:00\", \"2019-10-15T00:00:00\", \"2019-10-16T00:00:00\", \"2019-10-18T00:00:00\", \"2019-10-19T00:00:00\", \"2019-10-20T00:00:00\", \"2019-10-21T00:00:00\", \"2019-10-22T00:00:00\", \"2019-10-23T00:00:00\", \"2019-10-24T00:00:00\", \"2019-10-25T00:00:00\", \"2019-10-27T00:00:00\", \"2019-10-28T00:00:00\", \"2019-10-29T00:00:00\", \"2019-10-30T00:00:00\", \"2019-10-31T00:00:00\", \"2019-11-01T00:00:00\", \"2019-11-02T00:00:00\", \"2019-11-04T00:00:00\", \"2019-11-05T00:00:00\", \"2019-11-06T00:00:00\", \"2019-11-07T00:00:00\", \"2019-11-08T00:00:00\", \"2019-11-09T00:00:00\", \"2019-11-10T00:00:00\", \"2019-11-11T00:00:00\", \"2019-11-13T00:00:00\", \"2019-11-14T00:00:00\", \"2019-11-15T00:00:00\", \"2019-11-16T00:00:00\", \"2019-11-17T00:00:00\", \"2019-11-18T00:00:00\", \"2019-11-19T00:00:00\", \"2019-11-20T00:00:00\", \"2019-11-21T00:00:00\", \"2019-11-22T00:00:00\", \"2019-11-23T00:00:00\", \"2019-11-25T00:00:00\", \"2019-11-26T00:00:00\", \"2019-11-27T00:00:00\", \"2019-11-28T00:00:00\", \"2019-11-29T00:00:00\", \"2019-12-02T00:00:00\", \"2019-12-03T00:00:00\", \"2019-12-04T00:00:00\", \"2019-12-05T00:00:00\", \"2019-12-06T00:00:00\", \"2019-12-09T00:00:00\", \"2019-12-10T00:00:00\", \"2019-12-12T00:00:00\", \"2019-12-13T00:00:00\", \"2019-12-19T00:00:00\", \"2019-12-20T00:00:00\", \"2019-12-21T00:00:00\", \"2019-12-22T00:00:00\", \"2019-12-23T00:00:00\", \"2019-12-31T00:00:00\", \"2020-01-02T00:00:00\", \"2020-01-04T00:00:00\", \"2020-01-05T00:00:00\", \"2020-01-07T00:00:00\", \"2020-01-08T00:00:00\", \"2020-01-10T00:00:00\", \"2020-01-12T00:00:00\", \"2020-01-16T00:00:00\", \"2020-01-20T00:00:00\", \"2020-01-21T00:00:00\", \"2020-01-23T00:00:00\", \"2020-01-24T00:00:00\", \"2020-01-29T00:00:00\", \"2020-02-15T00:00:00\", \"2020-02-16T00:00:00\", \"2020-02-17T00:00:00\", \"2020-02-18T00:00:00\", \"2020-02-21T00:00:00\", \"2020-02-28T00:00:00\", \"2020-02-29T00:00:00\", \"2020-03-03T00:00:00\", \"2020-03-08T00:00:00\", \"2020-03-18T00:00:00\", \"2020-03-27T00:00:00\"], \"y\": [null, null, null, null, null, null, 0.322304690323929, 0.3529199283603802, 0.3294761567662012, 0.34235197076393975, 0.3660773060471651, 0.380167900672986, 0.3988840513363902, 0.41269728774949216, 0.41128543703557724, 0.44293610461657057, 0.4059887656525135, 0.3999018710728528, 0.37176522997123856, 0.38986980465970034, 0.41603896917412453, 0.41471440473508603, 0.41359811892988574, 0.4213442659649265, 0.38371787917035866, 0.4074506181654562, 0.3684518003819411, 0.34983141133411727, 0.34008767147605706, 0.2966606358823925, 0.3000052249040423, 0.3334142105294147, 0.34621882734246495, 0.3495596300430591, 0.31797704769108914, 0.30105229460103045, 0.32473215071861883, 0.3512673783245344, 0.31770652577169045, 0.2817642266103942, 0.28069339786552877, 0.2830229137572573, 0.2920533932276387, 0.33263782305786205, 0.3111199933652512, 0.3143118921146741, 0.33136681438766435, 0.36236125706548294, 0.363363246532428, 0.3652164980956642, 0.37482310828259197, 0.35720987902975315, 0.35498167657720625, 0.36410349515146756, 0.3257900902666167, 0.3374778767728512, 0.3351672691689992, 0.3357914794299505, 0.33357163066017465, 0.35147527821835306, 0.3270176308439042, 0.3245872722970911, 0.33658516339652683, 0.3606616305969968, 0.30969635063205836, 0.3224370141212635, 0.33127951880258344, 0.372014734893244, 0.39055945062381764, 0.40677342754916024, 0.3692718219855133, 0.4347226476870411, 0.49107132980206386, 0.4905831336705321, 0.4923922089917864, 0.5118392218665712, 0.5217882908884742, 0.5694898465538035, 0.5185191544054601, 0.49080194214189754, 0.5216034569605644, 0.496093490615708, 0.48358542633268037, 0.4645303153359745, 0.4542192207344989, 0.4586612393408264, 0.41588658688858543, 0.36483870717474715, 0.36665167288025646, 0.3565591108300925, 0.33504665533956207, 0.33566499931124005, 0.36207497531876226, 0.37062608829080224, 0.38132229971992176, 0.3694376853577599, 0.36257892780933887, 0.4088315333505374, 0.4324124216303375, 0.38870581785362723, 0.40370896989341226, 0.38795858359957996, 0.3944168461342635, 0.3869142493905396, 0.354035728293875, 0.2995027474947953, 0.2872945084769416, 0.29456246287477944, 0.3471475449934878, 0.36731598484354017, 0.42672648880524544, 0.456069690434015, 0.45856962741044, 0.4526848685527156, 0.4398349713928105, 0.37868536306869915, 0.4078554921982816, 0.39573753165196596, 0.3347610066074428, 0.31407016618941425, 0.34538521951802864, 0.3726307495285321, 0.42166139734666247, 0.4177688800394739, 0.40243969293941084, 0.4346481155510065, 0.47225149425416724, 0.443869898502727, 0.4130245925171776, 0.39840052475479004, 0.335040902782338, 0.3010996676297247, 0.26639137744808344, 0.23368002610538702, 0.23956709340136198, 0.2127200672285532, 0.18283550106931795, 0.20043125451637622, 0.19205621914352042, 0.19125770755014665, 0.242430857590453, 0.27206577423100475, 0.29326620991224256, 0.35153246042128267, 0.3467881145815151, 0.37649588784471216, 0.4450387312441955, 0.4324380286252946, 0.46136147809870226, 0.4609259548752954, 0.41406027358761704, 0.414864215046102, 0.4195995465787968, 0.36991604003921313, 0.40229639939039025, 0.3645587768611393, 0.3738800118292303, 0.3794770891451874, 0.40508385987549894, 0.3945626332577468, 0.43870560584205276, 0.36049171981060707, 0.41320330435669866, 0.40218714601457667, 0.42525564919904163, 0.38517136146670683, 0.3732333432051692, 0.37688479273934156, 0.3756085446513196, 0.32993426252818586, 0.3313540041896616, 0.3504617466681849, 0.389561487836385, 0.39824822176167834]}],\n",
       "                        {\"template\": {\"data\": {\"bar\": [{\"error_x\": {\"color\": \"#2a3f5f\"}, \"error_y\": {\"color\": \"#2a3f5f\"}, \"marker\": {\"line\": {\"color\": \"#E5ECF6\", \"width\": 0.5}}, \"type\": \"bar\"}], \"barpolar\": [{\"marker\": {\"line\": {\"color\": \"#E5ECF6\", \"width\": 0.5}}, \"type\": \"barpolar\"}], \"carpet\": [{\"aaxis\": {\"endlinecolor\": \"#2a3f5f\", \"gridcolor\": \"white\", \"linecolor\": \"white\", \"minorgridcolor\": \"white\", \"startlinecolor\": \"#2a3f5f\"}, \"baxis\": {\"endlinecolor\": \"#2a3f5f\", \"gridcolor\": \"white\", \"linecolor\": \"white\", \"minorgridcolor\": \"white\", \"startlinecolor\": \"#2a3f5f\"}, \"type\": \"carpet\"}], \"choropleth\": [{\"colorbar\": {\"outlinewidth\": 0, \"ticks\": \"\"}, \"type\": \"choropleth\"}], \"contour\": [{\"colorbar\": {\"outlinewidth\": 0, \"ticks\": \"\"}, \"colorscale\": [[0.0, \"#0d0887\"], [0.1111111111111111, \"#46039f\"], [0.2222222222222222, \"#7201a8\"], [0.3333333333333333, \"#9c179e\"], [0.4444444444444444, \"#bd3786\"], [0.5555555555555556, \"#d8576b\"], [0.6666666666666666, \"#ed7953\"], [0.7777777777777778, \"#fb9f3a\"], [0.8888888888888888, \"#fdca26\"], [1.0, \"#f0f921\"]], \"type\": \"contour\"}], \"contourcarpet\": [{\"colorbar\": {\"outlinewidth\": 0, \"ticks\": \"\"}, \"type\": \"contourcarpet\"}], \"heatmap\": [{\"colorbar\": {\"outlinewidth\": 0, \"ticks\": \"\"}, \"colorscale\": [[0.0, \"#0d0887\"], [0.1111111111111111, \"#46039f\"], [0.2222222222222222, \"#7201a8\"], [0.3333333333333333, \"#9c179e\"], [0.4444444444444444, \"#bd3786\"], [0.5555555555555556, \"#d8576b\"], [0.6666666666666666, \"#ed7953\"], [0.7777777777777778, \"#fb9f3a\"], [0.8888888888888888, \"#fdca26\"], [1.0, \"#f0f921\"]], \"type\": \"heatmap\"}], \"heatmapgl\": [{\"colorbar\": {\"outlinewidth\": 0, \"ticks\": \"\"}, \"colorscale\": [[0.0, \"#0d0887\"], [0.1111111111111111, \"#46039f\"], [0.2222222222222222, \"#7201a8\"], [0.3333333333333333, \"#9c179e\"], [0.4444444444444444, \"#bd3786\"], [0.5555555555555556, \"#d8576b\"], [0.6666666666666666, \"#ed7953\"], [0.7777777777777778, \"#fb9f3a\"], [0.8888888888888888, \"#fdca26\"], [1.0, \"#f0f921\"]], \"type\": \"heatmapgl\"}], \"histogram\": [{\"marker\": {\"colorbar\": {\"outlinewidth\": 0, \"ticks\": \"\"}}, \"type\": \"histogram\"}], \"histogram2d\": [{\"colorbar\": {\"outlinewidth\": 0, \"ticks\": \"\"}, \"colorscale\": [[0.0, \"#0d0887\"], [0.1111111111111111, \"#46039f\"], [0.2222222222222222, \"#7201a8\"], [0.3333333333333333, \"#9c179e\"], [0.4444444444444444, \"#bd3786\"], [0.5555555555555556, \"#d8576b\"], [0.6666666666666666, \"#ed7953\"], [0.7777777777777778, \"#fb9f3a\"], [0.8888888888888888, \"#fdca26\"], [1.0, \"#f0f921\"]], \"type\": \"histogram2d\"}], \"histogram2dcontour\": [{\"colorbar\": {\"outlinewidth\": 0, \"ticks\": \"\"}, \"colorscale\": [[0.0, \"#0d0887\"], [0.1111111111111111, \"#46039f\"], [0.2222222222222222, \"#7201a8\"], [0.3333333333333333, \"#9c179e\"], [0.4444444444444444, \"#bd3786\"], [0.5555555555555556, \"#d8576b\"], [0.6666666666666666, \"#ed7953\"], [0.7777777777777778, \"#fb9f3a\"], [0.8888888888888888, \"#fdca26\"], [1.0, \"#f0f921\"]], \"type\": \"histogram2dcontour\"}], \"mesh3d\": [{\"colorbar\": {\"outlinewidth\": 0, \"ticks\": \"\"}, \"type\": \"mesh3d\"}], \"parcoords\": [{\"line\": {\"colorbar\": {\"outlinewidth\": 0, \"ticks\": \"\"}}, \"type\": \"parcoords\"}], \"pie\": [{\"automargin\": true, \"type\": \"pie\"}], \"scatter\": [{\"marker\": {\"colorbar\": {\"outlinewidth\": 0, \"ticks\": \"\"}}, \"type\": \"scatter\"}], \"scatter3d\": [{\"line\": {\"colorbar\": {\"outlinewidth\": 0, \"ticks\": \"\"}}, \"marker\": {\"colorbar\": {\"outlinewidth\": 0, \"ticks\": \"\"}}, \"type\": \"scatter3d\"}], \"scattercarpet\": [{\"marker\": {\"colorbar\": {\"outlinewidth\": 0, \"ticks\": \"\"}}, \"type\": \"scattercarpet\"}], \"scattergeo\": [{\"marker\": {\"colorbar\": {\"outlinewidth\": 0, \"ticks\": \"\"}}, \"type\": \"scattergeo\"}], \"scattergl\": [{\"marker\": {\"colorbar\": {\"outlinewidth\": 0, \"ticks\": \"\"}}, \"type\": \"scattergl\"}], \"scattermapbox\": [{\"marker\": {\"colorbar\": {\"outlinewidth\": 0, \"ticks\": \"\"}}, \"type\": \"scattermapbox\"}], \"scatterpolar\": [{\"marker\": {\"colorbar\": {\"outlinewidth\": 0, \"ticks\": \"\"}}, \"type\": \"scatterpolar\"}], \"scatterpolargl\": [{\"marker\": {\"colorbar\": {\"outlinewidth\": 0, \"ticks\": \"\"}}, \"type\": \"scatterpolargl\"}], \"scatterternary\": [{\"marker\": {\"colorbar\": {\"outlinewidth\": 0, \"ticks\": \"\"}}, \"type\": \"scatterternary\"}], \"surface\": [{\"colorbar\": {\"outlinewidth\": 0, \"ticks\": \"\"}, \"colorscale\": [[0.0, \"#0d0887\"], [0.1111111111111111, \"#46039f\"], [0.2222222222222222, \"#7201a8\"], [0.3333333333333333, \"#9c179e\"], [0.4444444444444444, \"#bd3786\"], [0.5555555555555556, \"#d8576b\"], [0.6666666666666666, \"#ed7953\"], [0.7777777777777778, \"#fb9f3a\"], [0.8888888888888888, \"#fdca26\"], [1.0, \"#f0f921\"]], \"type\": \"surface\"}], \"table\": [{\"cells\": {\"fill\": {\"color\": \"#EBF0F8\"}, \"line\": {\"color\": \"white\"}}, \"header\": {\"fill\": {\"color\": \"#C8D4E3\"}, \"line\": {\"color\": \"white\"}}, \"type\": \"table\"}]}, \"layout\": {\"annotationdefaults\": {\"arrowcolor\": \"#2a3f5f\", \"arrowhead\": 0, \"arrowwidth\": 1}, \"coloraxis\": {\"colorbar\": {\"outlinewidth\": 0, \"ticks\": \"\"}}, \"colorscale\": {\"diverging\": [[0, \"#8e0152\"], [0.1, \"#c51b7d\"], [0.2, \"#de77ae\"], [0.3, \"#f1b6da\"], [0.4, \"#fde0ef\"], [0.5, \"#f7f7f7\"], [0.6, \"#e6f5d0\"], [0.7, \"#b8e186\"], [0.8, \"#7fbc41\"], [0.9, \"#4d9221\"], [1, \"#276419\"]], \"sequential\": [[0.0, \"#0d0887\"], [0.1111111111111111, \"#46039f\"], [0.2222222222222222, \"#7201a8\"], [0.3333333333333333, \"#9c179e\"], [0.4444444444444444, \"#bd3786\"], [0.5555555555555556, \"#d8576b\"], [0.6666666666666666, \"#ed7953\"], [0.7777777777777778, \"#fb9f3a\"], [0.8888888888888888, \"#fdca26\"], [1.0, \"#f0f921\"]], \"sequentialminus\": [[0.0, \"#0d0887\"], [0.1111111111111111, \"#46039f\"], [0.2222222222222222, \"#7201a8\"], [0.3333333333333333, \"#9c179e\"], [0.4444444444444444, \"#bd3786\"], [0.5555555555555556, \"#d8576b\"], [0.6666666666666666, \"#ed7953\"], [0.7777777777777778, \"#fb9f3a\"], [0.8888888888888888, \"#fdca26\"], [1.0, \"#f0f921\"]]}, \"colorway\": [\"#636efa\", \"#EF553B\", \"#00cc96\", \"#ab63fa\", \"#FFA15A\", \"#19d3f3\", \"#FF6692\", \"#B6E880\", \"#FF97FF\", \"#FECB52\"], \"font\": {\"color\": \"#2a3f5f\"}, \"geo\": {\"bgcolor\": \"white\", \"lakecolor\": \"white\", \"landcolor\": \"#E5ECF6\", \"showlakes\": true, \"showland\": true, \"subunitcolor\": \"white\"}, \"hoverlabel\": {\"align\": \"left\"}, \"hovermode\": \"closest\", \"mapbox\": {\"style\": \"light\"}, \"paper_bgcolor\": \"white\", \"plot_bgcolor\": \"#E5ECF6\", \"polar\": {\"angularaxis\": {\"gridcolor\": \"white\", \"linecolor\": \"white\", \"ticks\": \"\"}, \"bgcolor\": \"#E5ECF6\", \"radialaxis\": {\"gridcolor\": \"white\", \"linecolor\": \"white\", \"ticks\": \"\"}}, \"scene\": {\"xaxis\": {\"backgroundcolor\": \"#E5ECF6\", \"gridcolor\": \"white\", \"gridwidth\": 2, \"linecolor\": \"white\", \"showbackground\": true, \"ticks\": \"\", \"zerolinecolor\": \"white\"}, \"yaxis\": {\"backgroundcolor\": \"#E5ECF6\", \"gridcolor\": \"white\", \"gridwidth\": 2, \"linecolor\": \"white\", \"showbackground\": true, \"ticks\": \"\", \"zerolinecolor\": \"white\"}, \"zaxis\": {\"backgroundcolor\": \"#E5ECF6\", \"gridcolor\": \"white\", \"gridwidth\": 2, \"linecolor\": \"white\", \"showbackground\": true, \"ticks\": \"\", \"zerolinecolor\": \"white\"}}, \"shapedefaults\": {\"line\": {\"color\": \"#2a3f5f\"}}, \"ternary\": {\"aaxis\": {\"gridcolor\": \"white\", \"linecolor\": \"white\", \"ticks\": \"\"}, \"baxis\": {\"gridcolor\": \"white\", \"linecolor\": \"white\", \"ticks\": \"\"}, \"bgcolor\": \"#E5ECF6\", \"caxis\": {\"gridcolor\": \"white\", \"linecolor\": \"white\", \"ticks\": \"\"}}, \"title\": {\"x\": 0.05}, \"xaxis\": {\"automargin\": true, \"gridcolor\": \"white\", \"linecolor\": \"white\", \"ticks\": \"\", \"title\": {\"standoff\": 15}, \"zerolinecolor\": \"white\", \"zerolinewidth\": 2}, \"yaxis\": {\"automargin\": true, \"gridcolor\": \"white\", \"linecolor\": \"white\", \"ticks\": \"\", \"title\": {\"standoff\": 15}, \"zerolinecolor\": \"white\", \"zerolinewidth\": 2}}}, \"title\": {\"text\": \"Topic Composition of Average Reuters Article by Day (7-day Rolling Window)\"}},\n",
       "                        {\"responsive\": true}\n",
       "                    ).then(function(){\n",
       "                            \n",
       "var gd = document.getElementById('efa0a98b-1515-4c92-818c-acfbc6b825a7');\n",
       "var x = new MutationObserver(function (mutations, observer) {{\n",
       "        var display = window.getComputedStyle(gd).display;\n",
       "        if (!display || display === 'none') {{\n",
       "            console.log([gd, 'removed!']);\n",
       "            Plotly.purge(gd);\n",
       "            observer.disconnect();\n",
       "        }}\n",
       "}});\n",
       "\n",
       "// Listen for the removal of the full notebook cells\n",
       "var notebookContainer = gd.closest('#notebook-container');\n",
       "if (notebookContainer) {{\n",
       "    x.observe(notebookContainer, {childList: true});\n",
       "}}\n",
       "\n",
       "// Listen for the clearing of the current output cell\n",
       "var outputEl = gd.closest('.output');\n",
       "if (outputEl) {{\n",
       "    x.observe(outputEl, {childList: true});\n",
       "}}\n",
       "\n",
       "                        })\n",
       "                };\n",
       "                });\n",
       "            </script>\n",
       "        </div>"
      ]
     },
     "metadata": {},
     "output_type": "display_data"
    },
    {
     "data": {
      "application/vnd.plotly.v1+json": {
       "config": {
        "plotlyServerURL": "https://plot.ly"
       },
       "data": [
        {
         "mode": "lines+markers",
         "name": "economic",
         "type": "scatter",
         "x": [
          "2019-06-13T00:00:00",
          "2019-06-17T00:00:00",
          "2019-06-20T00:00:00",
          "2019-06-24T00:00:00",
          "2019-06-27T00:00:00",
          "2019-06-30T00:00:00",
          "2019-07-02T00:00:00",
          "2019-07-04T00:00:00",
          "2019-07-08T00:00:00",
          "2019-07-15T00:00:00",
          "2019-07-22T00:00:00",
          "2019-07-29T00:00:00",
          "2019-07-31T00:00:00",
          "2019-08-01T00:00:00",
          "2019-08-04T00:00:00",
          "2019-08-08T00:00:00",
          "2019-08-11T00:00:00",
          "2019-08-12T00:00:00",
          "2019-08-13T00:00:00",
          "2019-08-15T00:00:00",
          "2019-08-16T00:00:00",
          "2019-08-19T00:00:00",
          "2019-08-20T00:00:00",
          "2019-08-26T00:00:00",
          "2019-08-28T00:00:00",
          "2019-09-05T00:00:00",
          "2019-09-08T00:00:00",
          "2019-09-09T00:00:00",
          "2019-09-10T00:00:00",
          "2019-09-12T00:00:00",
          "2019-09-18T00:00:00",
          "2019-09-20T00:00:00",
          "2019-09-30T00:00:00",
          "2019-10-02T00:00:00",
          "2019-10-09T00:00:00",
          "2019-10-10T00:00:00",
          "2019-10-11T00:00:00",
          "2019-10-12T00:00:00",
          "2019-10-15T00:00:00",
          "2019-10-16T00:00:00",
          "2019-10-21T00:00:00",
          "2019-10-23T00:00:00",
          "2019-10-25T00:00:00",
          "2019-10-29T00:00:00",
          "2019-11-01T00:00:00",
          "2019-11-02T00:00:00",
          "2019-11-08T00:00:00",
          "2019-11-14T00:00:00",
          "2019-11-20T00:00:00",
          "2019-11-21T00:00:00",
          "2019-11-29T00:00:00",
          "2019-11-30T00:00:00",
          "2019-12-02T00:00:00",
          "2019-12-11T00:00:00",
          "2019-12-17T00:00:00",
          "2019-12-20T00:00:00",
          "2019-12-27T00:00:00",
          "2020-01-02T00:00:00",
          "2020-01-10T00:00:00",
          "2020-01-12T00:00:00",
          "2020-03-06T00:00:00",
          "2020-03-11T00:00:00"
         ],
         "y": [
          null,
          null,
          null,
          null,
          null,
          null,
          0.2571654038847146,
          0.2598507955094506,
          0.24890373006758487,
          0.2422446416759269,
          0.22027813985309092,
          0.18833035719724384,
          0.16997616723792275,
          0.17229071962605252,
          0.18507301726175962,
          0.20506372694615457,
          0.2021448414551659,
          0.2440989945914403,
          0.2576404015892135,
          0.2703617162996651,
          0.3038860368063713,
          0.2981252445239715,
          0.2799209000672357,
          0.26819113954717444,
          0.23960222613258983,
          0.23453532362050364,
          0.2304876272358493,
          0.25187675498689654,
          0.2521870460870877,
          0.2458956109653305,
          0.274911725507527,
          0.306832305757818,
          0.3155919534954797,
          0.3059144933560028,
          0.2675210459723348,
          0.2768958065579819,
          0.2847875174187105,
          0.27780924350310315,
          0.2436106811967034,
          0.23450650646163537,
          0.24267099622379068,
          0.2309642311909359,
          0.21096325233664878,
          0.20069477716140888,
          0.2005478312799282,
          0.21060193838016183,
          0.2628887672255568,
          0.3311939520739802,
          0.3245720908396164,
          0.3316406347920585,
          0.3431984362000525,
          0.33642337058223265,
          0.3295029774572123,
          0.2800385246140336,
          0.2684246912455918,
          0.2826495248021971,
          0.2853425329212956,
          0.32436049321325816,
          0.35154242446373213,
          0.3558078159465518,
          0.4217725277154861,
          0.43015767966916635
         ]
        },
        {
         "mode": "lines+markers",
         "name": "political",
         "type": "scatter",
         "x": [
          "2019-06-13T00:00:00",
          "2019-06-17T00:00:00",
          "2019-06-20T00:00:00",
          "2019-06-24T00:00:00",
          "2019-06-27T00:00:00",
          "2019-06-30T00:00:00",
          "2019-07-02T00:00:00",
          "2019-07-04T00:00:00",
          "2019-07-08T00:00:00",
          "2019-07-15T00:00:00",
          "2019-07-22T00:00:00",
          "2019-07-29T00:00:00",
          "2019-07-31T00:00:00",
          "2019-08-01T00:00:00",
          "2019-08-04T00:00:00",
          "2019-08-08T00:00:00",
          "2019-08-11T00:00:00",
          "2019-08-12T00:00:00",
          "2019-08-13T00:00:00",
          "2019-08-15T00:00:00",
          "2019-08-16T00:00:00",
          "2019-08-19T00:00:00",
          "2019-08-20T00:00:00",
          "2019-08-26T00:00:00",
          "2019-08-28T00:00:00",
          "2019-09-05T00:00:00",
          "2019-09-08T00:00:00",
          "2019-09-09T00:00:00",
          "2019-09-10T00:00:00",
          "2019-09-12T00:00:00",
          "2019-09-18T00:00:00",
          "2019-09-20T00:00:00",
          "2019-09-30T00:00:00",
          "2019-10-02T00:00:00",
          "2019-10-09T00:00:00",
          "2019-10-10T00:00:00",
          "2019-10-11T00:00:00",
          "2019-10-12T00:00:00",
          "2019-10-15T00:00:00",
          "2019-10-16T00:00:00",
          "2019-10-21T00:00:00",
          "2019-10-23T00:00:00",
          "2019-10-25T00:00:00",
          "2019-10-29T00:00:00",
          "2019-11-01T00:00:00",
          "2019-11-02T00:00:00",
          "2019-11-08T00:00:00",
          "2019-11-14T00:00:00",
          "2019-11-20T00:00:00",
          "2019-11-21T00:00:00",
          "2019-11-29T00:00:00",
          "2019-11-30T00:00:00",
          "2019-12-02T00:00:00",
          "2019-12-11T00:00:00",
          "2019-12-17T00:00:00",
          "2019-12-20T00:00:00",
          "2019-12-27T00:00:00",
          "2020-01-02T00:00:00",
          "2020-01-10T00:00:00",
          "2020-01-12T00:00:00",
          "2020-03-06T00:00:00",
          "2020-03-11T00:00:00"
         ],
         "y": [
          null,
          null,
          null,
          null,
          null,
          null,
          0.38883696686282615,
          0.42549569166499773,
          0.4277879957160445,
          0.39928981930669005,
          0.37981384062168627,
          0.34935333880359415,
          0.37261923767319555,
          0.35753079672745974,
          0.3134150853262612,
          0.2814283315956368,
          0.29847981587507216,
          0.2983281620074391,
          0.335570234959302,
          0.3440832023116763,
          0.33145810849751917,
          0.3551782461263667,
          0.40411653960226906,
          0.3936465632236225,
          0.40580716211772927,
          0.39916440568901174,
          0.3811686499921477,
          0.38318061719543445,
          0.3909098139191012,
          0.3849339287163018,
          0.38199990379951615,
          0.3595962274088395,
          0.34677474425086025,
          0.3247297387027511,
          0.3547974641910839,
          0.35389356415015916,
          0.3518345410424323,
          0.38711250224062915,
          0.428545104319843,
          0.4567355213162595,
          0.4905260396375108,
          0.4544795811626998,
          0.43562265166010616,
          0.4440615729803429,
          0.4429459181390942,
          0.42985477179735027,
          0.38448301217744724,
          0.35767538013124645,
          0.3791910482478122,
          0.4070921159858431,
          0.39491049517292603,
          0.39532173729993,
          0.40913391060307686,
          0.46542784228762596,
          0.46506243760595023,
          0.45857857399843127,
          0.44847060311422965,
          0.41440419306524795,
          0.39073391652550565,
          0.3673584507712853,
          0.3132001482861543,
          0.3074766236345358
         ]
        },
        {
         "mode": "lines+markers",
         "name": "protest",
         "type": "scatter",
         "x": [
          "2019-06-13T00:00:00",
          "2019-06-17T00:00:00",
          "2019-06-20T00:00:00",
          "2019-06-24T00:00:00",
          "2019-06-27T00:00:00",
          "2019-06-30T00:00:00",
          "2019-07-02T00:00:00",
          "2019-07-04T00:00:00",
          "2019-07-08T00:00:00",
          "2019-07-15T00:00:00",
          "2019-07-22T00:00:00",
          "2019-07-29T00:00:00",
          "2019-07-31T00:00:00",
          "2019-08-01T00:00:00",
          "2019-08-04T00:00:00",
          "2019-08-08T00:00:00",
          "2019-08-11T00:00:00",
          "2019-08-12T00:00:00",
          "2019-08-13T00:00:00",
          "2019-08-15T00:00:00",
          "2019-08-16T00:00:00",
          "2019-08-19T00:00:00",
          "2019-08-20T00:00:00",
          "2019-08-26T00:00:00",
          "2019-08-28T00:00:00",
          "2019-09-05T00:00:00",
          "2019-09-08T00:00:00",
          "2019-09-09T00:00:00",
          "2019-09-10T00:00:00",
          "2019-09-12T00:00:00",
          "2019-09-18T00:00:00",
          "2019-09-20T00:00:00",
          "2019-09-30T00:00:00",
          "2019-10-02T00:00:00",
          "2019-10-09T00:00:00",
          "2019-10-10T00:00:00",
          "2019-10-11T00:00:00",
          "2019-10-12T00:00:00",
          "2019-10-15T00:00:00",
          "2019-10-16T00:00:00",
          "2019-10-21T00:00:00",
          "2019-10-23T00:00:00",
          "2019-10-25T00:00:00",
          "2019-10-29T00:00:00",
          "2019-11-01T00:00:00",
          "2019-11-02T00:00:00",
          "2019-11-08T00:00:00",
          "2019-11-14T00:00:00",
          "2019-11-20T00:00:00",
          "2019-11-21T00:00:00",
          "2019-11-29T00:00:00",
          "2019-11-30T00:00:00",
          "2019-12-02T00:00:00",
          "2019-12-11T00:00:00",
          "2019-12-17T00:00:00",
          "2019-12-20T00:00:00",
          "2019-12-27T00:00:00",
          "2020-01-02T00:00:00",
          "2020-01-10T00:00:00",
          "2020-01-12T00:00:00",
          "2020-03-06T00:00:00",
          "2020-03-11T00:00:00"
         ],
         "y": [
          null,
          null,
          null,
          null,
          null,
          null,
          0.35399762925245926,
          0.3146535128255517,
          0.3233082742163707,
          0.3584655390173831,
          0.399908019525223,
          0.4623163039991622,
          0.45740459508888176,
          0.47017848364648784,
          0.5015118974119792,
          0.5135079414582087,
          0.499375342669762,
          0.45757284340112064,
          0.4067893634514845,
          0.3855550813886586,
          0.3646558546961095,
          0.34669650934966173,
          0.31596256033049525,
          0.33816229722920305,
          0.35459061174968093,
          0.36630027069048465,
          0.388343722772003,
          0.36494262781766906,
          0.35690313999381124,
          0.36917046031836787,
          0.34308837069295695,
          0.3335714668333427,
          0.33763330225366023,
          0.36935576794124614,
          0.37768148983658145,
          0.36921062929185905,
          0.36337794153885733,
          0.33507825425626775,
          0.32784421448345363,
          0.30875797222210516,
          0.26680296413869853,
          0.31455618764636434,
          0.35341409600324514,
          0.3552436498582483,
          0.3565062505809777,
          0.3595432898224879,
          0.35262822059699594,
          0.31113066779477333,
          0.2962368609125714,
          0.2612672492220984,
          0.26189106862702144,
          0.26825489211783743,
          0.26136311193971085,
          0.2545336330983405,
          0.266512871148458,
          0.2587719011993716,
          0.2661868639644748,
          0.26123531372149394,
          0.2577236590107623,
          0.27683373328216293,
          0.2650273239983596,
          0.26236569669629783
         ]
        }
       ],
       "layout": {
        "template": {
         "data": {
          "bar": [
           {
            "error_x": {
             "color": "#2a3f5f"
            },
            "error_y": {
             "color": "#2a3f5f"
            },
            "marker": {
             "line": {
              "color": "#E5ECF6",
              "width": 0.5
             }
            },
            "type": "bar"
           }
          ],
          "barpolar": [
           {
            "marker": {
             "line": {
              "color": "#E5ECF6",
              "width": 0.5
             }
            },
            "type": "barpolar"
           }
          ],
          "carpet": [
           {
            "aaxis": {
             "endlinecolor": "#2a3f5f",
             "gridcolor": "white",
             "linecolor": "white",
             "minorgridcolor": "white",
             "startlinecolor": "#2a3f5f"
            },
            "baxis": {
             "endlinecolor": "#2a3f5f",
             "gridcolor": "white",
             "linecolor": "white",
             "minorgridcolor": "white",
             "startlinecolor": "#2a3f5f"
            },
            "type": "carpet"
           }
          ],
          "choropleth": [
           {
            "colorbar": {
             "outlinewidth": 0,
             "ticks": ""
            },
            "type": "choropleth"
           }
          ],
          "contour": [
           {
            "colorbar": {
             "outlinewidth": 0,
             "ticks": ""
            },
            "colorscale": [
             [
              0,
              "#0d0887"
             ],
             [
              0.1111111111111111,
              "#46039f"
             ],
             [
              0.2222222222222222,
              "#7201a8"
             ],
             [
              0.3333333333333333,
              "#9c179e"
             ],
             [
              0.4444444444444444,
              "#bd3786"
             ],
             [
              0.5555555555555556,
              "#d8576b"
             ],
             [
              0.6666666666666666,
              "#ed7953"
             ],
             [
              0.7777777777777778,
              "#fb9f3a"
             ],
             [
              0.8888888888888888,
              "#fdca26"
             ],
             [
              1,
              "#f0f921"
             ]
            ],
            "type": "contour"
           }
          ],
          "contourcarpet": [
           {
            "colorbar": {
             "outlinewidth": 0,
             "ticks": ""
            },
            "type": "contourcarpet"
           }
          ],
          "heatmap": [
           {
            "colorbar": {
             "outlinewidth": 0,
             "ticks": ""
            },
            "colorscale": [
             [
              0,
              "#0d0887"
             ],
             [
              0.1111111111111111,
              "#46039f"
             ],
             [
              0.2222222222222222,
              "#7201a8"
             ],
             [
              0.3333333333333333,
              "#9c179e"
             ],
             [
              0.4444444444444444,
              "#bd3786"
             ],
             [
              0.5555555555555556,
              "#d8576b"
             ],
             [
              0.6666666666666666,
              "#ed7953"
             ],
             [
              0.7777777777777778,
              "#fb9f3a"
             ],
             [
              0.8888888888888888,
              "#fdca26"
             ],
             [
              1,
              "#f0f921"
             ]
            ],
            "type": "heatmap"
           }
          ],
          "heatmapgl": [
           {
            "colorbar": {
             "outlinewidth": 0,
             "ticks": ""
            },
            "colorscale": [
             [
              0,
              "#0d0887"
             ],
             [
              0.1111111111111111,
              "#46039f"
             ],
             [
              0.2222222222222222,
              "#7201a8"
             ],
             [
              0.3333333333333333,
              "#9c179e"
             ],
             [
              0.4444444444444444,
              "#bd3786"
             ],
             [
              0.5555555555555556,
              "#d8576b"
             ],
             [
              0.6666666666666666,
              "#ed7953"
             ],
             [
              0.7777777777777778,
              "#fb9f3a"
             ],
             [
              0.8888888888888888,
              "#fdca26"
             ],
             [
              1,
              "#f0f921"
             ]
            ],
            "type": "heatmapgl"
           }
          ],
          "histogram": [
           {
            "marker": {
             "colorbar": {
              "outlinewidth": 0,
              "ticks": ""
             }
            },
            "type": "histogram"
           }
          ],
          "histogram2d": [
           {
            "colorbar": {
             "outlinewidth": 0,
             "ticks": ""
            },
            "colorscale": [
             [
              0,
              "#0d0887"
             ],
             [
              0.1111111111111111,
              "#46039f"
             ],
             [
              0.2222222222222222,
              "#7201a8"
             ],
             [
              0.3333333333333333,
              "#9c179e"
             ],
             [
              0.4444444444444444,
              "#bd3786"
             ],
             [
              0.5555555555555556,
              "#d8576b"
             ],
             [
              0.6666666666666666,
              "#ed7953"
             ],
             [
              0.7777777777777778,
              "#fb9f3a"
             ],
             [
              0.8888888888888888,
              "#fdca26"
             ],
             [
              1,
              "#f0f921"
             ]
            ],
            "type": "histogram2d"
           }
          ],
          "histogram2dcontour": [
           {
            "colorbar": {
             "outlinewidth": 0,
             "ticks": ""
            },
            "colorscale": [
             [
              0,
              "#0d0887"
             ],
             [
              0.1111111111111111,
              "#46039f"
             ],
             [
              0.2222222222222222,
              "#7201a8"
             ],
             [
              0.3333333333333333,
              "#9c179e"
             ],
             [
              0.4444444444444444,
              "#bd3786"
             ],
             [
              0.5555555555555556,
              "#d8576b"
             ],
             [
              0.6666666666666666,
              "#ed7953"
             ],
             [
              0.7777777777777778,
              "#fb9f3a"
             ],
             [
              0.8888888888888888,
              "#fdca26"
             ],
             [
              1,
              "#f0f921"
             ]
            ],
            "type": "histogram2dcontour"
           }
          ],
          "mesh3d": [
           {
            "colorbar": {
             "outlinewidth": 0,
             "ticks": ""
            },
            "type": "mesh3d"
           }
          ],
          "parcoords": [
           {
            "line": {
             "colorbar": {
              "outlinewidth": 0,
              "ticks": ""
             }
            },
            "type": "parcoords"
           }
          ],
          "pie": [
           {
            "automargin": true,
            "type": "pie"
           }
          ],
          "scatter": [
           {
            "marker": {
             "colorbar": {
              "outlinewidth": 0,
              "ticks": ""
             }
            },
            "type": "scatter"
           }
          ],
          "scatter3d": [
           {
            "line": {
             "colorbar": {
              "outlinewidth": 0,
              "ticks": ""
             }
            },
            "marker": {
             "colorbar": {
              "outlinewidth": 0,
              "ticks": ""
             }
            },
            "type": "scatter3d"
           }
          ],
          "scattercarpet": [
           {
            "marker": {
             "colorbar": {
              "outlinewidth": 0,
              "ticks": ""
             }
            },
            "type": "scattercarpet"
           }
          ],
          "scattergeo": [
           {
            "marker": {
             "colorbar": {
              "outlinewidth": 0,
              "ticks": ""
             }
            },
            "type": "scattergeo"
           }
          ],
          "scattergl": [
           {
            "marker": {
             "colorbar": {
              "outlinewidth": 0,
              "ticks": ""
             }
            },
            "type": "scattergl"
           }
          ],
          "scattermapbox": [
           {
            "marker": {
             "colorbar": {
              "outlinewidth": 0,
              "ticks": ""
             }
            },
            "type": "scattermapbox"
           }
          ],
          "scatterpolar": [
           {
            "marker": {
             "colorbar": {
              "outlinewidth": 0,
              "ticks": ""
             }
            },
            "type": "scatterpolar"
           }
          ],
          "scatterpolargl": [
           {
            "marker": {
             "colorbar": {
              "outlinewidth": 0,
              "ticks": ""
             }
            },
            "type": "scatterpolargl"
           }
          ],
          "scatterternary": [
           {
            "marker": {
             "colorbar": {
              "outlinewidth": 0,
              "ticks": ""
             }
            },
            "type": "scatterternary"
           }
          ],
          "surface": [
           {
            "colorbar": {
             "outlinewidth": 0,
             "ticks": ""
            },
            "colorscale": [
             [
              0,
              "#0d0887"
             ],
             [
              0.1111111111111111,
              "#46039f"
             ],
             [
              0.2222222222222222,
              "#7201a8"
             ],
             [
              0.3333333333333333,
              "#9c179e"
             ],
             [
              0.4444444444444444,
              "#bd3786"
             ],
             [
              0.5555555555555556,
              "#d8576b"
             ],
             [
              0.6666666666666666,
              "#ed7953"
             ],
             [
              0.7777777777777778,
              "#fb9f3a"
             ],
             [
              0.8888888888888888,
              "#fdca26"
             ],
             [
              1,
              "#f0f921"
             ]
            ],
            "type": "surface"
           }
          ],
          "table": [
           {
            "cells": {
             "fill": {
              "color": "#EBF0F8"
             },
             "line": {
              "color": "white"
             }
            },
            "header": {
             "fill": {
              "color": "#C8D4E3"
             },
             "line": {
              "color": "white"
             }
            },
            "type": "table"
           }
          ]
         },
         "layout": {
          "annotationdefaults": {
           "arrowcolor": "#2a3f5f",
           "arrowhead": 0,
           "arrowwidth": 1
          },
          "coloraxis": {
           "colorbar": {
            "outlinewidth": 0,
            "ticks": ""
           }
          },
          "colorscale": {
           "diverging": [
            [
             0,
             "#8e0152"
            ],
            [
             0.1,
             "#c51b7d"
            ],
            [
             0.2,
             "#de77ae"
            ],
            [
             0.3,
             "#f1b6da"
            ],
            [
             0.4,
             "#fde0ef"
            ],
            [
             0.5,
             "#f7f7f7"
            ],
            [
             0.6,
             "#e6f5d0"
            ],
            [
             0.7,
             "#b8e186"
            ],
            [
             0.8,
             "#7fbc41"
            ],
            [
             0.9,
             "#4d9221"
            ],
            [
             1,
             "#276419"
            ]
           ],
           "sequential": [
            [
             0,
             "#0d0887"
            ],
            [
             0.1111111111111111,
             "#46039f"
            ],
            [
             0.2222222222222222,
             "#7201a8"
            ],
            [
             0.3333333333333333,
             "#9c179e"
            ],
            [
             0.4444444444444444,
             "#bd3786"
            ],
            [
             0.5555555555555556,
             "#d8576b"
            ],
            [
             0.6666666666666666,
             "#ed7953"
            ],
            [
             0.7777777777777778,
             "#fb9f3a"
            ],
            [
             0.8888888888888888,
             "#fdca26"
            ],
            [
             1,
             "#f0f921"
            ]
           ],
           "sequentialminus": [
            [
             0,
             "#0d0887"
            ],
            [
             0.1111111111111111,
             "#46039f"
            ],
            [
             0.2222222222222222,
             "#7201a8"
            ],
            [
             0.3333333333333333,
             "#9c179e"
            ],
            [
             0.4444444444444444,
             "#bd3786"
            ],
            [
             0.5555555555555556,
             "#d8576b"
            ],
            [
             0.6666666666666666,
             "#ed7953"
            ],
            [
             0.7777777777777778,
             "#fb9f3a"
            ],
            [
             0.8888888888888888,
             "#fdca26"
            ],
            [
             1,
             "#f0f921"
            ]
           ]
          },
          "colorway": [
           "#636efa",
           "#EF553B",
           "#00cc96",
           "#ab63fa",
           "#FFA15A",
           "#19d3f3",
           "#FF6692",
           "#B6E880",
           "#FF97FF",
           "#FECB52"
          ],
          "font": {
           "color": "#2a3f5f"
          },
          "geo": {
           "bgcolor": "white",
           "lakecolor": "white",
           "landcolor": "#E5ECF6",
           "showlakes": true,
           "showland": true,
           "subunitcolor": "white"
          },
          "hoverlabel": {
           "align": "left"
          },
          "hovermode": "closest",
          "mapbox": {
           "style": "light"
          },
          "paper_bgcolor": "white",
          "plot_bgcolor": "#E5ECF6",
          "polar": {
           "angularaxis": {
            "gridcolor": "white",
            "linecolor": "white",
            "ticks": ""
           },
           "bgcolor": "#E5ECF6",
           "radialaxis": {
            "gridcolor": "white",
            "linecolor": "white",
            "ticks": ""
           }
          },
          "scene": {
           "xaxis": {
            "backgroundcolor": "#E5ECF6",
            "gridcolor": "white",
            "gridwidth": 2,
            "linecolor": "white",
            "showbackground": true,
            "ticks": "",
            "zerolinecolor": "white"
           },
           "yaxis": {
            "backgroundcolor": "#E5ECF6",
            "gridcolor": "white",
            "gridwidth": 2,
            "linecolor": "white",
            "showbackground": true,
            "ticks": "",
            "zerolinecolor": "white"
           },
           "zaxis": {
            "backgroundcolor": "#E5ECF6",
            "gridcolor": "white",
            "gridwidth": 2,
            "linecolor": "white",
            "showbackground": true,
            "ticks": "",
            "zerolinecolor": "white"
           }
          },
          "shapedefaults": {
           "line": {
            "color": "#2a3f5f"
           }
          },
          "ternary": {
           "aaxis": {
            "gridcolor": "white",
            "linecolor": "white",
            "ticks": ""
           },
           "baxis": {
            "gridcolor": "white",
            "linecolor": "white",
            "ticks": ""
           },
           "bgcolor": "#E5ECF6",
           "caxis": {
            "gridcolor": "white",
            "linecolor": "white",
            "ticks": ""
           }
          },
          "title": {
           "x": 0.05
          },
          "xaxis": {
           "automargin": true,
           "gridcolor": "white",
           "linecolor": "white",
           "ticks": "",
           "title": {
            "standoff": 15
           },
           "zerolinecolor": "white",
           "zerolinewidth": 2
          },
          "yaxis": {
           "automargin": true,
           "gridcolor": "white",
           "linecolor": "white",
           "ticks": "",
           "title": {
            "standoff": 15
           },
           "zerolinecolor": "white",
           "zerolinewidth": 2
          }
         }
        },
        "title": {
         "text": "Topic Composition of Average CNN Article by Day (7-day Rolling Window)"
        }
       }
      },
      "text/html": [
       "<div>\n",
       "        \n",
       "        \n",
       "            <div id=\"dcc41be8-26e8-4921-bd18-c00ba5e066f3\" class=\"plotly-graph-div\" style=\"height:525px; width:100%;\"></div>\n",
       "            <script type=\"text/javascript\">\n",
       "                require([\"plotly\"], function(Plotly) {\n",
       "                    window.PLOTLYENV=window.PLOTLYENV || {};\n",
       "                    \n",
       "                if (document.getElementById(\"dcc41be8-26e8-4921-bd18-c00ba5e066f3\")) {\n",
       "                    Plotly.newPlot(\n",
       "                        'dcc41be8-26e8-4921-bd18-c00ba5e066f3',\n",
       "                        [{\"mode\": \"lines+markers\", \"name\": \"economic\", \"type\": \"scatter\", \"x\": [\"2019-06-13T00:00:00\", \"2019-06-17T00:00:00\", \"2019-06-20T00:00:00\", \"2019-06-24T00:00:00\", \"2019-06-27T00:00:00\", \"2019-06-30T00:00:00\", \"2019-07-02T00:00:00\", \"2019-07-04T00:00:00\", \"2019-07-08T00:00:00\", \"2019-07-15T00:00:00\", \"2019-07-22T00:00:00\", \"2019-07-29T00:00:00\", \"2019-07-31T00:00:00\", \"2019-08-01T00:00:00\", \"2019-08-04T00:00:00\", \"2019-08-08T00:00:00\", \"2019-08-11T00:00:00\", \"2019-08-12T00:00:00\", \"2019-08-13T00:00:00\", \"2019-08-15T00:00:00\", \"2019-08-16T00:00:00\", \"2019-08-19T00:00:00\", \"2019-08-20T00:00:00\", \"2019-08-26T00:00:00\", \"2019-08-28T00:00:00\", \"2019-09-05T00:00:00\", \"2019-09-08T00:00:00\", \"2019-09-09T00:00:00\", \"2019-09-10T00:00:00\", \"2019-09-12T00:00:00\", \"2019-09-18T00:00:00\", \"2019-09-20T00:00:00\", \"2019-09-30T00:00:00\", \"2019-10-02T00:00:00\", \"2019-10-09T00:00:00\", \"2019-10-10T00:00:00\", \"2019-10-11T00:00:00\", \"2019-10-12T00:00:00\", \"2019-10-15T00:00:00\", \"2019-10-16T00:00:00\", \"2019-10-21T00:00:00\", \"2019-10-23T00:00:00\", \"2019-10-25T00:00:00\", \"2019-10-29T00:00:00\", \"2019-11-01T00:00:00\", \"2019-11-02T00:00:00\", \"2019-11-08T00:00:00\", \"2019-11-14T00:00:00\", \"2019-11-20T00:00:00\", \"2019-11-21T00:00:00\", \"2019-11-29T00:00:00\", \"2019-11-30T00:00:00\", \"2019-12-02T00:00:00\", \"2019-12-11T00:00:00\", \"2019-12-17T00:00:00\", \"2019-12-20T00:00:00\", \"2019-12-27T00:00:00\", \"2020-01-02T00:00:00\", \"2020-01-10T00:00:00\", \"2020-01-12T00:00:00\", \"2020-03-06T00:00:00\", \"2020-03-11T00:00:00\"], \"y\": [null, null, null, null, null, null, 0.2571654038847146, 0.2598507955094506, 0.24890373006758487, 0.2422446416759269, 0.22027813985309092, 0.18833035719724384, 0.16997616723792275, 0.17229071962605252, 0.18507301726175962, 0.20506372694615457, 0.2021448414551659, 0.2440989945914403, 0.2576404015892135, 0.2703617162996651, 0.3038860368063713, 0.2981252445239715, 0.2799209000672357, 0.26819113954717444, 0.23960222613258983, 0.23453532362050364, 0.2304876272358493, 0.25187675498689654, 0.2521870460870877, 0.2458956109653305, 0.274911725507527, 0.306832305757818, 0.3155919534954797, 0.3059144933560028, 0.2675210459723348, 0.2768958065579819, 0.2847875174187105, 0.27780924350310315, 0.2436106811967034, 0.23450650646163537, 0.24267099622379068, 0.2309642311909359, 0.21096325233664878, 0.20069477716140888, 0.2005478312799282, 0.21060193838016183, 0.2628887672255568, 0.3311939520739802, 0.3245720908396164, 0.3316406347920585, 0.3431984362000525, 0.33642337058223265, 0.3295029774572123, 0.2800385246140336, 0.2684246912455918, 0.2826495248021971, 0.2853425329212956, 0.32436049321325816, 0.35154242446373213, 0.3558078159465518, 0.4217725277154861, 0.43015767966916635]}, {\"mode\": \"lines+markers\", \"name\": \"political\", \"type\": \"scatter\", \"x\": [\"2019-06-13T00:00:00\", \"2019-06-17T00:00:00\", \"2019-06-20T00:00:00\", \"2019-06-24T00:00:00\", \"2019-06-27T00:00:00\", \"2019-06-30T00:00:00\", \"2019-07-02T00:00:00\", \"2019-07-04T00:00:00\", \"2019-07-08T00:00:00\", \"2019-07-15T00:00:00\", \"2019-07-22T00:00:00\", \"2019-07-29T00:00:00\", \"2019-07-31T00:00:00\", \"2019-08-01T00:00:00\", \"2019-08-04T00:00:00\", \"2019-08-08T00:00:00\", \"2019-08-11T00:00:00\", \"2019-08-12T00:00:00\", \"2019-08-13T00:00:00\", \"2019-08-15T00:00:00\", \"2019-08-16T00:00:00\", \"2019-08-19T00:00:00\", \"2019-08-20T00:00:00\", \"2019-08-26T00:00:00\", \"2019-08-28T00:00:00\", \"2019-09-05T00:00:00\", \"2019-09-08T00:00:00\", \"2019-09-09T00:00:00\", \"2019-09-10T00:00:00\", \"2019-09-12T00:00:00\", \"2019-09-18T00:00:00\", \"2019-09-20T00:00:00\", \"2019-09-30T00:00:00\", \"2019-10-02T00:00:00\", \"2019-10-09T00:00:00\", \"2019-10-10T00:00:00\", \"2019-10-11T00:00:00\", \"2019-10-12T00:00:00\", \"2019-10-15T00:00:00\", \"2019-10-16T00:00:00\", \"2019-10-21T00:00:00\", \"2019-10-23T00:00:00\", \"2019-10-25T00:00:00\", \"2019-10-29T00:00:00\", \"2019-11-01T00:00:00\", \"2019-11-02T00:00:00\", \"2019-11-08T00:00:00\", \"2019-11-14T00:00:00\", \"2019-11-20T00:00:00\", \"2019-11-21T00:00:00\", \"2019-11-29T00:00:00\", \"2019-11-30T00:00:00\", \"2019-12-02T00:00:00\", \"2019-12-11T00:00:00\", \"2019-12-17T00:00:00\", \"2019-12-20T00:00:00\", \"2019-12-27T00:00:00\", \"2020-01-02T00:00:00\", \"2020-01-10T00:00:00\", \"2020-01-12T00:00:00\", \"2020-03-06T00:00:00\", \"2020-03-11T00:00:00\"], \"y\": [null, null, null, null, null, null, 0.38883696686282615, 0.42549569166499773, 0.4277879957160445, 0.39928981930669005, 0.37981384062168627, 0.34935333880359415, 0.37261923767319555, 0.35753079672745974, 0.3134150853262612, 0.2814283315956368, 0.29847981587507216, 0.2983281620074391, 0.335570234959302, 0.3440832023116763, 0.33145810849751917, 0.3551782461263667, 0.40411653960226906, 0.3936465632236225, 0.40580716211772927, 0.39916440568901174, 0.3811686499921477, 0.38318061719543445, 0.3909098139191012, 0.3849339287163018, 0.38199990379951615, 0.3595962274088395, 0.34677474425086025, 0.3247297387027511, 0.3547974641910839, 0.35389356415015916, 0.3518345410424323, 0.38711250224062915, 0.428545104319843, 0.4567355213162595, 0.4905260396375108, 0.4544795811626998, 0.43562265166010616, 0.4440615729803429, 0.4429459181390942, 0.42985477179735027, 0.38448301217744724, 0.35767538013124645, 0.3791910482478122, 0.4070921159858431, 0.39491049517292603, 0.39532173729993, 0.40913391060307686, 0.46542784228762596, 0.46506243760595023, 0.45857857399843127, 0.44847060311422965, 0.41440419306524795, 0.39073391652550565, 0.3673584507712853, 0.3132001482861543, 0.3074766236345358]}, {\"mode\": \"lines+markers\", \"name\": \"protest\", \"type\": \"scatter\", \"x\": [\"2019-06-13T00:00:00\", \"2019-06-17T00:00:00\", \"2019-06-20T00:00:00\", \"2019-06-24T00:00:00\", \"2019-06-27T00:00:00\", \"2019-06-30T00:00:00\", \"2019-07-02T00:00:00\", \"2019-07-04T00:00:00\", \"2019-07-08T00:00:00\", \"2019-07-15T00:00:00\", \"2019-07-22T00:00:00\", \"2019-07-29T00:00:00\", \"2019-07-31T00:00:00\", \"2019-08-01T00:00:00\", \"2019-08-04T00:00:00\", \"2019-08-08T00:00:00\", \"2019-08-11T00:00:00\", \"2019-08-12T00:00:00\", \"2019-08-13T00:00:00\", \"2019-08-15T00:00:00\", \"2019-08-16T00:00:00\", \"2019-08-19T00:00:00\", \"2019-08-20T00:00:00\", \"2019-08-26T00:00:00\", \"2019-08-28T00:00:00\", \"2019-09-05T00:00:00\", \"2019-09-08T00:00:00\", \"2019-09-09T00:00:00\", \"2019-09-10T00:00:00\", \"2019-09-12T00:00:00\", \"2019-09-18T00:00:00\", \"2019-09-20T00:00:00\", \"2019-09-30T00:00:00\", \"2019-10-02T00:00:00\", \"2019-10-09T00:00:00\", \"2019-10-10T00:00:00\", \"2019-10-11T00:00:00\", \"2019-10-12T00:00:00\", \"2019-10-15T00:00:00\", \"2019-10-16T00:00:00\", \"2019-10-21T00:00:00\", \"2019-10-23T00:00:00\", \"2019-10-25T00:00:00\", \"2019-10-29T00:00:00\", \"2019-11-01T00:00:00\", \"2019-11-02T00:00:00\", \"2019-11-08T00:00:00\", \"2019-11-14T00:00:00\", \"2019-11-20T00:00:00\", \"2019-11-21T00:00:00\", \"2019-11-29T00:00:00\", \"2019-11-30T00:00:00\", \"2019-12-02T00:00:00\", \"2019-12-11T00:00:00\", \"2019-12-17T00:00:00\", \"2019-12-20T00:00:00\", \"2019-12-27T00:00:00\", \"2020-01-02T00:00:00\", \"2020-01-10T00:00:00\", \"2020-01-12T00:00:00\", \"2020-03-06T00:00:00\", \"2020-03-11T00:00:00\"], \"y\": [null, null, null, null, null, null, 0.35399762925245926, 0.3146535128255517, 0.3233082742163707, 0.3584655390173831, 0.399908019525223, 0.4623163039991622, 0.45740459508888176, 0.47017848364648784, 0.5015118974119792, 0.5135079414582087, 0.499375342669762, 0.45757284340112064, 0.4067893634514845, 0.3855550813886586, 0.3646558546961095, 0.34669650934966173, 0.31596256033049525, 0.33816229722920305, 0.35459061174968093, 0.36630027069048465, 0.388343722772003, 0.36494262781766906, 0.35690313999381124, 0.36917046031836787, 0.34308837069295695, 0.3335714668333427, 0.33763330225366023, 0.36935576794124614, 0.37768148983658145, 0.36921062929185905, 0.36337794153885733, 0.33507825425626775, 0.32784421448345363, 0.30875797222210516, 0.26680296413869853, 0.31455618764636434, 0.35341409600324514, 0.3552436498582483, 0.3565062505809777, 0.3595432898224879, 0.35262822059699594, 0.31113066779477333, 0.2962368609125714, 0.2612672492220984, 0.26189106862702144, 0.26825489211783743, 0.26136311193971085, 0.2545336330983405, 0.266512871148458, 0.2587719011993716, 0.2661868639644748, 0.26123531372149394, 0.2577236590107623, 0.27683373328216293, 0.2650273239983596, 0.26236569669629783]}],\n",
       "                        {\"template\": {\"data\": {\"bar\": [{\"error_x\": {\"color\": \"#2a3f5f\"}, \"error_y\": {\"color\": \"#2a3f5f\"}, \"marker\": {\"line\": {\"color\": \"#E5ECF6\", \"width\": 0.5}}, \"type\": \"bar\"}], \"barpolar\": [{\"marker\": {\"line\": {\"color\": \"#E5ECF6\", \"width\": 0.5}}, \"type\": \"barpolar\"}], \"carpet\": [{\"aaxis\": {\"endlinecolor\": \"#2a3f5f\", \"gridcolor\": \"white\", \"linecolor\": \"white\", \"minorgridcolor\": \"white\", \"startlinecolor\": \"#2a3f5f\"}, \"baxis\": {\"endlinecolor\": \"#2a3f5f\", \"gridcolor\": \"white\", \"linecolor\": \"white\", \"minorgridcolor\": \"white\", \"startlinecolor\": \"#2a3f5f\"}, \"type\": \"carpet\"}], \"choropleth\": [{\"colorbar\": {\"outlinewidth\": 0, \"ticks\": \"\"}, \"type\": \"choropleth\"}], \"contour\": [{\"colorbar\": {\"outlinewidth\": 0, \"ticks\": \"\"}, \"colorscale\": [[0.0, \"#0d0887\"], [0.1111111111111111, \"#46039f\"], [0.2222222222222222, \"#7201a8\"], [0.3333333333333333, \"#9c179e\"], [0.4444444444444444, \"#bd3786\"], [0.5555555555555556, \"#d8576b\"], [0.6666666666666666, \"#ed7953\"], [0.7777777777777778, \"#fb9f3a\"], [0.8888888888888888, \"#fdca26\"], [1.0, \"#f0f921\"]], \"type\": \"contour\"}], \"contourcarpet\": [{\"colorbar\": {\"outlinewidth\": 0, \"ticks\": \"\"}, \"type\": \"contourcarpet\"}], \"heatmap\": [{\"colorbar\": {\"outlinewidth\": 0, \"ticks\": \"\"}, \"colorscale\": [[0.0, \"#0d0887\"], [0.1111111111111111, \"#46039f\"], [0.2222222222222222, \"#7201a8\"], [0.3333333333333333, \"#9c179e\"], [0.4444444444444444, \"#bd3786\"], [0.5555555555555556, \"#d8576b\"], [0.6666666666666666, \"#ed7953\"], [0.7777777777777778, \"#fb9f3a\"], [0.8888888888888888, \"#fdca26\"], [1.0, \"#f0f921\"]], \"type\": \"heatmap\"}], \"heatmapgl\": [{\"colorbar\": {\"outlinewidth\": 0, \"ticks\": \"\"}, \"colorscale\": [[0.0, \"#0d0887\"], [0.1111111111111111, \"#46039f\"], [0.2222222222222222, \"#7201a8\"], [0.3333333333333333, \"#9c179e\"], [0.4444444444444444, \"#bd3786\"], [0.5555555555555556, \"#d8576b\"], [0.6666666666666666, \"#ed7953\"], [0.7777777777777778, \"#fb9f3a\"], [0.8888888888888888, \"#fdca26\"], [1.0, \"#f0f921\"]], \"type\": \"heatmapgl\"}], \"histogram\": [{\"marker\": {\"colorbar\": {\"outlinewidth\": 0, \"ticks\": \"\"}}, \"type\": \"histogram\"}], \"histogram2d\": [{\"colorbar\": {\"outlinewidth\": 0, \"ticks\": \"\"}, \"colorscale\": [[0.0, \"#0d0887\"], [0.1111111111111111, \"#46039f\"], [0.2222222222222222, \"#7201a8\"], [0.3333333333333333, \"#9c179e\"], [0.4444444444444444, \"#bd3786\"], [0.5555555555555556, \"#d8576b\"], [0.6666666666666666, \"#ed7953\"], [0.7777777777777778, \"#fb9f3a\"], [0.8888888888888888, \"#fdca26\"], [1.0, \"#f0f921\"]], \"type\": \"histogram2d\"}], \"histogram2dcontour\": [{\"colorbar\": {\"outlinewidth\": 0, \"ticks\": \"\"}, \"colorscale\": [[0.0, \"#0d0887\"], [0.1111111111111111, \"#46039f\"], [0.2222222222222222, \"#7201a8\"], [0.3333333333333333, \"#9c179e\"], [0.4444444444444444, \"#bd3786\"], [0.5555555555555556, \"#d8576b\"], [0.6666666666666666, \"#ed7953\"], [0.7777777777777778, \"#fb9f3a\"], [0.8888888888888888, \"#fdca26\"], [1.0, \"#f0f921\"]], \"type\": \"histogram2dcontour\"}], \"mesh3d\": [{\"colorbar\": {\"outlinewidth\": 0, \"ticks\": \"\"}, \"type\": \"mesh3d\"}], \"parcoords\": [{\"line\": {\"colorbar\": {\"outlinewidth\": 0, \"ticks\": \"\"}}, \"type\": \"parcoords\"}], \"pie\": [{\"automargin\": true, \"type\": \"pie\"}], \"scatter\": [{\"marker\": {\"colorbar\": {\"outlinewidth\": 0, \"ticks\": \"\"}}, \"type\": \"scatter\"}], \"scatter3d\": [{\"line\": {\"colorbar\": {\"outlinewidth\": 0, \"ticks\": \"\"}}, \"marker\": {\"colorbar\": {\"outlinewidth\": 0, \"ticks\": \"\"}}, \"type\": \"scatter3d\"}], \"scattercarpet\": [{\"marker\": {\"colorbar\": {\"outlinewidth\": 0, \"ticks\": \"\"}}, \"type\": \"scattercarpet\"}], \"scattergeo\": [{\"marker\": {\"colorbar\": {\"outlinewidth\": 0, \"ticks\": \"\"}}, \"type\": \"scattergeo\"}], \"scattergl\": [{\"marker\": {\"colorbar\": {\"outlinewidth\": 0, \"ticks\": \"\"}}, \"type\": \"scattergl\"}], \"scattermapbox\": [{\"marker\": {\"colorbar\": {\"outlinewidth\": 0, \"ticks\": \"\"}}, \"type\": \"scattermapbox\"}], \"scatterpolar\": [{\"marker\": {\"colorbar\": {\"outlinewidth\": 0, \"ticks\": \"\"}}, \"type\": \"scatterpolar\"}], \"scatterpolargl\": [{\"marker\": {\"colorbar\": {\"outlinewidth\": 0, \"ticks\": \"\"}}, \"type\": \"scatterpolargl\"}], \"scatterternary\": [{\"marker\": {\"colorbar\": {\"outlinewidth\": 0, \"ticks\": \"\"}}, \"type\": \"scatterternary\"}], \"surface\": [{\"colorbar\": {\"outlinewidth\": 0, \"ticks\": \"\"}, \"colorscale\": [[0.0, \"#0d0887\"], [0.1111111111111111, \"#46039f\"], [0.2222222222222222, \"#7201a8\"], [0.3333333333333333, \"#9c179e\"], [0.4444444444444444, \"#bd3786\"], [0.5555555555555556, \"#d8576b\"], [0.6666666666666666, \"#ed7953\"], [0.7777777777777778, \"#fb9f3a\"], [0.8888888888888888, \"#fdca26\"], [1.0, \"#f0f921\"]], \"type\": \"surface\"}], \"table\": [{\"cells\": {\"fill\": {\"color\": \"#EBF0F8\"}, \"line\": {\"color\": \"white\"}}, \"header\": {\"fill\": {\"color\": \"#C8D4E3\"}, \"line\": {\"color\": \"white\"}}, \"type\": \"table\"}]}, \"layout\": {\"annotationdefaults\": {\"arrowcolor\": \"#2a3f5f\", \"arrowhead\": 0, \"arrowwidth\": 1}, \"coloraxis\": {\"colorbar\": {\"outlinewidth\": 0, \"ticks\": \"\"}}, \"colorscale\": {\"diverging\": [[0, \"#8e0152\"], [0.1, \"#c51b7d\"], [0.2, \"#de77ae\"], [0.3, \"#f1b6da\"], [0.4, \"#fde0ef\"], [0.5, \"#f7f7f7\"], [0.6, \"#e6f5d0\"], [0.7, \"#b8e186\"], [0.8, \"#7fbc41\"], [0.9, \"#4d9221\"], [1, \"#276419\"]], \"sequential\": [[0.0, \"#0d0887\"], [0.1111111111111111, \"#46039f\"], [0.2222222222222222, \"#7201a8\"], [0.3333333333333333, \"#9c179e\"], [0.4444444444444444, \"#bd3786\"], [0.5555555555555556, \"#d8576b\"], [0.6666666666666666, \"#ed7953\"], [0.7777777777777778, \"#fb9f3a\"], [0.8888888888888888, \"#fdca26\"], [1.0, \"#f0f921\"]], \"sequentialminus\": [[0.0, \"#0d0887\"], [0.1111111111111111, \"#46039f\"], [0.2222222222222222, \"#7201a8\"], [0.3333333333333333, \"#9c179e\"], [0.4444444444444444, \"#bd3786\"], [0.5555555555555556, \"#d8576b\"], [0.6666666666666666, \"#ed7953\"], [0.7777777777777778, \"#fb9f3a\"], [0.8888888888888888, \"#fdca26\"], [1.0, \"#f0f921\"]]}, \"colorway\": [\"#636efa\", \"#EF553B\", \"#00cc96\", \"#ab63fa\", \"#FFA15A\", \"#19d3f3\", \"#FF6692\", \"#B6E880\", \"#FF97FF\", \"#FECB52\"], \"font\": {\"color\": \"#2a3f5f\"}, \"geo\": {\"bgcolor\": \"white\", \"lakecolor\": \"white\", \"landcolor\": \"#E5ECF6\", \"showlakes\": true, \"showland\": true, \"subunitcolor\": \"white\"}, \"hoverlabel\": {\"align\": \"left\"}, \"hovermode\": \"closest\", \"mapbox\": {\"style\": \"light\"}, \"paper_bgcolor\": \"white\", \"plot_bgcolor\": \"#E5ECF6\", \"polar\": {\"angularaxis\": {\"gridcolor\": \"white\", \"linecolor\": \"white\", \"ticks\": \"\"}, \"bgcolor\": \"#E5ECF6\", \"radialaxis\": {\"gridcolor\": \"white\", \"linecolor\": \"white\", \"ticks\": \"\"}}, \"scene\": {\"xaxis\": {\"backgroundcolor\": \"#E5ECF6\", \"gridcolor\": \"white\", \"gridwidth\": 2, \"linecolor\": \"white\", \"showbackground\": true, \"ticks\": \"\", \"zerolinecolor\": \"white\"}, \"yaxis\": {\"backgroundcolor\": \"#E5ECF6\", \"gridcolor\": \"white\", \"gridwidth\": 2, \"linecolor\": \"white\", \"showbackground\": true, \"ticks\": \"\", \"zerolinecolor\": \"white\"}, \"zaxis\": {\"backgroundcolor\": \"#E5ECF6\", \"gridcolor\": \"white\", \"gridwidth\": 2, \"linecolor\": \"white\", \"showbackground\": true, \"ticks\": \"\", \"zerolinecolor\": \"white\"}}, \"shapedefaults\": {\"line\": {\"color\": \"#2a3f5f\"}}, \"ternary\": {\"aaxis\": {\"gridcolor\": \"white\", \"linecolor\": \"white\", \"ticks\": \"\"}, \"baxis\": {\"gridcolor\": \"white\", \"linecolor\": \"white\", \"ticks\": \"\"}, \"bgcolor\": \"#E5ECF6\", \"caxis\": {\"gridcolor\": \"white\", \"linecolor\": \"white\", \"ticks\": \"\"}}, \"title\": {\"x\": 0.05}, \"xaxis\": {\"automargin\": true, \"gridcolor\": \"white\", \"linecolor\": \"white\", \"ticks\": \"\", \"title\": {\"standoff\": 15}, \"zerolinecolor\": \"white\", \"zerolinewidth\": 2}, \"yaxis\": {\"automargin\": true, \"gridcolor\": \"white\", \"linecolor\": \"white\", \"ticks\": \"\", \"title\": {\"standoff\": 15}, \"zerolinecolor\": \"white\", \"zerolinewidth\": 2}}}, \"title\": {\"text\": \"Topic Composition of Average CNN Article by Day (7-day Rolling Window)\"}},\n",
       "                        {\"responsive\": true}\n",
       "                    ).then(function(){\n",
       "                            \n",
       "var gd = document.getElementById('dcc41be8-26e8-4921-bd18-c00ba5e066f3');\n",
       "var x = new MutationObserver(function (mutations, observer) {{\n",
       "        var display = window.getComputedStyle(gd).display;\n",
       "        if (!display || display === 'none') {{\n",
       "            console.log([gd, 'removed!']);\n",
       "            Plotly.purge(gd);\n",
       "            observer.disconnect();\n",
       "        }}\n",
       "}});\n",
       "\n",
       "// Listen for the removal of the full notebook cells\n",
       "var notebookContainer = gd.closest('#notebook-container');\n",
       "if (notebookContainer) {{\n",
       "    x.observe(notebookContainer, {childList: true});\n",
       "}}\n",
       "\n",
       "// Listen for the clearing of the current output cell\n",
       "var outputEl = gd.closest('.output');\n",
       "if (outputEl) {{\n",
       "    x.observe(outputEl, {childList: true});\n",
       "}}\n",
       "\n",
       "                        })\n",
       "                };\n",
       "                });\n",
       "            </script>\n",
       "        </div>"
      ]
     },
     "metadata": {},
     "output_type": "display_data"
    },
    {
     "data": {
      "application/vnd.plotly.v1+json": {
       "config": {
        "plotlyServerURL": "https://plot.ly"
       },
       "data": [
        {
         "mode": "lines+markers",
         "name": "economic",
         "type": "scatter",
         "x": [
          "2019-06-16T00:00:00",
          "2019-07-01T00:00:00",
          "2019-07-02T00:00:00",
          "2019-07-03T00:00:00",
          "2019-07-04T00:00:00",
          "2019-07-05T00:00:00",
          "2019-07-08T00:00:00",
          "2019-07-11T00:00:00",
          "2019-07-19T00:00:00",
          "2019-07-21T00:00:00",
          "2019-07-22T00:00:00",
          "2019-07-23T00:00:00",
          "2019-07-24T00:00:00",
          "2019-07-27T00:00:00",
          "2019-07-29T00:00:00",
          "2019-07-30T00:00:00",
          "2019-07-31T00:00:00",
          "2019-08-01T00:00:00",
          "2019-08-03T00:00:00",
          "2019-08-04T00:00:00",
          "2019-08-05T00:00:00",
          "2019-08-06T00:00:00",
          "2019-08-07T00:00:00",
          "2019-08-08T00:00:00",
          "2019-08-09T00:00:00",
          "2019-08-10T00:00:00",
          "2019-08-11T00:00:00",
          "2019-08-13T00:00:00",
          "2019-08-14T00:00:00",
          "2019-08-15T00:00:00",
          "2019-08-16T00:00:00",
          "2019-08-17T00:00:00",
          "2019-08-18T00:00:00",
          "2019-08-19T00:00:00",
          "2019-08-20T00:00:00",
          "2019-08-21T00:00:00",
          "2019-08-22T00:00:00",
          "2019-08-23T00:00:00",
          "2019-08-24T00:00:00",
          "2019-08-25T00:00:00",
          "2019-08-26T00:00:00",
          "2019-08-27T00:00:00",
          "2019-08-28T00:00:00",
          "2019-08-30T00:00:00",
          "2019-09-01T00:00:00",
          "2019-09-02T00:00:00",
          "2019-09-03T00:00:00",
          "2019-09-04T00:00:00",
          "2019-09-05T00:00:00",
          "2019-09-10T00:00:00",
          "2019-09-11T00:00:00",
          "2019-09-12T00:00:00",
          "2019-09-15T00:00:00",
          "2019-09-17T00:00:00",
          "2019-09-20T00:00:00",
          "2019-09-21T00:00:00",
          "2019-09-26T00:00:00",
          "2019-09-27T00:00:00",
          "2019-09-28T00:00:00",
          "2019-09-29T00:00:00",
          "2019-10-04T00:00:00",
          "2019-10-06T00:00:00",
          "2019-10-07T00:00:00",
          "2019-10-08T00:00:00",
          "2019-10-10T00:00:00",
          "2019-10-16T00:00:00",
          "2019-10-17T00:00:00",
          "2019-10-21T00:00:00",
          "2019-10-22T00:00:00",
          "2019-10-23T00:00:00",
          "2019-10-24T00:00:00",
          "2019-10-26T00:00:00",
          "2019-10-27T00:00:00",
          "2019-10-28T00:00:00",
          "2019-11-05T00:00:00",
          "2019-11-08T00:00:00",
          "2019-11-11T00:00:00",
          "2019-11-12T00:00:00",
          "2019-11-13T00:00:00",
          "2019-11-14T00:00:00",
          "2019-11-15T00:00:00",
          "2019-11-16T00:00:00",
          "2019-11-18T00:00:00",
          "2019-11-19T00:00:00",
          "2019-11-20T00:00:00",
          "2019-11-21T00:00:00",
          "2019-11-22T00:00:00",
          "2019-11-26T00:00:00",
          "2019-11-27T00:00:00",
          "2019-11-28T00:00:00",
          "2019-11-29T00:00:00",
          "2019-12-01T00:00:00",
          "2019-12-02T00:00:00",
          "2019-12-03T00:00:00",
          "2019-12-04T00:00:00",
          "2019-12-05T00:00:00",
          "2019-12-06T00:00:00",
          "2019-12-08T00:00:00",
          "2019-12-13T00:00:00",
          "2019-12-16T00:00:00",
          "2019-12-17T00:00:00",
          "2019-12-19T00:00:00",
          "2019-12-20T00:00:00",
          "2019-12-22T00:00:00",
          "2019-12-24T00:00:00",
          "2019-12-26T00:00:00",
          "2019-12-27T00:00:00",
          "2019-12-31T00:00:00",
          "2020-01-01T00:00:00",
          "2020-01-02T00:00:00",
          "2020-01-03T00:00:00",
          "2020-01-06T00:00:00",
          "2020-01-10T00:00:00",
          "2020-01-14T00:00:00",
          "2020-02-20T00:00:00",
          "2020-03-01T00:00:00"
         ],
         "y": [
          null,
          null,
          null,
          null,
          null,
          null,
          0.17887123608168815,
          0.19150896761105854,
          0.1811674643363223,
          0.16686007001906228,
          0.1682613536901326,
          0.17386708747366555,
          0.16650027620780533,
          0.16863749518109983,
          0.16431145855471788,
          0.17137758645239978,
          0.17041876363731662,
          0.1721897967199346,
          0.16387258109060812,
          0.17882839903430794,
          0.18530752171515788,
          0.19725095902845663,
          0.22147641202017201,
          0.23049765844398767,
          0.23353492568922704,
          0.23918148933824268,
          0.2320364818625991,
          0.23504383001658508,
          0.24624893591741032,
          0.22445702134002718,
          0.21928210397143993,
          0.22033100097811958,
          0.2018636802270091,
          0.22208486531425445,
          0.23183072436603697,
          0.21412835782588774,
          0.21286203169232595,
          0.2246239583005711,
          0.2365387876392049,
          0.2563080388083538,
          0.248856378499053,
          0.23655438539657064,
          0.23421973963114215,
          0.2332339995438886,
          0.21976010353872263,
          0.2112499898562919,
          0.214850599348299,
          0.21296864457321973,
          0.20563401658966882,
          0.21130773687457657,
          0.21320291527419047,
          0.21914965786652,
          0.20562059009451478,
          0.23759951702419377,
          0.2325011864828234,
          0.23280331952266917,
          0.22031118681716425,
          0.2231600142953318,
          0.22589720164774515,
          0.2335988627732761,
          0.201356086523824,
          0.19314108533664265,
          0.20328127074538657,
          0.20948647340147933,
          0.20822988006396945,
          0.20053815164998642,
          0.2013215109315134,
          0.19695624916316365,
          0.18887003149180195,
          0.17480036065642254,
          0.1655196291359238,
          0.16757424983237254,
          0.17154499361195213,
          0.20690223104234323,
          0.20919244465907766,
          0.2215985593528407,
          0.23718106771696165,
          0.2547132822159812,
          0.2396378916936424,
          0.23067431938356128,
          0.20027171177649397,
          0.1963718111229851,
          0.1869725127166448,
          0.17902287063278366,
          0.16760694430093118,
          0.17612815520035952,
          0.21350137997407687,
          0.22336022848341205,
          0.21945194132528484,
          0.22094961593539134,
          0.22605536461651823,
          0.24303255616920688,
          0.2536310859554261,
          0.22807703846981475,
          0.27416660402917364,
          0.27313113528421057,
          0.2822458769328825,
          0.27883693675740645,
          0.31419797391716914,
          0.33531135738039736,
          0.3396652499005994,
          0.28769174909765205,
          0.2974504735608209,
          0.2979694927383081,
          0.3137287917855566,
          0.26606407419666545,
          0.24097520480319998,
          0.24899069490722248,
          0.24819421006457834,
          0.2540486038989623,
          0.2450493890412285,
          0.2370980080238514,
          0.24476061941530527,
          0.25787134935466083,
          0.26937236226605416,
          0.25284051847267713
         ]
        },
        {
         "mode": "lines+markers",
         "name": "political",
         "type": "scatter",
         "x": [
          "2019-06-16T00:00:00",
          "2019-07-01T00:00:00",
          "2019-07-02T00:00:00",
          "2019-07-03T00:00:00",
          "2019-07-04T00:00:00",
          "2019-07-05T00:00:00",
          "2019-07-08T00:00:00",
          "2019-07-11T00:00:00",
          "2019-07-19T00:00:00",
          "2019-07-21T00:00:00",
          "2019-07-22T00:00:00",
          "2019-07-23T00:00:00",
          "2019-07-24T00:00:00",
          "2019-07-27T00:00:00",
          "2019-07-29T00:00:00",
          "2019-07-30T00:00:00",
          "2019-07-31T00:00:00",
          "2019-08-01T00:00:00",
          "2019-08-03T00:00:00",
          "2019-08-04T00:00:00",
          "2019-08-05T00:00:00",
          "2019-08-06T00:00:00",
          "2019-08-07T00:00:00",
          "2019-08-08T00:00:00",
          "2019-08-09T00:00:00",
          "2019-08-10T00:00:00",
          "2019-08-11T00:00:00",
          "2019-08-13T00:00:00",
          "2019-08-14T00:00:00",
          "2019-08-15T00:00:00",
          "2019-08-16T00:00:00",
          "2019-08-17T00:00:00",
          "2019-08-18T00:00:00",
          "2019-08-19T00:00:00",
          "2019-08-20T00:00:00",
          "2019-08-21T00:00:00",
          "2019-08-22T00:00:00",
          "2019-08-23T00:00:00",
          "2019-08-24T00:00:00",
          "2019-08-25T00:00:00",
          "2019-08-26T00:00:00",
          "2019-08-27T00:00:00",
          "2019-08-28T00:00:00",
          "2019-08-30T00:00:00",
          "2019-09-01T00:00:00",
          "2019-09-02T00:00:00",
          "2019-09-03T00:00:00",
          "2019-09-04T00:00:00",
          "2019-09-05T00:00:00",
          "2019-09-10T00:00:00",
          "2019-09-11T00:00:00",
          "2019-09-12T00:00:00",
          "2019-09-15T00:00:00",
          "2019-09-17T00:00:00",
          "2019-09-20T00:00:00",
          "2019-09-21T00:00:00",
          "2019-09-26T00:00:00",
          "2019-09-27T00:00:00",
          "2019-09-28T00:00:00",
          "2019-09-29T00:00:00",
          "2019-10-04T00:00:00",
          "2019-10-06T00:00:00",
          "2019-10-07T00:00:00",
          "2019-10-08T00:00:00",
          "2019-10-10T00:00:00",
          "2019-10-16T00:00:00",
          "2019-10-17T00:00:00",
          "2019-10-21T00:00:00",
          "2019-10-22T00:00:00",
          "2019-10-23T00:00:00",
          "2019-10-24T00:00:00",
          "2019-10-26T00:00:00",
          "2019-10-27T00:00:00",
          "2019-10-28T00:00:00",
          "2019-11-05T00:00:00",
          "2019-11-08T00:00:00",
          "2019-11-11T00:00:00",
          "2019-11-12T00:00:00",
          "2019-11-13T00:00:00",
          "2019-11-14T00:00:00",
          "2019-11-15T00:00:00",
          "2019-11-16T00:00:00",
          "2019-11-18T00:00:00",
          "2019-11-19T00:00:00",
          "2019-11-20T00:00:00",
          "2019-11-21T00:00:00",
          "2019-11-22T00:00:00",
          "2019-11-26T00:00:00",
          "2019-11-27T00:00:00",
          "2019-11-28T00:00:00",
          "2019-11-29T00:00:00",
          "2019-12-01T00:00:00",
          "2019-12-02T00:00:00",
          "2019-12-03T00:00:00",
          "2019-12-04T00:00:00",
          "2019-12-05T00:00:00",
          "2019-12-06T00:00:00",
          "2019-12-08T00:00:00",
          "2019-12-13T00:00:00",
          "2019-12-16T00:00:00",
          "2019-12-17T00:00:00",
          "2019-12-19T00:00:00",
          "2019-12-20T00:00:00",
          "2019-12-22T00:00:00",
          "2019-12-24T00:00:00",
          "2019-12-26T00:00:00",
          "2019-12-27T00:00:00",
          "2019-12-31T00:00:00",
          "2020-01-01T00:00:00",
          "2020-01-02T00:00:00",
          "2020-01-03T00:00:00",
          "2020-01-06T00:00:00",
          "2020-01-10T00:00:00",
          "2020-01-14T00:00:00",
          "2020-02-20T00:00:00",
          "2020-03-01T00:00:00"
         ],
         "y": [
          null,
          null,
          null,
          null,
          null,
          null,
          0.5592780802831856,
          0.5398664743891418,
          0.5835894769212524,
          0.594224610642284,
          0.584488713642412,
          0.5621062168012185,
          0.5723423135962619,
          0.5389660599615369,
          0.5237248320179536,
          0.48648255167853083,
          0.48423700568457634,
          0.4940824983305942,
          0.5065186696921827,
          0.47719225166050216,
          0.49370755583362685,
          0.4809374536038894,
          0.48997101793749287,
          0.5151359942637047,
          0.5115957854304007,
          0.5069851065408273,
          0.5057162623015624,
          0.48982366046180686,
          0.4858949178526385,
          0.48548697463226353,
          0.4800326279054187,
          0.48546414212646394,
          0.45270107792055697,
          0.4333495535092919,
          0.44768043742582425,
          0.47989437619047176,
          0.4960710685787075,
          0.49978139623815254,
          0.46996601958978373,
          0.47916341494200587,
          0.47528342391014294,
          0.457804596660382,
          0.4314333357949125,
          0.3846885873977648,
          0.34514137280036056,
          0.37236778904588747,
          0.36670186133218824,
          0.3966220915233149,
          0.40428079085930374,
          0.3663481480213256,
          0.38325542520600875,
          0.3862092547604329,
          0.34973121188523715,
          0.3557523110244715,
          0.35986982230232406,
          0.36943818156878944,
          0.4404981769807195,
          0.4656321218157042,
          0.5075073353318337,
          0.5587023844899935,
          0.5606673814777998,
          0.5557272549552748,
          0.5612229380853712,
          0.5634030630967816,
          0.5637533733762947,
          0.553985315486276,
          0.5493306307035941,
          0.5613299313609528,
          0.572234519427351,
          0.5741978428068641,
          0.5512344987677787,
          0.5498424577581039,
          0.5599996581214827,
          0.5052697118969931,
          0.5211472124236192,
          0.5093130655913346,
          0.5180483473330305,
          0.5112514662726645,
          0.4830226573227397,
          0.4417689789729717,
          0.4844973219657825,
          0.49533351469329956,
          0.5039378565708285,
          0.49093883441225905,
          0.5103908295711401,
          0.5409364536600368,
          0.5569602163533374,
          0.5446720892303232,
          0.5440017027726579,
          0.570855344456635,
          0.5628957391186566,
          0.5445264267215637,
          0.5428243547152823,
          0.5554663939068082,
          0.5216901494115207,
          0.5259995435738818,
          0.5050974799026571,
          0.5185012340784881,
          0.48771036546553465,
          0.4626258947092535,
          0.47306795712221855,
          0.5254783361724596,
          0.5063393509474866,
          0.507573102245756,
          0.48544105705048907,
          0.53481611513213,
          0.5636260881009949,
          0.5358265905260363,
          0.5197302174251434,
          0.5177449093397433,
          0.47534503166661934,
          0.4969979832137058,
          0.4874345390154867,
          0.45483826375848996,
          0.4370733658106099,
          0.4567546421632545
         ]
        },
        {
         "mode": "lines+markers",
         "name": "protest",
         "type": "scatter",
         "x": [
          "2019-06-16T00:00:00",
          "2019-07-01T00:00:00",
          "2019-07-02T00:00:00",
          "2019-07-03T00:00:00",
          "2019-07-04T00:00:00",
          "2019-07-05T00:00:00",
          "2019-07-08T00:00:00",
          "2019-07-11T00:00:00",
          "2019-07-19T00:00:00",
          "2019-07-21T00:00:00",
          "2019-07-22T00:00:00",
          "2019-07-23T00:00:00",
          "2019-07-24T00:00:00",
          "2019-07-27T00:00:00",
          "2019-07-29T00:00:00",
          "2019-07-30T00:00:00",
          "2019-07-31T00:00:00",
          "2019-08-01T00:00:00",
          "2019-08-03T00:00:00",
          "2019-08-04T00:00:00",
          "2019-08-05T00:00:00",
          "2019-08-06T00:00:00",
          "2019-08-07T00:00:00",
          "2019-08-08T00:00:00",
          "2019-08-09T00:00:00",
          "2019-08-10T00:00:00",
          "2019-08-11T00:00:00",
          "2019-08-13T00:00:00",
          "2019-08-14T00:00:00",
          "2019-08-15T00:00:00",
          "2019-08-16T00:00:00",
          "2019-08-17T00:00:00",
          "2019-08-18T00:00:00",
          "2019-08-19T00:00:00",
          "2019-08-20T00:00:00",
          "2019-08-21T00:00:00",
          "2019-08-22T00:00:00",
          "2019-08-23T00:00:00",
          "2019-08-24T00:00:00",
          "2019-08-25T00:00:00",
          "2019-08-26T00:00:00",
          "2019-08-27T00:00:00",
          "2019-08-28T00:00:00",
          "2019-08-30T00:00:00",
          "2019-09-01T00:00:00",
          "2019-09-02T00:00:00",
          "2019-09-03T00:00:00",
          "2019-09-04T00:00:00",
          "2019-09-05T00:00:00",
          "2019-09-10T00:00:00",
          "2019-09-11T00:00:00",
          "2019-09-12T00:00:00",
          "2019-09-15T00:00:00",
          "2019-09-17T00:00:00",
          "2019-09-20T00:00:00",
          "2019-09-21T00:00:00",
          "2019-09-26T00:00:00",
          "2019-09-27T00:00:00",
          "2019-09-28T00:00:00",
          "2019-09-29T00:00:00",
          "2019-10-04T00:00:00",
          "2019-10-06T00:00:00",
          "2019-10-07T00:00:00",
          "2019-10-08T00:00:00",
          "2019-10-10T00:00:00",
          "2019-10-16T00:00:00",
          "2019-10-17T00:00:00",
          "2019-10-21T00:00:00",
          "2019-10-22T00:00:00",
          "2019-10-23T00:00:00",
          "2019-10-24T00:00:00",
          "2019-10-26T00:00:00",
          "2019-10-27T00:00:00",
          "2019-10-28T00:00:00",
          "2019-11-05T00:00:00",
          "2019-11-08T00:00:00",
          "2019-11-11T00:00:00",
          "2019-11-12T00:00:00",
          "2019-11-13T00:00:00",
          "2019-11-14T00:00:00",
          "2019-11-15T00:00:00",
          "2019-11-16T00:00:00",
          "2019-11-18T00:00:00",
          "2019-11-19T00:00:00",
          "2019-11-20T00:00:00",
          "2019-11-21T00:00:00",
          "2019-11-22T00:00:00",
          "2019-11-26T00:00:00",
          "2019-11-27T00:00:00",
          "2019-11-28T00:00:00",
          "2019-11-29T00:00:00",
          "2019-12-01T00:00:00",
          "2019-12-02T00:00:00",
          "2019-12-03T00:00:00",
          "2019-12-04T00:00:00",
          "2019-12-05T00:00:00",
          "2019-12-06T00:00:00",
          "2019-12-08T00:00:00",
          "2019-12-13T00:00:00",
          "2019-12-16T00:00:00",
          "2019-12-17T00:00:00",
          "2019-12-19T00:00:00",
          "2019-12-20T00:00:00",
          "2019-12-22T00:00:00",
          "2019-12-24T00:00:00",
          "2019-12-26T00:00:00",
          "2019-12-27T00:00:00",
          "2019-12-31T00:00:00",
          "2020-01-01T00:00:00",
          "2020-01-02T00:00:00",
          "2020-01-03T00:00:00",
          "2020-01-06T00:00:00",
          "2020-01-10T00:00:00",
          "2020-01-14T00:00:00",
          "2020-02-20T00:00:00",
          "2020-03-01T00:00:00"
         ],
         "y": [
          null,
          null,
          null,
          null,
          null,
          null,
          0.2618506836351264,
          0.26862455799979984,
          0.2352430587424253,
          0.23891531933865373,
          0.24724993266745557,
          0.26402669572511606,
          0.2611574101959329,
          0.2923964448573633,
          0.3119637094273286,
          0.3421398618690695,
          0.3453442306781071,
          0.33372770494947124,
          0.3296087492172092,
          0.3439793493051898,
          0.32098492245121507,
          0.32181158736765375,
          0.28855257004233487,
          0.2543663472923074,
          0.254869288880372,
          0.25383340412092975,
          0.26224725583583824,
          0.2751325095216078,
          0.2678561462299509,
          0.29005600402770904,
          0.3006852681231411,
          0.2942048568954162,
          0.3454352418524337,
          0.3445655811764535,
          0.3204888382081386,
          0.30597726598364033,
          0.2910668997289663,
          0.27559464546127616,
          0.29349519277101116,
          0.2645285462496401,
          0.2758601975908038,
          0.30564101794304716,
          0.33434692457394516,
          0.3820774130583465,
          0.4350985236609168,
          0.4163822210978205,
          0.4184475393195126,
          0.39040926390346525,
          0.39008519255102725,
          0.42234411510409764,
          0.4035416595198006,
          0.394641087373047,
          0.44464819802024796,
          0.4066481719513346,
          0.4076289912148526,
          0.3977584989085413,
          0.3391906362021162,
          0.31120786388896393,
          0.26659546302042114,
          0.20769875273673027,
          0.237976531998376,
          0.2511316597080823,
          0.23549579116924207,
          0.22711046350173886,
          0.22801674655973567,
          0.24547653286373747,
          0.24934785836489234,
          0.24171381947588344,
          0.23889544908084687,
          0.2510017965367132,
          0.2832458720962972,
          0.2825832924095234,
          0.26845534826656503,
          0.28782805706066356,
          0.2696603429173032,
          0.2690883750558247,
          0.24477058495000786,
          0.23403525151135418,
          0.2773394509836179,
          0.327556701643467,
          0.31523096625772357,
          0.30829467418371526,
          0.3090896307125267,
          0.33003829495495723,
          0.32200222612792867,
          0.28293539113960364,
          0.22953840367258568,
          0.2319676822862647,
          0.23654635590205714,
          0.20819503960797353,
          0.21104889626482506,
          0.21244101710922939,
          0.20354455932929144,
          0.21645656762337692,
          0.2041432465593056,
          0.20086932114190764,
          0.21265664316446045,
          0.20266182916410544,
          0.19809166061729624,
          0.2020627479103491,
          0.18726679297718207,
          0.18682991472988822,
          0.1962101754916925,
          0.19445740501593592,
          0.20083015116395428,
          0.19911981067120452,
          0.19539870709580517,
          0.21518271456674126,
          0.23207557251027838,
          0.22820648676129446,
          0.2796055792921521,
          0.26590400876244275,
          0.2678048415692079,
          0.2872903868868491,
          0.29355427192333583,
          0.2904048393640682
         ]
        }
       ],
       "layout": {
        "template": {
         "data": {
          "bar": [
           {
            "error_x": {
             "color": "#2a3f5f"
            },
            "error_y": {
             "color": "#2a3f5f"
            },
            "marker": {
             "line": {
              "color": "#E5ECF6",
              "width": 0.5
             }
            },
            "type": "bar"
           }
          ],
          "barpolar": [
           {
            "marker": {
             "line": {
              "color": "#E5ECF6",
              "width": 0.5
             }
            },
            "type": "barpolar"
           }
          ],
          "carpet": [
           {
            "aaxis": {
             "endlinecolor": "#2a3f5f",
             "gridcolor": "white",
             "linecolor": "white",
             "minorgridcolor": "white",
             "startlinecolor": "#2a3f5f"
            },
            "baxis": {
             "endlinecolor": "#2a3f5f",
             "gridcolor": "white",
             "linecolor": "white",
             "minorgridcolor": "white",
             "startlinecolor": "#2a3f5f"
            },
            "type": "carpet"
           }
          ],
          "choropleth": [
           {
            "colorbar": {
             "outlinewidth": 0,
             "ticks": ""
            },
            "type": "choropleth"
           }
          ],
          "contour": [
           {
            "colorbar": {
             "outlinewidth": 0,
             "ticks": ""
            },
            "colorscale": [
             [
              0,
              "#0d0887"
             ],
             [
              0.1111111111111111,
              "#46039f"
             ],
             [
              0.2222222222222222,
              "#7201a8"
             ],
             [
              0.3333333333333333,
              "#9c179e"
             ],
             [
              0.4444444444444444,
              "#bd3786"
             ],
             [
              0.5555555555555556,
              "#d8576b"
             ],
             [
              0.6666666666666666,
              "#ed7953"
             ],
             [
              0.7777777777777778,
              "#fb9f3a"
             ],
             [
              0.8888888888888888,
              "#fdca26"
             ],
             [
              1,
              "#f0f921"
             ]
            ],
            "type": "contour"
           }
          ],
          "contourcarpet": [
           {
            "colorbar": {
             "outlinewidth": 0,
             "ticks": ""
            },
            "type": "contourcarpet"
           }
          ],
          "heatmap": [
           {
            "colorbar": {
             "outlinewidth": 0,
             "ticks": ""
            },
            "colorscale": [
             [
              0,
              "#0d0887"
             ],
             [
              0.1111111111111111,
              "#46039f"
             ],
             [
              0.2222222222222222,
              "#7201a8"
             ],
             [
              0.3333333333333333,
              "#9c179e"
             ],
             [
              0.4444444444444444,
              "#bd3786"
             ],
             [
              0.5555555555555556,
              "#d8576b"
             ],
             [
              0.6666666666666666,
              "#ed7953"
             ],
             [
              0.7777777777777778,
              "#fb9f3a"
             ],
             [
              0.8888888888888888,
              "#fdca26"
             ],
             [
              1,
              "#f0f921"
             ]
            ],
            "type": "heatmap"
           }
          ],
          "heatmapgl": [
           {
            "colorbar": {
             "outlinewidth": 0,
             "ticks": ""
            },
            "colorscale": [
             [
              0,
              "#0d0887"
             ],
             [
              0.1111111111111111,
              "#46039f"
             ],
             [
              0.2222222222222222,
              "#7201a8"
             ],
             [
              0.3333333333333333,
              "#9c179e"
             ],
             [
              0.4444444444444444,
              "#bd3786"
             ],
             [
              0.5555555555555556,
              "#d8576b"
             ],
             [
              0.6666666666666666,
              "#ed7953"
             ],
             [
              0.7777777777777778,
              "#fb9f3a"
             ],
             [
              0.8888888888888888,
              "#fdca26"
             ],
             [
              1,
              "#f0f921"
             ]
            ],
            "type": "heatmapgl"
           }
          ],
          "histogram": [
           {
            "marker": {
             "colorbar": {
              "outlinewidth": 0,
              "ticks": ""
             }
            },
            "type": "histogram"
           }
          ],
          "histogram2d": [
           {
            "colorbar": {
             "outlinewidth": 0,
             "ticks": ""
            },
            "colorscale": [
             [
              0,
              "#0d0887"
             ],
             [
              0.1111111111111111,
              "#46039f"
             ],
             [
              0.2222222222222222,
              "#7201a8"
             ],
             [
              0.3333333333333333,
              "#9c179e"
             ],
             [
              0.4444444444444444,
              "#bd3786"
             ],
             [
              0.5555555555555556,
              "#d8576b"
             ],
             [
              0.6666666666666666,
              "#ed7953"
             ],
             [
              0.7777777777777778,
              "#fb9f3a"
             ],
             [
              0.8888888888888888,
              "#fdca26"
             ],
             [
              1,
              "#f0f921"
             ]
            ],
            "type": "histogram2d"
           }
          ],
          "histogram2dcontour": [
           {
            "colorbar": {
             "outlinewidth": 0,
             "ticks": ""
            },
            "colorscale": [
             [
              0,
              "#0d0887"
             ],
             [
              0.1111111111111111,
              "#46039f"
             ],
             [
              0.2222222222222222,
              "#7201a8"
             ],
             [
              0.3333333333333333,
              "#9c179e"
             ],
             [
              0.4444444444444444,
              "#bd3786"
             ],
             [
              0.5555555555555556,
              "#d8576b"
             ],
             [
              0.6666666666666666,
              "#ed7953"
             ],
             [
              0.7777777777777778,
              "#fb9f3a"
             ],
             [
              0.8888888888888888,
              "#fdca26"
             ],
             [
              1,
              "#f0f921"
             ]
            ],
            "type": "histogram2dcontour"
           }
          ],
          "mesh3d": [
           {
            "colorbar": {
             "outlinewidth": 0,
             "ticks": ""
            },
            "type": "mesh3d"
           }
          ],
          "parcoords": [
           {
            "line": {
             "colorbar": {
              "outlinewidth": 0,
              "ticks": ""
             }
            },
            "type": "parcoords"
           }
          ],
          "pie": [
           {
            "automargin": true,
            "type": "pie"
           }
          ],
          "scatter": [
           {
            "marker": {
             "colorbar": {
              "outlinewidth": 0,
              "ticks": ""
             }
            },
            "type": "scatter"
           }
          ],
          "scatter3d": [
           {
            "line": {
             "colorbar": {
              "outlinewidth": 0,
              "ticks": ""
             }
            },
            "marker": {
             "colorbar": {
              "outlinewidth": 0,
              "ticks": ""
             }
            },
            "type": "scatter3d"
           }
          ],
          "scattercarpet": [
           {
            "marker": {
             "colorbar": {
              "outlinewidth": 0,
              "ticks": ""
             }
            },
            "type": "scattercarpet"
           }
          ],
          "scattergeo": [
           {
            "marker": {
             "colorbar": {
              "outlinewidth": 0,
              "ticks": ""
             }
            },
            "type": "scattergeo"
           }
          ],
          "scattergl": [
           {
            "marker": {
             "colorbar": {
              "outlinewidth": 0,
              "ticks": ""
             }
            },
            "type": "scattergl"
           }
          ],
          "scattermapbox": [
           {
            "marker": {
             "colorbar": {
              "outlinewidth": 0,
              "ticks": ""
             }
            },
            "type": "scattermapbox"
           }
          ],
          "scatterpolar": [
           {
            "marker": {
             "colorbar": {
              "outlinewidth": 0,
              "ticks": ""
             }
            },
            "type": "scatterpolar"
           }
          ],
          "scatterpolargl": [
           {
            "marker": {
             "colorbar": {
              "outlinewidth": 0,
              "ticks": ""
             }
            },
            "type": "scatterpolargl"
           }
          ],
          "scatterternary": [
           {
            "marker": {
             "colorbar": {
              "outlinewidth": 0,
              "ticks": ""
             }
            },
            "type": "scatterternary"
           }
          ],
          "surface": [
           {
            "colorbar": {
             "outlinewidth": 0,
             "ticks": ""
            },
            "colorscale": [
             [
              0,
              "#0d0887"
             ],
             [
              0.1111111111111111,
              "#46039f"
             ],
             [
              0.2222222222222222,
              "#7201a8"
             ],
             [
              0.3333333333333333,
              "#9c179e"
             ],
             [
              0.4444444444444444,
              "#bd3786"
             ],
             [
              0.5555555555555556,
              "#d8576b"
             ],
             [
              0.6666666666666666,
              "#ed7953"
             ],
             [
              0.7777777777777778,
              "#fb9f3a"
             ],
             [
              0.8888888888888888,
              "#fdca26"
             ],
             [
              1,
              "#f0f921"
             ]
            ],
            "type": "surface"
           }
          ],
          "table": [
           {
            "cells": {
             "fill": {
              "color": "#EBF0F8"
             },
             "line": {
              "color": "white"
             }
            },
            "header": {
             "fill": {
              "color": "#C8D4E3"
             },
             "line": {
              "color": "white"
             }
            },
            "type": "table"
           }
          ]
         },
         "layout": {
          "annotationdefaults": {
           "arrowcolor": "#2a3f5f",
           "arrowhead": 0,
           "arrowwidth": 1
          },
          "coloraxis": {
           "colorbar": {
            "outlinewidth": 0,
            "ticks": ""
           }
          },
          "colorscale": {
           "diverging": [
            [
             0,
             "#8e0152"
            ],
            [
             0.1,
             "#c51b7d"
            ],
            [
             0.2,
             "#de77ae"
            ],
            [
             0.3,
             "#f1b6da"
            ],
            [
             0.4,
             "#fde0ef"
            ],
            [
             0.5,
             "#f7f7f7"
            ],
            [
             0.6,
             "#e6f5d0"
            ],
            [
             0.7,
             "#b8e186"
            ],
            [
             0.8,
             "#7fbc41"
            ],
            [
             0.9,
             "#4d9221"
            ],
            [
             1,
             "#276419"
            ]
           ],
           "sequential": [
            [
             0,
             "#0d0887"
            ],
            [
             0.1111111111111111,
             "#46039f"
            ],
            [
             0.2222222222222222,
             "#7201a8"
            ],
            [
             0.3333333333333333,
             "#9c179e"
            ],
            [
             0.4444444444444444,
             "#bd3786"
            ],
            [
             0.5555555555555556,
             "#d8576b"
            ],
            [
             0.6666666666666666,
             "#ed7953"
            ],
            [
             0.7777777777777778,
             "#fb9f3a"
            ],
            [
             0.8888888888888888,
             "#fdca26"
            ],
            [
             1,
             "#f0f921"
            ]
           ],
           "sequentialminus": [
            [
             0,
             "#0d0887"
            ],
            [
             0.1111111111111111,
             "#46039f"
            ],
            [
             0.2222222222222222,
             "#7201a8"
            ],
            [
             0.3333333333333333,
             "#9c179e"
            ],
            [
             0.4444444444444444,
             "#bd3786"
            ],
            [
             0.5555555555555556,
             "#d8576b"
            ],
            [
             0.6666666666666666,
             "#ed7953"
            ],
            [
             0.7777777777777778,
             "#fb9f3a"
            ],
            [
             0.8888888888888888,
             "#fdca26"
            ],
            [
             1,
             "#f0f921"
            ]
           ]
          },
          "colorway": [
           "#636efa",
           "#EF553B",
           "#00cc96",
           "#ab63fa",
           "#FFA15A",
           "#19d3f3",
           "#FF6692",
           "#B6E880",
           "#FF97FF",
           "#FECB52"
          ],
          "font": {
           "color": "#2a3f5f"
          },
          "geo": {
           "bgcolor": "white",
           "lakecolor": "white",
           "landcolor": "#E5ECF6",
           "showlakes": true,
           "showland": true,
           "subunitcolor": "white"
          },
          "hoverlabel": {
           "align": "left"
          },
          "hovermode": "closest",
          "mapbox": {
           "style": "light"
          },
          "paper_bgcolor": "white",
          "plot_bgcolor": "#E5ECF6",
          "polar": {
           "angularaxis": {
            "gridcolor": "white",
            "linecolor": "white",
            "ticks": ""
           },
           "bgcolor": "#E5ECF6",
           "radialaxis": {
            "gridcolor": "white",
            "linecolor": "white",
            "ticks": ""
           }
          },
          "scene": {
           "xaxis": {
            "backgroundcolor": "#E5ECF6",
            "gridcolor": "white",
            "gridwidth": 2,
            "linecolor": "white",
            "showbackground": true,
            "ticks": "",
            "zerolinecolor": "white"
           },
           "yaxis": {
            "backgroundcolor": "#E5ECF6",
            "gridcolor": "white",
            "gridwidth": 2,
            "linecolor": "white",
            "showbackground": true,
            "ticks": "",
            "zerolinecolor": "white"
           },
           "zaxis": {
            "backgroundcolor": "#E5ECF6",
            "gridcolor": "white",
            "gridwidth": 2,
            "linecolor": "white",
            "showbackground": true,
            "ticks": "",
            "zerolinecolor": "white"
           }
          },
          "shapedefaults": {
           "line": {
            "color": "#2a3f5f"
           }
          },
          "ternary": {
           "aaxis": {
            "gridcolor": "white",
            "linecolor": "white",
            "ticks": ""
           },
           "baxis": {
            "gridcolor": "white",
            "linecolor": "white",
            "ticks": ""
           },
           "bgcolor": "#E5ECF6",
           "caxis": {
            "gridcolor": "white",
            "linecolor": "white",
            "ticks": ""
           }
          },
          "title": {
           "x": 0.05
          },
          "xaxis": {
           "automargin": true,
           "gridcolor": "white",
           "linecolor": "white",
           "ticks": "",
           "title": {
            "standoff": 15
           },
           "zerolinecolor": "white",
           "zerolinewidth": 2
          },
          "yaxis": {
           "automargin": true,
           "gridcolor": "white",
           "linecolor": "white",
           "ticks": "",
           "title": {
            "standoff": 15
           },
           "zerolinecolor": "white",
           "zerolinewidth": 2
          }
         }
        },
        "title": {
         "text": "Topic Composition of Average CCTV Article by Day (7-day Rolling Window)"
        }
       }
      },
      "text/html": [
       "<div>\n",
       "        \n",
       "        \n",
       "            <div id=\"15c2aba8-956f-4ccb-8059-b1aea18b62f5\" class=\"plotly-graph-div\" style=\"height:525px; width:100%;\"></div>\n",
       "            <script type=\"text/javascript\">\n",
       "                require([\"plotly\"], function(Plotly) {\n",
       "                    window.PLOTLYENV=window.PLOTLYENV || {};\n",
       "                    \n",
       "                if (document.getElementById(\"15c2aba8-956f-4ccb-8059-b1aea18b62f5\")) {\n",
       "                    Plotly.newPlot(\n",
       "                        '15c2aba8-956f-4ccb-8059-b1aea18b62f5',\n",
       "                        [{\"mode\": \"lines+markers\", \"name\": \"economic\", \"type\": \"scatter\", \"x\": [\"2019-06-16T00:00:00\", \"2019-07-01T00:00:00\", \"2019-07-02T00:00:00\", \"2019-07-03T00:00:00\", \"2019-07-04T00:00:00\", \"2019-07-05T00:00:00\", \"2019-07-08T00:00:00\", \"2019-07-11T00:00:00\", \"2019-07-19T00:00:00\", \"2019-07-21T00:00:00\", \"2019-07-22T00:00:00\", \"2019-07-23T00:00:00\", \"2019-07-24T00:00:00\", \"2019-07-27T00:00:00\", \"2019-07-29T00:00:00\", \"2019-07-30T00:00:00\", \"2019-07-31T00:00:00\", \"2019-08-01T00:00:00\", \"2019-08-03T00:00:00\", \"2019-08-04T00:00:00\", \"2019-08-05T00:00:00\", \"2019-08-06T00:00:00\", \"2019-08-07T00:00:00\", \"2019-08-08T00:00:00\", \"2019-08-09T00:00:00\", \"2019-08-10T00:00:00\", \"2019-08-11T00:00:00\", \"2019-08-13T00:00:00\", \"2019-08-14T00:00:00\", \"2019-08-15T00:00:00\", \"2019-08-16T00:00:00\", \"2019-08-17T00:00:00\", \"2019-08-18T00:00:00\", \"2019-08-19T00:00:00\", \"2019-08-20T00:00:00\", \"2019-08-21T00:00:00\", \"2019-08-22T00:00:00\", \"2019-08-23T00:00:00\", \"2019-08-24T00:00:00\", \"2019-08-25T00:00:00\", \"2019-08-26T00:00:00\", \"2019-08-27T00:00:00\", \"2019-08-28T00:00:00\", \"2019-08-30T00:00:00\", \"2019-09-01T00:00:00\", \"2019-09-02T00:00:00\", \"2019-09-03T00:00:00\", \"2019-09-04T00:00:00\", \"2019-09-05T00:00:00\", \"2019-09-10T00:00:00\", \"2019-09-11T00:00:00\", \"2019-09-12T00:00:00\", \"2019-09-15T00:00:00\", \"2019-09-17T00:00:00\", \"2019-09-20T00:00:00\", \"2019-09-21T00:00:00\", \"2019-09-26T00:00:00\", \"2019-09-27T00:00:00\", \"2019-09-28T00:00:00\", \"2019-09-29T00:00:00\", \"2019-10-04T00:00:00\", \"2019-10-06T00:00:00\", \"2019-10-07T00:00:00\", \"2019-10-08T00:00:00\", \"2019-10-10T00:00:00\", \"2019-10-16T00:00:00\", \"2019-10-17T00:00:00\", \"2019-10-21T00:00:00\", \"2019-10-22T00:00:00\", \"2019-10-23T00:00:00\", \"2019-10-24T00:00:00\", \"2019-10-26T00:00:00\", \"2019-10-27T00:00:00\", \"2019-10-28T00:00:00\", \"2019-11-05T00:00:00\", \"2019-11-08T00:00:00\", \"2019-11-11T00:00:00\", \"2019-11-12T00:00:00\", \"2019-11-13T00:00:00\", \"2019-11-14T00:00:00\", \"2019-11-15T00:00:00\", \"2019-11-16T00:00:00\", \"2019-11-18T00:00:00\", \"2019-11-19T00:00:00\", \"2019-11-20T00:00:00\", \"2019-11-21T00:00:00\", \"2019-11-22T00:00:00\", \"2019-11-26T00:00:00\", \"2019-11-27T00:00:00\", \"2019-11-28T00:00:00\", \"2019-11-29T00:00:00\", \"2019-12-01T00:00:00\", \"2019-12-02T00:00:00\", \"2019-12-03T00:00:00\", \"2019-12-04T00:00:00\", \"2019-12-05T00:00:00\", \"2019-12-06T00:00:00\", \"2019-12-08T00:00:00\", \"2019-12-13T00:00:00\", \"2019-12-16T00:00:00\", \"2019-12-17T00:00:00\", \"2019-12-19T00:00:00\", \"2019-12-20T00:00:00\", \"2019-12-22T00:00:00\", \"2019-12-24T00:00:00\", \"2019-12-26T00:00:00\", \"2019-12-27T00:00:00\", \"2019-12-31T00:00:00\", \"2020-01-01T00:00:00\", \"2020-01-02T00:00:00\", \"2020-01-03T00:00:00\", \"2020-01-06T00:00:00\", \"2020-01-10T00:00:00\", \"2020-01-14T00:00:00\", \"2020-02-20T00:00:00\", \"2020-03-01T00:00:00\"], \"y\": [null, null, null, null, null, null, 0.17887123608168815, 0.19150896761105854, 0.1811674643363223, 0.16686007001906228, 0.1682613536901326, 0.17386708747366555, 0.16650027620780533, 0.16863749518109983, 0.16431145855471788, 0.17137758645239978, 0.17041876363731662, 0.1721897967199346, 0.16387258109060812, 0.17882839903430794, 0.18530752171515788, 0.19725095902845663, 0.22147641202017201, 0.23049765844398767, 0.23353492568922704, 0.23918148933824268, 0.2320364818625991, 0.23504383001658508, 0.24624893591741032, 0.22445702134002718, 0.21928210397143993, 0.22033100097811958, 0.2018636802270091, 0.22208486531425445, 0.23183072436603697, 0.21412835782588774, 0.21286203169232595, 0.2246239583005711, 0.2365387876392049, 0.2563080388083538, 0.248856378499053, 0.23655438539657064, 0.23421973963114215, 0.2332339995438886, 0.21976010353872263, 0.2112499898562919, 0.214850599348299, 0.21296864457321973, 0.20563401658966882, 0.21130773687457657, 0.21320291527419047, 0.21914965786652, 0.20562059009451478, 0.23759951702419377, 0.2325011864828234, 0.23280331952266917, 0.22031118681716425, 0.2231600142953318, 0.22589720164774515, 0.2335988627732761, 0.201356086523824, 0.19314108533664265, 0.20328127074538657, 0.20948647340147933, 0.20822988006396945, 0.20053815164998642, 0.2013215109315134, 0.19695624916316365, 0.18887003149180195, 0.17480036065642254, 0.1655196291359238, 0.16757424983237254, 0.17154499361195213, 0.20690223104234323, 0.20919244465907766, 0.2215985593528407, 0.23718106771696165, 0.2547132822159812, 0.2396378916936424, 0.23067431938356128, 0.20027171177649397, 0.1963718111229851, 0.1869725127166448, 0.17902287063278366, 0.16760694430093118, 0.17612815520035952, 0.21350137997407687, 0.22336022848341205, 0.21945194132528484, 0.22094961593539134, 0.22605536461651823, 0.24303255616920688, 0.2536310859554261, 0.22807703846981475, 0.27416660402917364, 0.27313113528421057, 0.2822458769328825, 0.27883693675740645, 0.31419797391716914, 0.33531135738039736, 0.3396652499005994, 0.28769174909765205, 0.2974504735608209, 0.2979694927383081, 0.3137287917855566, 0.26606407419666545, 0.24097520480319998, 0.24899069490722248, 0.24819421006457834, 0.2540486038989623, 0.2450493890412285, 0.2370980080238514, 0.24476061941530527, 0.25787134935466083, 0.26937236226605416, 0.25284051847267713]}, {\"mode\": \"lines+markers\", \"name\": \"political\", \"type\": \"scatter\", \"x\": [\"2019-06-16T00:00:00\", \"2019-07-01T00:00:00\", \"2019-07-02T00:00:00\", \"2019-07-03T00:00:00\", \"2019-07-04T00:00:00\", \"2019-07-05T00:00:00\", \"2019-07-08T00:00:00\", \"2019-07-11T00:00:00\", \"2019-07-19T00:00:00\", \"2019-07-21T00:00:00\", \"2019-07-22T00:00:00\", \"2019-07-23T00:00:00\", \"2019-07-24T00:00:00\", \"2019-07-27T00:00:00\", \"2019-07-29T00:00:00\", \"2019-07-30T00:00:00\", \"2019-07-31T00:00:00\", \"2019-08-01T00:00:00\", \"2019-08-03T00:00:00\", \"2019-08-04T00:00:00\", \"2019-08-05T00:00:00\", \"2019-08-06T00:00:00\", \"2019-08-07T00:00:00\", \"2019-08-08T00:00:00\", \"2019-08-09T00:00:00\", \"2019-08-10T00:00:00\", \"2019-08-11T00:00:00\", \"2019-08-13T00:00:00\", \"2019-08-14T00:00:00\", \"2019-08-15T00:00:00\", \"2019-08-16T00:00:00\", \"2019-08-17T00:00:00\", \"2019-08-18T00:00:00\", \"2019-08-19T00:00:00\", \"2019-08-20T00:00:00\", \"2019-08-21T00:00:00\", \"2019-08-22T00:00:00\", \"2019-08-23T00:00:00\", \"2019-08-24T00:00:00\", \"2019-08-25T00:00:00\", \"2019-08-26T00:00:00\", \"2019-08-27T00:00:00\", \"2019-08-28T00:00:00\", \"2019-08-30T00:00:00\", \"2019-09-01T00:00:00\", \"2019-09-02T00:00:00\", \"2019-09-03T00:00:00\", \"2019-09-04T00:00:00\", \"2019-09-05T00:00:00\", \"2019-09-10T00:00:00\", \"2019-09-11T00:00:00\", \"2019-09-12T00:00:00\", \"2019-09-15T00:00:00\", \"2019-09-17T00:00:00\", \"2019-09-20T00:00:00\", \"2019-09-21T00:00:00\", \"2019-09-26T00:00:00\", \"2019-09-27T00:00:00\", \"2019-09-28T00:00:00\", \"2019-09-29T00:00:00\", \"2019-10-04T00:00:00\", \"2019-10-06T00:00:00\", \"2019-10-07T00:00:00\", \"2019-10-08T00:00:00\", \"2019-10-10T00:00:00\", \"2019-10-16T00:00:00\", \"2019-10-17T00:00:00\", \"2019-10-21T00:00:00\", \"2019-10-22T00:00:00\", \"2019-10-23T00:00:00\", \"2019-10-24T00:00:00\", \"2019-10-26T00:00:00\", \"2019-10-27T00:00:00\", \"2019-10-28T00:00:00\", \"2019-11-05T00:00:00\", \"2019-11-08T00:00:00\", \"2019-11-11T00:00:00\", \"2019-11-12T00:00:00\", \"2019-11-13T00:00:00\", \"2019-11-14T00:00:00\", \"2019-11-15T00:00:00\", \"2019-11-16T00:00:00\", \"2019-11-18T00:00:00\", \"2019-11-19T00:00:00\", \"2019-11-20T00:00:00\", \"2019-11-21T00:00:00\", \"2019-11-22T00:00:00\", \"2019-11-26T00:00:00\", \"2019-11-27T00:00:00\", \"2019-11-28T00:00:00\", \"2019-11-29T00:00:00\", \"2019-12-01T00:00:00\", \"2019-12-02T00:00:00\", \"2019-12-03T00:00:00\", \"2019-12-04T00:00:00\", \"2019-12-05T00:00:00\", \"2019-12-06T00:00:00\", \"2019-12-08T00:00:00\", \"2019-12-13T00:00:00\", \"2019-12-16T00:00:00\", \"2019-12-17T00:00:00\", \"2019-12-19T00:00:00\", \"2019-12-20T00:00:00\", \"2019-12-22T00:00:00\", \"2019-12-24T00:00:00\", \"2019-12-26T00:00:00\", \"2019-12-27T00:00:00\", \"2019-12-31T00:00:00\", \"2020-01-01T00:00:00\", \"2020-01-02T00:00:00\", \"2020-01-03T00:00:00\", \"2020-01-06T00:00:00\", \"2020-01-10T00:00:00\", \"2020-01-14T00:00:00\", \"2020-02-20T00:00:00\", \"2020-03-01T00:00:00\"], \"y\": [null, null, null, null, null, null, 0.5592780802831856, 0.5398664743891418, 0.5835894769212524, 0.594224610642284, 0.584488713642412, 0.5621062168012185, 0.5723423135962619, 0.5389660599615369, 0.5237248320179536, 0.48648255167853083, 0.48423700568457634, 0.4940824983305942, 0.5065186696921827, 0.47719225166050216, 0.49370755583362685, 0.4809374536038894, 0.48997101793749287, 0.5151359942637047, 0.5115957854304007, 0.5069851065408273, 0.5057162623015624, 0.48982366046180686, 0.4858949178526385, 0.48548697463226353, 0.4800326279054187, 0.48546414212646394, 0.45270107792055697, 0.4333495535092919, 0.44768043742582425, 0.47989437619047176, 0.4960710685787075, 0.49978139623815254, 0.46996601958978373, 0.47916341494200587, 0.47528342391014294, 0.457804596660382, 0.4314333357949125, 0.3846885873977648, 0.34514137280036056, 0.37236778904588747, 0.36670186133218824, 0.3966220915233149, 0.40428079085930374, 0.3663481480213256, 0.38325542520600875, 0.3862092547604329, 0.34973121188523715, 0.3557523110244715, 0.35986982230232406, 0.36943818156878944, 0.4404981769807195, 0.4656321218157042, 0.5075073353318337, 0.5587023844899935, 0.5606673814777998, 0.5557272549552748, 0.5612229380853712, 0.5634030630967816, 0.5637533733762947, 0.553985315486276, 0.5493306307035941, 0.5613299313609528, 0.572234519427351, 0.5741978428068641, 0.5512344987677787, 0.5498424577581039, 0.5599996581214827, 0.5052697118969931, 0.5211472124236192, 0.5093130655913346, 0.5180483473330305, 0.5112514662726645, 0.4830226573227397, 0.4417689789729717, 0.4844973219657825, 0.49533351469329956, 0.5039378565708285, 0.49093883441225905, 0.5103908295711401, 0.5409364536600368, 0.5569602163533374, 0.5446720892303232, 0.5440017027726579, 0.570855344456635, 0.5628957391186566, 0.5445264267215637, 0.5428243547152823, 0.5554663939068082, 0.5216901494115207, 0.5259995435738818, 0.5050974799026571, 0.5185012340784881, 0.48771036546553465, 0.4626258947092535, 0.47306795712221855, 0.5254783361724596, 0.5063393509474866, 0.507573102245756, 0.48544105705048907, 0.53481611513213, 0.5636260881009949, 0.5358265905260363, 0.5197302174251434, 0.5177449093397433, 0.47534503166661934, 0.4969979832137058, 0.4874345390154867, 0.45483826375848996, 0.4370733658106099, 0.4567546421632545]}, {\"mode\": \"lines+markers\", \"name\": \"protest\", \"type\": \"scatter\", \"x\": [\"2019-06-16T00:00:00\", \"2019-07-01T00:00:00\", \"2019-07-02T00:00:00\", \"2019-07-03T00:00:00\", \"2019-07-04T00:00:00\", \"2019-07-05T00:00:00\", \"2019-07-08T00:00:00\", \"2019-07-11T00:00:00\", \"2019-07-19T00:00:00\", \"2019-07-21T00:00:00\", \"2019-07-22T00:00:00\", \"2019-07-23T00:00:00\", \"2019-07-24T00:00:00\", \"2019-07-27T00:00:00\", \"2019-07-29T00:00:00\", \"2019-07-30T00:00:00\", \"2019-07-31T00:00:00\", \"2019-08-01T00:00:00\", \"2019-08-03T00:00:00\", \"2019-08-04T00:00:00\", \"2019-08-05T00:00:00\", \"2019-08-06T00:00:00\", \"2019-08-07T00:00:00\", \"2019-08-08T00:00:00\", \"2019-08-09T00:00:00\", \"2019-08-10T00:00:00\", \"2019-08-11T00:00:00\", \"2019-08-13T00:00:00\", \"2019-08-14T00:00:00\", \"2019-08-15T00:00:00\", \"2019-08-16T00:00:00\", \"2019-08-17T00:00:00\", \"2019-08-18T00:00:00\", \"2019-08-19T00:00:00\", \"2019-08-20T00:00:00\", \"2019-08-21T00:00:00\", \"2019-08-22T00:00:00\", \"2019-08-23T00:00:00\", \"2019-08-24T00:00:00\", \"2019-08-25T00:00:00\", \"2019-08-26T00:00:00\", \"2019-08-27T00:00:00\", \"2019-08-28T00:00:00\", \"2019-08-30T00:00:00\", \"2019-09-01T00:00:00\", \"2019-09-02T00:00:00\", \"2019-09-03T00:00:00\", \"2019-09-04T00:00:00\", \"2019-09-05T00:00:00\", \"2019-09-10T00:00:00\", \"2019-09-11T00:00:00\", \"2019-09-12T00:00:00\", \"2019-09-15T00:00:00\", \"2019-09-17T00:00:00\", \"2019-09-20T00:00:00\", \"2019-09-21T00:00:00\", \"2019-09-26T00:00:00\", \"2019-09-27T00:00:00\", \"2019-09-28T00:00:00\", \"2019-09-29T00:00:00\", \"2019-10-04T00:00:00\", \"2019-10-06T00:00:00\", \"2019-10-07T00:00:00\", \"2019-10-08T00:00:00\", \"2019-10-10T00:00:00\", \"2019-10-16T00:00:00\", \"2019-10-17T00:00:00\", \"2019-10-21T00:00:00\", \"2019-10-22T00:00:00\", \"2019-10-23T00:00:00\", \"2019-10-24T00:00:00\", \"2019-10-26T00:00:00\", \"2019-10-27T00:00:00\", \"2019-10-28T00:00:00\", \"2019-11-05T00:00:00\", \"2019-11-08T00:00:00\", \"2019-11-11T00:00:00\", \"2019-11-12T00:00:00\", \"2019-11-13T00:00:00\", \"2019-11-14T00:00:00\", \"2019-11-15T00:00:00\", \"2019-11-16T00:00:00\", \"2019-11-18T00:00:00\", \"2019-11-19T00:00:00\", \"2019-11-20T00:00:00\", \"2019-11-21T00:00:00\", \"2019-11-22T00:00:00\", \"2019-11-26T00:00:00\", \"2019-11-27T00:00:00\", \"2019-11-28T00:00:00\", \"2019-11-29T00:00:00\", \"2019-12-01T00:00:00\", \"2019-12-02T00:00:00\", \"2019-12-03T00:00:00\", \"2019-12-04T00:00:00\", \"2019-12-05T00:00:00\", \"2019-12-06T00:00:00\", \"2019-12-08T00:00:00\", \"2019-12-13T00:00:00\", \"2019-12-16T00:00:00\", \"2019-12-17T00:00:00\", \"2019-12-19T00:00:00\", \"2019-12-20T00:00:00\", \"2019-12-22T00:00:00\", \"2019-12-24T00:00:00\", \"2019-12-26T00:00:00\", \"2019-12-27T00:00:00\", \"2019-12-31T00:00:00\", \"2020-01-01T00:00:00\", \"2020-01-02T00:00:00\", \"2020-01-03T00:00:00\", \"2020-01-06T00:00:00\", \"2020-01-10T00:00:00\", \"2020-01-14T00:00:00\", \"2020-02-20T00:00:00\", \"2020-03-01T00:00:00\"], \"y\": [null, null, null, null, null, null, 0.2618506836351264, 0.26862455799979984, 0.2352430587424253, 0.23891531933865373, 0.24724993266745557, 0.26402669572511606, 0.2611574101959329, 0.2923964448573633, 0.3119637094273286, 0.3421398618690695, 0.3453442306781071, 0.33372770494947124, 0.3296087492172092, 0.3439793493051898, 0.32098492245121507, 0.32181158736765375, 0.28855257004233487, 0.2543663472923074, 0.254869288880372, 0.25383340412092975, 0.26224725583583824, 0.2751325095216078, 0.2678561462299509, 0.29005600402770904, 0.3006852681231411, 0.2942048568954162, 0.3454352418524337, 0.3445655811764535, 0.3204888382081386, 0.30597726598364033, 0.2910668997289663, 0.27559464546127616, 0.29349519277101116, 0.2645285462496401, 0.2758601975908038, 0.30564101794304716, 0.33434692457394516, 0.3820774130583465, 0.4350985236609168, 0.4163822210978205, 0.4184475393195126, 0.39040926390346525, 0.39008519255102725, 0.42234411510409764, 0.4035416595198006, 0.394641087373047, 0.44464819802024796, 0.4066481719513346, 0.4076289912148526, 0.3977584989085413, 0.3391906362021162, 0.31120786388896393, 0.26659546302042114, 0.20769875273673027, 0.237976531998376, 0.2511316597080823, 0.23549579116924207, 0.22711046350173886, 0.22801674655973567, 0.24547653286373747, 0.24934785836489234, 0.24171381947588344, 0.23889544908084687, 0.2510017965367132, 0.2832458720962972, 0.2825832924095234, 0.26845534826656503, 0.28782805706066356, 0.2696603429173032, 0.2690883750558247, 0.24477058495000786, 0.23403525151135418, 0.2773394509836179, 0.327556701643467, 0.31523096625772357, 0.30829467418371526, 0.3090896307125267, 0.33003829495495723, 0.32200222612792867, 0.28293539113960364, 0.22953840367258568, 0.2319676822862647, 0.23654635590205714, 0.20819503960797353, 0.21104889626482506, 0.21244101710922939, 0.20354455932929144, 0.21645656762337692, 0.2041432465593056, 0.20086932114190764, 0.21265664316446045, 0.20266182916410544, 0.19809166061729624, 0.2020627479103491, 0.18726679297718207, 0.18682991472988822, 0.1962101754916925, 0.19445740501593592, 0.20083015116395428, 0.19911981067120452, 0.19539870709580517, 0.21518271456674126, 0.23207557251027838, 0.22820648676129446, 0.2796055792921521, 0.26590400876244275, 0.2678048415692079, 0.2872903868868491, 0.29355427192333583, 0.2904048393640682]}],\n",
       "                        {\"template\": {\"data\": {\"bar\": [{\"error_x\": {\"color\": \"#2a3f5f\"}, \"error_y\": {\"color\": \"#2a3f5f\"}, \"marker\": {\"line\": {\"color\": \"#E5ECF6\", \"width\": 0.5}}, \"type\": \"bar\"}], \"barpolar\": [{\"marker\": {\"line\": {\"color\": \"#E5ECF6\", \"width\": 0.5}}, \"type\": \"barpolar\"}], \"carpet\": [{\"aaxis\": {\"endlinecolor\": \"#2a3f5f\", \"gridcolor\": \"white\", \"linecolor\": \"white\", \"minorgridcolor\": \"white\", \"startlinecolor\": \"#2a3f5f\"}, \"baxis\": {\"endlinecolor\": \"#2a3f5f\", \"gridcolor\": \"white\", \"linecolor\": \"white\", \"minorgridcolor\": \"white\", \"startlinecolor\": \"#2a3f5f\"}, \"type\": \"carpet\"}], \"choropleth\": [{\"colorbar\": {\"outlinewidth\": 0, \"ticks\": \"\"}, \"type\": \"choropleth\"}], \"contour\": [{\"colorbar\": {\"outlinewidth\": 0, \"ticks\": \"\"}, \"colorscale\": [[0.0, \"#0d0887\"], [0.1111111111111111, \"#46039f\"], [0.2222222222222222, \"#7201a8\"], [0.3333333333333333, \"#9c179e\"], [0.4444444444444444, \"#bd3786\"], [0.5555555555555556, \"#d8576b\"], [0.6666666666666666, \"#ed7953\"], [0.7777777777777778, \"#fb9f3a\"], [0.8888888888888888, \"#fdca26\"], [1.0, \"#f0f921\"]], \"type\": \"contour\"}], \"contourcarpet\": [{\"colorbar\": {\"outlinewidth\": 0, \"ticks\": \"\"}, \"type\": \"contourcarpet\"}], \"heatmap\": [{\"colorbar\": {\"outlinewidth\": 0, \"ticks\": \"\"}, \"colorscale\": [[0.0, \"#0d0887\"], [0.1111111111111111, \"#46039f\"], [0.2222222222222222, \"#7201a8\"], [0.3333333333333333, \"#9c179e\"], [0.4444444444444444, \"#bd3786\"], [0.5555555555555556, \"#d8576b\"], [0.6666666666666666, \"#ed7953\"], [0.7777777777777778, \"#fb9f3a\"], [0.8888888888888888, \"#fdca26\"], [1.0, \"#f0f921\"]], \"type\": \"heatmap\"}], \"heatmapgl\": [{\"colorbar\": {\"outlinewidth\": 0, \"ticks\": \"\"}, \"colorscale\": [[0.0, \"#0d0887\"], [0.1111111111111111, \"#46039f\"], [0.2222222222222222, \"#7201a8\"], [0.3333333333333333, \"#9c179e\"], [0.4444444444444444, \"#bd3786\"], [0.5555555555555556, \"#d8576b\"], [0.6666666666666666, \"#ed7953\"], [0.7777777777777778, \"#fb9f3a\"], [0.8888888888888888, \"#fdca26\"], [1.0, \"#f0f921\"]], \"type\": \"heatmapgl\"}], \"histogram\": [{\"marker\": {\"colorbar\": {\"outlinewidth\": 0, \"ticks\": \"\"}}, \"type\": \"histogram\"}], \"histogram2d\": [{\"colorbar\": {\"outlinewidth\": 0, \"ticks\": \"\"}, \"colorscale\": [[0.0, \"#0d0887\"], [0.1111111111111111, \"#46039f\"], [0.2222222222222222, \"#7201a8\"], [0.3333333333333333, \"#9c179e\"], [0.4444444444444444, \"#bd3786\"], [0.5555555555555556, \"#d8576b\"], [0.6666666666666666, \"#ed7953\"], [0.7777777777777778, \"#fb9f3a\"], [0.8888888888888888, \"#fdca26\"], [1.0, \"#f0f921\"]], \"type\": \"histogram2d\"}], \"histogram2dcontour\": [{\"colorbar\": {\"outlinewidth\": 0, \"ticks\": \"\"}, \"colorscale\": [[0.0, \"#0d0887\"], [0.1111111111111111, \"#46039f\"], [0.2222222222222222, \"#7201a8\"], [0.3333333333333333, \"#9c179e\"], [0.4444444444444444, \"#bd3786\"], [0.5555555555555556, \"#d8576b\"], [0.6666666666666666, \"#ed7953\"], [0.7777777777777778, \"#fb9f3a\"], [0.8888888888888888, \"#fdca26\"], [1.0, \"#f0f921\"]], \"type\": \"histogram2dcontour\"}], \"mesh3d\": [{\"colorbar\": {\"outlinewidth\": 0, \"ticks\": \"\"}, \"type\": \"mesh3d\"}], \"parcoords\": [{\"line\": {\"colorbar\": {\"outlinewidth\": 0, \"ticks\": \"\"}}, \"type\": \"parcoords\"}], \"pie\": [{\"automargin\": true, \"type\": \"pie\"}], \"scatter\": [{\"marker\": {\"colorbar\": {\"outlinewidth\": 0, \"ticks\": \"\"}}, \"type\": \"scatter\"}], \"scatter3d\": [{\"line\": {\"colorbar\": {\"outlinewidth\": 0, \"ticks\": \"\"}}, \"marker\": {\"colorbar\": {\"outlinewidth\": 0, \"ticks\": \"\"}}, \"type\": \"scatter3d\"}], \"scattercarpet\": [{\"marker\": {\"colorbar\": {\"outlinewidth\": 0, \"ticks\": \"\"}}, \"type\": \"scattercarpet\"}], \"scattergeo\": [{\"marker\": {\"colorbar\": {\"outlinewidth\": 0, \"ticks\": \"\"}}, \"type\": \"scattergeo\"}], \"scattergl\": [{\"marker\": {\"colorbar\": {\"outlinewidth\": 0, \"ticks\": \"\"}}, \"type\": \"scattergl\"}], \"scattermapbox\": [{\"marker\": {\"colorbar\": {\"outlinewidth\": 0, \"ticks\": \"\"}}, \"type\": \"scattermapbox\"}], \"scatterpolar\": [{\"marker\": {\"colorbar\": {\"outlinewidth\": 0, \"ticks\": \"\"}}, \"type\": \"scatterpolar\"}], \"scatterpolargl\": [{\"marker\": {\"colorbar\": {\"outlinewidth\": 0, \"ticks\": \"\"}}, \"type\": \"scatterpolargl\"}], \"scatterternary\": [{\"marker\": {\"colorbar\": {\"outlinewidth\": 0, \"ticks\": \"\"}}, \"type\": \"scatterternary\"}], \"surface\": [{\"colorbar\": {\"outlinewidth\": 0, \"ticks\": \"\"}, \"colorscale\": [[0.0, \"#0d0887\"], [0.1111111111111111, \"#46039f\"], [0.2222222222222222, \"#7201a8\"], [0.3333333333333333, \"#9c179e\"], [0.4444444444444444, \"#bd3786\"], [0.5555555555555556, \"#d8576b\"], [0.6666666666666666, \"#ed7953\"], [0.7777777777777778, \"#fb9f3a\"], [0.8888888888888888, \"#fdca26\"], [1.0, \"#f0f921\"]], \"type\": \"surface\"}], \"table\": [{\"cells\": {\"fill\": {\"color\": \"#EBF0F8\"}, \"line\": {\"color\": \"white\"}}, \"header\": {\"fill\": {\"color\": \"#C8D4E3\"}, \"line\": {\"color\": \"white\"}}, \"type\": \"table\"}]}, \"layout\": {\"annotationdefaults\": {\"arrowcolor\": \"#2a3f5f\", \"arrowhead\": 0, \"arrowwidth\": 1}, \"coloraxis\": {\"colorbar\": {\"outlinewidth\": 0, \"ticks\": \"\"}}, \"colorscale\": {\"diverging\": [[0, \"#8e0152\"], [0.1, \"#c51b7d\"], [0.2, \"#de77ae\"], [0.3, \"#f1b6da\"], [0.4, \"#fde0ef\"], [0.5, \"#f7f7f7\"], [0.6, \"#e6f5d0\"], [0.7, \"#b8e186\"], [0.8, \"#7fbc41\"], [0.9, \"#4d9221\"], [1, \"#276419\"]], \"sequential\": [[0.0, \"#0d0887\"], [0.1111111111111111, \"#46039f\"], [0.2222222222222222, \"#7201a8\"], [0.3333333333333333, \"#9c179e\"], [0.4444444444444444, \"#bd3786\"], [0.5555555555555556, \"#d8576b\"], [0.6666666666666666, \"#ed7953\"], [0.7777777777777778, \"#fb9f3a\"], [0.8888888888888888, \"#fdca26\"], [1.0, \"#f0f921\"]], \"sequentialminus\": [[0.0, \"#0d0887\"], [0.1111111111111111, \"#46039f\"], [0.2222222222222222, \"#7201a8\"], [0.3333333333333333, \"#9c179e\"], [0.4444444444444444, \"#bd3786\"], [0.5555555555555556, \"#d8576b\"], [0.6666666666666666, \"#ed7953\"], [0.7777777777777778, \"#fb9f3a\"], [0.8888888888888888, \"#fdca26\"], [1.0, \"#f0f921\"]]}, \"colorway\": [\"#636efa\", \"#EF553B\", \"#00cc96\", \"#ab63fa\", \"#FFA15A\", \"#19d3f3\", \"#FF6692\", \"#B6E880\", \"#FF97FF\", \"#FECB52\"], \"font\": {\"color\": \"#2a3f5f\"}, \"geo\": {\"bgcolor\": \"white\", \"lakecolor\": \"white\", \"landcolor\": \"#E5ECF6\", \"showlakes\": true, \"showland\": true, \"subunitcolor\": \"white\"}, \"hoverlabel\": {\"align\": \"left\"}, \"hovermode\": \"closest\", \"mapbox\": {\"style\": \"light\"}, \"paper_bgcolor\": \"white\", \"plot_bgcolor\": \"#E5ECF6\", \"polar\": {\"angularaxis\": {\"gridcolor\": \"white\", \"linecolor\": \"white\", \"ticks\": \"\"}, \"bgcolor\": \"#E5ECF6\", \"radialaxis\": {\"gridcolor\": \"white\", \"linecolor\": \"white\", \"ticks\": \"\"}}, \"scene\": {\"xaxis\": {\"backgroundcolor\": \"#E5ECF6\", \"gridcolor\": \"white\", \"gridwidth\": 2, \"linecolor\": \"white\", \"showbackground\": true, \"ticks\": \"\", \"zerolinecolor\": \"white\"}, \"yaxis\": {\"backgroundcolor\": \"#E5ECF6\", \"gridcolor\": \"white\", \"gridwidth\": 2, \"linecolor\": \"white\", \"showbackground\": true, \"ticks\": \"\", \"zerolinecolor\": \"white\"}, \"zaxis\": {\"backgroundcolor\": \"#E5ECF6\", \"gridcolor\": \"white\", \"gridwidth\": 2, \"linecolor\": \"white\", \"showbackground\": true, \"ticks\": \"\", \"zerolinecolor\": \"white\"}}, \"shapedefaults\": {\"line\": {\"color\": \"#2a3f5f\"}}, \"ternary\": {\"aaxis\": {\"gridcolor\": \"white\", \"linecolor\": \"white\", \"ticks\": \"\"}, \"baxis\": {\"gridcolor\": \"white\", \"linecolor\": \"white\", \"ticks\": \"\"}, \"bgcolor\": \"#E5ECF6\", \"caxis\": {\"gridcolor\": \"white\", \"linecolor\": \"white\", \"ticks\": \"\"}}, \"title\": {\"x\": 0.05}, \"xaxis\": {\"automargin\": true, \"gridcolor\": \"white\", \"linecolor\": \"white\", \"ticks\": \"\", \"title\": {\"standoff\": 15}, \"zerolinecolor\": \"white\", \"zerolinewidth\": 2}, \"yaxis\": {\"automargin\": true, \"gridcolor\": \"white\", \"linecolor\": \"white\", \"ticks\": \"\", \"title\": {\"standoff\": 15}, \"zerolinecolor\": \"white\", \"zerolinewidth\": 2}}}, \"title\": {\"text\": \"Topic Composition of Average CCTV Article by Day (7-day Rolling Window)\"}},\n",
       "                        {\"responsive\": true}\n",
       "                    ).then(function(){\n",
       "                            \n",
       "var gd = document.getElementById('15c2aba8-956f-4ccb-8059-b1aea18b62f5');\n",
       "var x = new MutationObserver(function (mutations, observer) {{\n",
       "        var display = window.getComputedStyle(gd).display;\n",
       "        if (!display || display === 'none') {{\n",
       "            console.log([gd, 'removed!']);\n",
       "            Plotly.purge(gd);\n",
       "            observer.disconnect();\n",
       "        }}\n",
       "}});\n",
       "\n",
       "// Listen for the removal of the full notebook cells\n",
       "var notebookContainer = gd.closest('#notebook-container');\n",
       "if (notebookContainer) {{\n",
       "    x.observe(notebookContainer, {childList: true});\n",
       "}}\n",
       "\n",
       "// Listen for the clearing of the current output cell\n",
       "var outputEl = gd.closest('.output');\n",
       "if (outputEl) {{\n",
       "    x.observe(outputEl, {childList: true});\n",
       "}}\n",
       "\n",
       "                        })\n",
       "                };\n",
       "                });\n",
       "            </script>\n",
       "        </div>"
      ]
     },
     "metadata": {},
     "output_type": "display_data"
    },
    {
     "data": {
      "application/vnd.plotly.v1+json": {
       "config": {
        "plotlyServerURL": "https://plot.ly"
       },
       "data": [
        {
         "mode": "lines+markers",
         "name": "economic",
         "type": "scatter",
         "x": [
          "2019-06-10T00:00:00",
          "2019-06-12T00:00:00",
          "2019-06-13T00:00:00",
          "2019-06-17T00:00:00",
          "2019-06-19T00:00:00",
          "2019-06-23T00:00:00",
          "2019-07-01T00:00:00",
          "2019-07-02T00:00:00",
          "2019-07-04T00:00:00",
          "2019-07-06T00:00:00",
          "2019-07-09T00:00:00",
          "2019-07-15T00:00:00",
          "2019-07-25T00:00:00",
          "2019-07-27T00:00:00",
          "2019-08-01T00:00:00",
          "2019-08-03T00:00:00",
          "2019-08-05T00:00:00",
          "2019-08-07T00:00:00",
          "2019-08-08T00:00:00",
          "2019-08-10T00:00:00",
          "2019-08-11T00:00:00",
          "2019-08-12T00:00:00",
          "2019-08-13T00:00:00",
          "2019-08-14T00:00:00",
          "2019-08-16T00:00:00",
          "2019-08-17T00:00:00",
          "2019-08-20T00:00:00",
          "2019-08-23T00:00:00",
          "2019-08-24T00:00:00",
          "2019-08-25T00:00:00",
          "2019-08-26T00:00:00",
          "2019-08-29T00:00:00",
          "2019-09-01T00:00:00",
          "2019-09-02T00:00:00",
          "2019-09-03T00:00:00",
          "2019-09-05T00:00:00",
          "2019-09-06T00:00:00",
          "2019-09-09T00:00:00",
          "2019-09-16T00:00:00",
          "2019-09-17T00:00:00",
          "2019-09-30T00:00:00",
          "2019-10-01T00:00:00",
          "2019-10-02T00:00:00",
          "2019-10-04T00:00:00",
          "2019-10-05T00:00:00",
          "2019-10-08T00:00:00",
          "2019-10-11T00:00:00",
          "2019-10-14T00:00:00",
          "2019-10-15T00:00:00",
          "2019-10-16T00:00:00",
          "2019-10-21T00:00:00",
          "2019-10-23T00:00:00",
          "2019-10-24T00:00:00",
          "2019-10-29T00:00:00",
          "2019-11-02T00:00:00",
          "2019-11-05T00:00:00",
          "2019-11-09T00:00:00",
          "2019-11-11T00:00:00",
          "2019-11-12T00:00:00",
          "2019-11-13T00:00:00",
          "2019-12-02T00:00:00",
          "2019-12-07T00:00:00",
          "2019-12-09T00:00:00",
          "2019-12-12T00:00:00",
          "2020-02-27T00:00:00",
          "2020-02-29T00:00:00",
          "2020-03-06T00:00:00"
         ],
         "y": [
          null,
          null,
          null,
          null,
          null,
          null,
          0.2600149291567294,
          0.2594284859342882,
          0.2462248360926266,
          0.23489806447985906,
          0.22798823814545313,
          0.21064339986495512,
          0.21878839660188132,
          0.2147814818169255,
          0.2239707387117713,
          0.2164713796819547,
          0.2168317292485543,
          0.2296972956424408,
          0.2538318387888264,
          0.27192931800311265,
          0.2962342728632139,
          0.2905882425322957,
          0.3320050390685628,
          0.3480688872345225,
          0.3448730453527092,
          0.3207858198003225,
          0.27745874259564973,
          0.2663657601845146,
          0.2728181553199217,
          0.260227480350719,
          0.2578099612934115,
          0.24219354810447233,
          0.2555650642485073,
          0.26767467577470055,
          0.2661086703240133,
          0.26592836706743445,
          0.2590417819291101,
          0.26375887917060503,
          0.27054878138898936,
          0.2791739552521007,
          0.28738731420227287,
          0.29366572498142773,
          0.2956921268304332,
          0.2769378615834705,
          0.2632082416846606,
          0.2735310245528629,
          0.2641400030426302,
          0.26668855527244906,
          0.26835645285231896,
          0.25682928770841823,
          0.25539269806264814,
          0.3213589053759202,
          0.3028002916047664,
          0.3193608470086703,
          0.33636809874582835,
          0.3305437923898372,
          0.31210216580071687,
          0.315341297611714,
          0.31438437924041096,
          0.3215649499320788,
          0.29764409991034674,
          0.2634322524890099,
          0.25533858404229565,
          0.2988270223753107,
          0.2989924681128205,
          0.24140761708702896,
          0.2380821741786784
         ]
        },
        {
         "mode": "lines+markers",
         "name": "political",
         "type": "scatter",
         "x": [
          "2019-06-10T00:00:00",
          "2019-06-12T00:00:00",
          "2019-06-13T00:00:00",
          "2019-06-17T00:00:00",
          "2019-06-19T00:00:00",
          "2019-06-23T00:00:00",
          "2019-07-01T00:00:00",
          "2019-07-02T00:00:00",
          "2019-07-04T00:00:00",
          "2019-07-06T00:00:00",
          "2019-07-09T00:00:00",
          "2019-07-15T00:00:00",
          "2019-07-25T00:00:00",
          "2019-07-27T00:00:00",
          "2019-08-01T00:00:00",
          "2019-08-03T00:00:00",
          "2019-08-05T00:00:00",
          "2019-08-07T00:00:00",
          "2019-08-08T00:00:00",
          "2019-08-10T00:00:00",
          "2019-08-11T00:00:00",
          "2019-08-12T00:00:00",
          "2019-08-13T00:00:00",
          "2019-08-14T00:00:00",
          "2019-08-16T00:00:00",
          "2019-08-17T00:00:00",
          "2019-08-20T00:00:00",
          "2019-08-23T00:00:00",
          "2019-08-24T00:00:00",
          "2019-08-25T00:00:00",
          "2019-08-26T00:00:00",
          "2019-08-29T00:00:00",
          "2019-09-01T00:00:00",
          "2019-09-02T00:00:00",
          "2019-09-03T00:00:00",
          "2019-09-05T00:00:00",
          "2019-09-06T00:00:00",
          "2019-09-09T00:00:00",
          "2019-09-16T00:00:00",
          "2019-09-17T00:00:00",
          "2019-09-30T00:00:00",
          "2019-10-01T00:00:00",
          "2019-10-02T00:00:00",
          "2019-10-04T00:00:00",
          "2019-10-05T00:00:00",
          "2019-10-08T00:00:00",
          "2019-10-11T00:00:00",
          "2019-10-14T00:00:00",
          "2019-10-15T00:00:00",
          "2019-10-16T00:00:00",
          "2019-10-21T00:00:00",
          "2019-10-23T00:00:00",
          "2019-10-24T00:00:00",
          "2019-10-29T00:00:00",
          "2019-11-02T00:00:00",
          "2019-11-05T00:00:00",
          "2019-11-09T00:00:00",
          "2019-11-11T00:00:00",
          "2019-11-12T00:00:00",
          "2019-11-13T00:00:00",
          "2019-12-02T00:00:00",
          "2019-12-07T00:00:00",
          "2019-12-09T00:00:00",
          "2019-12-12T00:00:00",
          "2020-02-27T00:00:00",
          "2020-02-29T00:00:00",
          "2020-03-06T00:00:00"
         ],
         "y": [
          null,
          null,
          null,
          null,
          null,
          null,
          0.3438930563839481,
          0.3378800816443926,
          0.3595717964398107,
          0.3722181372816896,
          0.3741088149323363,
          0.34529742297496835,
          0.36002422481419843,
          0.3633502369676386,
          0.3678618467779905,
          0.3376357453663609,
          0.304827555449154,
          0.30765301799227274,
          0.31579655790009714,
          0.312937470923967,
          0.3036618120645848,
          0.3124672484077345,
          0.3138375187988722,
          0.34330013125246445,
          0.3408675269758531,
          0.3467181813854165,
          0.3697545934067236,
          0.36979514376398637,
          0.361755698792276,
          0.36307186180098405,
          0.35017374393380357,
          0.3618507109902607,
          0.34065422111153604,
          0.3363408578282459,
          0.35134238153535907,
          0.35967634146051314,
          0.36602841682998194,
          0.3651051143621091,
          0.3493869838856568,
          0.3336386175259563,
          0.32648419522445354,
          0.3051280936657935,
          0.29705844718385815,
          0.27586026084318627,
          0.269297855139949,
          0.26808255219898636,
          0.2856609235838604,
          0.2758830638026588,
          0.2806665179471849,
          0.2881226199119822,
          0.2835334098402061,
          0.2639419937631347,
          0.2648428396732316,
          0.2857329897672946,
          0.28535785957419085,
          0.3004096922968812,
          0.27084169246301737,
          0.2752524522195337,
          0.27636424085468975,
          0.2658541572301766,
          0.25140436485328543,
          0.24195744950759646,
          0.23361174742473442,
          0.26666356673259417,
          0.29447375747381893,
          0.30457101704405026,
          0.32723632561984195
         ]
        },
        {
         "mode": "lines+markers",
         "name": "protest",
         "type": "scatter",
         "x": [
          "2019-06-10T00:00:00",
          "2019-06-12T00:00:00",
          "2019-06-13T00:00:00",
          "2019-06-17T00:00:00",
          "2019-06-19T00:00:00",
          "2019-06-23T00:00:00",
          "2019-07-01T00:00:00",
          "2019-07-02T00:00:00",
          "2019-07-04T00:00:00",
          "2019-07-06T00:00:00",
          "2019-07-09T00:00:00",
          "2019-07-15T00:00:00",
          "2019-07-25T00:00:00",
          "2019-07-27T00:00:00",
          "2019-08-01T00:00:00",
          "2019-08-03T00:00:00",
          "2019-08-05T00:00:00",
          "2019-08-07T00:00:00",
          "2019-08-08T00:00:00",
          "2019-08-10T00:00:00",
          "2019-08-11T00:00:00",
          "2019-08-12T00:00:00",
          "2019-08-13T00:00:00",
          "2019-08-14T00:00:00",
          "2019-08-16T00:00:00",
          "2019-08-17T00:00:00",
          "2019-08-20T00:00:00",
          "2019-08-23T00:00:00",
          "2019-08-24T00:00:00",
          "2019-08-25T00:00:00",
          "2019-08-26T00:00:00",
          "2019-08-29T00:00:00",
          "2019-09-01T00:00:00",
          "2019-09-02T00:00:00",
          "2019-09-03T00:00:00",
          "2019-09-05T00:00:00",
          "2019-09-06T00:00:00",
          "2019-09-09T00:00:00",
          "2019-09-16T00:00:00",
          "2019-09-17T00:00:00",
          "2019-09-30T00:00:00",
          "2019-10-01T00:00:00",
          "2019-10-02T00:00:00",
          "2019-10-04T00:00:00",
          "2019-10-05T00:00:00",
          "2019-10-08T00:00:00",
          "2019-10-11T00:00:00",
          "2019-10-14T00:00:00",
          "2019-10-15T00:00:00",
          "2019-10-16T00:00:00",
          "2019-10-21T00:00:00",
          "2019-10-23T00:00:00",
          "2019-10-24T00:00:00",
          "2019-10-29T00:00:00",
          "2019-11-02T00:00:00",
          "2019-11-05T00:00:00",
          "2019-11-09T00:00:00",
          "2019-11-11T00:00:00",
          "2019-11-12T00:00:00",
          "2019-11-13T00:00:00",
          "2019-12-02T00:00:00",
          "2019-12-07T00:00:00",
          "2019-12-09T00:00:00",
          "2019-12-12T00:00:00",
          "2020-02-27T00:00:00",
          "2020-02-29T00:00:00",
          "2020-03-06T00:00:00"
         ],
         "y": [
          null,
          null,
          null,
          null,
          null,
          null,
          0.39609201445932246,
          0.4026914324213192,
          0.3942033674675627,
          0.3928837982384513,
          0.3979029469222106,
          0.44405917716007653,
          0.4211873785839203,
          0.421868281215436,
          0.4081674145102383,
          0.44589287495168456,
          0.47834071530229183,
          0.4626496863652866,
          0.43037160331107643,
          0.41513321107292045,
          0.40010391507220133,
          0.39694450905997,
          0.3541574421325651,
          0.30863098151301316,
          0.31425942767143794,
          0.3324959988142613,
          0.3527866639976268,
          0.3638390960514992,
          0.36542614588780253,
          0.37670065784829715,
          0.3920162947727852,
          0.3959557409052672,
          0.40378071463995685,
          0.39598446639705376,
          0.38254894814062773,
          0.37439529147205247,
          0.37492980124090813,
          0.371136006467286,
          0.38006423472535394,
          0.38718742722194316,
          0.38612849057327386,
          0.401206181352779,
          0.40724942598570896,
          0.4472018775733436,
          0.46749390317539075,
          0.4583864232481512,
          0.4501990733735098,
          0.4574283809248925,
          0.45097702920049654,
          0.4550480923795999,
          0.46107389209714617,
          0.41469910086094547,
          0.43235686872200246,
          0.39490616322403554,
          0.3782740416799813,
          0.3690465153132821,
          0.4170561417362662,
          0.4094062501687527,
          0.40925137990489974,
          0.4125808928377451,
          0.4509515352363683,
          0.4946102980033941,
          0.5110496685329703,
          0.43450941089209555,
          0.406533774413361,
          0.4540213658689213,
          0.4346815002014801
         ]
        }
       ],
       "layout": {
        "template": {
         "data": {
          "bar": [
           {
            "error_x": {
             "color": "#2a3f5f"
            },
            "error_y": {
             "color": "#2a3f5f"
            },
            "marker": {
             "line": {
              "color": "#E5ECF6",
              "width": 0.5
             }
            },
            "type": "bar"
           }
          ],
          "barpolar": [
           {
            "marker": {
             "line": {
              "color": "#E5ECF6",
              "width": 0.5
             }
            },
            "type": "barpolar"
           }
          ],
          "carpet": [
           {
            "aaxis": {
             "endlinecolor": "#2a3f5f",
             "gridcolor": "white",
             "linecolor": "white",
             "minorgridcolor": "white",
             "startlinecolor": "#2a3f5f"
            },
            "baxis": {
             "endlinecolor": "#2a3f5f",
             "gridcolor": "white",
             "linecolor": "white",
             "minorgridcolor": "white",
             "startlinecolor": "#2a3f5f"
            },
            "type": "carpet"
           }
          ],
          "choropleth": [
           {
            "colorbar": {
             "outlinewidth": 0,
             "ticks": ""
            },
            "type": "choropleth"
           }
          ],
          "contour": [
           {
            "colorbar": {
             "outlinewidth": 0,
             "ticks": ""
            },
            "colorscale": [
             [
              0,
              "#0d0887"
             ],
             [
              0.1111111111111111,
              "#46039f"
             ],
             [
              0.2222222222222222,
              "#7201a8"
             ],
             [
              0.3333333333333333,
              "#9c179e"
             ],
             [
              0.4444444444444444,
              "#bd3786"
             ],
             [
              0.5555555555555556,
              "#d8576b"
             ],
             [
              0.6666666666666666,
              "#ed7953"
             ],
             [
              0.7777777777777778,
              "#fb9f3a"
             ],
             [
              0.8888888888888888,
              "#fdca26"
             ],
             [
              1,
              "#f0f921"
             ]
            ],
            "type": "contour"
           }
          ],
          "contourcarpet": [
           {
            "colorbar": {
             "outlinewidth": 0,
             "ticks": ""
            },
            "type": "contourcarpet"
           }
          ],
          "heatmap": [
           {
            "colorbar": {
             "outlinewidth": 0,
             "ticks": ""
            },
            "colorscale": [
             [
              0,
              "#0d0887"
             ],
             [
              0.1111111111111111,
              "#46039f"
             ],
             [
              0.2222222222222222,
              "#7201a8"
             ],
             [
              0.3333333333333333,
              "#9c179e"
             ],
             [
              0.4444444444444444,
              "#bd3786"
             ],
             [
              0.5555555555555556,
              "#d8576b"
             ],
             [
              0.6666666666666666,
              "#ed7953"
             ],
             [
              0.7777777777777778,
              "#fb9f3a"
             ],
             [
              0.8888888888888888,
              "#fdca26"
             ],
             [
              1,
              "#f0f921"
             ]
            ],
            "type": "heatmap"
           }
          ],
          "heatmapgl": [
           {
            "colorbar": {
             "outlinewidth": 0,
             "ticks": ""
            },
            "colorscale": [
             [
              0,
              "#0d0887"
             ],
             [
              0.1111111111111111,
              "#46039f"
             ],
             [
              0.2222222222222222,
              "#7201a8"
             ],
             [
              0.3333333333333333,
              "#9c179e"
             ],
             [
              0.4444444444444444,
              "#bd3786"
             ],
             [
              0.5555555555555556,
              "#d8576b"
             ],
             [
              0.6666666666666666,
              "#ed7953"
             ],
             [
              0.7777777777777778,
              "#fb9f3a"
             ],
             [
              0.8888888888888888,
              "#fdca26"
             ],
             [
              1,
              "#f0f921"
             ]
            ],
            "type": "heatmapgl"
           }
          ],
          "histogram": [
           {
            "marker": {
             "colorbar": {
              "outlinewidth": 0,
              "ticks": ""
             }
            },
            "type": "histogram"
           }
          ],
          "histogram2d": [
           {
            "colorbar": {
             "outlinewidth": 0,
             "ticks": ""
            },
            "colorscale": [
             [
              0,
              "#0d0887"
             ],
             [
              0.1111111111111111,
              "#46039f"
             ],
             [
              0.2222222222222222,
              "#7201a8"
             ],
             [
              0.3333333333333333,
              "#9c179e"
             ],
             [
              0.4444444444444444,
              "#bd3786"
             ],
             [
              0.5555555555555556,
              "#d8576b"
             ],
             [
              0.6666666666666666,
              "#ed7953"
             ],
             [
              0.7777777777777778,
              "#fb9f3a"
             ],
             [
              0.8888888888888888,
              "#fdca26"
             ],
             [
              1,
              "#f0f921"
             ]
            ],
            "type": "histogram2d"
           }
          ],
          "histogram2dcontour": [
           {
            "colorbar": {
             "outlinewidth": 0,
             "ticks": ""
            },
            "colorscale": [
             [
              0,
              "#0d0887"
             ],
             [
              0.1111111111111111,
              "#46039f"
             ],
             [
              0.2222222222222222,
              "#7201a8"
             ],
             [
              0.3333333333333333,
              "#9c179e"
             ],
             [
              0.4444444444444444,
              "#bd3786"
             ],
             [
              0.5555555555555556,
              "#d8576b"
             ],
             [
              0.6666666666666666,
              "#ed7953"
             ],
             [
              0.7777777777777778,
              "#fb9f3a"
             ],
             [
              0.8888888888888888,
              "#fdca26"
             ],
             [
              1,
              "#f0f921"
             ]
            ],
            "type": "histogram2dcontour"
           }
          ],
          "mesh3d": [
           {
            "colorbar": {
             "outlinewidth": 0,
             "ticks": ""
            },
            "type": "mesh3d"
           }
          ],
          "parcoords": [
           {
            "line": {
             "colorbar": {
              "outlinewidth": 0,
              "ticks": ""
             }
            },
            "type": "parcoords"
           }
          ],
          "pie": [
           {
            "automargin": true,
            "type": "pie"
           }
          ],
          "scatter": [
           {
            "marker": {
             "colorbar": {
              "outlinewidth": 0,
              "ticks": ""
             }
            },
            "type": "scatter"
           }
          ],
          "scatter3d": [
           {
            "line": {
             "colorbar": {
              "outlinewidth": 0,
              "ticks": ""
             }
            },
            "marker": {
             "colorbar": {
              "outlinewidth": 0,
              "ticks": ""
             }
            },
            "type": "scatter3d"
           }
          ],
          "scattercarpet": [
           {
            "marker": {
             "colorbar": {
              "outlinewidth": 0,
              "ticks": ""
             }
            },
            "type": "scattercarpet"
           }
          ],
          "scattergeo": [
           {
            "marker": {
             "colorbar": {
              "outlinewidth": 0,
              "ticks": ""
             }
            },
            "type": "scattergeo"
           }
          ],
          "scattergl": [
           {
            "marker": {
             "colorbar": {
              "outlinewidth": 0,
              "ticks": ""
             }
            },
            "type": "scattergl"
           }
          ],
          "scattermapbox": [
           {
            "marker": {
             "colorbar": {
              "outlinewidth": 0,
              "ticks": ""
             }
            },
            "type": "scattermapbox"
           }
          ],
          "scatterpolar": [
           {
            "marker": {
             "colorbar": {
              "outlinewidth": 0,
              "ticks": ""
             }
            },
            "type": "scatterpolar"
           }
          ],
          "scatterpolargl": [
           {
            "marker": {
             "colorbar": {
              "outlinewidth": 0,
              "ticks": ""
             }
            },
            "type": "scatterpolargl"
           }
          ],
          "scatterternary": [
           {
            "marker": {
             "colorbar": {
              "outlinewidth": 0,
              "ticks": ""
             }
            },
            "type": "scatterternary"
           }
          ],
          "surface": [
           {
            "colorbar": {
             "outlinewidth": 0,
             "ticks": ""
            },
            "colorscale": [
             [
              0,
              "#0d0887"
             ],
             [
              0.1111111111111111,
              "#46039f"
             ],
             [
              0.2222222222222222,
              "#7201a8"
             ],
             [
              0.3333333333333333,
              "#9c179e"
             ],
             [
              0.4444444444444444,
              "#bd3786"
             ],
             [
              0.5555555555555556,
              "#d8576b"
             ],
             [
              0.6666666666666666,
              "#ed7953"
             ],
             [
              0.7777777777777778,
              "#fb9f3a"
             ],
             [
              0.8888888888888888,
              "#fdca26"
             ],
             [
              1,
              "#f0f921"
             ]
            ],
            "type": "surface"
           }
          ],
          "table": [
           {
            "cells": {
             "fill": {
              "color": "#EBF0F8"
             },
             "line": {
              "color": "white"
             }
            },
            "header": {
             "fill": {
              "color": "#C8D4E3"
             },
             "line": {
              "color": "white"
             }
            },
            "type": "table"
           }
          ]
         },
         "layout": {
          "annotationdefaults": {
           "arrowcolor": "#2a3f5f",
           "arrowhead": 0,
           "arrowwidth": 1
          },
          "coloraxis": {
           "colorbar": {
            "outlinewidth": 0,
            "ticks": ""
           }
          },
          "colorscale": {
           "diverging": [
            [
             0,
             "#8e0152"
            ],
            [
             0.1,
             "#c51b7d"
            ],
            [
             0.2,
             "#de77ae"
            ],
            [
             0.3,
             "#f1b6da"
            ],
            [
             0.4,
             "#fde0ef"
            ],
            [
             0.5,
             "#f7f7f7"
            ],
            [
             0.6,
             "#e6f5d0"
            ],
            [
             0.7,
             "#b8e186"
            ],
            [
             0.8,
             "#7fbc41"
            ],
            [
             0.9,
             "#4d9221"
            ],
            [
             1,
             "#276419"
            ]
           ],
           "sequential": [
            [
             0,
             "#0d0887"
            ],
            [
             0.1111111111111111,
             "#46039f"
            ],
            [
             0.2222222222222222,
             "#7201a8"
            ],
            [
             0.3333333333333333,
             "#9c179e"
            ],
            [
             0.4444444444444444,
             "#bd3786"
            ],
            [
             0.5555555555555556,
             "#d8576b"
            ],
            [
             0.6666666666666666,
             "#ed7953"
            ],
            [
             0.7777777777777778,
             "#fb9f3a"
            ],
            [
             0.8888888888888888,
             "#fdca26"
            ],
            [
             1,
             "#f0f921"
            ]
           ],
           "sequentialminus": [
            [
             0,
             "#0d0887"
            ],
            [
             0.1111111111111111,
             "#46039f"
            ],
            [
             0.2222222222222222,
             "#7201a8"
            ],
            [
             0.3333333333333333,
             "#9c179e"
            ],
            [
             0.4444444444444444,
             "#bd3786"
            ],
            [
             0.5555555555555556,
             "#d8576b"
            ],
            [
             0.6666666666666666,
             "#ed7953"
            ],
            [
             0.7777777777777778,
             "#fb9f3a"
            ],
            [
             0.8888888888888888,
             "#fdca26"
            ],
            [
             1,
             "#f0f921"
            ]
           ]
          },
          "colorway": [
           "#636efa",
           "#EF553B",
           "#00cc96",
           "#ab63fa",
           "#FFA15A",
           "#19d3f3",
           "#FF6692",
           "#B6E880",
           "#FF97FF",
           "#FECB52"
          ],
          "font": {
           "color": "#2a3f5f"
          },
          "geo": {
           "bgcolor": "white",
           "lakecolor": "white",
           "landcolor": "#E5ECF6",
           "showlakes": true,
           "showland": true,
           "subunitcolor": "white"
          },
          "hoverlabel": {
           "align": "left"
          },
          "hovermode": "closest",
          "mapbox": {
           "style": "light"
          },
          "paper_bgcolor": "white",
          "plot_bgcolor": "#E5ECF6",
          "polar": {
           "angularaxis": {
            "gridcolor": "white",
            "linecolor": "white",
            "ticks": ""
           },
           "bgcolor": "#E5ECF6",
           "radialaxis": {
            "gridcolor": "white",
            "linecolor": "white",
            "ticks": ""
           }
          },
          "scene": {
           "xaxis": {
            "backgroundcolor": "#E5ECF6",
            "gridcolor": "white",
            "gridwidth": 2,
            "linecolor": "white",
            "showbackground": true,
            "ticks": "",
            "zerolinecolor": "white"
           },
           "yaxis": {
            "backgroundcolor": "#E5ECF6",
            "gridcolor": "white",
            "gridwidth": 2,
            "linecolor": "white",
            "showbackground": true,
            "ticks": "",
            "zerolinecolor": "white"
           },
           "zaxis": {
            "backgroundcolor": "#E5ECF6",
            "gridcolor": "white",
            "gridwidth": 2,
            "linecolor": "white",
            "showbackground": true,
            "ticks": "",
            "zerolinecolor": "white"
           }
          },
          "shapedefaults": {
           "line": {
            "color": "#2a3f5f"
           }
          },
          "ternary": {
           "aaxis": {
            "gridcolor": "white",
            "linecolor": "white",
            "ticks": ""
           },
           "baxis": {
            "gridcolor": "white",
            "linecolor": "white",
            "ticks": ""
           },
           "bgcolor": "#E5ECF6",
           "caxis": {
            "gridcolor": "white",
            "linecolor": "white",
            "ticks": ""
           }
          },
          "title": {
           "x": 0.05
          },
          "xaxis": {
           "automargin": true,
           "gridcolor": "white",
           "linecolor": "white",
           "ticks": "",
           "title": {
            "standoff": 15
           },
           "zerolinecolor": "white",
           "zerolinewidth": 2
          },
          "yaxis": {
           "automargin": true,
           "gridcolor": "white",
           "linecolor": "white",
           "ticks": "",
           "title": {
            "standoff": 15
           },
           "zerolinecolor": "white",
           "zerolinewidth": 2
          }
         }
        },
        "title": {
         "text": "Topic Composition of Average ABC Article by Day (7-day Rolling Window)"
        }
       }
      },
      "text/html": [
       "<div>\n",
       "        \n",
       "        \n",
       "            <div id=\"a1c0b8e8-cd87-4e7c-a8e4-6e3c0090ae9b\" class=\"plotly-graph-div\" style=\"height:525px; width:100%;\"></div>\n",
       "            <script type=\"text/javascript\">\n",
       "                require([\"plotly\"], function(Plotly) {\n",
       "                    window.PLOTLYENV=window.PLOTLYENV || {};\n",
       "                    \n",
       "                if (document.getElementById(\"a1c0b8e8-cd87-4e7c-a8e4-6e3c0090ae9b\")) {\n",
       "                    Plotly.newPlot(\n",
       "                        'a1c0b8e8-cd87-4e7c-a8e4-6e3c0090ae9b',\n",
       "                        [{\"mode\": \"lines+markers\", \"name\": \"economic\", \"type\": \"scatter\", \"x\": [\"2019-06-10T00:00:00\", \"2019-06-12T00:00:00\", \"2019-06-13T00:00:00\", \"2019-06-17T00:00:00\", \"2019-06-19T00:00:00\", \"2019-06-23T00:00:00\", \"2019-07-01T00:00:00\", \"2019-07-02T00:00:00\", \"2019-07-04T00:00:00\", \"2019-07-06T00:00:00\", \"2019-07-09T00:00:00\", \"2019-07-15T00:00:00\", \"2019-07-25T00:00:00\", \"2019-07-27T00:00:00\", \"2019-08-01T00:00:00\", \"2019-08-03T00:00:00\", \"2019-08-05T00:00:00\", \"2019-08-07T00:00:00\", \"2019-08-08T00:00:00\", \"2019-08-10T00:00:00\", \"2019-08-11T00:00:00\", \"2019-08-12T00:00:00\", \"2019-08-13T00:00:00\", \"2019-08-14T00:00:00\", \"2019-08-16T00:00:00\", \"2019-08-17T00:00:00\", \"2019-08-20T00:00:00\", \"2019-08-23T00:00:00\", \"2019-08-24T00:00:00\", \"2019-08-25T00:00:00\", \"2019-08-26T00:00:00\", \"2019-08-29T00:00:00\", \"2019-09-01T00:00:00\", \"2019-09-02T00:00:00\", \"2019-09-03T00:00:00\", \"2019-09-05T00:00:00\", \"2019-09-06T00:00:00\", \"2019-09-09T00:00:00\", \"2019-09-16T00:00:00\", \"2019-09-17T00:00:00\", \"2019-09-30T00:00:00\", \"2019-10-01T00:00:00\", \"2019-10-02T00:00:00\", \"2019-10-04T00:00:00\", \"2019-10-05T00:00:00\", \"2019-10-08T00:00:00\", \"2019-10-11T00:00:00\", \"2019-10-14T00:00:00\", \"2019-10-15T00:00:00\", \"2019-10-16T00:00:00\", \"2019-10-21T00:00:00\", \"2019-10-23T00:00:00\", \"2019-10-24T00:00:00\", \"2019-10-29T00:00:00\", \"2019-11-02T00:00:00\", \"2019-11-05T00:00:00\", \"2019-11-09T00:00:00\", \"2019-11-11T00:00:00\", \"2019-11-12T00:00:00\", \"2019-11-13T00:00:00\", \"2019-12-02T00:00:00\", \"2019-12-07T00:00:00\", \"2019-12-09T00:00:00\", \"2019-12-12T00:00:00\", \"2020-02-27T00:00:00\", \"2020-02-29T00:00:00\", \"2020-03-06T00:00:00\"], \"y\": [null, null, null, null, null, null, 0.2600149291567294, 0.2594284859342882, 0.2462248360926266, 0.23489806447985906, 0.22798823814545313, 0.21064339986495512, 0.21878839660188132, 0.2147814818169255, 0.2239707387117713, 0.2164713796819547, 0.2168317292485543, 0.2296972956424408, 0.2538318387888264, 0.27192931800311265, 0.2962342728632139, 0.2905882425322957, 0.3320050390685628, 0.3480688872345225, 0.3448730453527092, 0.3207858198003225, 0.27745874259564973, 0.2663657601845146, 0.2728181553199217, 0.260227480350719, 0.2578099612934115, 0.24219354810447233, 0.2555650642485073, 0.26767467577470055, 0.2661086703240133, 0.26592836706743445, 0.2590417819291101, 0.26375887917060503, 0.27054878138898936, 0.2791739552521007, 0.28738731420227287, 0.29366572498142773, 0.2956921268304332, 0.2769378615834705, 0.2632082416846606, 0.2735310245528629, 0.2641400030426302, 0.26668855527244906, 0.26835645285231896, 0.25682928770841823, 0.25539269806264814, 0.3213589053759202, 0.3028002916047664, 0.3193608470086703, 0.33636809874582835, 0.3305437923898372, 0.31210216580071687, 0.315341297611714, 0.31438437924041096, 0.3215649499320788, 0.29764409991034674, 0.2634322524890099, 0.25533858404229565, 0.2988270223753107, 0.2989924681128205, 0.24140761708702896, 0.2380821741786784]}, {\"mode\": \"lines+markers\", \"name\": \"political\", \"type\": \"scatter\", \"x\": [\"2019-06-10T00:00:00\", \"2019-06-12T00:00:00\", \"2019-06-13T00:00:00\", \"2019-06-17T00:00:00\", \"2019-06-19T00:00:00\", \"2019-06-23T00:00:00\", \"2019-07-01T00:00:00\", \"2019-07-02T00:00:00\", \"2019-07-04T00:00:00\", \"2019-07-06T00:00:00\", \"2019-07-09T00:00:00\", \"2019-07-15T00:00:00\", \"2019-07-25T00:00:00\", \"2019-07-27T00:00:00\", \"2019-08-01T00:00:00\", \"2019-08-03T00:00:00\", \"2019-08-05T00:00:00\", \"2019-08-07T00:00:00\", \"2019-08-08T00:00:00\", \"2019-08-10T00:00:00\", \"2019-08-11T00:00:00\", \"2019-08-12T00:00:00\", \"2019-08-13T00:00:00\", \"2019-08-14T00:00:00\", \"2019-08-16T00:00:00\", \"2019-08-17T00:00:00\", \"2019-08-20T00:00:00\", \"2019-08-23T00:00:00\", \"2019-08-24T00:00:00\", \"2019-08-25T00:00:00\", \"2019-08-26T00:00:00\", \"2019-08-29T00:00:00\", \"2019-09-01T00:00:00\", \"2019-09-02T00:00:00\", \"2019-09-03T00:00:00\", \"2019-09-05T00:00:00\", \"2019-09-06T00:00:00\", \"2019-09-09T00:00:00\", \"2019-09-16T00:00:00\", \"2019-09-17T00:00:00\", \"2019-09-30T00:00:00\", \"2019-10-01T00:00:00\", \"2019-10-02T00:00:00\", \"2019-10-04T00:00:00\", \"2019-10-05T00:00:00\", \"2019-10-08T00:00:00\", \"2019-10-11T00:00:00\", \"2019-10-14T00:00:00\", \"2019-10-15T00:00:00\", \"2019-10-16T00:00:00\", \"2019-10-21T00:00:00\", \"2019-10-23T00:00:00\", \"2019-10-24T00:00:00\", \"2019-10-29T00:00:00\", \"2019-11-02T00:00:00\", \"2019-11-05T00:00:00\", \"2019-11-09T00:00:00\", \"2019-11-11T00:00:00\", \"2019-11-12T00:00:00\", \"2019-11-13T00:00:00\", \"2019-12-02T00:00:00\", \"2019-12-07T00:00:00\", \"2019-12-09T00:00:00\", \"2019-12-12T00:00:00\", \"2020-02-27T00:00:00\", \"2020-02-29T00:00:00\", \"2020-03-06T00:00:00\"], \"y\": [null, null, null, null, null, null, 0.3438930563839481, 0.3378800816443926, 0.3595717964398107, 0.3722181372816896, 0.3741088149323363, 0.34529742297496835, 0.36002422481419843, 0.3633502369676386, 0.3678618467779905, 0.3376357453663609, 0.304827555449154, 0.30765301799227274, 0.31579655790009714, 0.312937470923967, 0.3036618120645848, 0.3124672484077345, 0.3138375187988722, 0.34330013125246445, 0.3408675269758531, 0.3467181813854165, 0.3697545934067236, 0.36979514376398637, 0.361755698792276, 0.36307186180098405, 0.35017374393380357, 0.3618507109902607, 0.34065422111153604, 0.3363408578282459, 0.35134238153535907, 0.35967634146051314, 0.36602841682998194, 0.3651051143621091, 0.3493869838856568, 0.3336386175259563, 0.32648419522445354, 0.3051280936657935, 0.29705844718385815, 0.27586026084318627, 0.269297855139949, 0.26808255219898636, 0.2856609235838604, 0.2758830638026588, 0.2806665179471849, 0.2881226199119822, 0.2835334098402061, 0.2639419937631347, 0.2648428396732316, 0.2857329897672946, 0.28535785957419085, 0.3004096922968812, 0.27084169246301737, 0.2752524522195337, 0.27636424085468975, 0.2658541572301766, 0.25140436485328543, 0.24195744950759646, 0.23361174742473442, 0.26666356673259417, 0.29447375747381893, 0.30457101704405026, 0.32723632561984195]}, {\"mode\": \"lines+markers\", \"name\": \"protest\", \"type\": \"scatter\", \"x\": [\"2019-06-10T00:00:00\", \"2019-06-12T00:00:00\", \"2019-06-13T00:00:00\", \"2019-06-17T00:00:00\", \"2019-06-19T00:00:00\", \"2019-06-23T00:00:00\", \"2019-07-01T00:00:00\", \"2019-07-02T00:00:00\", \"2019-07-04T00:00:00\", \"2019-07-06T00:00:00\", \"2019-07-09T00:00:00\", \"2019-07-15T00:00:00\", \"2019-07-25T00:00:00\", \"2019-07-27T00:00:00\", \"2019-08-01T00:00:00\", \"2019-08-03T00:00:00\", \"2019-08-05T00:00:00\", \"2019-08-07T00:00:00\", \"2019-08-08T00:00:00\", \"2019-08-10T00:00:00\", \"2019-08-11T00:00:00\", \"2019-08-12T00:00:00\", \"2019-08-13T00:00:00\", \"2019-08-14T00:00:00\", \"2019-08-16T00:00:00\", \"2019-08-17T00:00:00\", \"2019-08-20T00:00:00\", \"2019-08-23T00:00:00\", \"2019-08-24T00:00:00\", \"2019-08-25T00:00:00\", \"2019-08-26T00:00:00\", \"2019-08-29T00:00:00\", \"2019-09-01T00:00:00\", \"2019-09-02T00:00:00\", \"2019-09-03T00:00:00\", \"2019-09-05T00:00:00\", \"2019-09-06T00:00:00\", \"2019-09-09T00:00:00\", \"2019-09-16T00:00:00\", \"2019-09-17T00:00:00\", \"2019-09-30T00:00:00\", \"2019-10-01T00:00:00\", \"2019-10-02T00:00:00\", \"2019-10-04T00:00:00\", \"2019-10-05T00:00:00\", \"2019-10-08T00:00:00\", \"2019-10-11T00:00:00\", \"2019-10-14T00:00:00\", \"2019-10-15T00:00:00\", \"2019-10-16T00:00:00\", \"2019-10-21T00:00:00\", \"2019-10-23T00:00:00\", \"2019-10-24T00:00:00\", \"2019-10-29T00:00:00\", \"2019-11-02T00:00:00\", \"2019-11-05T00:00:00\", \"2019-11-09T00:00:00\", \"2019-11-11T00:00:00\", \"2019-11-12T00:00:00\", \"2019-11-13T00:00:00\", \"2019-12-02T00:00:00\", \"2019-12-07T00:00:00\", \"2019-12-09T00:00:00\", \"2019-12-12T00:00:00\", \"2020-02-27T00:00:00\", \"2020-02-29T00:00:00\", \"2020-03-06T00:00:00\"], \"y\": [null, null, null, null, null, null, 0.39609201445932246, 0.4026914324213192, 0.3942033674675627, 0.3928837982384513, 0.3979029469222106, 0.44405917716007653, 0.4211873785839203, 0.421868281215436, 0.4081674145102383, 0.44589287495168456, 0.47834071530229183, 0.4626496863652866, 0.43037160331107643, 0.41513321107292045, 0.40010391507220133, 0.39694450905997, 0.3541574421325651, 0.30863098151301316, 0.31425942767143794, 0.3324959988142613, 0.3527866639976268, 0.3638390960514992, 0.36542614588780253, 0.37670065784829715, 0.3920162947727852, 0.3959557409052672, 0.40378071463995685, 0.39598446639705376, 0.38254894814062773, 0.37439529147205247, 0.37492980124090813, 0.371136006467286, 0.38006423472535394, 0.38718742722194316, 0.38612849057327386, 0.401206181352779, 0.40724942598570896, 0.4472018775733436, 0.46749390317539075, 0.4583864232481512, 0.4501990733735098, 0.4574283809248925, 0.45097702920049654, 0.4550480923795999, 0.46107389209714617, 0.41469910086094547, 0.43235686872200246, 0.39490616322403554, 0.3782740416799813, 0.3690465153132821, 0.4170561417362662, 0.4094062501687527, 0.40925137990489974, 0.4125808928377451, 0.4509515352363683, 0.4946102980033941, 0.5110496685329703, 0.43450941089209555, 0.406533774413361, 0.4540213658689213, 0.4346815002014801]}],\n",
       "                        {\"template\": {\"data\": {\"bar\": [{\"error_x\": {\"color\": \"#2a3f5f\"}, \"error_y\": {\"color\": \"#2a3f5f\"}, \"marker\": {\"line\": {\"color\": \"#E5ECF6\", \"width\": 0.5}}, \"type\": \"bar\"}], \"barpolar\": [{\"marker\": {\"line\": {\"color\": \"#E5ECF6\", \"width\": 0.5}}, \"type\": \"barpolar\"}], \"carpet\": [{\"aaxis\": {\"endlinecolor\": \"#2a3f5f\", \"gridcolor\": \"white\", \"linecolor\": \"white\", \"minorgridcolor\": \"white\", \"startlinecolor\": \"#2a3f5f\"}, \"baxis\": {\"endlinecolor\": \"#2a3f5f\", \"gridcolor\": \"white\", \"linecolor\": \"white\", \"minorgridcolor\": \"white\", \"startlinecolor\": \"#2a3f5f\"}, \"type\": \"carpet\"}], \"choropleth\": [{\"colorbar\": {\"outlinewidth\": 0, \"ticks\": \"\"}, \"type\": \"choropleth\"}], \"contour\": [{\"colorbar\": {\"outlinewidth\": 0, \"ticks\": \"\"}, \"colorscale\": [[0.0, \"#0d0887\"], [0.1111111111111111, \"#46039f\"], [0.2222222222222222, \"#7201a8\"], [0.3333333333333333, \"#9c179e\"], [0.4444444444444444, \"#bd3786\"], [0.5555555555555556, \"#d8576b\"], [0.6666666666666666, \"#ed7953\"], [0.7777777777777778, \"#fb9f3a\"], [0.8888888888888888, \"#fdca26\"], [1.0, \"#f0f921\"]], \"type\": \"contour\"}], \"contourcarpet\": [{\"colorbar\": {\"outlinewidth\": 0, \"ticks\": \"\"}, \"type\": \"contourcarpet\"}], \"heatmap\": [{\"colorbar\": {\"outlinewidth\": 0, \"ticks\": \"\"}, \"colorscale\": [[0.0, \"#0d0887\"], [0.1111111111111111, \"#46039f\"], [0.2222222222222222, \"#7201a8\"], [0.3333333333333333, \"#9c179e\"], [0.4444444444444444, \"#bd3786\"], [0.5555555555555556, \"#d8576b\"], [0.6666666666666666, \"#ed7953\"], [0.7777777777777778, \"#fb9f3a\"], [0.8888888888888888, \"#fdca26\"], [1.0, \"#f0f921\"]], \"type\": \"heatmap\"}], \"heatmapgl\": [{\"colorbar\": {\"outlinewidth\": 0, \"ticks\": \"\"}, \"colorscale\": [[0.0, \"#0d0887\"], [0.1111111111111111, \"#46039f\"], [0.2222222222222222, \"#7201a8\"], [0.3333333333333333, \"#9c179e\"], [0.4444444444444444, \"#bd3786\"], [0.5555555555555556, \"#d8576b\"], [0.6666666666666666, \"#ed7953\"], [0.7777777777777778, \"#fb9f3a\"], [0.8888888888888888, \"#fdca26\"], [1.0, \"#f0f921\"]], \"type\": \"heatmapgl\"}], \"histogram\": [{\"marker\": {\"colorbar\": {\"outlinewidth\": 0, \"ticks\": \"\"}}, \"type\": \"histogram\"}], \"histogram2d\": [{\"colorbar\": {\"outlinewidth\": 0, \"ticks\": \"\"}, \"colorscale\": [[0.0, \"#0d0887\"], [0.1111111111111111, \"#46039f\"], [0.2222222222222222, \"#7201a8\"], [0.3333333333333333, \"#9c179e\"], [0.4444444444444444, \"#bd3786\"], [0.5555555555555556, \"#d8576b\"], [0.6666666666666666, \"#ed7953\"], [0.7777777777777778, \"#fb9f3a\"], [0.8888888888888888, \"#fdca26\"], [1.0, \"#f0f921\"]], \"type\": \"histogram2d\"}], \"histogram2dcontour\": [{\"colorbar\": {\"outlinewidth\": 0, \"ticks\": \"\"}, \"colorscale\": [[0.0, \"#0d0887\"], [0.1111111111111111, \"#46039f\"], [0.2222222222222222, \"#7201a8\"], [0.3333333333333333, \"#9c179e\"], [0.4444444444444444, \"#bd3786\"], [0.5555555555555556, \"#d8576b\"], [0.6666666666666666, \"#ed7953\"], [0.7777777777777778, \"#fb9f3a\"], [0.8888888888888888, \"#fdca26\"], [1.0, \"#f0f921\"]], \"type\": \"histogram2dcontour\"}], \"mesh3d\": [{\"colorbar\": {\"outlinewidth\": 0, \"ticks\": \"\"}, \"type\": \"mesh3d\"}], \"parcoords\": [{\"line\": {\"colorbar\": {\"outlinewidth\": 0, \"ticks\": \"\"}}, \"type\": \"parcoords\"}], \"pie\": [{\"automargin\": true, \"type\": \"pie\"}], \"scatter\": [{\"marker\": {\"colorbar\": {\"outlinewidth\": 0, \"ticks\": \"\"}}, \"type\": \"scatter\"}], \"scatter3d\": [{\"line\": {\"colorbar\": {\"outlinewidth\": 0, \"ticks\": \"\"}}, \"marker\": {\"colorbar\": {\"outlinewidth\": 0, \"ticks\": \"\"}}, \"type\": \"scatter3d\"}], \"scattercarpet\": [{\"marker\": {\"colorbar\": {\"outlinewidth\": 0, \"ticks\": \"\"}}, \"type\": \"scattercarpet\"}], \"scattergeo\": [{\"marker\": {\"colorbar\": {\"outlinewidth\": 0, \"ticks\": \"\"}}, \"type\": \"scattergeo\"}], \"scattergl\": [{\"marker\": {\"colorbar\": {\"outlinewidth\": 0, \"ticks\": \"\"}}, \"type\": \"scattergl\"}], \"scattermapbox\": [{\"marker\": {\"colorbar\": {\"outlinewidth\": 0, \"ticks\": \"\"}}, \"type\": \"scattermapbox\"}], \"scatterpolar\": [{\"marker\": {\"colorbar\": {\"outlinewidth\": 0, \"ticks\": \"\"}}, \"type\": \"scatterpolar\"}], \"scatterpolargl\": [{\"marker\": {\"colorbar\": {\"outlinewidth\": 0, \"ticks\": \"\"}}, \"type\": \"scatterpolargl\"}], \"scatterternary\": [{\"marker\": {\"colorbar\": {\"outlinewidth\": 0, \"ticks\": \"\"}}, \"type\": \"scatterternary\"}], \"surface\": [{\"colorbar\": {\"outlinewidth\": 0, \"ticks\": \"\"}, \"colorscale\": [[0.0, \"#0d0887\"], [0.1111111111111111, \"#46039f\"], [0.2222222222222222, \"#7201a8\"], [0.3333333333333333, \"#9c179e\"], [0.4444444444444444, \"#bd3786\"], [0.5555555555555556, \"#d8576b\"], [0.6666666666666666, \"#ed7953\"], [0.7777777777777778, \"#fb9f3a\"], [0.8888888888888888, \"#fdca26\"], [1.0, \"#f0f921\"]], \"type\": \"surface\"}], \"table\": [{\"cells\": {\"fill\": {\"color\": \"#EBF0F8\"}, \"line\": {\"color\": \"white\"}}, \"header\": {\"fill\": {\"color\": \"#C8D4E3\"}, \"line\": {\"color\": \"white\"}}, \"type\": \"table\"}]}, \"layout\": {\"annotationdefaults\": {\"arrowcolor\": \"#2a3f5f\", \"arrowhead\": 0, \"arrowwidth\": 1}, \"coloraxis\": {\"colorbar\": {\"outlinewidth\": 0, \"ticks\": \"\"}}, \"colorscale\": {\"diverging\": [[0, \"#8e0152\"], [0.1, \"#c51b7d\"], [0.2, \"#de77ae\"], [0.3, \"#f1b6da\"], [0.4, \"#fde0ef\"], [0.5, \"#f7f7f7\"], [0.6, \"#e6f5d0\"], [0.7, \"#b8e186\"], [0.8, \"#7fbc41\"], [0.9, \"#4d9221\"], [1, \"#276419\"]], \"sequential\": [[0.0, \"#0d0887\"], [0.1111111111111111, \"#46039f\"], [0.2222222222222222, \"#7201a8\"], [0.3333333333333333, \"#9c179e\"], [0.4444444444444444, \"#bd3786\"], [0.5555555555555556, \"#d8576b\"], [0.6666666666666666, \"#ed7953\"], [0.7777777777777778, \"#fb9f3a\"], [0.8888888888888888, \"#fdca26\"], [1.0, \"#f0f921\"]], \"sequentialminus\": [[0.0, \"#0d0887\"], [0.1111111111111111, \"#46039f\"], [0.2222222222222222, \"#7201a8\"], [0.3333333333333333, \"#9c179e\"], [0.4444444444444444, \"#bd3786\"], [0.5555555555555556, \"#d8576b\"], [0.6666666666666666, \"#ed7953\"], [0.7777777777777778, \"#fb9f3a\"], [0.8888888888888888, \"#fdca26\"], [1.0, \"#f0f921\"]]}, \"colorway\": [\"#636efa\", \"#EF553B\", \"#00cc96\", \"#ab63fa\", \"#FFA15A\", \"#19d3f3\", \"#FF6692\", \"#B6E880\", \"#FF97FF\", \"#FECB52\"], \"font\": {\"color\": \"#2a3f5f\"}, \"geo\": {\"bgcolor\": \"white\", \"lakecolor\": \"white\", \"landcolor\": \"#E5ECF6\", \"showlakes\": true, \"showland\": true, \"subunitcolor\": \"white\"}, \"hoverlabel\": {\"align\": \"left\"}, \"hovermode\": \"closest\", \"mapbox\": {\"style\": \"light\"}, \"paper_bgcolor\": \"white\", \"plot_bgcolor\": \"#E5ECF6\", \"polar\": {\"angularaxis\": {\"gridcolor\": \"white\", \"linecolor\": \"white\", \"ticks\": \"\"}, \"bgcolor\": \"#E5ECF6\", \"radialaxis\": {\"gridcolor\": \"white\", \"linecolor\": \"white\", \"ticks\": \"\"}}, \"scene\": {\"xaxis\": {\"backgroundcolor\": \"#E5ECF6\", \"gridcolor\": \"white\", \"gridwidth\": 2, \"linecolor\": \"white\", \"showbackground\": true, \"ticks\": \"\", \"zerolinecolor\": \"white\"}, \"yaxis\": {\"backgroundcolor\": \"#E5ECF6\", \"gridcolor\": \"white\", \"gridwidth\": 2, \"linecolor\": \"white\", \"showbackground\": true, \"ticks\": \"\", \"zerolinecolor\": \"white\"}, \"zaxis\": {\"backgroundcolor\": \"#E5ECF6\", \"gridcolor\": \"white\", \"gridwidth\": 2, \"linecolor\": \"white\", \"showbackground\": true, \"ticks\": \"\", \"zerolinecolor\": \"white\"}}, \"shapedefaults\": {\"line\": {\"color\": \"#2a3f5f\"}}, \"ternary\": {\"aaxis\": {\"gridcolor\": \"white\", \"linecolor\": \"white\", \"ticks\": \"\"}, \"baxis\": {\"gridcolor\": \"white\", \"linecolor\": \"white\", \"ticks\": \"\"}, \"bgcolor\": \"#E5ECF6\", \"caxis\": {\"gridcolor\": \"white\", \"linecolor\": \"white\", \"ticks\": \"\"}}, \"title\": {\"x\": 0.05}, \"xaxis\": {\"automargin\": true, \"gridcolor\": \"white\", \"linecolor\": \"white\", \"ticks\": \"\", \"title\": {\"standoff\": 15}, \"zerolinecolor\": \"white\", \"zerolinewidth\": 2}, \"yaxis\": {\"automargin\": true, \"gridcolor\": \"white\", \"linecolor\": \"white\", \"ticks\": \"\", \"title\": {\"standoff\": 15}, \"zerolinecolor\": \"white\", \"zerolinewidth\": 2}}}, \"title\": {\"text\": \"Topic Composition of Average ABC Article by Day (7-day Rolling Window)\"}},\n",
       "                        {\"responsive\": true}\n",
       "                    ).then(function(){\n",
       "                            \n",
       "var gd = document.getElementById('a1c0b8e8-cd87-4e7c-a8e4-6e3c0090ae9b');\n",
       "var x = new MutationObserver(function (mutations, observer) {{\n",
       "        var display = window.getComputedStyle(gd).display;\n",
       "        if (!display || display === 'none') {{\n",
       "            console.log([gd, 'removed!']);\n",
       "            Plotly.purge(gd);\n",
       "            observer.disconnect();\n",
       "        }}\n",
       "}});\n",
       "\n",
       "// Listen for the removal of the full notebook cells\n",
       "var notebookContainer = gd.closest('#notebook-container');\n",
       "if (notebookContainer) {{\n",
       "    x.observe(notebookContainer, {childList: true});\n",
       "}}\n",
       "\n",
       "// Listen for the clearing of the current output cell\n",
       "var outputEl = gd.closest('.output');\n",
       "if (outputEl) {{\n",
       "    x.observe(outputEl, {childList: true});\n",
       "}}\n",
       "\n",
       "                        })\n",
       "                };\n",
       "                });\n",
       "            </script>\n",
       "        </div>"
      ]
     },
     "metadata": {},
     "output_type": "display_data"
    }
   ],
   "source": [
    "for source in sources:\n",
    "    data = df.loc[df['source'] == source].groupby('date').mean().rolling(7).mean().reset_index()\n",
    "    fig = go.Figure()\n",
    "    for topic in topics:\n",
    "        fig.add_trace(\n",
    "            go.Scatter(\n",
    "                x=data['date'],\n",
    "                y=data[topic],\n",
    "                mode='lines+markers',\n",
    "                name=topic,\n",
    "            )\n",
    "        )\n",
    "        fig.update_layout(\n",
    "            title={\n",
    "                'text': f'Topic Composition of Average {source} Article by Day (7-day Rolling Window)',\n",
    "            }\n",
    "        )\n",
    "    fig.show()"
   ]
  },
  {
   "cell_type": "code",
   "execution_count": 204,
   "metadata": {
    "ExecuteTime": {
     "end_time": "2020-06-02T18:59:44.117789Z",
     "start_time": "2020-06-02T18:59:43.996002Z"
    }
   },
   "outputs": [
    {
     "data": {
      "application/vnd.plotly.v1+json": {
       "config": {
        "plotlyServerURL": "https://plot.ly"
       },
       "data": [
        {
         "marker": {
          "color": "#636EFA"
         },
         "mode": "lines+markers",
         "name": "Reuters",
         "showlegend": true,
         "type": "scatter",
         "x": [
          "2019-06-08T00:00:00",
          "2019-06-09T00:00:00",
          "2019-06-11T00:00:00",
          "2019-06-12T00:00:00",
          "2019-06-13T00:00:00",
          "2019-06-14T00:00:00",
          "2019-06-17T00:00:00",
          "2019-06-18T00:00:00",
          "2019-06-19T00:00:00",
          "2019-06-21T00:00:00",
          "2019-06-22T00:00:00",
          "2019-06-25T00:00:00",
          "2019-06-26T00:00:00",
          "2019-07-01T00:00:00",
          "2019-07-02T00:00:00",
          "2019-07-03T00:00:00",
          "2019-07-04T00:00:00",
          "2019-07-07T00:00:00",
          "2019-07-10T00:00:00",
          "2019-07-11T00:00:00",
          "2019-07-13T00:00:00",
          "2019-07-14T00:00:00",
          "2019-07-18T00:00:00",
          "2019-07-22T00:00:00",
          "2019-07-23T00:00:00",
          "2019-07-27T00:00:00",
          "2019-07-28T00:00:00",
          "2019-07-29T00:00:00",
          "2019-07-30T00:00:00",
          "2019-08-01T00:00:00",
          "2019-08-02T00:00:00",
          "2019-08-05T00:00:00",
          "2019-08-06T00:00:00",
          "2019-08-07T00:00:00",
          "2019-08-08T00:00:00",
          "2019-08-09T00:00:00",
          "2019-08-10T00:00:00",
          "2019-08-11T00:00:00",
          "2019-08-12T00:00:00",
          "2019-08-13T00:00:00",
          "2019-08-14T00:00:00",
          "2019-08-15T00:00:00",
          "2019-08-16T00:00:00",
          "2019-08-17T00:00:00",
          "2019-08-18T00:00:00",
          "2019-08-19T00:00:00",
          "2019-08-20T00:00:00",
          "2019-08-21T00:00:00",
          "2019-08-22T00:00:00",
          "2019-08-23T00:00:00",
          "2019-08-24T00:00:00",
          "2019-08-25T00:00:00",
          "2019-08-26T00:00:00",
          "2019-08-27T00:00:00",
          "2019-08-28T00:00:00",
          "2019-08-29T00:00:00",
          "2019-08-30T00:00:00",
          "2019-09-01T00:00:00",
          "2019-09-02T00:00:00",
          "2019-09-03T00:00:00",
          "2019-09-04T00:00:00",
          "2019-09-05T00:00:00",
          "2019-09-07T00:00:00",
          "2019-09-08T00:00:00",
          "2019-09-09T00:00:00",
          "2019-09-10T00:00:00",
          "2019-09-11T00:00:00",
          "2019-09-12T00:00:00",
          "2019-09-13T00:00:00",
          "2019-09-15T00:00:00",
          "2019-09-18T00:00:00",
          "2019-09-21T00:00:00",
          "2019-09-22T00:00:00",
          "2019-09-24T00:00:00",
          "2019-09-25T00:00:00",
          "2019-09-26T00:00:00",
          "2019-09-27T00:00:00",
          "2019-09-28T00:00:00",
          "2019-09-29T00:00:00",
          "2019-09-30T00:00:00",
          "2019-10-01T00:00:00",
          "2019-10-02T00:00:00",
          "2019-10-03T00:00:00",
          "2019-10-04T00:00:00",
          "2019-10-05T00:00:00",
          "2019-10-06T00:00:00",
          "2019-10-07T00:00:00",
          "2019-10-08T00:00:00",
          "2019-10-09T00:00:00",
          "2019-10-10T00:00:00",
          "2019-10-11T00:00:00",
          "2019-10-12T00:00:00",
          "2019-10-13T00:00:00",
          "2019-10-14T00:00:00",
          "2019-10-15T00:00:00",
          "2019-10-16T00:00:00",
          "2019-10-18T00:00:00",
          "2019-10-19T00:00:00",
          "2019-10-20T00:00:00",
          "2019-10-21T00:00:00",
          "2019-10-22T00:00:00",
          "2019-10-23T00:00:00",
          "2019-10-24T00:00:00",
          "2019-10-25T00:00:00",
          "2019-10-27T00:00:00",
          "2019-10-28T00:00:00",
          "2019-10-29T00:00:00",
          "2019-10-30T00:00:00",
          "2019-10-31T00:00:00",
          "2019-11-01T00:00:00",
          "2019-11-02T00:00:00",
          "2019-11-04T00:00:00",
          "2019-11-05T00:00:00",
          "2019-11-06T00:00:00",
          "2019-11-07T00:00:00",
          "2019-11-08T00:00:00",
          "2019-11-09T00:00:00",
          "2019-11-10T00:00:00",
          "2019-11-11T00:00:00",
          "2019-11-13T00:00:00",
          "2019-11-14T00:00:00",
          "2019-11-15T00:00:00",
          "2019-11-16T00:00:00",
          "2019-11-17T00:00:00",
          "2019-11-18T00:00:00",
          "2019-11-19T00:00:00",
          "2019-11-20T00:00:00",
          "2019-11-21T00:00:00",
          "2019-11-22T00:00:00",
          "2019-11-23T00:00:00",
          "2019-11-25T00:00:00",
          "2019-11-26T00:00:00",
          "2019-11-27T00:00:00",
          "2019-11-28T00:00:00",
          "2019-11-29T00:00:00",
          "2019-12-02T00:00:00",
          "2019-12-03T00:00:00",
          "2019-12-04T00:00:00",
          "2019-12-05T00:00:00",
          "2019-12-06T00:00:00",
          "2019-12-09T00:00:00",
          "2019-12-10T00:00:00",
          "2019-12-12T00:00:00",
          "2019-12-13T00:00:00",
          "2019-12-19T00:00:00",
          "2019-12-20T00:00:00",
          "2019-12-21T00:00:00",
          "2019-12-22T00:00:00",
          "2019-12-23T00:00:00",
          "2019-12-31T00:00:00",
          "2020-01-02T00:00:00",
          "2020-01-04T00:00:00",
          "2020-01-05T00:00:00",
          "2020-01-07T00:00:00",
          "2020-01-08T00:00:00",
          "2020-01-10T00:00:00",
          "2020-01-12T00:00:00",
          "2020-01-16T00:00:00",
          "2020-01-20T00:00:00",
          "2020-01-21T00:00:00",
          "2020-01-23T00:00:00",
          "2020-01-24T00:00:00",
          "2020-01-29T00:00:00",
          "2020-02-15T00:00:00",
          "2020-02-16T00:00:00",
          "2020-02-17T00:00:00",
          "2020-02-18T00:00:00",
          "2020-02-21T00:00:00",
          "2020-02-28T00:00:00",
          "2020-02-29T00:00:00",
          "2020-03-03T00:00:00",
          "2020-03-08T00:00:00",
          "2020-03-18T00:00:00",
          "2020-03-27T00:00:00"
         ],
         "xaxis": "x",
         "y": [
          null,
          null,
          null,
          null,
          null,
          null,
          0.04659288707625392,
          0.046670977734488125,
          0.047280691150323996,
          0.06135416084409444,
          0.07094417647237197,
          0.06606781631539957,
          0.0640465578119982,
          0.06624807983494879,
          0.06695986671245518,
          0.0719168780207836,
          0.060065296018825654,
          0.049165732251331994,
          0.06600540687161885,
          0.07024561611321023,
          0.06407292171405479,
          0.06756004846411177,
          0.0653885125373447,
          0.06624636604557414,
          0.06776900844153728,
          0.04806585445266901,
          0.05378737990495519,
          0.056243676749891065,
          0.058718876288970545,
          0.056314469731974834,
          0.055804961717828595,
          0.052009529127531484,
          0.05001404709633517,
          0.03772510348858904,
          0.041225932359194806,
          0.034518181424136055,
          0.030419203524518497,
          0.03450409118547295,
          0.038690900004382085,
          0.048138700861329944,
          0.05370241434766016,
          0.055077959919161326,
          0.059202234304755595,
          0.06248248579929281,
          0.05755737290846485,
          0.0588875252539451,
          0.05765155487781507,
          0.061325959549333266,
          0.05520489866714772,
          0.05352967613207065,
          0.05196698013168468,
          0.04725327284797819,
          0.045102285157217765,
          0.04490008685431999,
          0.04020967382161427,
          0.06079992362364967,
          0.06121391289399847,
          0.06043991285233125,
          0.06379379302074661,
          0.0642344579646583,
          0.06531523669857774,
          0.06553540151111761,
          0.058622827812829625,
          0.05790845463076012,
          0.06129044470782114,
          0.06773283153105092,
          0.0686254133125005,
          0.06171733228335736,
          0.06861200879873064,
          0.05152750996546333,
          0.05443463395989453,
          0.052703958666845345,
          0.04459739231524927,
          0.04333218005147534,
          0.047036454305383134,
          0.036084289022848375,
          0.0417069026799448,
          0.035940991114290846,
          0.03558959531530593,
          0.035739913511074015,
          0.034419533211101874,
          0.03836892531931434,
          0.04359072282834588,
          0.04265521239979279,
          0.047562423958215035,
          0.04264969472634294,
          0.049392943967923666,
          0.05038436197622288,
          0.044980829588025295,
          0.04140245568468781,
          0.048956846829892486,
          0.0505650244467688,
          0.05694050341930669,
          0.06048902661060484,
          0.061609083464200645,
          0.06626065286944571,
          0.06671532288961023,
          0.05437444195095843,
          0.0492198477296298,
          0.05666029434098101,
          0.0532267472632959,
          0.058891427981895915,
          0.055792759117562915,
          0.058979832767012685,
          0.06402115894343839,
          0.06891398339637768,
          0.06349863155245442,
          0.0662667479504749,
          0.055915900457881904,
          0.05969325995249101,
          0.05490255585296853,
          0.05690202523774655,
          0.05564268141037917,
          0.0708923887136579,
          0.06567035919038614,
          0.07193163105692116,
          0.06598282802369257,
          0.07234154849725294,
          0.06913696639158814,
          0.068617676421305,
          0.047594921050639415,
          0.04212136021993573,
          0.05446202152737445,
          0.05599155372886688,
          0.048851853151666305,
          0.04723841205047867,
          0.04813497568987595,
          0.04787951522875428,
          0.05253141007905354,
          0.038915425026797026,
          0.04460968326303288,
          0.04444809285590675,
          0.051216337421143794,
          0.05389616400787124,
          0.06039968453221684,
          0.06353232104277931,
          0.071213368693321,
          0.0698847541008548,
          0.06956293902457544,
          0.06856096148937532,
          0.06469529123682383,
          0.06449218987004024,
          0.06235668931199358,
          0.05129025341428739,
          0.04471092657532292,
          0.049516132820804006,
          0.043900130026042226,
          0.04681329207776162,
          0.04591983890047385,
          0.050950853696182644,
          0.05858180511831689,
          0.05758266983017083,
          0.05580866897464714,
          0.060707596531984834,
          0.05321510290055393,
          0.0584073740311447,
          0.075381803587096,
          0.07265772248204971,
          0.07560505292938015,
          0.08067509100670799,
          0.07946240263551445,
          0.08216814596625778,
          0.0811759224996735,
          0.06641218880736835,
          0.06119337879532526,
          0.05942930953125599,
          0.06603104826695295,
          0.06804446239617037,
          0.07879114048659845,
          0.06864860694589558,
          0.05601600681329545,
          0.05730894823228729,
          0.06058754081223401,
          0.05428128093454556
         ],
         "yaxis": "y"
        },
        {
         "marker": {
          "color": "#EF553B"
         },
         "mode": "lines+markers",
         "name": "CNN",
         "showlegend": true,
         "type": "scatter",
         "x": [
          "2019-06-13T00:00:00",
          "2019-06-17T00:00:00",
          "2019-06-20T00:00:00",
          "2019-06-24T00:00:00",
          "2019-06-27T00:00:00",
          "2019-06-30T00:00:00",
          "2019-07-02T00:00:00",
          "2019-07-04T00:00:00",
          "2019-07-08T00:00:00",
          "2019-07-15T00:00:00",
          "2019-07-22T00:00:00",
          "2019-07-29T00:00:00",
          "2019-07-31T00:00:00",
          "2019-08-01T00:00:00",
          "2019-08-04T00:00:00",
          "2019-08-08T00:00:00",
          "2019-08-11T00:00:00",
          "2019-08-12T00:00:00",
          "2019-08-13T00:00:00",
          "2019-08-15T00:00:00",
          "2019-08-16T00:00:00",
          "2019-08-19T00:00:00",
          "2019-08-20T00:00:00",
          "2019-08-26T00:00:00",
          "2019-08-28T00:00:00",
          "2019-09-05T00:00:00",
          "2019-09-08T00:00:00",
          "2019-09-09T00:00:00",
          "2019-09-10T00:00:00",
          "2019-09-12T00:00:00",
          "2019-09-18T00:00:00",
          "2019-09-20T00:00:00",
          "2019-09-30T00:00:00",
          "2019-10-02T00:00:00",
          "2019-10-09T00:00:00",
          "2019-10-10T00:00:00",
          "2019-10-11T00:00:00",
          "2019-10-12T00:00:00",
          "2019-10-15T00:00:00",
          "2019-10-16T00:00:00",
          "2019-10-21T00:00:00",
          "2019-10-23T00:00:00",
          "2019-10-25T00:00:00",
          "2019-10-29T00:00:00",
          "2019-11-01T00:00:00",
          "2019-11-02T00:00:00",
          "2019-11-08T00:00:00",
          "2019-11-14T00:00:00",
          "2019-11-20T00:00:00",
          "2019-11-21T00:00:00",
          "2019-11-29T00:00:00",
          "2019-11-30T00:00:00",
          "2019-12-02T00:00:00",
          "2019-12-11T00:00:00",
          "2019-12-17T00:00:00",
          "2019-12-20T00:00:00",
          "2019-12-27T00:00:00",
          "2020-01-02T00:00:00",
          "2020-01-10T00:00:00",
          "2020-01-12T00:00:00",
          "2020-03-06T00:00:00",
          "2020-03-11T00:00:00"
         ],
         "xaxis": "x",
         "y": [
          null,
          null,
          null,
          null,
          null,
          null,
          0.08082173962664378,
          0.07593038030513741,
          0.07204897149463793,
          0.04547367520622688,
          0.04391675612175605,
          0.044180583618960774,
          0.019402999529856628,
          0.021169108751322992,
          0.020193708490208444,
          0.01565515902653583,
          0.016033623046686034,
          0.024976502781081,
          0.027606096596626228,
          0.03088677544721666,
          0.03444996759120054,
          0.04926780830713549,
          0.055825674070520734,
          0.06111431400201781,
          0.05162060381953212,
          0.0526467367097413,
          0.051796694131382395,
          0.05269720792431874,
          0.04720169170927973,
          0.044176015185226576,
          0.04131178578273187,
          0.044964469078272305,
          0.05040027725486911,
          0.04787815123274309,
          0.04949296900938353,
          0.0445050255030111,
          0.044185761433747035,
          0.04035813565811614,
          0.03643083339392688,
          0.0333805927348927,
          0.03747351922117935,
          0.03652262299746355,
          0.037256140374409843,
          0.04096038397661263,
          0.049998560462098496,
          0.05279502077911928,
          0.05163059169929017,
          0.05304835810356655,
          0.05376846096602521,
          0.046192316872023964,
          0.041654602822982445,
          0.03684220319550659,
          0.03494815336778329,
          0.028618302268008097,
          0.023728623944888217,
          0.02519312654361635,
          0.0392652618912619,
          0.03763893023544139,
          0.04709405552156247,
          0.045601093016695196,
          0.06587031859310463,
          0.06683497610112948
         ],
         "yaxis": "y"
        },
        {
         "marker": {
          "color": "#00CC96"
         },
         "mode": "lines+markers",
         "name": "CCTV",
         "showlegend": true,
         "type": "scatter",
         "x": [
          "2019-06-16T00:00:00",
          "2019-07-01T00:00:00",
          "2019-07-02T00:00:00",
          "2019-07-03T00:00:00",
          "2019-07-04T00:00:00",
          "2019-07-05T00:00:00",
          "2019-07-08T00:00:00",
          "2019-07-11T00:00:00",
          "2019-07-19T00:00:00",
          "2019-07-21T00:00:00",
          "2019-07-22T00:00:00",
          "2019-07-23T00:00:00",
          "2019-07-24T00:00:00",
          "2019-07-27T00:00:00",
          "2019-07-29T00:00:00",
          "2019-07-30T00:00:00",
          "2019-07-31T00:00:00",
          "2019-08-01T00:00:00",
          "2019-08-03T00:00:00",
          "2019-08-04T00:00:00",
          "2019-08-05T00:00:00",
          "2019-08-06T00:00:00",
          "2019-08-07T00:00:00",
          "2019-08-08T00:00:00",
          "2019-08-09T00:00:00",
          "2019-08-10T00:00:00",
          "2019-08-11T00:00:00",
          "2019-08-13T00:00:00",
          "2019-08-14T00:00:00",
          "2019-08-15T00:00:00",
          "2019-08-16T00:00:00",
          "2019-08-17T00:00:00",
          "2019-08-18T00:00:00",
          "2019-08-19T00:00:00",
          "2019-08-20T00:00:00",
          "2019-08-21T00:00:00",
          "2019-08-22T00:00:00",
          "2019-08-23T00:00:00",
          "2019-08-24T00:00:00",
          "2019-08-25T00:00:00",
          "2019-08-26T00:00:00",
          "2019-08-27T00:00:00",
          "2019-08-28T00:00:00",
          "2019-08-30T00:00:00",
          "2019-09-01T00:00:00",
          "2019-09-02T00:00:00",
          "2019-09-03T00:00:00",
          "2019-09-04T00:00:00",
          "2019-09-05T00:00:00",
          "2019-09-10T00:00:00",
          "2019-09-11T00:00:00",
          "2019-09-12T00:00:00",
          "2019-09-15T00:00:00",
          "2019-09-17T00:00:00",
          "2019-09-20T00:00:00",
          "2019-09-21T00:00:00",
          "2019-09-26T00:00:00",
          "2019-09-27T00:00:00",
          "2019-09-28T00:00:00",
          "2019-09-29T00:00:00",
          "2019-10-04T00:00:00",
          "2019-10-06T00:00:00",
          "2019-10-07T00:00:00",
          "2019-10-08T00:00:00",
          "2019-10-10T00:00:00",
          "2019-10-16T00:00:00",
          "2019-10-17T00:00:00",
          "2019-10-21T00:00:00",
          "2019-10-22T00:00:00",
          "2019-10-23T00:00:00",
          "2019-10-24T00:00:00",
          "2019-10-26T00:00:00",
          "2019-10-27T00:00:00",
          "2019-10-28T00:00:00",
          "2019-11-05T00:00:00",
          "2019-11-08T00:00:00",
          "2019-11-11T00:00:00",
          "2019-11-12T00:00:00",
          "2019-11-13T00:00:00",
          "2019-11-14T00:00:00",
          "2019-11-15T00:00:00",
          "2019-11-16T00:00:00",
          "2019-11-18T00:00:00",
          "2019-11-19T00:00:00",
          "2019-11-20T00:00:00",
          "2019-11-21T00:00:00",
          "2019-11-22T00:00:00",
          "2019-11-26T00:00:00",
          "2019-11-27T00:00:00",
          "2019-11-28T00:00:00",
          "2019-11-29T00:00:00",
          "2019-12-01T00:00:00",
          "2019-12-02T00:00:00",
          "2019-12-03T00:00:00",
          "2019-12-04T00:00:00",
          "2019-12-05T00:00:00",
          "2019-12-06T00:00:00",
          "2019-12-08T00:00:00",
          "2019-12-13T00:00:00",
          "2019-12-16T00:00:00",
          "2019-12-17T00:00:00",
          "2019-12-19T00:00:00",
          "2019-12-20T00:00:00",
          "2019-12-22T00:00:00",
          "2019-12-24T00:00:00",
          "2019-12-26T00:00:00",
          "2019-12-27T00:00:00",
          "2019-12-31T00:00:00",
          "2020-01-01T00:00:00",
          "2020-01-02T00:00:00",
          "2020-01-03T00:00:00",
          "2020-01-06T00:00:00",
          "2020-01-10T00:00:00",
          "2020-01-14T00:00:00",
          "2020-02-20T00:00:00",
          "2020-03-01T00:00:00"
         ],
         "xaxis": "x",
         "y": [
          null,
          null,
          null,
          null,
          null,
          null,
          0.11871379763533554,
          0.11044146118355659,
          0.08446849053462284,
          0.06285740194984105,
          0.05460461624410038,
          0.06826345917634233,
          0.06964441155729471,
          0.06560922808996839,
          0.07226730959179987,
          0.07410219758740215,
          0.06644011613661963,
          0.0642330110723717,
          0.044540879517555414,
          0.04911553187520467,
          0.04911005858600122,
          0.054944024074425564,
          0.06153826927716133,
          0.06618516246970005,
          0.07085695019633471,
          0.0852177925224026,
          0.07504970904230436,
          0.07960213693586037,
          0.07392341053545268,
          0.06992540948265828,
          0.07015963178239905,
          0.07845597867803433,
          0.07591129738013612,
          0.07813706728477225,
          0.08986949120936269,
          0.08050781984747955,
          0.07683619605072996,
          0.07620205620821452,
          0.07599469256100123,
          0.08718569408399923,
          0.1023241263627617,
          0.08728201063995907,
          0.09310827710532325,
          0.09711533611238228,
          0.10770600040840371,
          0.10041928304691912,
          0.08545088815050386,
          0.0803386521085001,
          0.08042062140426662,
          0.07613219472303037,
          0.06987623680808629,
          0.05950563023212258,
          0.05111929049197865,
          0.0591384904906908,
          0.04602633766098428,
          0.04290827542096155,
          0.04842960722070978,
          0.056995459677691276,
          0.053541138555302924,
          0.08336214165703694,
          0.09190464297904136,
          0.10035032428186552,
          0.1254720150634413,
          0.1360759709315028,
          0.1339514490688857,
          0.13601013986707228,
          0.11832844296823335,
          0.09745339352175532,
          0.10812224723748402,
          0.08969974344777817,
          0.08770471210190649,
          0.10137609579803956,
          0.10049163889795767,
          0.10073895401025537,
          0.10719974424655583,
          0.09047151340002142,
          0.08514647606801544,
          0.08379766987887312,
          0.0661496862835211,
          0.06444101140065238,
          0.06482684250076919,
          0.0551421186833923,
          0.061771317406746865,
          0.07201996589996058,
          0.062073992779307356,
          0.059995719494684865,
          0.058694315418813904,
          0.057563970316037716,
          0.06135237554453511,
          0.052480566490334925,
          0.04635931441023191,
          0.0421257459720635,
          0.04739713817091835,
          0.04127920407679377,
          0.03492368412647801,
          0.051388663079936225,
          0.06929919256643283,
          0.07029764649345817,
          0.08270993569679215,
          0.09801616321534778,
          0.0999523465205787,
          0.12279805699091403,
          0.1093041253273395,
          0.11441007515984324,
          0.11904933086212414,
          0.11660406184542657,
          0.11324448040954642,
          0.13394739398342773,
          0.11502156232985036,
          0.13644659067452156,
          0.11680373353166441,
          0.13204543021033585,
          0.13448451493513486,
          0.1350484909107331,
          0.12430528033226909,
          0.11442053905537555
         ],
         "yaxis": "y"
        },
        {
         "marker": {
          "color": "#AB63FA"
         },
         "mode": "lines+markers",
         "name": "ABC",
         "showlegend": true,
         "type": "scatter",
         "x": [
          "2019-06-10T00:00:00",
          "2019-06-12T00:00:00",
          "2019-06-13T00:00:00",
          "2019-06-17T00:00:00",
          "2019-06-19T00:00:00",
          "2019-06-23T00:00:00",
          "2019-07-01T00:00:00",
          "2019-07-02T00:00:00",
          "2019-07-04T00:00:00",
          "2019-07-06T00:00:00",
          "2019-07-09T00:00:00",
          "2019-07-15T00:00:00",
          "2019-07-25T00:00:00",
          "2019-07-27T00:00:00",
          "2019-08-01T00:00:00",
          "2019-08-03T00:00:00",
          "2019-08-05T00:00:00",
          "2019-08-07T00:00:00",
          "2019-08-08T00:00:00",
          "2019-08-10T00:00:00",
          "2019-08-11T00:00:00",
          "2019-08-12T00:00:00",
          "2019-08-13T00:00:00",
          "2019-08-14T00:00:00",
          "2019-08-16T00:00:00",
          "2019-08-17T00:00:00",
          "2019-08-20T00:00:00",
          "2019-08-23T00:00:00",
          "2019-08-24T00:00:00",
          "2019-08-25T00:00:00",
          "2019-08-26T00:00:00",
          "2019-08-29T00:00:00",
          "2019-09-01T00:00:00",
          "2019-09-02T00:00:00",
          "2019-09-03T00:00:00",
          "2019-09-05T00:00:00",
          "2019-09-06T00:00:00",
          "2019-09-09T00:00:00",
          "2019-09-16T00:00:00",
          "2019-09-17T00:00:00",
          "2019-09-30T00:00:00",
          "2019-10-01T00:00:00",
          "2019-10-02T00:00:00",
          "2019-10-04T00:00:00",
          "2019-10-05T00:00:00",
          "2019-10-08T00:00:00",
          "2019-10-11T00:00:00",
          "2019-10-14T00:00:00",
          "2019-10-15T00:00:00",
          "2019-10-16T00:00:00",
          "2019-10-21T00:00:00",
          "2019-10-23T00:00:00",
          "2019-10-24T00:00:00",
          "2019-10-29T00:00:00",
          "2019-11-02T00:00:00",
          "2019-11-05T00:00:00",
          "2019-11-09T00:00:00",
          "2019-11-11T00:00:00",
          "2019-11-12T00:00:00",
          "2019-11-13T00:00:00",
          "2019-12-02T00:00:00",
          "2019-12-07T00:00:00",
          "2019-12-09T00:00:00",
          "2019-12-12T00:00:00",
          "2020-02-27T00:00:00",
          "2020-02-29T00:00:00",
          "2020-03-06T00:00:00"
         ],
         "xaxis": "x",
         "y": [
          null,
          null,
          null,
          null,
          null,
          null,
          0.03687841200052222,
          0.05206235340013154,
          0.05529493214591557,
          0.059297012212249464,
          0.06291871121082816,
          0.06569131914442095,
          0.06302841550061997,
          0.054030935837149026,
          0.03345847845913609,
          0.03160380504215025,
          0.03165992063413019,
          0.036515620489830036,
          0.029064121371664253,
          0.027914343866778248,
          0.05517703170460523,
          0.06706239190929317,
          0.07808821127129549,
          0.08690476061830701,
          0.07915615379184207,
          0.08764175733558514,
          0.08774244445090706,
          0.07158719663749598,
          0.059701836432808034,
          0.05840922285311863,
          0.05117082002827688,
          0.06186161660943156,
          0.06743997198258858,
          0.07301629077939163,
          0.06577121942807251,
          0.07144308261779285,
          0.0631891143638246,
          0.055773889070752515,
          0.04111221335129377,
          0.037185723093457024,
          0.025451431481189217,
          0.030020581814750574,
          0.02434871862503024,
          0.029844750371061986,
          0.06255012576616951,
          0.06854590969601199,
          0.08470429430648611,
          0.08470429430648611,
          0.09877355837575018,
          0.10104900829270953,
          0.09806249634786424,
          0.08408149479320196,
          0.08170901764499276,
          0.06497758610374257,
          0.0755791373302938,
          0.060854789257731454,
          0.0626530957730191,
          0.05908149411429623,
          0.04781148535321604,
          0.04461403220327378,
          0.0415100052389527,
          0.033561515236891264,
          0.03256432704604544,
          0.03894709301411475,
          0.04421071407319036,
          0.03973177080096622,
          0.03883955431285701
         ],
         "yaxis": "y"
        },
        {
         "marker": {
          "color": "#636EFA"
         },
         "mode": "lines+markers",
         "name": "Reuters",
         "showlegend": false,
         "type": "scatter",
         "x": [
          "2019-06-08T00:00:00",
          "2019-06-09T00:00:00",
          "2019-06-11T00:00:00",
          "2019-06-12T00:00:00",
          "2019-06-13T00:00:00",
          "2019-06-14T00:00:00",
          "2019-06-17T00:00:00",
          "2019-06-18T00:00:00",
          "2019-06-19T00:00:00",
          "2019-06-21T00:00:00",
          "2019-06-22T00:00:00",
          "2019-06-25T00:00:00",
          "2019-06-26T00:00:00",
          "2019-07-01T00:00:00",
          "2019-07-02T00:00:00",
          "2019-07-03T00:00:00",
          "2019-07-04T00:00:00",
          "2019-07-07T00:00:00",
          "2019-07-10T00:00:00",
          "2019-07-11T00:00:00",
          "2019-07-13T00:00:00",
          "2019-07-14T00:00:00",
          "2019-07-18T00:00:00",
          "2019-07-22T00:00:00",
          "2019-07-23T00:00:00",
          "2019-07-27T00:00:00",
          "2019-07-28T00:00:00",
          "2019-07-29T00:00:00",
          "2019-07-30T00:00:00",
          "2019-08-01T00:00:00",
          "2019-08-02T00:00:00",
          "2019-08-05T00:00:00",
          "2019-08-06T00:00:00",
          "2019-08-07T00:00:00",
          "2019-08-08T00:00:00",
          "2019-08-09T00:00:00",
          "2019-08-10T00:00:00",
          "2019-08-11T00:00:00",
          "2019-08-12T00:00:00",
          "2019-08-13T00:00:00",
          "2019-08-14T00:00:00",
          "2019-08-15T00:00:00",
          "2019-08-16T00:00:00",
          "2019-08-17T00:00:00",
          "2019-08-18T00:00:00",
          "2019-08-19T00:00:00",
          "2019-08-20T00:00:00",
          "2019-08-21T00:00:00",
          "2019-08-22T00:00:00",
          "2019-08-23T00:00:00",
          "2019-08-24T00:00:00",
          "2019-08-25T00:00:00",
          "2019-08-26T00:00:00",
          "2019-08-27T00:00:00",
          "2019-08-28T00:00:00",
          "2019-08-29T00:00:00",
          "2019-08-30T00:00:00",
          "2019-09-01T00:00:00",
          "2019-09-02T00:00:00",
          "2019-09-03T00:00:00",
          "2019-09-04T00:00:00",
          "2019-09-05T00:00:00",
          "2019-09-07T00:00:00",
          "2019-09-08T00:00:00",
          "2019-09-09T00:00:00",
          "2019-09-10T00:00:00",
          "2019-09-11T00:00:00",
          "2019-09-12T00:00:00",
          "2019-09-13T00:00:00",
          "2019-09-15T00:00:00",
          "2019-09-18T00:00:00",
          "2019-09-21T00:00:00",
          "2019-09-22T00:00:00",
          "2019-09-24T00:00:00",
          "2019-09-25T00:00:00",
          "2019-09-26T00:00:00",
          "2019-09-27T00:00:00",
          "2019-09-28T00:00:00",
          "2019-09-29T00:00:00",
          "2019-09-30T00:00:00",
          "2019-10-01T00:00:00",
          "2019-10-02T00:00:00",
          "2019-10-03T00:00:00",
          "2019-10-04T00:00:00",
          "2019-10-05T00:00:00",
          "2019-10-06T00:00:00",
          "2019-10-07T00:00:00",
          "2019-10-08T00:00:00",
          "2019-10-09T00:00:00",
          "2019-10-10T00:00:00",
          "2019-10-11T00:00:00",
          "2019-10-12T00:00:00",
          "2019-10-13T00:00:00",
          "2019-10-14T00:00:00",
          "2019-10-15T00:00:00",
          "2019-10-16T00:00:00",
          "2019-10-18T00:00:00",
          "2019-10-19T00:00:00",
          "2019-10-20T00:00:00",
          "2019-10-21T00:00:00",
          "2019-10-22T00:00:00",
          "2019-10-23T00:00:00",
          "2019-10-24T00:00:00",
          "2019-10-25T00:00:00",
          "2019-10-27T00:00:00",
          "2019-10-28T00:00:00",
          "2019-10-29T00:00:00",
          "2019-10-30T00:00:00",
          "2019-10-31T00:00:00",
          "2019-11-01T00:00:00",
          "2019-11-02T00:00:00",
          "2019-11-04T00:00:00",
          "2019-11-05T00:00:00",
          "2019-11-06T00:00:00",
          "2019-11-07T00:00:00",
          "2019-11-08T00:00:00",
          "2019-11-09T00:00:00",
          "2019-11-10T00:00:00",
          "2019-11-11T00:00:00",
          "2019-11-13T00:00:00",
          "2019-11-14T00:00:00",
          "2019-11-15T00:00:00",
          "2019-11-16T00:00:00",
          "2019-11-17T00:00:00",
          "2019-11-18T00:00:00",
          "2019-11-19T00:00:00",
          "2019-11-20T00:00:00",
          "2019-11-21T00:00:00",
          "2019-11-22T00:00:00",
          "2019-11-23T00:00:00",
          "2019-11-25T00:00:00",
          "2019-11-26T00:00:00",
          "2019-11-27T00:00:00",
          "2019-11-28T00:00:00",
          "2019-11-29T00:00:00",
          "2019-12-02T00:00:00",
          "2019-12-03T00:00:00",
          "2019-12-04T00:00:00",
          "2019-12-05T00:00:00",
          "2019-12-06T00:00:00",
          "2019-12-09T00:00:00",
          "2019-12-10T00:00:00",
          "2019-12-12T00:00:00",
          "2019-12-13T00:00:00",
          "2019-12-19T00:00:00",
          "2019-12-20T00:00:00",
          "2019-12-21T00:00:00",
          "2019-12-22T00:00:00",
          "2019-12-23T00:00:00",
          "2019-12-31T00:00:00",
          "2020-01-02T00:00:00",
          "2020-01-04T00:00:00",
          "2020-01-05T00:00:00",
          "2020-01-07T00:00:00",
          "2020-01-08T00:00:00",
          "2020-01-10T00:00:00",
          "2020-01-12T00:00:00",
          "2020-01-16T00:00:00",
          "2020-01-20T00:00:00",
          "2020-01-21T00:00:00",
          "2020-01-23T00:00:00",
          "2020-01-24T00:00:00",
          "2020-01-29T00:00:00",
          "2020-02-15T00:00:00",
          "2020-02-16T00:00:00",
          "2020-02-17T00:00:00",
          "2020-02-18T00:00:00",
          "2020-02-21T00:00:00",
          "2020-02-28T00:00:00",
          "2020-02-29T00:00:00",
          "2020-03-03T00:00:00",
          "2020-03-08T00:00:00",
          "2020-03-18T00:00:00",
          "2020-03-27T00:00:00"
         ],
         "xaxis": "x2",
         "y": [
          null,
          null,
          null,
          null,
          null,
          null,
          0.32942914260343725,
          0.3320548950091794,
          0.3382301001894866,
          0.35264746992640517,
          0.3693365554314802,
          0.36032391599792246,
          0.3535523740478091,
          0.38459288115974477,
          0.38830387638579117,
          0.39002202090028826,
          0.36550694115964466,
          0.34558044510886204,
          0.34354163599097126,
          0.34315950068070683,
          0.34363035798597974,
          0.3432257392422184,
          0.3429488763688991,
          0.3576934488390355,
          0.3623185459293895,
          0.3711002404253697,
          0.3770634414952713,
          0.37950320033246465,
          0.38041196498693214,
          0.3867678769718391,
          0.3883508114049591,
          0.3962563167852836,
          0.3955937867227535,
          0.3945171944696907,
          0.39534364465827576,
          0.3929115351776007,
          0.3931772905073219,
          0.38514568569696017,
          0.38865523759589005,
          0.38388865495211316,
          0.3817853788948073,
          0.37379632704379734,
          0.37443643167228297,
          0.3682046190035932,
          0.37983433520137017,
          0.36610763546268477,
          0.3701318995014849,
          0.3721829490284722,
          0.3622771583926005,
          0.35670869842268205,
          0.3561887016039999,
          0.3291975479019283,
          0.3338341465726179,
          0.3301769920494043,
          0.31515663477928646,
          0.356673374722652,
          0.3670441630245721,
          0.36396378584940015,
          0.387522858648297,
          0.3818159025354967,
          0.3949048957430031,
          0.40419363584763746,
          0.3762945861628735,
          0.35846653363068387,
          0.36094222787164704,
          0.35804199941856935,
          0.3727745390390269,
          0.35820383557153856,
          0.36588199353246686,
          0.3566861306266286,
          0.37169698752444136,
          0.37637498087061927,
          0.3842476018332689,
          0.3784142342943814,
          0.3868558238989124,
          0.37650663327103384,
          0.38435262811271836,
          0.38769126023173733,
          0.39557189938466947,
          0.3781582199628941,
          0.37132593715059425,
          0.35051291734812645,
          0.3346420266075006,
          0.3434593536836403,
          0.3501625247099022,
          0.33479897493999555,
          0.3454890265837611,
          0.344305431297985,
          0.34953012600175903,
          0.3692088447333455,
          0.36714718209356334,
          0.3582575277041872,
          0.36344152671768193,
          0.3590337498114899,
          0.3721194207112464,
          0.3861359224344357,
          0.37354470971539255,
          0.3727290497190395,
          0.3666434171465215,
          0.3762069956258573,
          0.3809546041564928,
          0.37476723121766053,
          0.3709463043455961,
          0.37312655476173784,
          0.36401413139763117,
          0.36477944989766764,
          0.36274078750186245,
          0.35386769343830526,
          0.3540477416077827,
          0.35235907320999293,
          0.3642049319044234,
          0.35876210703981243,
          0.36380901379329195,
          0.3740334024998235,
          0.3683146130077421,
          0.3685021652216101,
          0.3639973076778015,
          0.3515499408000159,
          0.3578228888373558,
          0.3486114434619388,
          0.33741665238186463,
          0.3434247896322379,
          0.35227780391216246,
          0.35565295725578977,
          0.3542739890018215,
          0.3585176353519138,
          0.3705165891595828,
          0.3850323879356647,
          0.3965448565012286,
          0.3907669577473124,
          0.39076814678768057,
          0.38665333295274307,
          0.3919341097504372,
          0.38023385144633554,
          0.3601549356335754,
          0.34705755227073676,
          0.34624313900543063,
          0.3383765816806295,
          0.34948850951268096,
          0.34463946376330296,
          0.3483450919730623,
          0.3571891678902683,
          0.3634494755771242,
          0.3560049954991214,
          0.35324080481149744,
          0.3493680547889437,
          0.3472966185625402,
          0.3476762020620733,
          0.337815994217843,
          0.3519994597892164,
          0.35188926033877876,
          0.3647468902655858,
          0.37013558851140044,
          0.3550461673311749,
          0.36061843702038704,
          0.3649871530314668,
          0.3597002252852999,
          0.36412249044448386,
          0.3666472920317854,
          0.3691732156765711,
          0.38920465972009843,
          0.3849217319996708,
          0.3889483105686069,
          0.38416757650215855,
          0.39125697832840245,
          0.3777180172894414,
          0.3666128938581434,
          0.3614428089680418,
          0.3646004268131597,
          0.3457285109012593,
          0.3392879794607278,
          0.34252893784874505,
          0.3487811669705893,
          0.36602181028755354
         ],
         "yaxis": "y2"
        },
        {
         "marker": {
          "color": "#EF553B"
         },
         "mode": "lines+markers",
         "name": "CNN",
         "showlegend": false,
         "type": "scatter",
         "x": [
          "2019-06-13T00:00:00",
          "2019-06-17T00:00:00",
          "2019-06-20T00:00:00",
          "2019-06-24T00:00:00",
          "2019-06-27T00:00:00",
          "2019-06-30T00:00:00",
          "2019-07-02T00:00:00",
          "2019-07-04T00:00:00",
          "2019-07-08T00:00:00",
          "2019-07-15T00:00:00",
          "2019-07-22T00:00:00",
          "2019-07-29T00:00:00",
          "2019-07-31T00:00:00",
          "2019-08-01T00:00:00",
          "2019-08-04T00:00:00",
          "2019-08-08T00:00:00",
          "2019-08-11T00:00:00",
          "2019-08-12T00:00:00",
          "2019-08-13T00:00:00",
          "2019-08-15T00:00:00",
          "2019-08-16T00:00:00",
          "2019-08-19T00:00:00",
          "2019-08-20T00:00:00",
          "2019-08-26T00:00:00",
          "2019-08-28T00:00:00",
          "2019-09-05T00:00:00",
          "2019-09-08T00:00:00",
          "2019-09-09T00:00:00",
          "2019-09-10T00:00:00",
          "2019-09-12T00:00:00",
          "2019-09-18T00:00:00",
          "2019-09-20T00:00:00",
          "2019-09-30T00:00:00",
          "2019-10-02T00:00:00",
          "2019-10-09T00:00:00",
          "2019-10-10T00:00:00",
          "2019-10-11T00:00:00",
          "2019-10-12T00:00:00",
          "2019-10-15T00:00:00",
          "2019-10-16T00:00:00",
          "2019-10-21T00:00:00",
          "2019-10-23T00:00:00",
          "2019-10-25T00:00:00",
          "2019-10-29T00:00:00",
          "2019-11-01T00:00:00",
          "2019-11-02T00:00:00",
          "2019-11-08T00:00:00",
          "2019-11-14T00:00:00",
          "2019-11-20T00:00:00",
          "2019-11-21T00:00:00",
          "2019-11-29T00:00:00",
          "2019-11-30T00:00:00",
          "2019-12-02T00:00:00",
          "2019-12-11T00:00:00",
          "2019-12-17T00:00:00",
          "2019-12-20T00:00:00",
          "2019-12-27T00:00:00",
          "2020-01-02T00:00:00",
          "2020-01-10T00:00:00",
          "2020-01-12T00:00:00",
          "2020-03-06T00:00:00",
          "2020-03-11T00:00:00"
         ],
         "xaxis": "x2",
         "y": [
          null,
          null,
          null,
          null,
          null,
          null,
          0.39427755016528615,
          0.3718131805790679,
          0.37061622039437825,
          0.3634609439768067,
          0.38132838047747014,
          0.39332587899241434,
          0.37221076177154355,
          0.3592394135100167,
          0.37733933277065024,
          0.39696981493216693,
          0.3970835582614073,
          0.39881467744482585,
          0.4011472236897124,
          0.4045206383924306,
          0.41023129839528094,
          0.41747566164804134,
          0.3913497335357496,
          0.3861920901391899,
          0.37464021939089065,
          0.3818490980070658,
          0.3701305789033426,
          0.35000507531154146,
          0.336085294222649,
          0.35064714831372384,
          0.3403382130124416,
          0.33119138761561623,
          0.33636548815885553,
          0.3532877722239967,
          0.3754384315263802,
          0.3684544869738952,
          0.377758016777425,
          0.3845639907446719,
          0.4023749360183037,
          0.38947218234274095,
          0.36773814415498046,
          0.3689220064746315,
          0.3743875124551064,
          0.3545044544700075,
          0.35896551734656007,
          0.3725999785183346,
          0.35664091620650534,
          0.37728030349442016,
          0.35671297644707156,
          0.3590875430180667,
          0.3762643529771273,
          0.3485067454425575,
          0.31898884105858166,
          0.34282447990845205,
          0.32613615650746636,
          0.33522359539455676,
          0.3478090711432978,
          0.3089931151828464,
          0.33097601774078406,
          0.33458276978503615,
          0.3280992820810114,
          0.336028593415935
         ],
         "yaxis": "y2"
        },
        {
         "marker": {
          "color": "#00CC96"
         },
         "mode": "lines+markers",
         "name": "CCTV",
         "showlegend": false,
         "type": "scatter",
         "x": [
          "2019-06-16T00:00:00",
          "2019-07-01T00:00:00",
          "2019-07-02T00:00:00",
          "2019-07-03T00:00:00",
          "2019-07-04T00:00:00",
          "2019-07-05T00:00:00",
          "2019-07-08T00:00:00",
          "2019-07-11T00:00:00",
          "2019-07-19T00:00:00",
          "2019-07-21T00:00:00",
          "2019-07-22T00:00:00",
          "2019-07-23T00:00:00",
          "2019-07-24T00:00:00",
          "2019-07-27T00:00:00",
          "2019-07-29T00:00:00",
          "2019-07-30T00:00:00",
          "2019-07-31T00:00:00",
          "2019-08-01T00:00:00",
          "2019-08-03T00:00:00",
          "2019-08-04T00:00:00",
          "2019-08-05T00:00:00",
          "2019-08-06T00:00:00",
          "2019-08-07T00:00:00",
          "2019-08-08T00:00:00",
          "2019-08-09T00:00:00",
          "2019-08-10T00:00:00",
          "2019-08-11T00:00:00",
          "2019-08-13T00:00:00",
          "2019-08-14T00:00:00",
          "2019-08-15T00:00:00",
          "2019-08-16T00:00:00",
          "2019-08-17T00:00:00",
          "2019-08-18T00:00:00",
          "2019-08-19T00:00:00",
          "2019-08-20T00:00:00",
          "2019-08-21T00:00:00",
          "2019-08-22T00:00:00",
          "2019-08-23T00:00:00",
          "2019-08-24T00:00:00",
          "2019-08-25T00:00:00",
          "2019-08-26T00:00:00",
          "2019-08-27T00:00:00",
          "2019-08-28T00:00:00",
          "2019-08-30T00:00:00",
          "2019-09-01T00:00:00",
          "2019-09-02T00:00:00",
          "2019-09-03T00:00:00",
          "2019-09-04T00:00:00",
          "2019-09-05T00:00:00",
          "2019-09-10T00:00:00",
          "2019-09-11T00:00:00",
          "2019-09-12T00:00:00",
          "2019-09-15T00:00:00",
          "2019-09-17T00:00:00",
          "2019-09-20T00:00:00",
          "2019-09-21T00:00:00",
          "2019-09-26T00:00:00",
          "2019-09-27T00:00:00",
          "2019-09-28T00:00:00",
          "2019-09-29T00:00:00",
          "2019-10-04T00:00:00",
          "2019-10-06T00:00:00",
          "2019-10-07T00:00:00",
          "2019-10-08T00:00:00",
          "2019-10-10T00:00:00",
          "2019-10-16T00:00:00",
          "2019-10-17T00:00:00",
          "2019-10-21T00:00:00",
          "2019-10-22T00:00:00",
          "2019-10-23T00:00:00",
          "2019-10-24T00:00:00",
          "2019-10-26T00:00:00",
          "2019-10-27T00:00:00",
          "2019-10-28T00:00:00",
          "2019-11-05T00:00:00",
          "2019-11-08T00:00:00",
          "2019-11-11T00:00:00",
          "2019-11-12T00:00:00",
          "2019-11-13T00:00:00",
          "2019-11-14T00:00:00",
          "2019-11-15T00:00:00",
          "2019-11-16T00:00:00",
          "2019-11-18T00:00:00",
          "2019-11-19T00:00:00",
          "2019-11-20T00:00:00",
          "2019-11-21T00:00:00",
          "2019-11-22T00:00:00",
          "2019-11-26T00:00:00",
          "2019-11-27T00:00:00",
          "2019-11-28T00:00:00",
          "2019-11-29T00:00:00",
          "2019-12-01T00:00:00",
          "2019-12-02T00:00:00",
          "2019-12-03T00:00:00",
          "2019-12-04T00:00:00",
          "2019-12-05T00:00:00",
          "2019-12-06T00:00:00",
          "2019-12-08T00:00:00",
          "2019-12-13T00:00:00",
          "2019-12-16T00:00:00",
          "2019-12-17T00:00:00",
          "2019-12-19T00:00:00",
          "2019-12-20T00:00:00",
          "2019-12-22T00:00:00",
          "2019-12-24T00:00:00",
          "2019-12-26T00:00:00",
          "2019-12-27T00:00:00",
          "2019-12-31T00:00:00",
          "2020-01-01T00:00:00",
          "2020-01-02T00:00:00",
          "2020-01-03T00:00:00",
          "2020-01-06T00:00:00",
          "2020-01-10T00:00:00",
          "2020-01-14T00:00:00",
          "2020-02-20T00:00:00",
          "2020-03-01T00:00:00"
         ],
         "xaxis": "x2",
         "y": [
          null,
          null,
          null,
          null,
          null,
          null,
          0.4085384292356263,
          0.38073490194603626,
          0.3568538840493109,
          0.36546119941634164,
          0.369243805722944,
          0.424155153639218,
          0.4291789631630275,
          0.43346022991215144,
          0.46593112211518656,
          0.4804519990085124,
          0.4543922291154516,
          0.4232660008463662,
          0.3824774420656364,
          0.36740807380449797,
          0.3774916953563735,
          0.38180425092571374,
          0.38305667300697677,
          0.40357508353923377,
          0.4199086604404127,
          0.41587090605155735,
          0.4244343219317434,
          0.41546702028445315,
          0.39676234238938074,
          0.396515757718129,
          0.3977547506129765,
          0.4086845702985024,
          0.4148661751166315,
          0.4122482756674483,
          0.4217849736218914,
          0.4025960857923653,
          0.4036959138808766,
          0.40426312073865744,
          0.41678997358505915,
          0.43461229360664977,
          0.4452410756917156,
          0.4407184515778769,
          0.46194262944679165,
          0.45176899570172935,
          0.44628848910515134,
          0.4186384077355176,
          0.3951005954608319,
          0.4027469084192364,
          0.4089170864427036,
          0.4088861672149394,
          0.40615302860622476,
          0.4253884311005559,
          0.4312517674691589,
          0.4256586400067602,
          0.40459583216757505,
          0.39048066031646095,
          0.3917376619115535,
          0.4024346665198485,
          0.3609073889421507,
          0.35755768401437266,
          0.386115257680642,
          0.4117659253551192,
          0.43207036993997067,
          0.4230523103351764,
          0.41777755598899347,
          0.4439061695965987,
          0.44576122508609856,
          0.41960176321235093,
          0.42938032404745946,
          0.40825828087845883,
          0.42697899138488365,
          0.4202941344011545,
          0.391912247325071,
          0.3680616071323452,
          0.36961809072964513,
          0.3698847139873398,
          0.37614222186854107,
          0.39849293993354484,
          0.4087284161664914,
          0.42746684250937333,
          0.45115783405750776,
          0.47138113116855995,
          0.4509427708276022,
          0.46874807579983263,
          0.4362349470634896,
          0.4121796456945107,
          0.42789229035403903,
          0.42561497059081704,
          0.39569920663127434,
          0.36995652112732064,
          0.3356148447883617,
          0.3365243035628258,
          0.3360734840374849,
          0.3069603462933947,
          0.3074677944716191,
          0.33056939640271404,
          0.3493851234865532,
          0.35029110936575336,
          0.3473493247821778,
          0.3731710153730146,
          0.3893201567959656,
          0.39200072978273603,
          0.3702792161772939,
          0.3712946943028113,
          0.3834164763489631,
          0.38217476567868097,
          0.3599131771589756,
          0.36702165009924576,
          0.36957669334860294,
          0.3851386694016505,
          0.3751098093727904,
          0.39055471460761165,
          0.38385579448012014,
          0.39791041016306516,
          0.37856121101778306,
          0.35570062509681183
         ],
         "yaxis": "y2"
        },
        {
         "marker": {
          "color": "#AB63FA"
         },
         "mode": "lines+markers",
         "name": "ABC",
         "showlegend": false,
         "type": "scatter",
         "x": [
          "2019-06-10T00:00:00",
          "2019-06-12T00:00:00",
          "2019-06-13T00:00:00",
          "2019-06-17T00:00:00",
          "2019-06-19T00:00:00",
          "2019-06-23T00:00:00",
          "2019-07-01T00:00:00",
          "2019-07-02T00:00:00",
          "2019-07-04T00:00:00",
          "2019-07-06T00:00:00",
          "2019-07-09T00:00:00",
          "2019-07-15T00:00:00",
          "2019-07-25T00:00:00",
          "2019-07-27T00:00:00",
          "2019-08-01T00:00:00",
          "2019-08-03T00:00:00",
          "2019-08-05T00:00:00",
          "2019-08-07T00:00:00",
          "2019-08-08T00:00:00",
          "2019-08-10T00:00:00",
          "2019-08-11T00:00:00",
          "2019-08-12T00:00:00",
          "2019-08-13T00:00:00",
          "2019-08-14T00:00:00",
          "2019-08-16T00:00:00",
          "2019-08-17T00:00:00",
          "2019-08-20T00:00:00",
          "2019-08-23T00:00:00",
          "2019-08-24T00:00:00",
          "2019-08-25T00:00:00",
          "2019-08-26T00:00:00",
          "2019-08-29T00:00:00",
          "2019-09-01T00:00:00",
          "2019-09-02T00:00:00",
          "2019-09-03T00:00:00",
          "2019-09-05T00:00:00",
          "2019-09-06T00:00:00",
          "2019-09-09T00:00:00",
          "2019-09-16T00:00:00",
          "2019-09-17T00:00:00",
          "2019-09-30T00:00:00",
          "2019-10-01T00:00:00",
          "2019-10-02T00:00:00",
          "2019-10-04T00:00:00",
          "2019-10-05T00:00:00",
          "2019-10-08T00:00:00",
          "2019-10-11T00:00:00",
          "2019-10-14T00:00:00",
          "2019-10-15T00:00:00",
          "2019-10-16T00:00:00",
          "2019-10-21T00:00:00",
          "2019-10-23T00:00:00",
          "2019-10-24T00:00:00",
          "2019-10-29T00:00:00",
          "2019-11-02T00:00:00",
          "2019-11-05T00:00:00",
          "2019-11-09T00:00:00",
          "2019-11-11T00:00:00",
          "2019-11-12T00:00:00",
          "2019-11-13T00:00:00",
          "2019-12-02T00:00:00",
          "2019-12-07T00:00:00",
          "2019-12-09T00:00:00",
          "2019-12-12T00:00:00",
          "2020-02-27T00:00:00",
          "2020-02-29T00:00:00",
          "2020-03-06T00:00:00"
         ],
         "xaxis": "x2",
         "y": [
          null,
          null,
          null,
          null,
          null,
          null,
          0.24417509217094638,
          0.27045662817782573,
          0.32206841574999745,
          0.3560457423373368,
          0.38840405288643687,
          0.3899040234746109,
          0.37902939277099773,
          0.3879946345760908,
          0.33684090147791323,
          0.3279838616381678,
          0.3256656522476295,
          0.31842900001097724,
          0.2584201816688256,
          0.2716729757946984,
          0.268141704962871,
          0.30142782593806755,
          0.31004919226985755,
          0.30352230393876756,
          0.2921519437886188,
          0.3418474033677993,
          0.32896481357127294,
          0.320363015709271,
          0.2870768947340744,
          0.25633570130477873,
          0.24262523114844936,
          0.24832464716336827,
          0.2736758729249908,
          0.2838057255997325,
          0.2684023818939362,
          0.33760903344344495,
          0.3455455413799529,
          0.32168333579932085,
          0.29989185242495336,
          0.28051723541817886,
          0.22277623017122122,
          0.225352800310448,
          0.21328900590379643,
          0.24423571792193702,
          0.30009517344657116,
          0.3405990662935522,
          0.34148126240852505,
          0.34148126240852505,
          0.3152907862180489,
          0.3066284991191041,
          0.3041004693886934,
          0.2892793178220061,
          0.2715932700139529,
          0.2780552120475447,
          0.3410566247338313,
          0.38492992405355914,
          0.3900657062109047,
          0.3674759298657171,
          0.3760546893998337,
          0.36014737766189253,
          0.3568465649125504,
          0.3531951144333688,
          0.36088419088783935,
          0.352862291072603,
          0.3619804750771506,
          0.3631044085488444,
          0.3731491908217717
         ],
         "yaxis": "y2"
        }
       ],
       "layout": {
        "annotations": [
         {
          "font": {
           "size": 16
          },
          "showarrow": false,
          "text": "Polarity",
          "x": 0.225,
          "xanchor": "center",
          "xref": "paper",
          "y": 1,
          "yanchor": "bottom",
          "yref": "paper"
         },
         {
          "font": {
           "size": 16
          },
          "showarrow": false,
          "text": "Sentiment",
          "x": 0.775,
          "xanchor": "center",
          "xref": "paper",
          "y": 1,
          "yanchor": "bottom",
          "yref": "paper"
         }
        ],
        "template": {
         "data": {
          "bar": [
           {
            "error_x": {
             "color": "#2a3f5f"
            },
            "error_y": {
             "color": "#2a3f5f"
            },
            "marker": {
             "line": {
              "color": "#E5ECF6",
              "width": 0.5
             }
            },
            "type": "bar"
           }
          ],
          "barpolar": [
           {
            "marker": {
             "line": {
              "color": "#E5ECF6",
              "width": 0.5
             }
            },
            "type": "barpolar"
           }
          ],
          "carpet": [
           {
            "aaxis": {
             "endlinecolor": "#2a3f5f",
             "gridcolor": "white",
             "linecolor": "white",
             "minorgridcolor": "white",
             "startlinecolor": "#2a3f5f"
            },
            "baxis": {
             "endlinecolor": "#2a3f5f",
             "gridcolor": "white",
             "linecolor": "white",
             "minorgridcolor": "white",
             "startlinecolor": "#2a3f5f"
            },
            "type": "carpet"
           }
          ],
          "choropleth": [
           {
            "colorbar": {
             "outlinewidth": 0,
             "ticks": ""
            },
            "type": "choropleth"
           }
          ],
          "contour": [
           {
            "colorbar": {
             "outlinewidth": 0,
             "ticks": ""
            },
            "colorscale": [
             [
              0,
              "#0d0887"
             ],
             [
              0.1111111111111111,
              "#46039f"
             ],
             [
              0.2222222222222222,
              "#7201a8"
             ],
             [
              0.3333333333333333,
              "#9c179e"
             ],
             [
              0.4444444444444444,
              "#bd3786"
             ],
             [
              0.5555555555555556,
              "#d8576b"
             ],
             [
              0.6666666666666666,
              "#ed7953"
             ],
             [
              0.7777777777777778,
              "#fb9f3a"
             ],
             [
              0.8888888888888888,
              "#fdca26"
             ],
             [
              1,
              "#f0f921"
             ]
            ],
            "type": "contour"
           }
          ],
          "contourcarpet": [
           {
            "colorbar": {
             "outlinewidth": 0,
             "ticks": ""
            },
            "type": "contourcarpet"
           }
          ],
          "heatmap": [
           {
            "colorbar": {
             "outlinewidth": 0,
             "ticks": ""
            },
            "colorscale": [
             [
              0,
              "#0d0887"
             ],
             [
              0.1111111111111111,
              "#46039f"
             ],
             [
              0.2222222222222222,
              "#7201a8"
             ],
             [
              0.3333333333333333,
              "#9c179e"
             ],
             [
              0.4444444444444444,
              "#bd3786"
             ],
             [
              0.5555555555555556,
              "#d8576b"
             ],
             [
              0.6666666666666666,
              "#ed7953"
             ],
             [
              0.7777777777777778,
              "#fb9f3a"
             ],
             [
              0.8888888888888888,
              "#fdca26"
             ],
             [
              1,
              "#f0f921"
             ]
            ],
            "type": "heatmap"
           }
          ],
          "heatmapgl": [
           {
            "colorbar": {
             "outlinewidth": 0,
             "ticks": ""
            },
            "colorscale": [
             [
              0,
              "#0d0887"
             ],
             [
              0.1111111111111111,
              "#46039f"
             ],
             [
              0.2222222222222222,
              "#7201a8"
             ],
             [
              0.3333333333333333,
              "#9c179e"
             ],
             [
              0.4444444444444444,
              "#bd3786"
             ],
             [
              0.5555555555555556,
              "#d8576b"
             ],
             [
              0.6666666666666666,
              "#ed7953"
             ],
             [
              0.7777777777777778,
              "#fb9f3a"
             ],
             [
              0.8888888888888888,
              "#fdca26"
             ],
             [
              1,
              "#f0f921"
             ]
            ],
            "type": "heatmapgl"
           }
          ],
          "histogram": [
           {
            "marker": {
             "colorbar": {
              "outlinewidth": 0,
              "ticks": ""
             }
            },
            "type": "histogram"
           }
          ],
          "histogram2d": [
           {
            "colorbar": {
             "outlinewidth": 0,
             "ticks": ""
            },
            "colorscale": [
             [
              0,
              "#0d0887"
             ],
             [
              0.1111111111111111,
              "#46039f"
             ],
             [
              0.2222222222222222,
              "#7201a8"
             ],
             [
              0.3333333333333333,
              "#9c179e"
             ],
             [
              0.4444444444444444,
              "#bd3786"
             ],
             [
              0.5555555555555556,
              "#d8576b"
             ],
             [
              0.6666666666666666,
              "#ed7953"
             ],
             [
              0.7777777777777778,
              "#fb9f3a"
             ],
             [
              0.8888888888888888,
              "#fdca26"
             ],
             [
              1,
              "#f0f921"
             ]
            ],
            "type": "histogram2d"
           }
          ],
          "histogram2dcontour": [
           {
            "colorbar": {
             "outlinewidth": 0,
             "ticks": ""
            },
            "colorscale": [
             [
              0,
              "#0d0887"
             ],
             [
              0.1111111111111111,
              "#46039f"
             ],
             [
              0.2222222222222222,
              "#7201a8"
             ],
             [
              0.3333333333333333,
              "#9c179e"
             ],
             [
              0.4444444444444444,
              "#bd3786"
             ],
             [
              0.5555555555555556,
              "#d8576b"
             ],
             [
              0.6666666666666666,
              "#ed7953"
             ],
             [
              0.7777777777777778,
              "#fb9f3a"
             ],
             [
              0.8888888888888888,
              "#fdca26"
             ],
             [
              1,
              "#f0f921"
             ]
            ],
            "type": "histogram2dcontour"
           }
          ],
          "mesh3d": [
           {
            "colorbar": {
             "outlinewidth": 0,
             "ticks": ""
            },
            "type": "mesh3d"
           }
          ],
          "parcoords": [
           {
            "line": {
             "colorbar": {
              "outlinewidth": 0,
              "ticks": ""
             }
            },
            "type": "parcoords"
           }
          ],
          "pie": [
           {
            "automargin": true,
            "type": "pie"
           }
          ],
          "scatter": [
           {
            "marker": {
             "colorbar": {
              "outlinewidth": 0,
              "ticks": ""
             }
            },
            "type": "scatter"
           }
          ],
          "scatter3d": [
           {
            "line": {
             "colorbar": {
              "outlinewidth": 0,
              "ticks": ""
             }
            },
            "marker": {
             "colorbar": {
              "outlinewidth": 0,
              "ticks": ""
             }
            },
            "type": "scatter3d"
           }
          ],
          "scattercarpet": [
           {
            "marker": {
             "colorbar": {
              "outlinewidth": 0,
              "ticks": ""
             }
            },
            "type": "scattercarpet"
           }
          ],
          "scattergeo": [
           {
            "marker": {
             "colorbar": {
              "outlinewidth": 0,
              "ticks": ""
             }
            },
            "type": "scattergeo"
           }
          ],
          "scattergl": [
           {
            "marker": {
             "colorbar": {
              "outlinewidth": 0,
              "ticks": ""
             }
            },
            "type": "scattergl"
           }
          ],
          "scattermapbox": [
           {
            "marker": {
             "colorbar": {
              "outlinewidth": 0,
              "ticks": ""
             }
            },
            "type": "scattermapbox"
           }
          ],
          "scatterpolar": [
           {
            "marker": {
             "colorbar": {
              "outlinewidth": 0,
              "ticks": ""
             }
            },
            "type": "scatterpolar"
           }
          ],
          "scatterpolargl": [
           {
            "marker": {
             "colorbar": {
              "outlinewidth": 0,
              "ticks": ""
             }
            },
            "type": "scatterpolargl"
           }
          ],
          "scatterternary": [
           {
            "marker": {
             "colorbar": {
              "outlinewidth": 0,
              "ticks": ""
             }
            },
            "type": "scatterternary"
           }
          ],
          "surface": [
           {
            "colorbar": {
             "outlinewidth": 0,
             "ticks": ""
            },
            "colorscale": [
             [
              0,
              "#0d0887"
             ],
             [
              0.1111111111111111,
              "#46039f"
             ],
             [
              0.2222222222222222,
              "#7201a8"
             ],
             [
              0.3333333333333333,
              "#9c179e"
             ],
             [
              0.4444444444444444,
              "#bd3786"
             ],
             [
              0.5555555555555556,
              "#d8576b"
             ],
             [
              0.6666666666666666,
              "#ed7953"
             ],
             [
              0.7777777777777778,
              "#fb9f3a"
             ],
             [
              0.8888888888888888,
              "#fdca26"
             ],
             [
              1,
              "#f0f921"
             ]
            ],
            "type": "surface"
           }
          ],
          "table": [
           {
            "cells": {
             "fill": {
              "color": "#EBF0F8"
             },
             "line": {
              "color": "white"
             }
            },
            "header": {
             "fill": {
              "color": "#C8D4E3"
             },
             "line": {
              "color": "white"
             }
            },
            "type": "table"
           }
          ]
         },
         "layout": {
          "annotationdefaults": {
           "arrowcolor": "#2a3f5f",
           "arrowhead": 0,
           "arrowwidth": 1
          },
          "coloraxis": {
           "colorbar": {
            "outlinewidth": 0,
            "ticks": ""
           }
          },
          "colorscale": {
           "diverging": [
            [
             0,
             "#8e0152"
            ],
            [
             0.1,
             "#c51b7d"
            ],
            [
             0.2,
             "#de77ae"
            ],
            [
             0.3,
             "#f1b6da"
            ],
            [
             0.4,
             "#fde0ef"
            ],
            [
             0.5,
             "#f7f7f7"
            ],
            [
             0.6,
             "#e6f5d0"
            ],
            [
             0.7,
             "#b8e186"
            ],
            [
             0.8,
             "#7fbc41"
            ],
            [
             0.9,
             "#4d9221"
            ],
            [
             1,
             "#276419"
            ]
           ],
           "sequential": [
            [
             0,
             "#0d0887"
            ],
            [
             0.1111111111111111,
             "#46039f"
            ],
            [
             0.2222222222222222,
             "#7201a8"
            ],
            [
             0.3333333333333333,
             "#9c179e"
            ],
            [
             0.4444444444444444,
             "#bd3786"
            ],
            [
             0.5555555555555556,
             "#d8576b"
            ],
            [
             0.6666666666666666,
             "#ed7953"
            ],
            [
             0.7777777777777778,
             "#fb9f3a"
            ],
            [
             0.8888888888888888,
             "#fdca26"
            ],
            [
             1,
             "#f0f921"
            ]
           ],
           "sequentialminus": [
            [
             0,
             "#0d0887"
            ],
            [
             0.1111111111111111,
             "#46039f"
            ],
            [
             0.2222222222222222,
             "#7201a8"
            ],
            [
             0.3333333333333333,
             "#9c179e"
            ],
            [
             0.4444444444444444,
             "#bd3786"
            ],
            [
             0.5555555555555556,
             "#d8576b"
            ],
            [
             0.6666666666666666,
             "#ed7953"
            ],
            [
             0.7777777777777778,
             "#fb9f3a"
            ],
            [
             0.8888888888888888,
             "#fdca26"
            ],
            [
             1,
             "#f0f921"
            ]
           ]
          },
          "colorway": [
           "#636efa",
           "#EF553B",
           "#00cc96",
           "#ab63fa",
           "#FFA15A",
           "#19d3f3",
           "#FF6692",
           "#B6E880",
           "#FF97FF",
           "#FECB52"
          ],
          "font": {
           "color": "#2a3f5f"
          },
          "geo": {
           "bgcolor": "white",
           "lakecolor": "white",
           "landcolor": "#E5ECF6",
           "showlakes": true,
           "showland": true,
           "subunitcolor": "white"
          },
          "hoverlabel": {
           "align": "left"
          },
          "hovermode": "closest",
          "mapbox": {
           "style": "light"
          },
          "paper_bgcolor": "white",
          "plot_bgcolor": "#E5ECF6",
          "polar": {
           "angularaxis": {
            "gridcolor": "white",
            "linecolor": "white",
            "ticks": ""
           },
           "bgcolor": "#E5ECF6",
           "radialaxis": {
            "gridcolor": "white",
            "linecolor": "white",
            "ticks": ""
           }
          },
          "scene": {
           "xaxis": {
            "backgroundcolor": "#E5ECF6",
            "gridcolor": "white",
            "gridwidth": 2,
            "linecolor": "white",
            "showbackground": true,
            "ticks": "",
            "zerolinecolor": "white"
           },
           "yaxis": {
            "backgroundcolor": "#E5ECF6",
            "gridcolor": "white",
            "gridwidth": 2,
            "linecolor": "white",
            "showbackground": true,
            "ticks": "",
            "zerolinecolor": "white"
           },
           "zaxis": {
            "backgroundcolor": "#E5ECF6",
            "gridcolor": "white",
            "gridwidth": 2,
            "linecolor": "white",
            "showbackground": true,
            "ticks": "",
            "zerolinecolor": "white"
           }
          },
          "shapedefaults": {
           "line": {
            "color": "#2a3f5f"
           }
          },
          "ternary": {
           "aaxis": {
            "gridcolor": "white",
            "linecolor": "white",
            "ticks": ""
           },
           "baxis": {
            "gridcolor": "white",
            "linecolor": "white",
            "ticks": ""
           },
           "bgcolor": "#E5ECF6",
           "caxis": {
            "gridcolor": "white",
            "linecolor": "white",
            "ticks": ""
           }
          },
          "title": {
           "x": 0.05
          },
          "xaxis": {
           "automargin": true,
           "gridcolor": "white",
           "linecolor": "white",
           "ticks": "",
           "title": {
            "standoff": 15
           },
           "zerolinecolor": "white",
           "zerolinewidth": 2
          },
          "yaxis": {
           "automargin": true,
           "gridcolor": "white",
           "linecolor": "white",
           "ticks": "",
           "title": {
            "standoff": 15
           },
           "zerolinecolor": "white",
           "zerolinewidth": 2
          }
         }
        },
        "xaxis": {
         "anchor": "y",
         "domain": [
          0,
          0.45
         ]
        },
        "xaxis2": {
         "anchor": "y2",
         "domain": [
          0.55,
          1
         ]
        },
        "yaxis": {
         "anchor": "x",
         "domain": [
          0,
          1
         ]
        },
        "yaxis2": {
         "anchor": "x2",
         "domain": [
          0,
          1
         ]
        }
       }
      },
      "text/html": [
       "<div>\n",
       "        \n",
       "        \n",
       "            <div id=\"319e6423-818c-4416-bf83-581767813469\" class=\"plotly-graph-div\" style=\"height:525px; width:100%;\"></div>\n",
       "            <script type=\"text/javascript\">\n",
       "                require([\"plotly\"], function(Plotly) {\n",
       "                    window.PLOTLYENV=window.PLOTLYENV || {};\n",
       "                    \n",
       "                if (document.getElementById(\"319e6423-818c-4416-bf83-581767813469\")) {\n",
       "                    Plotly.newPlot(\n",
       "                        '319e6423-818c-4416-bf83-581767813469',\n",
       "                        [{\"marker\": {\"color\": \"#636EFA\"}, \"mode\": \"lines+markers\", \"name\": \"Reuters\", \"showlegend\": true, \"type\": \"scatter\", \"x\": [\"2019-06-08T00:00:00\", \"2019-06-09T00:00:00\", \"2019-06-11T00:00:00\", \"2019-06-12T00:00:00\", \"2019-06-13T00:00:00\", \"2019-06-14T00:00:00\", \"2019-06-17T00:00:00\", \"2019-06-18T00:00:00\", \"2019-06-19T00:00:00\", \"2019-06-21T00:00:00\", \"2019-06-22T00:00:00\", \"2019-06-25T00:00:00\", \"2019-06-26T00:00:00\", \"2019-07-01T00:00:00\", \"2019-07-02T00:00:00\", \"2019-07-03T00:00:00\", \"2019-07-04T00:00:00\", \"2019-07-07T00:00:00\", \"2019-07-10T00:00:00\", \"2019-07-11T00:00:00\", \"2019-07-13T00:00:00\", \"2019-07-14T00:00:00\", \"2019-07-18T00:00:00\", \"2019-07-22T00:00:00\", \"2019-07-23T00:00:00\", \"2019-07-27T00:00:00\", \"2019-07-28T00:00:00\", \"2019-07-29T00:00:00\", \"2019-07-30T00:00:00\", \"2019-08-01T00:00:00\", \"2019-08-02T00:00:00\", \"2019-08-05T00:00:00\", \"2019-08-06T00:00:00\", \"2019-08-07T00:00:00\", \"2019-08-08T00:00:00\", \"2019-08-09T00:00:00\", \"2019-08-10T00:00:00\", \"2019-08-11T00:00:00\", \"2019-08-12T00:00:00\", \"2019-08-13T00:00:00\", \"2019-08-14T00:00:00\", \"2019-08-15T00:00:00\", \"2019-08-16T00:00:00\", \"2019-08-17T00:00:00\", \"2019-08-18T00:00:00\", \"2019-08-19T00:00:00\", \"2019-08-20T00:00:00\", \"2019-08-21T00:00:00\", \"2019-08-22T00:00:00\", \"2019-08-23T00:00:00\", \"2019-08-24T00:00:00\", \"2019-08-25T00:00:00\", \"2019-08-26T00:00:00\", \"2019-08-27T00:00:00\", \"2019-08-28T00:00:00\", \"2019-08-29T00:00:00\", \"2019-08-30T00:00:00\", \"2019-09-01T00:00:00\", \"2019-09-02T00:00:00\", \"2019-09-03T00:00:00\", \"2019-09-04T00:00:00\", \"2019-09-05T00:00:00\", \"2019-09-07T00:00:00\", \"2019-09-08T00:00:00\", \"2019-09-09T00:00:00\", \"2019-09-10T00:00:00\", \"2019-09-11T00:00:00\", \"2019-09-12T00:00:00\", \"2019-09-13T00:00:00\", \"2019-09-15T00:00:00\", \"2019-09-18T00:00:00\", \"2019-09-21T00:00:00\", \"2019-09-22T00:00:00\", \"2019-09-24T00:00:00\", \"2019-09-25T00:00:00\", \"2019-09-26T00:00:00\", \"2019-09-27T00:00:00\", \"2019-09-28T00:00:00\", \"2019-09-29T00:00:00\", \"2019-09-30T00:00:00\", \"2019-10-01T00:00:00\", \"2019-10-02T00:00:00\", \"2019-10-03T00:00:00\", \"2019-10-04T00:00:00\", \"2019-10-05T00:00:00\", \"2019-10-06T00:00:00\", \"2019-10-07T00:00:00\", \"2019-10-08T00:00:00\", \"2019-10-09T00:00:00\", \"2019-10-10T00:00:00\", \"2019-10-11T00:00:00\", \"2019-10-12T00:00:00\", \"2019-10-13T00:00:00\", \"2019-10-14T00:00:00\", \"2019-10-15T00:00:00\", \"2019-10-16T00:00:00\", \"2019-10-18T00:00:00\", \"2019-10-19T00:00:00\", \"2019-10-20T00:00:00\", \"2019-10-21T00:00:00\", \"2019-10-22T00:00:00\", \"2019-10-23T00:00:00\", \"2019-10-24T00:00:00\", \"2019-10-25T00:00:00\", \"2019-10-27T00:00:00\", \"2019-10-28T00:00:00\", \"2019-10-29T00:00:00\", \"2019-10-30T00:00:00\", \"2019-10-31T00:00:00\", \"2019-11-01T00:00:00\", \"2019-11-02T00:00:00\", \"2019-11-04T00:00:00\", \"2019-11-05T00:00:00\", \"2019-11-06T00:00:00\", \"2019-11-07T00:00:00\", \"2019-11-08T00:00:00\", \"2019-11-09T00:00:00\", \"2019-11-10T00:00:00\", \"2019-11-11T00:00:00\", \"2019-11-13T00:00:00\", \"2019-11-14T00:00:00\", \"2019-11-15T00:00:00\", \"2019-11-16T00:00:00\", \"2019-11-17T00:00:00\", \"2019-11-18T00:00:00\", \"2019-11-19T00:00:00\", \"2019-11-20T00:00:00\", \"2019-11-21T00:00:00\", \"2019-11-22T00:00:00\", \"2019-11-23T00:00:00\", \"2019-11-25T00:00:00\", \"2019-11-26T00:00:00\", \"2019-11-27T00:00:00\", \"2019-11-28T00:00:00\", \"2019-11-29T00:00:00\", \"2019-12-02T00:00:00\", \"2019-12-03T00:00:00\", \"2019-12-04T00:00:00\", \"2019-12-05T00:00:00\", \"2019-12-06T00:00:00\", \"2019-12-09T00:00:00\", \"2019-12-10T00:00:00\", \"2019-12-12T00:00:00\", \"2019-12-13T00:00:00\", \"2019-12-19T00:00:00\", \"2019-12-20T00:00:00\", \"2019-12-21T00:00:00\", \"2019-12-22T00:00:00\", \"2019-12-23T00:00:00\", \"2019-12-31T00:00:00\", \"2020-01-02T00:00:00\", \"2020-01-04T00:00:00\", \"2020-01-05T00:00:00\", \"2020-01-07T00:00:00\", \"2020-01-08T00:00:00\", \"2020-01-10T00:00:00\", \"2020-01-12T00:00:00\", \"2020-01-16T00:00:00\", \"2020-01-20T00:00:00\", \"2020-01-21T00:00:00\", \"2020-01-23T00:00:00\", \"2020-01-24T00:00:00\", \"2020-01-29T00:00:00\", \"2020-02-15T00:00:00\", \"2020-02-16T00:00:00\", \"2020-02-17T00:00:00\", \"2020-02-18T00:00:00\", \"2020-02-21T00:00:00\", \"2020-02-28T00:00:00\", \"2020-02-29T00:00:00\", \"2020-03-03T00:00:00\", \"2020-03-08T00:00:00\", \"2020-03-18T00:00:00\", \"2020-03-27T00:00:00\"], \"xaxis\": \"x\", \"y\": [null, null, null, null, null, null, 0.04659288707625392, 0.046670977734488125, 0.047280691150323996, 0.06135416084409444, 0.07094417647237197, 0.06606781631539957, 0.0640465578119982, 0.06624807983494879, 0.06695986671245518, 0.0719168780207836, 0.060065296018825654, 0.049165732251331994, 0.06600540687161885, 0.07024561611321023, 0.06407292171405479, 0.06756004846411177, 0.0653885125373447, 0.06624636604557414, 0.06776900844153728, 0.04806585445266901, 0.05378737990495519, 0.056243676749891065, 0.058718876288970545, 0.056314469731974834, 0.055804961717828595, 0.052009529127531484, 0.05001404709633517, 0.03772510348858904, 0.041225932359194806, 0.034518181424136055, 0.030419203524518497, 0.03450409118547295, 0.038690900004382085, 0.048138700861329944, 0.05370241434766016, 0.055077959919161326, 0.059202234304755595, 0.06248248579929281, 0.05755737290846485, 0.0588875252539451, 0.05765155487781507, 0.061325959549333266, 0.05520489866714772, 0.05352967613207065, 0.05196698013168468, 0.04725327284797819, 0.045102285157217765, 0.04490008685431999, 0.04020967382161427, 0.06079992362364967, 0.06121391289399847, 0.06043991285233125, 0.06379379302074661, 0.0642344579646583, 0.06531523669857774, 0.06553540151111761, 0.058622827812829625, 0.05790845463076012, 0.06129044470782114, 0.06773283153105092, 0.0686254133125005, 0.06171733228335736, 0.06861200879873064, 0.05152750996546333, 0.05443463395989453, 0.052703958666845345, 0.04459739231524927, 0.04333218005147534, 0.047036454305383134, 0.036084289022848375, 0.0417069026799448, 0.035940991114290846, 0.03558959531530593, 0.035739913511074015, 0.034419533211101874, 0.03836892531931434, 0.04359072282834588, 0.04265521239979279, 0.047562423958215035, 0.04264969472634294, 0.049392943967923666, 0.05038436197622288, 0.044980829588025295, 0.04140245568468781, 0.048956846829892486, 0.0505650244467688, 0.05694050341930669, 0.06048902661060484, 0.061609083464200645, 0.06626065286944571, 0.06671532288961023, 0.05437444195095843, 0.0492198477296298, 0.05666029434098101, 0.0532267472632959, 0.058891427981895915, 0.055792759117562915, 0.058979832767012685, 0.06402115894343839, 0.06891398339637768, 0.06349863155245442, 0.0662667479504749, 0.055915900457881904, 0.05969325995249101, 0.05490255585296853, 0.05690202523774655, 0.05564268141037917, 0.0708923887136579, 0.06567035919038614, 0.07193163105692116, 0.06598282802369257, 0.07234154849725294, 0.06913696639158814, 0.068617676421305, 0.047594921050639415, 0.04212136021993573, 0.05446202152737445, 0.05599155372886688, 0.048851853151666305, 0.04723841205047867, 0.04813497568987595, 0.04787951522875428, 0.05253141007905354, 0.038915425026797026, 0.04460968326303288, 0.04444809285590675, 0.051216337421143794, 0.05389616400787124, 0.06039968453221684, 0.06353232104277931, 0.071213368693321, 0.0698847541008548, 0.06956293902457544, 0.06856096148937532, 0.06469529123682383, 0.06449218987004024, 0.06235668931199358, 0.05129025341428739, 0.04471092657532292, 0.049516132820804006, 0.043900130026042226, 0.04681329207776162, 0.04591983890047385, 0.050950853696182644, 0.05858180511831689, 0.05758266983017083, 0.05580866897464714, 0.060707596531984834, 0.05321510290055393, 0.0584073740311447, 0.075381803587096, 0.07265772248204971, 0.07560505292938015, 0.08067509100670799, 0.07946240263551445, 0.08216814596625778, 0.0811759224996735, 0.06641218880736835, 0.06119337879532526, 0.05942930953125599, 0.06603104826695295, 0.06804446239617037, 0.07879114048659845, 0.06864860694589558, 0.05601600681329545, 0.05730894823228729, 0.06058754081223401, 0.05428128093454556], \"yaxis\": \"y\"}, {\"marker\": {\"color\": \"#EF553B\"}, \"mode\": \"lines+markers\", \"name\": \"CNN\", \"showlegend\": true, \"type\": \"scatter\", \"x\": [\"2019-06-13T00:00:00\", \"2019-06-17T00:00:00\", \"2019-06-20T00:00:00\", \"2019-06-24T00:00:00\", \"2019-06-27T00:00:00\", \"2019-06-30T00:00:00\", \"2019-07-02T00:00:00\", \"2019-07-04T00:00:00\", \"2019-07-08T00:00:00\", \"2019-07-15T00:00:00\", \"2019-07-22T00:00:00\", \"2019-07-29T00:00:00\", \"2019-07-31T00:00:00\", \"2019-08-01T00:00:00\", \"2019-08-04T00:00:00\", \"2019-08-08T00:00:00\", \"2019-08-11T00:00:00\", \"2019-08-12T00:00:00\", \"2019-08-13T00:00:00\", \"2019-08-15T00:00:00\", \"2019-08-16T00:00:00\", \"2019-08-19T00:00:00\", \"2019-08-20T00:00:00\", \"2019-08-26T00:00:00\", \"2019-08-28T00:00:00\", \"2019-09-05T00:00:00\", \"2019-09-08T00:00:00\", \"2019-09-09T00:00:00\", \"2019-09-10T00:00:00\", \"2019-09-12T00:00:00\", \"2019-09-18T00:00:00\", \"2019-09-20T00:00:00\", \"2019-09-30T00:00:00\", \"2019-10-02T00:00:00\", \"2019-10-09T00:00:00\", \"2019-10-10T00:00:00\", \"2019-10-11T00:00:00\", \"2019-10-12T00:00:00\", \"2019-10-15T00:00:00\", \"2019-10-16T00:00:00\", \"2019-10-21T00:00:00\", \"2019-10-23T00:00:00\", \"2019-10-25T00:00:00\", \"2019-10-29T00:00:00\", \"2019-11-01T00:00:00\", \"2019-11-02T00:00:00\", \"2019-11-08T00:00:00\", \"2019-11-14T00:00:00\", \"2019-11-20T00:00:00\", \"2019-11-21T00:00:00\", \"2019-11-29T00:00:00\", \"2019-11-30T00:00:00\", \"2019-12-02T00:00:00\", \"2019-12-11T00:00:00\", \"2019-12-17T00:00:00\", \"2019-12-20T00:00:00\", \"2019-12-27T00:00:00\", \"2020-01-02T00:00:00\", \"2020-01-10T00:00:00\", \"2020-01-12T00:00:00\", \"2020-03-06T00:00:00\", \"2020-03-11T00:00:00\"], \"xaxis\": \"x\", \"y\": [null, null, null, null, null, null, 0.08082173962664378, 0.07593038030513741, 0.07204897149463793, 0.04547367520622688, 0.04391675612175605, 0.044180583618960774, 0.019402999529856628, 0.021169108751322992, 0.020193708490208444, 0.01565515902653583, 0.016033623046686034, 0.024976502781081, 0.027606096596626228, 0.03088677544721666, 0.03444996759120054, 0.04926780830713549, 0.055825674070520734, 0.06111431400201781, 0.05162060381953212, 0.0526467367097413, 0.051796694131382395, 0.05269720792431874, 0.04720169170927973, 0.044176015185226576, 0.04131178578273187, 0.044964469078272305, 0.05040027725486911, 0.04787815123274309, 0.04949296900938353, 0.0445050255030111, 0.044185761433747035, 0.04035813565811614, 0.03643083339392688, 0.0333805927348927, 0.03747351922117935, 0.03652262299746355, 0.037256140374409843, 0.04096038397661263, 0.049998560462098496, 0.05279502077911928, 0.05163059169929017, 0.05304835810356655, 0.05376846096602521, 0.046192316872023964, 0.041654602822982445, 0.03684220319550659, 0.03494815336778329, 0.028618302268008097, 0.023728623944888217, 0.02519312654361635, 0.0392652618912619, 0.03763893023544139, 0.04709405552156247, 0.045601093016695196, 0.06587031859310463, 0.06683497610112948], \"yaxis\": \"y\"}, {\"marker\": {\"color\": \"#00CC96\"}, \"mode\": \"lines+markers\", \"name\": \"CCTV\", \"showlegend\": true, \"type\": \"scatter\", \"x\": [\"2019-06-16T00:00:00\", \"2019-07-01T00:00:00\", \"2019-07-02T00:00:00\", \"2019-07-03T00:00:00\", \"2019-07-04T00:00:00\", \"2019-07-05T00:00:00\", \"2019-07-08T00:00:00\", \"2019-07-11T00:00:00\", \"2019-07-19T00:00:00\", \"2019-07-21T00:00:00\", \"2019-07-22T00:00:00\", \"2019-07-23T00:00:00\", \"2019-07-24T00:00:00\", \"2019-07-27T00:00:00\", \"2019-07-29T00:00:00\", \"2019-07-30T00:00:00\", \"2019-07-31T00:00:00\", \"2019-08-01T00:00:00\", \"2019-08-03T00:00:00\", \"2019-08-04T00:00:00\", \"2019-08-05T00:00:00\", \"2019-08-06T00:00:00\", \"2019-08-07T00:00:00\", \"2019-08-08T00:00:00\", \"2019-08-09T00:00:00\", \"2019-08-10T00:00:00\", \"2019-08-11T00:00:00\", \"2019-08-13T00:00:00\", \"2019-08-14T00:00:00\", \"2019-08-15T00:00:00\", \"2019-08-16T00:00:00\", \"2019-08-17T00:00:00\", \"2019-08-18T00:00:00\", \"2019-08-19T00:00:00\", \"2019-08-20T00:00:00\", \"2019-08-21T00:00:00\", \"2019-08-22T00:00:00\", \"2019-08-23T00:00:00\", \"2019-08-24T00:00:00\", \"2019-08-25T00:00:00\", \"2019-08-26T00:00:00\", \"2019-08-27T00:00:00\", \"2019-08-28T00:00:00\", \"2019-08-30T00:00:00\", \"2019-09-01T00:00:00\", \"2019-09-02T00:00:00\", \"2019-09-03T00:00:00\", \"2019-09-04T00:00:00\", \"2019-09-05T00:00:00\", \"2019-09-10T00:00:00\", \"2019-09-11T00:00:00\", \"2019-09-12T00:00:00\", \"2019-09-15T00:00:00\", \"2019-09-17T00:00:00\", \"2019-09-20T00:00:00\", \"2019-09-21T00:00:00\", \"2019-09-26T00:00:00\", \"2019-09-27T00:00:00\", \"2019-09-28T00:00:00\", \"2019-09-29T00:00:00\", \"2019-10-04T00:00:00\", \"2019-10-06T00:00:00\", \"2019-10-07T00:00:00\", \"2019-10-08T00:00:00\", \"2019-10-10T00:00:00\", \"2019-10-16T00:00:00\", \"2019-10-17T00:00:00\", \"2019-10-21T00:00:00\", \"2019-10-22T00:00:00\", \"2019-10-23T00:00:00\", \"2019-10-24T00:00:00\", \"2019-10-26T00:00:00\", \"2019-10-27T00:00:00\", \"2019-10-28T00:00:00\", \"2019-11-05T00:00:00\", \"2019-11-08T00:00:00\", \"2019-11-11T00:00:00\", \"2019-11-12T00:00:00\", \"2019-11-13T00:00:00\", \"2019-11-14T00:00:00\", \"2019-11-15T00:00:00\", \"2019-11-16T00:00:00\", \"2019-11-18T00:00:00\", \"2019-11-19T00:00:00\", \"2019-11-20T00:00:00\", \"2019-11-21T00:00:00\", \"2019-11-22T00:00:00\", \"2019-11-26T00:00:00\", \"2019-11-27T00:00:00\", \"2019-11-28T00:00:00\", \"2019-11-29T00:00:00\", \"2019-12-01T00:00:00\", \"2019-12-02T00:00:00\", \"2019-12-03T00:00:00\", \"2019-12-04T00:00:00\", \"2019-12-05T00:00:00\", \"2019-12-06T00:00:00\", \"2019-12-08T00:00:00\", \"2019-12-13T00:00:00\", \"2019-12-16T00:00:00\", \"2019-12-17T00:00:00\", \"2019-12-19T00:00:00\", \"2019-12-20T00:00:00\", \"2019-12-22T00:00:00\", \"2019-12-24T00:00:00\", \"2019-12-26T00:00:00\", \"2019-12-27T00:00:00\", \"2019-12-31T00:00:00\", \"2020-01-01T00:00:00\", \"2020-01-02T00:00:00\", \"2020-01-03T00:00:00\", \"2020-01-06T00:00:00\", \"2020-01-10T00:00:00\", \"2020-01-14T00:00:00\", \"2020-02-20T00:00:00\", \"2020-03-01T00:00:00\"], \"xaxis\": \"x\", \"y\": [null, null, null, null, null, null, 0.11871379763533554, 0.11044146118355659, 0.08446849053462284, 0.06285740194984105, 0.05460461624410038, 0.06826345917634233, 0.06964441155729471, 0.06560922808996839, 0.07226730959179987, 0.07410219758740215, 0.06644011613661963, 0.0642330110723717, 0.044540879517555414, 0.04911553187520467, 0.04911005858600122, 0.054944024074425564, 0.06153826927716133, 0.06618516246970005, 0.07085695019633471, 0.0852177925224026, 0.07504970904230436, 0.07960213693586037, 0.07392341053545268, 0.06992540948265828, 0.07015963178239905, 0.07845597867803433, 0.07591129738013612, 0.07813706728477225, 0.08986949120936269, 0.08050781984747955, 0.07683619605072996, 0.07620205620821452, 0.07599469256100123, 0.08718569408399923, 0.1023241263627617, 0.08728201063995907, 0.09310827710532325, 0.09711533611238228, 0.10770600040840371, 0.10041928304691912, 0.08545088815050386, 0.0803386521085001, 0.08042062140426662, 0.07613219472303037, 0.06987623680808629, 0.05950563023212258, 0.05111929049197865, 0.0591384904906908, 0.04602633766098428, 0.04290827542096155, 0.04842960722070978, 0.056995459677691276, 0.053541138555302924, 0.08336214165703694, 0.09190464297904136, 0.10035032428186552, 0.1254720150634413, 0.1360759709315028, 0.1339514490688857, 0.13601013986707228, 0.11832844296823335, 0.09745339352175532, 0.10812224723748402, 0.08969974344777817, 0.08770471210190649, 0.10137609579803956, 0.10049163889795767, 0.10073895401025537, 0.10719974424655583, 0.09047151340002142, 0.08514647606801544, 0.08379766987887312, 0.0661496862835211, 0.06444101140065238, 0.06482684250076919, 0.0551421186833923, 0.061771317406746865, 0.07201996589996058, 0.062073992779307356, 0.059995719494684865, 0.058694315418813904, 0.057563970316037716, 0.06135237554453511, 0.052480566490334925, 0.04635931441023191, 0.0421257459720635, 0.04739713817091835, 0.04127920407679377, 0.03492368412647801, 0.051388663079936225, 0.06929919256643283, 0.07029764649345817, 0.08270993569679215, 0.09801616321534778, 0.0999523465205787, 0.12279805699091403, 0.1093041253273395, 0.11441007515984324, 0.11904933086212414, 0.11660406184542657, 0.11324448040954642, 0.13394739398342773, 0.11502156232985036, 0.13644659067452156, 0.11680373353166441, 0.13204543021033585, 0.13448451493513486, 0.1350484909107331, 0.12430528033226909, 0.11442053905537555], \"yaxis\": \"y\"}, {\"marker\": {\"color\": \"#AB63FA\"}, \"mode\": \"lines+markers\", \"name\": \"ABC\", \"showlegend\": true, \"type\": \"scatter\", \"x\": [\"2019-06-10T00:00:00\", \"2019-06-12T00:00:00\", \"2019-06-13T00:00:00\", \"2019-06-17T00:00:00\", \"2019-06-19T00:00:00\", \"2019-06-23T00:00:00\", \"2019-07-01T00:00:00\", \"2019-07-02T00:00:00\", \"2019-07-04T00:00:00\", \"2019-07-06T00:00:00\", \"2019-07-09T00:00:00\", \"2019-07-15T00:00:00\", \"2019-07-25T00:00:00\", \"2019-07-27T00:00:00\", \"2019-08-01T00:00:00\", \"2019-08-03T00:00:00\", \"2019-08-05T00:00:00\", \"2019-08-07T00:00:00\", \"2019-08-08T00:00:00\", \"2019-08-10T00:00:00\", \"2019-08-11T00:00:00\", \"2019-08-12T00:00:00\", \"2019-08-13T00:00:00\", \"2019-08-14T00:00:00\", \"2019-08-16T00:00:00\", \"2019-08-17T00:00:00\", \"2019-08-20T00:00:00\", \"2019-08-23T00:00:00\", \"2019-08-24T00:00:00\", \"2019-08-25T00:00:00\", \"2019-08-26T00:00:00\", \"2019-08-29T00:00:00\", \"2019-09-01T00:00:00\", \"2019-09-02T00:00:00\", \"2019-09-03T00:00:00\", \"2019-09-05T00:00:00\", \"2019-09-06T00:00:00\", \"2019-09-09T00:00:00\", \"2019-09-16T00:00:00\", \"2019-09-17T00:00:00\", \"2019-09-30T00:00:00\", \"2019-10-01T00:00:00\", \"2019-10-02T00:00:00\", \"2019-10-04T00:00:00\", \"2019-10-05T00:00:00\", \"2019-10-08T00:00:00\", \"2019-10-11T00:00:00\", \"2019-10-14T00:00:00\", \"2019-10-15T00:00:00\", \"2019-10-16T00:00:00\", \"2019-10-21T00:00:00\", \"2019-10-23T00:00:00\", \"2019-10-24T00:00:00\", \"2019-10-29T00:00:00\", \"2019-11-02T00:00:00\", \"2019-11-05T00:00:00\", \"2019-11-09T00:00:00\", \"2019-11-11T00:00:00\", \"2019-11-12T00:00:00\", \"2019-11-13T00:00:00\", \"2019-12-02T00:00:00\", \"2019-12-07T00:00:00\", \"2019-12-09T00:00:00\", \"2019-12-12T00:00:00\", \"2020-02-27T00:00:00\", \"2020-02-29T00:00:00\", \"2020-03-06T00:00:00\"], \"xaxis\": \"x\", \"y\": [null, null, null, null, null, null, 0.03687841200052222, 0.05206235340013154, 0.05529493214591557, 0.059297012212249464, 0.06291871121082816, 0.06569131914442095, 0.06302841550061997, 0.054030935837149026, 0.03345847845913609, 0.03160380504215025, 0.03165992063413019, 0.036515620489830036, 0.029064121371664253, 0.027914343866778248, 0.05517703170460523, 0.06706239190929317, 0.07808821127129549, 0.08690476061830701, 0.07915615379184207, 0.08764175733558514, 0.08774244445090706, 0.07158719663749598, 0.059701836432808034, 0.05840922285311863, 0.05117082002827688, 0.06186161660943156, 0.06743997198258858, 0.07301629077939163, 0.06577121942807251, 0.07144308261779285, 0.0631891143638246, 0.055773889070752515, 0.04111221335129377, 0.037185723093457024, 0.025451431481189217, 0.030020581814750574, 0.02434871862503024, 0.029844750371061986, 0.06255012576616951, 0.06854590969601199, 0.08470429430648611, 0.08470429430648611, 0.09877355837575018, 0.10104900829270953, 0.09806249634786424, 0.08408149479320196, 0.08170901764499276, 0.06497758610374257, 0.0755791373302938, 0.060854789257731454, 0.0626530957730191, 0.05908149411429623, 0.04781148535321604, 0.04461403220327378, 0.0415100052389527, 0.033561515236891264, 0.03256432704604544, 0.03894709301411475, 0.04421071407319036, 0.03973177080096622, 0.03883955431285701], \"yaxis\": \"y\"}, {\"marker\": {\"color\": \"#636EFA\"}, \"mode\": \"lines+markers\", \"name\": \"Reuters\", \"showlegend\": false, \"type\": \"scatter\", \"x\": [\"2019-06-08T00:00:00\", \"2019-06-09T00:00:00\", \"2019-06-11T00:00:00\", \"2019-06-12T00:00:00\", \"2019-06-13T00:00:00\", \"2019-06-14T00:00:00\", \"2019-06-17T00:00:00\", \"2019-06-18T00:00:00\", \"2019-06-19T00:00:00\", \"2019-06-21T00:00:00\", \"2019-06-22T00:00:00\", \"2019-06-25T00:00:00\", \"2019-06-26T00:00:00\", \"2019-07-01T00:00:00\", \"2019-07-02T00:00:00\", \"2019-07-03T00:00:00\", \"2019-07-04T00:00:00\", \"2019-07-07T00:00:00\", \"2019-07-10T00:00:00\", \"2019-07-11T00:00:00\", \"2019-07-13T00:00:00\", \"2019-07-14T00:00:00\", \"2019-07-18T00:00:00\", \"2019-07-22T00:00:00\", \"2019-07-23T00:00:00\", \"2019-07-27T00:00:00\", \"2019-07-28T00:00:00\", \"2019-07-29T00:00:00\", \"2019-07-30T00:00:00\", \"2019-08-01T00:00:00\", \"2019-08-02T00:00:00\", \"2019-08-05T00:00:00\", \"2019-08-06T00:00:00\", \"2019-08-07T00:00:00\", \"2019-08-08T00:00:00\", \"2019-08-09T00:00:00\", \"2019-08-10T00:00:00\", \"2019-08-11T00:00:00\", \"2019-08-12T00:00:00\", \"2019-08-13T00:00:00\", \"2019-08-14T00:00:00\", \"2019-08-15T00:00:00\", \"2019-08-16T00:00:00\", \"2019-08-17T00:00:00\", \"2019-08-18T00:00:00\", \"2019-08-19T00:00:00\", \"2019-08-20T00:00:00\", \"2019-08-21T00:00:00\", \"2019-08-22T00:00:00\", \"2019-08-23T00:00:00\", \"2019-08-24T00:00:00\", \"2019-08-25T00:00:00\", \"2019-08-26T00:00:00\", \"2019-08-27T00:00:00\", \"2019-08-28T00:00:00\", \"2019-08-29T00:00:00\", \"2019-08-30T00:00:00\", \"2019-09-01T00:00:00\", \"2019-09-02T00:00:00\", \"2019-09-03T00:00:00\", \"2019-09-04T00:00:00\", \"2019-09-05T00:00:00\", \"2019-09-07T00:00:00\", \"2019-09-08T00:00:00\", \"2019-09-09T00:00:00\", \"2019-09-10T00:00:00\", \"2019-09-11T00:00:00\", \"2019-09-12T00:00:00\", \"2019-09-13T00:00:00\", \"2019-09-15T00:00:00\", \"2019-09-18T00:00:00\", \"2019-09-21T00:00:00\", \"2019-09-22T00:00:00\", \"2019-09-24T00:00:00\", \"2019-09-25T00:00:00\", \"2019-09-26T00:00:00\", \"2019-09-27T00:00:00\", \"2019-09-28T00:00:00\", \"2019-09-29T00:00:00\", \"2019-09-30T00:00:00\", \"2019-10-01T00:00:00\", \"2019-10-02T00:00:00\", \"2019-10-03T00:00:00\", \"2019-10-04T00:00:00\", \"2019-10-05T00:00:00\", \"2019-10-06T00:00:00\", \"2019-10-07T00:00:00\", \"2019-10-08T00:00:00\", \"2019-10-09T00:00:00\", \"2019-10-10T00:00:00\", \"2019-10-11T00:00:00\", \"2019-10-12T00:00:00\", \"2019-10-13T00:00:00\", \"2019-10-14T00:00:00\", \"2019-10-15T00:00:00\", \"2019-10-16T00:00:00\", \"2019-10-18T00:00:00\", \"2019-10-19T00:00:00\", \"2019-10-20T00:00:00\", \"2019-10-21T00:00:00\", \"2019-10-22T00:00:00\", \"2019-10-23T00:00:00\", \"2019-10-24T00:00:00\", \"2019-10-25T00:00:00\", \"2019-10-27T00:00:00\", \"2019-10-28T00:00:00\", \"2019-10-29T00:00:00\", \"2019-10-30T00:00:00\", \"2019-10-31T00:00:00\", \"2019-11-01T00:00:00\", \"2019-11-02T00:00:00\", \"2019-11-04T00:00:00\", \"2019-11-05T00:00:00\", \"2019-11-06T00:00:00\", \"2019-11-07T00:00:00\", \"2019-11-08T00:00:00\", \"2019-11-09T00:00:00\", \"2019-11-10T00:00:00\", \"2019-11-11T00:00:00\", \"2019-11-13T00:00:00\", \"2019-11-14T00:00:00\", \"2019-11-15T00:00:00\", \"2019-11-16T00:00:00\", \"2019-11-17T00:00:00\", \"2019-11-18T00:00:00\", \"2019-11-19T00:00:00\", \"2019-11-20T00:00:00\", \"2019-11-21T00:00:00\", \"2019-11-22T00:00:00\", \"2019-11-23T00:00:00\", \"2019-11-25T00:00:00\", \"2019-11-26T00:00:00\", \"2019-11-27T00:00:00\", \"2019-11-28T00:00:00\", \"2019-11-29T00:00:00\", \"2019-12-02T00:00:00\", \"2019-12-03T00:00:00\", \"2019-12-04T00:00:00\", \"2019-12-05T00:00:00\", \"2019-12-06T00:00:00\", \"2019-12-09T00:00:00\", \"2019-12-10T00:00:00\", \"2019-12-12T00:00:00\", \"2019-12-13T00:00:00\", \"2019-12-19T00:00:00\", \"2019-12-20T00:00:00\", \"2019-12-21T00:00:00\", \"2019-12-22T00:00:00\", \"2019-12-23T00:00:00\", \"2019-12-31T00:00:00\", \"2020-01-02T00:00:00\", \"2020-01-04T00:00:00\", \"2020-01-05T00:00:00\", \"2020-01-07T00:00:00\", \"2020-01-08T00:00:00\", \"2020-01-10T00:00:00\", \"2020-01-12T00:00:00\", \"2020-01-16T00:00:00\", \"2020-01-20T00:00:00\", \"2020-01-21T00:00:00\", \"2020-01-23T00:00:00\", \"2020-01-24T00:00:00\", \"2020-01-29T00:00:00\", \"2020-02-15T00:00:00\", \"2020-02-16T00:00:00\", \"2020-02-17T00:00:00\", \"2020-02-18T00:00:00\", \"2020-02-21T00:00:00\", \"2020-02-28T00:00:00\", \"2020-02-29T00:00:00\", \"2020-03-03T00:00:00\", \"2020-03-08T00:00:00\", \"2020-03-18T00:00:00\", \"2020-03-27T00:00:00\"], \"xaxis\": \"x2\", \"y\": [null, null, null, null, null, null, 0.32942914260343725, 0.3320548950091794, 0.3382301001894866, 0.35264746992640517, 0.3693365554314802, 0.36032391599792246, 0.3535523740478091, 0.38459288115974477, 0.38830387638579117, 0.39002202090028826, 0.36550694115964466, 0.34558044510886204, 0.34354163599097126, 0.34315950068070683, 0.34363035798597974, 0.3432257392422184, 0.3429488763688991, 0.3576934488390355, 0.3623185459293895, 0.3711002404253697, 0.3770634414952713, 0.37950320033246465, 0.38041196498693214, 0.3867678769718391, 0.3883508114049591, 0.3962563167852836, 0.3955937867227535, 0.3945171944696907, 0.39534364465827576, 0.3929115351776007, 0.3931772905073219, 0.38514568569696017, 0.38865523759589005, 0.38388865495211316, 0.3817853788948073, 0.37379632704379734, 0.37443643167228297, 0.3682046190035932, 0.37983433520137017, 0.36610763546268477, 0.3701318995014849, 0.3721829490284722, 0.3622771583926005, 0.35670869842268205, 0.3561887016039999, 0.3291975479019283, 0.3338341465726179, 0.3301769920494043, 0.31515663477928646, 0.356673374722652, 0.3670441630245721, 0.36396378584940015, 0.387522858648297, 0.3818159025354967, 0.3949048957430031, 0.40419363584763746, 0.3762945861628735, 0.35846653363068387, 0.36094222787164704, 0.35804199941856935, 0.3727745390390269, 0.35820383557153856, 0.36588199353246686, 0.3566861306266286, 0.37169698752444136, 0.37637498087061927, 0.3842476018332689, 0.3784142342943814, 0.3868558238989124, 0.37650663327103384, 0.38435262811271836, 0.38769126023173733, 0.39557189938466947, 0.3781582199628941, 0.37132593715059425, 0.35051291734812645, 0.3346420266075006, 0.3434593536836403, 0.3501625247099022, 0.33479897493999555, 0.3454890265837611, 0.344305431297985, 0.34953012600175903, 0.3692088447333455, 0.36714718209356334, 0.3582575277041872, 0.36344152671768193, 0.3590337498114899, 0.3721194207112464, 0.3861359224344357, 0.37354470971539255, 0.3727290497190395, 0.3666434171465215, 0.3762069956258573, 0.3809546041564928, 0.37476723121766053, 0.3709463043455961, 0.37312655476173784, 0.36401413139763117, 0.36477944989766764, 0.36274078750186245, 0.35386769343830526, 0.3540477416077827, 0.35235907320999293, 0.3642049319044234, 0.35876210703981243, 0.36380901379329195, 0.3740334024998235, 0.3683146130077421, 0.3685021652216101, 0.3639973076778015, 0.3515499408000159, 0.3578228888373558, 0.3486114434619388, 0.33741665238186463, 0.3434247896322379, 0.35227780391216246, 0.35565295725578977, 0.3542739890018215, 0.3585176353519138, 0.3705165891595828, 0.3850323879356647, 0.3965448565012286, 0.3907669577473124, 0.39076814678768057, 0.38665333295274307, 0.3919341097504372, 0.38023385144633554, 0.3601549356335754, 0.34705755227073676, 0.34624313900543063, 0.3383765816806295, 0.34948850951268096, 0.34463946376330296, 0.3483450919730623, 0.3571891678902683, 0.3634494755771242, 0.3560049954991214, 0.35324080481149744, 0.3493680547889437, 0.3472966185625402, 0.3476762020620733, 0.337815994217843, 0.3519994597892164, 0.35188926033877876, 0.3647468902655858, 0.37013558851140044, 0.3550461673311749, 0.36061843702038704, 0.3649871530314668, 0.3597002252852999, 0.36412249044448386, 0.3666472920317854, 0.3691732156765711, 0.38920465972009843, 0.3849217319996708, 0.3889483105686069, 0.38416757650215855, 0.39125697832840245, 0.3777180172894414, 0.3666128938581434, 0.3614428089680418, 0.3646004268131597, 0.3457285109012593, 0.3392879794607278, 0.34252893784874505, 0.3487811669705893, 0.36602181028755354], \"yaxis\": \"y2\"}, {\"marker\": {\"color\": \"#EF553B\"}, \"mode\": \"lines+markers\", \"name\": \"CNN\", \"showlegend\": false, \"type\": \"scatter\", \"x\": [\"2019-06-13T00:00:00\", \"2019-06-17T00:00:00\", \"2019-06-20T00:00:00\", \"2019-06-24T00:00:00\", \"2019-06-27T00:00:00\", \"2019-06-30T00:00:00\", \"2019-07-02T00:00:00\", \"2019-07-04T00:00:00\", \"2019-07-08T00:00:00\", \"2019-07-15T00:00:00\", \"2019-07-22T00:00:00\", \"2019-07-29T00:00:00\", \"2019-07-31T00:00:00\", \"2019-08-01T00:00:00\", \"2019-08-04T00:00:00\", \"2019-08-08T00:00:00\", \"2019-08-11T00:00:00\", \"2019-08-12T00:00:00\", \"2019-08-13T00:00:00\", \"2019-08-15T00:00:00\", \"2019-08-16T00:00:00\", \"2019-08-19T00:00:00\", \"2019-08-20T00:00:00\", \"2019-08-26T00:00:00\", \"2019-08-28T00:00:00\", \"2019-09-05T00:00:00\", \"2019-09-08T00:00:00\", \"2019-09-09T00:00:00\", \"2019-09-10T00:00:00\", \"2019-09-12T00:00:00\", \"2019-09-18T00:00:00\", \"2019-09-20T00:00:00\", \"2019-09-30T00:00:00\", \"2019-10-02T00:00:00\", \"2019-10-09T00:00:00\", \"2019-10-10T00:00:00\", \"2019-10-11T00:00:00\", \"2019-10-12T00:00:00\", \"2019-10-15T00:00:00\", \"2019-10-16T00:00:00\", \"2019-10-21T00:00:00\", \"2019-10-23T00:00:00\", \"2019-10-25T00:00:00\", \"2019-10-29T00:00:00\", \"2019-11-01T00:00:00\", \"2019-11-02T00:00:00\", \"2019-11-08T00:00:00\", \"2019-11-14T00:00:00\", \"2019-11-20T00:00:00\", \"2019-11-21T00:00:00\", \"2019-11-29T00:00:00\", \"2019-11-30T00:00:00\", \"2019-12-02T00:00:00\", \"2019-12-11T00:00:00\", \"2019-12-17T00:00:00\", \"2019-12-20T00:00:00\", \"2019-12-27T00:00:00\", \"2020-01-02T00:00:00\", \"2020-01-10T00:00:00\", \"2020-01-12T00:00:00\", \"2020-03-06T00:00:00\", \"2020-03-11T00:00:00\"], \"xaxis\": \"x2\", \"y\": [null, null, null, null, null, null, 0.39427755016528615, 0.3718131805790679, 0.37061622039437825, 0.3634609439768067, 0.38132838047747014, 0.39332587899241434, 0.37221076177154355, 0.3592394135100167, 0.37733933277065024, 0.39696981493216693, 0.3970835582614073, 0.39881467744482585, 0.4011472236897124, 0.4045206383924306, 0.41023129839528094, 0.41747566164804134, 0.3913497335357496, 0.3861920901391899, 0.37464021939089065, 0.3818490980070658, 0.3701305789033426, 0.35000507531154146, 0.336085294222649, 0.35064714831372384, 0.3403382130124416, 0.33119138761561623, 0.33636548815885553, 0.3532877722239967, 0.3754384315263802, 0.3684544869738952, 0.377758016777425, 0.3845639907446719, 0.4023749360183037, 0.38947218234274095, 0.36773814415498046, 0.3689220064746315, 0.3743875124551064, 0.3545044544700075, 0.35896551734656007, 0.3725999785183346, 0.35664091620650534, 0.37728030349442016, 0.35671297644707156, 0.3590875430180667, 0.3762643529771273, 0.3485067454425575, 0.31898884105858166, 0.34282447990845205, 0.32613615650746636, 0.33522359539455676, 0.3478090711432978, 0.3089931151828464, 0.33097601774078406, 0.33458276978503615, 0.3280992820810114, 0.336028593415935], \"yaxis\": \"y2\"}, {\"marker\": {\"color\": \"#00CC96\"}, \"mode\": \"lines+markers\", \"name\": \"CCTV\", \"showlegend\": false, \"type\": \"scatter\", \"x\": [\"2019-06-16T00:00:00\", \"2019-07-01T00:00:00\", \"2019-07-02T00:00:00\", \"2019-07-03T00:00:00\", \"2019-07-04T00:00:00\", \"2019-07-05T00:00:00\", \"2019-07-08T00:00:00\", \"2019-07-11T00:00:00\", \"2019-07-19T00:00:00\", \"2019-07-21T00:00:00\", \"2019-07-22T00:00:00\", \"2019-07-23T00:00:00\", \"2019-07-24T00:00:00\", \"2019-07-27T00:00:00\", \"2019-07-29T00:00:00\", \"2019-07-30T00:00:00\", \"2019-07-31T00:00:00\", \"2019-08-01T00:00:00\", \"2019-08-03T00:00:00\", \"2019-08-04T00:00:00\", \"2019-08-05T00:00:00\", \"2019-08-06T00:00:00\", \"2019-08-07T00:00:00\", \"2019-08-08T00:00:00\", \"2019-08-09T00:00:00\", \"2019-08-10T00:00:00\", \"2019-08-11T00:00:00\", \"2019-08-13T00:00:00\", \"2019-08-14T00:00:00\", \"2019-08-15T00:00:00\", \"2019-08-16T00:00:00\", \"2019-08-17T00:00:00\", \"2019-08-18T00:00:00\", \"2019-08-19T00:00:00\", \"2019-08-20T00:00:00\", \"2019-08-21T00:00:00\", \"2019-08-22T00:00:00\", \"2019-08-23T00:00:00\", \"2019-08-24T00:00:00\", \"2019-08-25T00:00:00\", \"2019-08-26T00:00:00\", \"2019-08-27T00:00:00\", \"2019-08-28T00:00:00\", \"2019-08-30T00:00:00\", \"2019-09-01T00:00:00\", \"2019-09-02T00:00:00\", \"2019-09-03T00:00:00\", \"2019-09-04T00:00:00\", \"2019-09-05T00:00:00\", \"2019-09-10T00:00:00\", \"2019-09-11T00:00:00\", \"2019-09-12T00:00:00\", \"2019-09-15T00:00:00\", \"2019-09-17T00:00:00\", \"2019-09-20T00:00:00\", \"2019-09-21T00:00:00\", \"2019-09-26T00:00:00\", \"2019-09-27T00:00:00\", \"2019-09-28T00:00:00\", \"2019-09-29T00:00:00\", \"2019-10-04T00:00:00\", \"2019-10-06T00:00:00\", \"2019-10-07T00:00:00\", \"2019-10-08T00:00:00\", \"2019-10-10T00:00:00\", \"2019-10-16T00:00:00\", \"2019-10-17T00:00:00\", \"2019-10-21T00:00:00\", \"2019-10-22T00:00:00\", \"2019-10-23T00:00:00\", \"2019-10-24T00:00:00\", \"2019-10-26T00:00:00\", \"2019-10-27T00:00:00\", \"2019-10-28T00:00:00\", \"2019-11-05T00:00:00\", \"2019-11-08T00:00:00\", \"2019-11-11T00:00:00\", \"2019-11-12T00:00:00\", \"2019-11-13T00:00:00\", \"2019-11-14T00:00:00\", \"2019-11-15T00:00:00\", \"2019-11-16T00:00:00\", \"2019-11-18T00:00:00\", \"2019-11-19T00:00:00\", \"2019-11-20T00:00:00\", \"2019-11-21T00:00:00\", \"2019-11-22T00:00:00\", \"2019-11-26T00:00:00\", \"2019-11-27T00:00:00\", \"2019-11-28T00:00:00\", \"2019-11-29T00:00:00\", \"2019-12-01T00:00:00\", \"2019-12-02T00:00:00\", \"2019-12-03T00:00:00\", \"2019-12-04T00:00:00\", \"2019-12-05T00:00:00\", \"2019-12-06T00:00:00\", \"2019-12-08T00:00:00\", \"2019-12-13T00:00:00\", \"2019-12-16T00:00:00\", \"2019-12-17T00:00:00\", \"2019-12-19T00:00:00\", \"2019-12-20T00:00:00\", \"2019-12-22T00:00:00\", \"2019-12-24T00:00:00\", \"2019-12-26T00:00:00\", \"2019-12-27T00:00:00\", \"2019-12-31T00:00:00\", \"2020-01-01T00:00:00\", \"2020-01-02T00:00:00\", \"2020-01-03T00:00:00\", \"2020-01-06T00:00:00\", \"2020-01-10T00:00:00\", \"2020-01-14T00:00:00\", \"2020-02-20T00:00:00\", \"2020-03-01T00:00:00\"], \"xaxis\": \"x2\", \"y\": [null, null, null, null, null, null, 0.4085384292356263, 0.38073490194603626, 0.3568538840493109, 0.36546119941634164, 0.369243805722944, 0.424155153639218, 0.4291789631630275, 0.43346022991215144, 0.46593112211518656, 0.4804519990085124, 0.4543922291154516, 0.4232660008463662, 0.3824774420656364, 0.36740807380449797, 0.3774916953563735, 0.38180425092571374, 0.38305667300697677, 0.40357508353923377, 0.4199086604404127, 0.41587090605155735, 0.4244343219317434, 0.41546702028445315, 0.39676234238938074, 0.396515757718129, 0.3977547506129765, 0.4086845702985024, 0.4148661751166315, 0.4122482756674483, 0.4217849736218914, 0.4025960857923653, 0.4036959138808766, 0.40426312073865744, 0.41678997358505915, 0.43461229360664977, 0.4452410756917156, 0.4407184515778769, 0.46194262944679165, 0.45176899570172935, 0.44628848910515134, 0.4186384077355176, 0.3951005954608319, 0.4027469084192364, 0.4089170864427036, 0.4088861672149394, 0.40615302860622476, 0.4253884311005559, 0.4312517674691589, 0.4256586400067602, 0.40459583216757505, 0.39048066031646095, 0.3917376619115535, 0.4024346665198485, 0.3609073889421507, 0.35755768401437266, 0.386115257680642, 0.4117659253551192, 0.43207036993997067, 0.4230523103351764, 0.41777755598899347, 0.4439061695965987, 0.44576122508609856, 0.41960176321235093, 0.42938032404745946, 0.40825828087845883, 0.42697899138488365, 0.4202941344011545, 0.391912247325071, 0.3680616071323452, 0.36961809072964513, 0.3698847139873398, 0.37614222186854107, 0.39849293993354484, 0.4087284161664914, 0.42746684250937333, 0.45115783405750776, 0.47138113116855995, 0.4509427708276022, 0.46874807579983263, 0.4362349470634896, 0.4121796456945107, 0.42789229035403903, 0.42561497059081704, 0.39569920663127434, 0.36995652112732064, 0.3356148447883617, 0.3365243035628258, 0.3360734840374849, 0.3069603462933947, 0.3074677944716191, 0.33056939640271404, 0.3493851234865532, 0.35029110936575336, 0.3473493247821778, 0.3731710153730146, 0.3893201567959656, 0.39200072978273603, 0.3702792161772939, 0.3712946943028113, 0.3834164763489631, 0.38217476567868097, 0.3599131771589756, 0.36702165009924576, 0.36957669334860294, 0.3851386694016505, 0.3751098093727904, 0.39055471460761165, 0.38385579448012014, 0.39791041016306516, 0.37856121101778306, 0.35570062509681183], \"yaxis\": \"y2\"}, {\"marker\": {\"color\": \"#AB63FA\"}, \"mode\": \"lines+markers\", \"name\": \"ABC\", \"showlegend\": false, \"type\": \"scatter\", \"x\": [\"2019-06-10T00:00:00\", \"2019-06-12T00:00:00\", \"2019-06-13T00:00:00\", \"2019-06-17T00:00:00\", \"2019-06-19T00:00:00\", \"2019-06-23T00:00:00\", \"2019-07-01T00:00:00\", \"2019-07-02T00:00:00\", \"2019-07-04T00:00:00\", \"2019-07-06T00:00:00\", \"2019-07-09T00:00:00\", \"2019-07-15T00:00:00\", \"2019-07-25T00:00:00\", \"2019-07-27T00:00:00\", \"2019-08-01T00:00:00\", \"2019-08-03T00:00:00\", \"2019-08-05T00:00:00\", \"2019-08-07T00:00:00\", \"2019-08-08T00:00:00\", \"2019-08-10T00:00:00\", \"2019-08-11T00:00:00\", \"2019-08-12T00:00:00\", \"2019-08-13T00:00:00\", \"2019-08-14T00:00:00\", \"2019-08-16T00:00:00\", \"2019-08-17T00:00:00\", \"2019-08-20T00:00:00\", \"2019-08-23T00:00:00\", \"2019-08-24T00:00:00\", \"2019-08-25T00:00:00\", \"2019-08-26T00:00:00\", \"2019-08-29T00:00:00\", \"2019-09-01T00:00:00\", \"2019-09-02T00:00:00\", \"2019-09-03T00:00:00\", \"2019-09-05T00:00:00\", \"2019-09-06T00:00:00\", \"2019-09-09T00:00:00\", \"2019-09-16T00:00:00\", \"2019-09-17T00:00:00\", \"2019-09-30T00:00:00\", \"2019-10-01T00:00:00\", \"2019-10-02T00:00:00\", \"2019-10-04T00:00:00\", \"2019-10-05T00:00:00\", \"2019-10-08T00:00:00\", \"2019-10-11T00:00:00\", \"2019-10-14T00:00:00\", \"2019-10-15T00:00:00\", \"2019-10-16T00:00:00\", \"2019-10-21T00:00:00\", \"2019-10-23T00:00:00\", \"2019-10-24T00:00:00\", \"2019-10-29T00:00:00\", \"2019-11-02T00:00:00\", \"2019-11-05T00:00:00\", \"2019-11-09T00:00:00\", \"2019-11-11T00:00:00\", \"2019-11-12T00:00:00\", \"2019-11-13T00:00:00\", \"2019-12-02T00:00:00\", \"2019-12-07T00:00:00\", \"2019-12-09T00:00:00\", \"2019-12-12T00:00:00\", \"2020-02-27T00:00:00\", \"2020-02-29T00:00:00\", \"2020-03-06T00:00:00\"], \"xaxis\": \"x2\", \"y\": [null, null, null, null, null, null, 0.24417509217094638, 0.27045662817782573, 0.32206841574999745, 0.3560457423373368, 0.38840405288643687, 0.3899040234746109, 0.37902939277099773, 0.3879946345760908, 0.33684090147791323, 0.3279838616381678, 0.3256656522476295, 0.31842900001097724, 0.2584201816688256, 0.2716729757946984, 0.268141704962871, 0.30142782593806755, 0.31004919226985755, 0.30352230393876756, 0.2921519437886188, 0.3418474033677993, 0.32896481357127294, 0.320363015709271, 0.2870768947340744, 0.25633570130477873, 0.24262523114844936, 0.24832464716336827, 0.2736758729249908, 0.2838057255997325, 0.2684023818939362, 0.33760903344344495, 0.3455455413799529, 0.32168333579932085, 0.29989185242495336, 0.28051723541817886, 0.22277623017122122, 0.225352800310448, 0.21328900590379643, 0.24423571792193702, 0.30009517344657116, 0.3405990662935522, 0.34148126240852505, 0.34148126240852505, 0.3152907862180489, 0.3066284991191041, 0.3041004693886934, 0.2892793178220061, 0.2715932700139529, 0.2780552120475447, 0.3410566247338313, 0.38492992405355914, 0.3900657062109047, 0.3674759298657171, 0.3760546893998337, 0.36014737766189253, 0.3568465649125504, 0.3531951144333688, 0.36088419088783935, 0.352862291072603, 0.3619804750771506, 0.3631044085488444, 0.3731491908217717], \"yaxis\": \"y2\"}],\n",
       "                        {\"annotations\": [{\"font\": {\"size\": 16}, \"showarrow\": false, \"text\": \"Polarity\", \"x\": 0.225, \"xanchor\": \"center\", \"xref\": \"paper\", \"y\": 1.0, \"yanchor\": \"bottom\", \"yref\": \"paper\"}, {\"font\": {\"size\": 16}, \"showarrow\": false, \"text\": \"Sentiment\", \"x\": 0.775, \"xanchor\": \"center\", \"xref\": \"paper\", \"y\": 1.0, \"yanchor\": \"bottom\", \"yref\": \"paper\"}], \"template\": {\"data\": {\"bar\": [{\"error_x\": {\"color\": \"#2a3f5f\"}, \"error_y\": {\"color\": \"#2a3f5f\"}, \"marker\": {\"line\": {\"color\": \"#E5ECF6\", \"width\": 0.5}}, \"type\": \"bar\"}], \"barpolar\": [{\"marker\": {\"line\": {\"color\": \"#E5ECF6\", \"width\": 0.5}}, \"type\": \"barpolar\"}], \"carpet\": [{\"aaxis\": {\"endlinecolor\": \"#2a3f5f\", \"gridcolor\": \"white\", \"linecolor\": \"white\", \"minorgridcolor\": \"white\", \"startlinecolor\": \"#2a3f5f\"}, \"baxis\": {\"endlinecolor\": \"#2a3f5f\", \"gridcolor\": \"white\", \"linecolor\": \"white\", \"minorgridcolor\": \"white\", \"startlinecolor\": \"#2a3f5f\"}, \"type\": \"carpet\"}], \"choropleth\": [{\"colorbar\": {\"outlinewidth\": 0, \"ticks\": \"\"}, \"type\": \"choropleth\"}], \"contour\": [{\"colorbar\": {\"outlinewidth\": 0, \"ticks\": \"\"}, \"colorscale\": [[0.0, \"#0d0887\"], [0.1111111111111111, \"#46039f\"], [0.2222222222222222, \"#7201a8\"], [0.3333333333333333, \"#9c179e\"], [0.4444444444444444, \"#bd3786\"], [0.5555555555555556, \"#d8576b\"], [0.6666666666666666, \"#ed7953\"], [0.7777777777777778, \"#fb9f3a\"], [0.8888888888888888, \"#fdca26\"], [1.0, \"#f0f921\"]], \"type\": \"contour\"}], \"contourcarpet\": [{\"colorbar\": {\"outlinewidth\": 0, \"ticks\": \"\"}, \"type\": \"contourcarpet\"}], \"heatmap\": [{\"colorbar\": {\"outlinewidth\": 0, \"ticks\": \"\"}, \"colorscale\": [[0.0, \"#0d0887\"], [0.1111111111111111, \"#46039f\"], [0.2222222222222222, \"#7201a8\"], [0.3333333333333333, \"#9c179e\"], [0.4444444444444444, \"#bd3786\"], [0.5555555555555556, \"#d8576b\"], [0.6666666666666666, \"#ed7953\"], [0.7777777777777778, \"#fb9f3a\"], [0.8888888888888888, \"#fdca26\"], [1.0, \"#f0f921\"]], \"type\": \"heatmap\"}], \"heatmapgl\": [{\"colorbar\": {\"outlinewidth\": 0, \"ticks\": \"\"}, \"colorscale\": [[0.0, \"#0d0887\"], [0.1111111111111111, \"#46039f\"], [0.2222222222222222, \"#7201a8\"], [0.3333333333333333, \"#9c179e\"], [0.4444444444444444, \"#bd3786\"], [0.5555555555555556, \"#d8576b\"], [0.6666666666666666, \"#ed7953\"], [0.7777777777777778, \"#fb9f3a\"], [0.8888888888888888, \"#fdca26\"], [1.0, \"#f0f921\"]], \"type\": \"heatmapgl\"}], \"histogram\": [{\"marker\": {\"colorbar\": {\"outlinewidth\": 0, \"ticks\": \"\"}}, \"type\": \"histogram\"}], \"histogram2d\": [{\"colorbar\": {\"outlinewidth\": 0, \"ticks\": \"\"}, \"colorscale\": [[0.0, \"#0d0887\"], [0.1111111111111111, \"#46039f\"], [0.2222222222222222, \"#7201a8\"], [0.3333333333333333, \"#9c179e\"], [0.4444444444444444, \"#bd3786\"], [0.5555555555555556, \"#d8576b\"], [0.6666666666666666, \"#ed7953\"], [0.7777777777777778, \"#fb9f3a\"], [0.8888888888888888, \"#fdca26\"], [1.0, \"#f0f921\"]], \"type\": \"histogram2d\"}], \"histogram2dcontour\": [{\"colorbar\": {\"outlinewidth\": 0, \"ticks\": \"\"}, \"colorscale\": [[0.0, \"#0d0887\"], [0.1111111111111111, \"#46039f\"], [0.2222222222222222, \"#7201a8\"], [0.3333333333333333, \"#9c179e\"], [0.4444444444444444, \"#bd3786\"], [0.5555555555555556, \"#d8576b\"], [0.6666666666666666, \"#ed7953\"], [0.7777777777777778, \"#fb9f3a\"], [0.8888888888888888, \"#fdca26\"], [1.0, \"#f0f921\"]], \"type\": \"histogram2dcontour\"}], \"mesh3d\": [{\"colorbar\": {\"outlinewidth\": 0, \"ticks\": \"\"}, \"type\": \"mesh3d\"}], \"parcoords\": [{\"line\": {\"colorbar\": {\"outlinewidth\": 0, \"ticks\": \"\"}}, \"type\": \"parcoords\"}], \"pie\": [{\"automargin\": true, \"type\": \"pie\"}], \"scatter\": [{\"marker\": {\"colorbar\": {\"outlinewidth\": 0, \"ticks\": \"\"}}, \"type\": \"scatter\"}], \"scatter3d\": [{\"line\": {\"colorbar\": {\"outlinewidth\": 0, \"ticks\": \"\"}}, \"marker\": {\"colorbar\": {\"outlinewidth\": 0, \"ticks\": \"\"}}, \"type\": \"scatter3d\"}], \"scattercarpet\": [{\"marker\": {\"colorbar\": {\"outlinewidth\": 0, \"ticks\": \"\"}}, \"type\": \"scattercarpet\"}], \"scattergeo\": [{\"marker\": {\"colorbar\": {\"outlinewidth\": 0, \"ticks\": \"\"}}, \"type\": \"scattergeo\"}], \"scattergl\": [{\"marker\": {\"colorbar\": {\"outlinewidth\": 0, \"ticks\": \"\"}}, \"type\": \"scattergl\"}], \"scattermapbox\": [{\"marker\": {\"colorbar\": {\"outlinewidth\": 0, \"ticks\": \"\"}}, \"type\": \"scattermapbox\"}], \"scatterpolar\": [{\"marker\": {\"colorbar\": {\"outlinewidth\": 0, \"ticks\": \"\"}}, \"type\": \"scatterpolar\"}], \"scatterpolargl\": [{\"marker\": {\"colorbar\": {\"outlinewidth\": 0, \"ticks\": \"\"}}, \"type\": \"scatterpolargl\"}], \"scatterternary\": [{\"marker\": {\"colorbar\": {\"outlinewidth\": 0, \"ticks\": \"\"}}, \"type\": \"scatterternary\"}], \"surface\": [{\"colorbar\": {\"outlinewidth\": 0, \"ticks\": \"\"}, \"colorscale\": [[0.0, \"#0d0887\"], [0.1111111111111111, \"#46039f\"], [0.2222222222222222, \"#7201a8\"], [0.3333333333333333, \"#9c179e\"], [0.4444444444444444, \"#bd3786\"], [0.5555555555555556, \"#d8576b\"], [0.6666666666666666, \"#ed7953\"], [0.7777777777777778, \"#fb9f3a\"], [0.8888888888888888, \"#fdca26\"], [1.0, \"#f0f921\"]], \"type\": \"surface\"}], \"table\": [{\"cells\": {\"fill\": {\"color\": \"#EBF0F8\"}, \"line\": {\"color\": \"white\"}}, \"header\": {\"fill\": {\"color\": \"#C8D4E3\"}, \"line\": {\"color\": \"white\"}}, \"type\": \"table\"}]}, \"layout\": {\"annotationdefaults\": {\"arrowcolor\": \"#2a3f5f\", \"arrowhead\": 0, \"arrowwidth\": 1}, \"coloraxis\": {\"colorbar\": {\"outlinewidth\": 0, \"ticks\": \"\"}}, \"colorscale\": {\"diverging\": [[0, \"#8e0152\"], [0.1, \"#c51b7d\"], [0.2, \"#de77ae\"], [0.3, \"#f1b6da\"], [0.4, \"#fde0ef\"], [0.5, \"#f7f7f7\"], [0.6, \"#e6f5d0\"], [0.7, \"#b8e186\"], [0.8, \"#7fbc41\"], [0.9, \"#4d9221\"], [1, \"#276419\"]], \"sequential\": [[0.0, \"#0d0887\"], [0.1111111111111111, \"#46039f\"], [0.2222222222222222, \"#7201a8\"], [0.3333333333333333, \"#9c179e\"], [0.4444444444444444, \"#bd3786\"], [0.5555555555555556, \"#d8576b\"], [0.6666666666666666, \"#ed7953\"], [0.7777777777777778, \"#fb9f3a\"], [0.8888888888888888, \"#fdca26\"], [1.0, \"#f0f921\"]], \"sequentialminus\": [[0.0, \"#0d0887\"], [0.1111111111111111, \"#46039f\"], [0.2222222222222222, \"#7201a8\"], [0.3333333333333333, \"#9c179e\"], [0.4444444444444444, \"#bd3786\"], [0.5555555555555556, \"#d8576b\"], [0.6666666666666666, \"#ed7953\"], [0.7777777777777778, \"#fb9f3a\"], [0.8888888888888888, \"#fdca26\"], [1.0, \"#f0f921\"]]}, \"colorway\": [\"#636efa\", \"#EF553B\", \"#00cc96\", \"#ab63fa\", \"#FFA15A\", \"#19d3f3\", \"#FF6692\", \"#B6E880\", \"#FF97FF\", \"#FECB52\"], \"font\": {\"color\": \"#2a3f5f\"}, \"geo\": {\"bgcolor\": \"white\", \"lakecolor\": \"white\", \"landcolor\": \"#E5ECF6\", \"showlakes\": true, \"showland\": true, \"subunitcolor\": \"white\"}, \"hoverlabel\": {\"align\": \"left\"}, \"hovermode\": \"closest\", \"mapbox\": {\"style\": \"light\"}, \"paper_bgcolor\": \"white\", \"plot_bgcolor\": \"#E5ECF6\", \"polar\": {\"angularaxis\": {\"gridcolor\": \"white\", \"linecolor\": \"white\", \"ticks\": \"\"}, \"bgcolor\": \"#E5ECF6\", \"radialaxis\": {\"gridcolor\": \"white\", \"linecolor\": \"white\", \"ticks\": \"\"}}, \"scene\": {\"xaxis\": {\"backgroundcolor\": \"#E5ECF6\", \"gridcolor\": \"white\", \"gridwidth\": 2, \"linecolor\": \"white\", \"showbackground\": true, \"ticks\": \"\", \"zerolinecolor\": \"white\"}, \"yaxis\": {\"backgroundcolor\": \"#E5ECF6\", \"gridcolor\": \"white\", \"gridwidth\": 2, \"linecolor\": \"white\", \"showbackground\": true, \"ticks\": \"\", \"zerolinecolor\": \"white\"}, \"zaxis\": {\"backgroundcolor\": \"#E5ECF6\", \"gridcolor\": \"white\", \"gridwidth\": 2, \"linecolor\": \"white\", \"showbackground\": true, \"ticks\": \"\", \"zerolinecolor\": \"white\"}}, \"shapedefaults\": {\"line\": {\"color\": \"#2a3f5f\"}}, \"ternary\": {\"aaxis\": {\"gridcolor\": \"white\", \"linecolor\": \"white\", \"ticks\": \"\"}, \"baxis\": {\"gridcolor\": \"white\", \"linecolor\": \"white\", \"ticks\": \"\"}, \"bgcolor\": \"#E5ECF6\", \"caxis\": {\"gridcolor\": \"white\", \"linecolor\": \"white\", \"ticks\": \"\"}}, \"title\": {\"x\": 0.05}, \"xaxis\": {\"automargin\": true, \"gridcolor\": \"white\", \"linecolor\": \"white\", \"ticks\": \"\", \"title\": {\"standoff\": 15}, \"zerolinecolor\": \"white\", \"zerolinewidth\": 2}, \"yaxis\": {\"automargin\": true, \"gridcolor\": \"white\", \"linecolor\": \"white\", \"ticks\": \"\", \"title\": {\"standoff\": 15}, \"zerolinecolor\": \"white\", \"zerolinewidth\": 2}}}, \"xaxis\": {\"anchor\": \"y\", \"domain\": [0.0, 0.45]}, \"xaxis2\": {\"anchor\": \"y2\", \"domain\": [0.55, 1.0]}, \"yaxis\": {\"anchor\": \"x\", \"domain\": [0.0, 1.0]}, \"yaxis2\": {\"anchor\": \"x2\", \"domain\": [0.0, 1.0]}},\n",
       "                        {\"responsive\": true}\n",
       "                    ).then(function(){\n",
       "                            \n",
       "var gd = document.getElementById('319e6423-818c-4416-bf83-581767813469');\n",
       "var x = new MutationObserver(function (mutations, observer) {{\n",
       "        var display = window.getComputedStyle(gd).display;\n",
       "        if (!display || display === 'none') {{\n",
       "            console.log([gd, 'removed!']);\n",
       "            Plotly.purge(gd);\n",
       "            observer.disconnect();\n",
       "        }}\n",
       "}});\n",
       "\n",
       "// Listen for the removal of the full notebook cells\n",
       "var notebookContainer = gd.closest('#notebook-container');\n",
       "if (notebookContainer) {{\n",
       "    x.observe(notebookContainer, {childList: true});\n",
       "}}\n",
       "\n",
       "// Listen for the clearing of the current output cell\n",
       "var outputEl = gd.closest('.output');\n",
       "if (outputEl) {{\n",
       "    x.observe(outputEl, {childList: true});\n",
       "}}\n",
       "\n",
       "                        })\n",
       "                };\n",
       "                });\n",
       "            </script>\n",
       "        </div>"
      ]
     },
     "metadata": {},
     "output_type": "display_data"
    }
   ],
   "source": [
    "fig = make_subplots(\n",
    "    rows=1,\n",
    "    cols=2,\n",
    "    subplot_titles=['Polarity', 'Sentiment'],\n",
    ")\n",
    "\n",
    "for i in range(len(sentiments)):\n",
    "    for source, color in zip(sources, colors):\n",
    "        data = df.loc[df['source'] == source].groupby('date').mean().rolling(7).mean().reset_index()\n",
    "        if i == 0:\n",
    "            legend = True\n",
    "        else:\n",
    "            legend = False\n",
    "            \n",
    "        fig.add_trace(\n",
    "            go.Scatter(\n",
    "                x=data['date'],\n",
    "                y=data[sentiments[i]],\n",
    "                mode='lines+markers',\n",
    "                name=source,\n",
    "                marker=dict(color=color),\n",
    "                showlegend=legend,\n",
    "            ),\n",
    "            row=1,\n",
    "            col=i+1,\n",
    "        )\n",
    "fig.show()"
   ]
  },
  {
   "cell_type": "markdown",
   "metadata": {},
   "source": [
    "### Statistical Significance Notes:\n",
    "- "
   ]
  },
  {
   "cell_type": "code",
   "execution_count": null,
   "metadata": {},
   "outputs": [],
   "source": []
  }
 ],
 "metadata": {
  "kernelspec": {
   "display_name": "redux_projects",
   "language": "python",
   "name": "redux_projects"
  },
  "language_info": {
   "codemirror_mode": {
    "name": "ipython",
    "version": 3
   },
   "file_extension": ".py",
   "mimetype": "text/x-python",
   "name": "python",
   "nbconvert_exporter": "python",
   "pygments_lexer": "ipython3",
   "version": "3.8.2"
  },
  "toc": {
   "base_numbering": 1,
   "nav_menu": {},
   "number_sections": true,
   "sideBar": true,
   "skip_h1_title": false,
   "title_cell": "Table of Contents",
   "title_sidebar": "Contents",
   "toc_cell": false,
   "toc_position": {},
   "toc_section_display": true,
   "toc_window_display": true
  }
 },
 "nbformat": 4,
 "nbformat_minor": 2
}
